{
 "cells": [
  {
   "cell_type": "markdown",
   "metadata": {},
   "source": [
    "### 獲取價格 深度，賬戶信息\n",
    "### 實現買賣功能"
   ]
  },
  {
   "cell_type": "markdown",
   "metadata": {},
   "source": [
    "### ccxt獲取信息，以及實現買賣\n",
    "### 使用botvs獲取信息，以及掛單"
   ]
  },
  {
   "cell_type": "code",
   "execution_count": 4,
   "metadata": {},
   "outputs": [],
   "source": [
    "import ccxt"
   ]
  },
  {
   "cell_type": "code",
   "execution_count": 7,
   "metadata": {},
   "outputs": [
    {
     "name": "stdout",
     "output_type": "stream",
     "text": [
      "['_1broker', '_1btcxe', 'acx', 'allcoin', 'anxpro', 'anybits', 'bcex', 'bibox', 'bigone', 'binance', 'bit2c', 'bitbank', 'bitbay', 'bitfinex', 'bitfinex2', 'bitflyer', 'bitforex', 'bithumb', 'bitkk', 'bitlish', 'bitmarket', 'bitmex', 'bitsane', 'bitso', 'bitstamp', 'bitstamp1', 'bittrex', 'bitz', 'bl3p', 'bleutrade', 'braziliex', 'btcalpha', 'btcbox', 'btcchina', 'btcexchange', 'btcmarkets', 'btctradeim', 'btctradeua', 'btcturk', 'btcx', 'bxinth', 'ccex', 'cex', 'chbtc', 'chilebit', 'cobinhood', 'coinbase', 'coinbaseprime', 'coinbasepro', 'coincheck', 'coinegg', 'coinex', 'coinexchange', 'coinfalcon', 'coinfloor', 'coingi', 'coinmarketcap', 'coinmate', 'coinnest', 'coinone', 'coinsecure', 'coinspot', 'cointiger', 'coolcoin', 'crypton', 'cryptopia', 'deribit', 'dsx', 'ethfinex', 'exmo', 'exx', 'fcoin', 'flowbtc', 'foxbit', 'fybse', 'fybsg', 'gatecoin', 'gateio', 'gdax', 'gemini', 'getbtc', 'hadax', 'hitbtc', 'hitbtc2', 'huobi', 'huobicny', 'huobipro', 'ice3x', 'independentreserve', 'indodax', 'itbit', 'jubi', 'kraken', 'kucoin', 'kuna', 'lakebtc', 'lbank', 'liqui', 'livecoin', 'luno', 'lykke', 'mercado', 'mixcoins', 'negociecoins', 'nova', 'okcoincny', 'okcoinusd', 'okex', 'paymium', 'poloniex', 'qryptos', 'quadrigacx', 'quoinex', 'rightbtc', 'southxchange', 'surbitcoin', 'theocean', 'therock', 'tidebit', 'tidex', 'uex', 'urdubit', 'vaultoro', 'vbtc', 'virwox', 'wex', 'xbtce', 'yobit', 'yunbi', 'zaif', 'zb']\n"
     ]
    }
   ],
   "source": [
    "print(ccxt.exchanges)"
   ]
  },
  {
   "cell_type": "code",
   "execution_count": 16,
   "metadata": {},
   "outputs": [],
   "source": [
    "bitmex_test_net = ccxt.bitmex()"
   ]
  },
  {
   "cell_type": "code",
   "execution_count": 17,
   "metadata": {},
   "outputs": [
    {
     "data": {
      "text/plain": [
       "{'api': 'https://www.bitmex.com',\n",
       " 'doc': ['https://www.bitmex.com/app/apiOverview',\n",
       "  'https://github.com/BitMEX/api-connectors/tree/master/official-http'],\n",
       " 'fees': 'https://www.bitmex.com/app/fees',\n",
       " 'logo': 'https://user-images.githubusercontent.com/1294454/27766319-f653c6e6-5ed4-11e7-933d-f0bc3699ae8f.jpg',\n",
       " 'referral': 'https://www.bitmex.com/register/rm3C16',\n",
       " 'test': 'https://testnet.bitmex.com',\n",
       " 'www': 'https://www.bitmex.com'}"
      ]
     },
     "execution_count": 17,
     "metadata": {},
     "output_type": "execute_result"
    }
   ],
   "source": [
    "bitmex_test_net.urls"
   ]
  },
  {
   "cell_type": "code",
   "execution_count": 28,
   "metadata": {},
   "outputs": [],
   "source": [
    "if 'test' in bitmex_test_net.urls:\n",
    "    bitmex_test_net.urls['api'] = bitmex_test_net.urls['test']\n",
    "    bitmex_test_net.apiKey = 'UFZIdSnY3h-UtQGF3biGG0dG'\n",
    "    bitmex_test_net.secret = '-2iDiTse8WT4f3u-vQUncGDf3dgMDQIpy8Fm0QakU4AyVlwy'\n",
    "    symbol = 'BTC/USD'"
   ]
  },
  {
   "cell_type": "code",
   "execution_count": 30,
   "metadata": {},
   "outputs": [
    {
     "data": {
      "text/plain": [
       "7733.0"
      ]
     },
     "execution_count": 30,
     "metadata": {},
     "output_type": "execute_result"
    }
   ],
   "source": [
    "bitmex_test_net.fetchTicker(symbol)['last']"
   ]
  },
  {
   "cell_type": "code",
   "execution_count": 31,
   "metadata": {},
   "outputs": [
    {
     "data": {
      "text/plain": [
       "{'asks': [[7733, 2503],\n",
       "  [7733.5, 626],\n",
       "  [7734, 987],\n",
       "  [7734.5, 25],\n",
       "  [7735, 6627],\n",
       "  [7735.5, 1025],\n",
       "  [7736, 1228],\n",
       "  [7736.5, 555],\n",
       "  [7737, 1085],\n",
       "  [7737.5, 1025],\n",
       "  [7738, 1020],\n",
       "  [7738.5, 1000],\n",
       "  [7739.5, 1200],\n",
       "  [7740, 113492],\n",
       "  [7740.5, 1329],\n",
       "  [7741, 28],\n",
       "  [7741.5, 1000],\n",
       "  [7742, 71],\n",
       "  [7743, 1000],\n",
       "  [7744, 125],\n",
       "  [7744.5, 225],\n",
       "  [7745, 26],\n",
       "  [7745.5, 25],\n",
       "  [7746, 45],\n",
       "  [7747.5, 101]],\n",
       " 'bids': [[7732.5, 139],\n",
       "  [7732, 220],\n",
       "  [7731.5, 120],\n",
       "  [7731, 121],\n",
       "  [7730.5, 1120],\n",
       "  [7730, 111045],\n",
       "  [7729.5, 1120],\n",
       "  [7729, 135],\n",
       "  [7728.5, 76],\n",
       "  [7728, 125],\n",
       "  [7727.5, 1000],\n",
       "  [7727, 225],\n",
       "  [7726.5, 50],\n",
       "  [7726, 1247],\n",
       "  [7725.5, 500],\n",
       "  [7725, 2129],\n",
       "  [7724.5, 1063],\n",
       "  [7724, 34],\n",
       "  [7723.5, 1000],\n",
       "  [7723, 842],\n",
       "  [7722.5, 1000],\n",
       "  [7722, 70],\n",
       "  [7720.5, 780],\n",
       "  [7720, 111320],\n",
       "  [7719.5, 4]],\n",
       " 'datetime': None,\n",
       " 'nonce': None,\n",
       " 'timestamp': None}"
      ]
     },
     "execution_count": 31,
     "metadata": {},
     "output_type": "execute_result"
    }
   ],
   "source": [
    "bitmex_test_net.fetchOrderBook(symbol)"
   ]
  },
  {
   "cell_type": "code",
   "execution_count": 32,
   "metadata": {},
   "outputs": [
    {
     "data": {
      "text/plain": [
       "{'BTC': {'free': 0.41950481,\n",
       "  'total': 0.42786957000000003,\n",
       "  'used': 0.008364760000000027},\n",
       " 'free': {'BTC': 0.41950481},\n",
       " 'info': [{'account': 133056,\n",
       "   'action': '',\n",
       "   'amount': 42719982,\n",
       "   'availableMargin': 41950481,\n",
       "   'commission': None,\n",
       "   'confirmedDebit': 0,\n",
       "   'currency': 'XBt',\n",
       "   'excessMargin': 41950481,\n",
       "   'excessMarginPcnt': 1,\n",
       "   'grossComm': 575,\n",
       "   'grossExecCost': 0,\n",
       "   'grossLastValue': 0,\n",
       "   'grossMarkValue': 0,\n",
       "   'grossOpenCost': 1666700,\n",
       "   'grossOpenPremium': 0,\n",
       "   'indicativeTax': 0,\n",
       "   'initMargin': 836476,\n",
       "   'maintMargin': 0,\n",
       "   'marginBalance': 42786957,\n",
       "   'marginBalancePcnt': 1,\n",
       "   'marginLeverage': 0,\n",
       "   'marginUsedPcnt': 0.0195,\n",
       "   'pendingCredit': 0,\n",
       "   'pendingDebit': 0,\n",
       "   'prevRealisedPnl': -320735,\n",
       "   'prevState': '',\n",
       "   'prevUnrealisedPnl': 0,\n",
       "   'realisedPnl': 66975,\n",
       "   'riskLimit': 1000000000000,\n",
       "   'riskValue': 1666700,\n",
       "   'sessionMargin': 0,\n",
       "   'state': '',\n",
       "   'syntheticMargin': None,\n",
       "   'targetExcessMargin': 0,\n",
       "   'taxableMargin': 0,\n",
       "   'timestamp': '2019-06-06T12:56:56.651Z',\n",
       "   'unrealisedPnl': 0,\n",
       "   'unrealisedProfit': 0,\n",
       "   'varMargin': 0,\n",
       "   'walletBalance': 42786957,\n",
       "   'withdrawableMargin': 41950481}],\n",
       " 'total': {'BTC': 0.42786957000000003},\n",
       " 'used': {'BTC': 0.008364760000000027}}"
      ]
     },
     "execution_count": 32,
     "metadata": {},
     "output_type": "execute_result"
    }
   ],
   "source": [
    "bitmex_test_net.fetchBalance(symbol)"
   ]
  },
  {
   "cell_type": "code",
   "execution_count": 34,
   "metadata": {},
   "outputs": [
    {
     "data": {
      "text/plain": [
       "{'amount': 1000.0,\n",
       " 'cost': 0.0,\n",
       " 'datetime': '2019-06-06T13:02:09.301Z',\n",
       " 'fee': None,\n",
       " 'filled': 0.0,\n",
       " 'id': '044de46e-f44b-3005-6789-3e5f0c2f5bf3',\n",
       " 'info': {'account': 133056,\n",
       "  'avgPx': None,\n",
       "  'clOrdID': '',\n",
       "  'clOrdLinkID': '',\n",
       "  'contingencyType': '',\n",
       "  'cumQty': 0,\n",
       "  'currency': 'USD',\n",
       "  'displayQty': None,\n",
       "  'exDestination': 'XBME',\n",
       "  'execInst': '',\n",
       "  'leavesQty': 1000,\n",
       "  'multiLegReportingType': 'SingleSecurity',\n",
       "  'ordRejReason': '',\n",
       "  'ordStatus': 'New',\n",
       "  'ordType': 'Limit',\n",
       "  'orderID': '044de46e-f44b-3005-6789-3e5f0c2f5bf3',\n",
       "  'orderQty': 1000,\n",
       "  'pegOffsetValue': None,\n",
       "  'pegPriceType': '',\n",
       "  'price': 6000,\n",
       "  'settlCurrency': 'XBt',\n",
       "  'side': 'Buy',\n",
       "  'simpleCumQty': None,\n",
       "  'simpleLeavesQty': None,\n",
       "  'simpleOrderQty': None,\n",
       "  'stopPx': None,\n",
       "  'symbol': 'XBTUSD',\n",
       "  'text': 'Submitted via API.',\n",
       "  'timeInForce': 'GoodTillCancel',\n",
       "  'timestamp': '2019-06-06T13:02:09.301Z',\n",
       "  'transactTime': '2019-06-06T13:02:09.301Z',\n",
       "  'triggered': '',\n",
       "  'workingIndicator': True},\n",
       " 'lastTradeTimestamp': None,\n",
       " 'price': 6000.0,\n",
       " 'remaining': 1000.0,\n",
       " 'side': 'buy',\n",
       " 'status': 'open',\n",
       " 'symbol': 'BTC/USD',\n",
       " 'timestamp': 1559826129301,\n",
       " 'type': 'limit'}"
      ]
     },
     "execution_count": 34,
     "metadata": {},
     "output_type": "execute_result"
    }
   ],
   "source": [
    "bitmex_test_net.createOrder(symbol,'limit','buy',1000,6000)"
   ]
  },
  {
   "cell_type": "code",
   "execution_count": 36,
   "metadata": {},
   "outputs": [
    {
     "data": {
      "text/plain": [
       "{'amount': 1000.0,\n",
       " 'cost': 0.0,\n",
       " 'datetime': '2019-06-06T13:02:46.217Z',\n",
       " 'fee': None,\n",
       " 'filled': 0.0,\n",
       " 'id': '3be0bd96-ad41-e980-a611-9944eaf9797b',\n",
       " 'info': {'account': 133056,\n",
       "  'avgPx': None,\n",
       "  'clOrdID': '',\n",
       "  'clOrdLinkID': '',\n",
       "  'contingencyType': '',\n",
       "  'cumQty': 0,\n",
       "  'currency': 'USD',\n",
       "  'displayQty': None,\n",
       "  'exDestination': 'XBME',\n",
       "  'execInst': '',\n",
       "  'leavesQty': 1000,\n",
       "  'multiLegReportingType': 'SingleSecurity',\n",
       "  'ordRejReason': '',\n",
       "  'ordStatus': 'New',\n",
       "  'ordType': 'Limit',\n",
       "  'orderID': '3be0bd96-ad41-e980-a611-9944eaf9797b',\n",
       "  'orderQty': 1000,\n",
       "  'pegOffsetValue': None,\n",
       "  'pegPriceType': '',\n",
       "  'price': 9000,\n",
       "  'settlCurrency': 'XBt',\n",
       "  'side': 'Sell',\n",
       "  'simpleCumQty': None,\n",
       "  'simpleLeavesQty': None,\n",
       "  'simpleOrderQty': None,\n",
       "  'stopPx': None,\n",
       "  'symbol': 'XBTUSD',\n",
       "  'text': 'Submitted via API.',\n",
       "  'timeInForce': 'GoodTillCancel',\n",
       "  'timestamp': '2019-06-06T13:02:46.217Z',\n",
       "  'transactTime': '2019-06-06T13:02:46.217Z',\n",
       "  'triggered': '',\n",
       "  'workingIndicator': True},\n",
       " 'lastTradeTimestamp': None,\n",
       " 'price': 9000.0,\n",
       " 'remaining': 1000.0,\n",
       " 'side': 'sell',\n",
       " 'status': 'open',\n",
       " 'symbol': 'BTC/USD',\n",
       " 'timestamp': 1559826166217,\n",
       " 'type': 'limit'}"
      ]
     },
     "execution_count": 36,
     "metadata": {},
     "output_type": "execute_result"
    }
   ],
   "source": [
    "bitmex_test_net.createOrder(symbol,'limit','sell',1000,9000)"
   ]
  },
  {
   "cell_type": "code",
   "execution_count": 37,
   "metadata": {},
   "outputs": [
    {
     "data": {
      "text/plain": [
       "{'amount': 1000.0,\n",
       " 'cost': 7727500.0,\n",
       " 'datetime': '2019-06-06T13:03:21.845Z',\n",
       " 'fee': None,\n",
       " 'filled': 1000.0,\n",
       " 'id': 'c08f336a-dcab-2c9a-3b04-f437a4a30c8a',\n",
       " 'info': {'account': 133056,\n",
       "  'avgPx': 7727.9753,\n",
       "  'clOrdID': '',\n",
       "  'clOrdLinkID': '',\n",
       "  'contingencyType': '',\n",
       "  'cumQty': 1000,\n",
       "  'currency': 'USD',\n",
       "  'displayQty': None,\n",
       "  'exDestination': 'XBME',\n",
       "  'execInst': '',\n",
       "  'leavesQty': 0,\n",
       "  'multiLegReportingType': 'SingleSecurity',\n",
       "  'ordRejReason': '',\n",
       "  'ordStatus': 'Filled',\n",
       "  'ordType': 'Market',\n",
       "  'orderID': 'c08f336a-dcab-2c9a-3b04-f437a4a30c8a',\n",
       "  'orderQty': 1000,\n",
       "  'pegOffsetValue': None,\n",
       "  'pegPriceType': '',\n",
       "  'price': 7727.5,\n",
       "  'settlCurrency': 'XBt',\n",
       "  'side': 'Sell',\n",
       "  'simpleCumQty': None,\n",
       "  'simpleLeavesQty': None,\n",
       "  'simpleOrderQty': None,\n",
       "  'stopPx': None,\n",
       "  'symbol': 'XBTUSD',\n",
       "  'text': 'Submitted via API.',\n",
       "  'timeInForce': 'ImmediateOrCancel',\n",
       "  'timestamp': '2019-06-06T13:03:21.845Z',\n",
       "  'transactTime': '2019-06-06T13:03:21.845Z',\n",
       "  'triggered': '',\n",
       "  'workingIndicator': False},\n",
       " 'lastTradeTimestamp': None,\n",
       " 'price': 7727.5,\n",
       " 'remaining': 0.0,\n",
       " 'side': 'sell',\n",
       " 'status': 'closed',\n",
       " 'symbol': 'BTC/USD',\n",
       " 'timestamp': 1559826201845,\n",
       " 'type': 'market'}"
      ]
     },
     "execution_count": 37,
     "metadata": {},
     "output_type": "execute_result"
    }
   ],
   "source": [
    "bitmex_test_net.createOrder(symbol,'market','sell',1000)"
   ]
  },
  {
   "cell_type": "code",
   "execution_count": 38,
   "metadata": {},
   "outputs": [
    {
     "data": {
      "text/plain": [
       "{'amount': 1000.0,\n",
       " 'cost': 7728500.0,\n",
       " 'datetime': '2019-06-06T13:03:41.233Z',\n",
       " 'fee': None,\n",
       " 'filled': 1000.0,\n",
       " 'id': '6b668b72-2462-d76e-619f-cca6446f3268',\n",
       " 'info': {'account': 133056,\n",
       "  'avgPx': 7728.5,\n",
       "  'clOrdID': '',\n",
       "  'clOrdLinkID': '',\n",
       "  'contingencyType': '',\n",
       "  'cumQty': 1000,\n",
       "  'currency': 'USD',\n",
       "  'displayQty': None,\n",
       "  'exDestination': 'XBME',\n",
       "  'execInst': '',\n",
       "  'leavesQty': 0,\n",
       "  'multiLegReportingType': 'SingleSecurity',\n",
       "  'ordRejReason': '',\n",
       "  'ordStatus': 'Filled',\n",
       "  'ordType': 'Market',\n",
       "  'orderID': '6b668b72-2462-d76e-619f-cca6446f3268',\n",
       "  'orderQty': 1000,\n",
       "  'pegOffsetValue': None,\n",
       "  'pegPriceType': '',\n",
       "  'price': 7728.5,\n",
       "  'settlCurrency': 'XBt',\n",
       "  'side': 'Buy',\n",
       "  'simpleCumQty': None,\n",
       "  'simpleLeavesQty': None,\n",
       "  'simpleOrderQty': None,\n",
       "  'stopPx': None,\n",
       "  'symbol': 'XBTUSD',\n",
       "  'text': 'Submitted via API.',\n",
       "  'timeInForce': 'ImmediateOrCancel',\n",
       "  'timestamp': '2019-06-06T13:03:41.233Z',\n",
       "  'transactTime': '2019-06-06T13:03:41.233Z',\n",
       "  'triggered': '',\n",
       "  'workingIndicator': False},\n",
       " 'lastTradeTimestamp': None,\n",
       " 'price': 7728.5,\n",
       " 'remaining': 0.0,\n",
       " 'side': 'buy',\n",
       " 'status': 'closed',\n",
       " 'symbol': 'BTC/USD',\n",
       " 'timestamp': 1559826221233,\n",
       " 'type': 'market'}"
      ]
     },
     "execution_count": 38,
     "metadata": {},
     "output_type": "execute_result"
    }
   ],
   "source": [
    "bitmex_test_net.createOrder(symbol,'market','buy',1000)"
   ]
  },
  {
   "cell_type": "code",
   "execution_count": 56,
   "metadata": {},
   "outputs": [],
   "source": [
    "import pandas as pd\n",
    "import numpy as np"
   ]
  },
  {
   "cell_type": "code",
   "execution_count": 52,
   "metadata": {},
   "outputs": [],
   "source": [
    "limit = 100\n",
    "def get_kline_before(symbol, limit, t_day= 0, t_hour=0, t_min=0):\n",
    "    \n",
    "    params = {'partial': False}\n",
    "    tm = datetime.datetime.now() - datetime.timedelta(days =t_day, hours = t_hour, minutes = t_min)\n",
    "    stm = tm.timestamp()*1000\n",
    "    timeframe = '1d'\n",
    "    if t_hour>0:\n",
    "        timeframe = '1h'\n",
    "    elif t_min>0:\n",
    "        timeframe = '1m'\n",
    "    df =  bitmex_test_net.fetch_ohlcv(symbol, timeframe, stm, limit, params)\n",
    "    df = pd.DataFrame(df)\n",
    "    df[0] = df[0].apply(lambda x: time.ctime(x/1000) )\n",
    "    df[0] = df[0].apply(pd.to_datetime )\n",
    "    df.columns = ['Date_time', 'open', 'high', 'low', 'close', 'volume']\n",
    "    df = df.set_index( 'Date_time' )\n",
    "    return df"
   ]
  },
  {
   "cell_type": "code",
   "execution_count": 53,
   "metadata": {},
   "outputs": [],
   "source": [
    "def get_tip_data(symbol, limit ,t_day= 0, t_hour=0, t_min=0):\n",
    "    # get tips data for farther management.\n",
    "    tip_df = get_kline_before(symbol, limit, t_day, t_hour, t_min)\n",
    "    highst = tip_df.high.max()\n",
    "    minist = tip_df.high.min()\n",
    "    mean = tip_df.close.mean()\n",
    "    std = tip_df.close.std()\n",
    "    return {'highst_price':highst, 'minist_price':minist, 'mean_price':mean, 'std_of_price':std}, tip_df"
   ]
  },
  {
   "cell_type": "code",
   "execution_count": 54,
   "metadata": {},
   "outputs": [],
   "source": [
    "def get_tip_data_from_df( tip_df ):\n",
    "    # get tips data for farther management.\n",
    "    highst = tip_df.high.max()\n",
    "    minist = tip_df.high.min()\n",
    "    mean = tip_df.close.mean()\n",
    "    std = tip_df.close.std()\n",
    "    return {'highst_price':highst, 'minist_price':minist, 'mean_price':mean, 'std_of_price':std}"
   ]
  },
  {
   "cell_type": "code",
   "execution_count": 57,
   "metadata": {},
   "outputs": [
    {
     "name": "stdout",
     "output_type": "stream",
     "text": [
      "{'minist_price': 3880.0, 'mean_price': 5764.803370786517, 'highst_price': 9180.0, 'std_of_price': 1625.4165123864434}\n"
     ]
    },
    {
     "data": {
      "text/plain": [
       "array([[<matplotlib.axes._subplots.AxesSubplot object at 0x00000204EB0C8518>]],\n",
       "      dtype=object)"
      ]
     },
     "execution_count": 57,
     "metadata": {},
     "output_type": "execute_result"
    }
   ],
   "source": [
    "_dict, klpd = get_tip_data('BTC/USD', 30*3, t_day = 30*3)\n",
    "print(_dict)\n",
    "klpd.hist('close',bins=30)"
   ]
  },
  {
   "cell_type": "code",
   "execution_count": 58,
   "metadata": {},
   "outputs": [
    {
     "data": {
      "text/plain": [
       "<matplotlib.axes._subplots.AxesSubplot at 0x204eb67b198>"
      ]
     },
     "execution_count": 58,
     "metadata": {},
     "output_type": "execute_result"
    },
    {
     "data": {
      "image/png": "[encoded data removed]",
      "text/plain": [
       "<matplotlib.figure.Figure at 0x204eb62f668>"
      ]
     },
     "metadata": {},
     "output_type": "display_data"
    }
   ],
   "source": [
    "pl = klpd['close']\n",
    "pl.plot()"
   ]
  },
  {
   "cell_type": "code",
   "execution_count": null,
   "metadata": {},
   "outputs": [],
   "source": []
  },
  {
   "cell_type": "code",
   "execution_count": 47,
   "metadata": {},
   "outputs": [
    {
     "name": "stdout",
     "output_type": "stream",
     "text": [
      "{'Low': 6708.03119999, 'Time': 1539878400000, 'Buy': 6708.03119999, 'Last': 6708.0312, 'High': 6708.03120001, 'Sell': 6708.03120001, 'Volume': 3.7095}\n",
      "{'Bids': [{'Price': 6708.03119999, 'Amount': 20.0}, {'Price': 6708.03119997, 'Amount': 20.0}, {'Price': 6708.03119995, 'Amount': 20.0}, {'Price': 6708.03119993, 'Amount': 20.0}, {'Price': 6708.03119991, 'Amount': 20.0}], 'Asks': [{'Price': 6708.03120001, 'Amount': 20.0}, {'Price': 6708.03120003, 'Amount': 20.0}, {'Price': 6708.03120005, 'Amount': 20.0}, {'Price': 6708.03120007, 'Amount': 20.0}, {'Price': 6708.03120009, 'Amount': 20.0}]}\n",
      "{'FrozenBalance': 0.0, 'Balance': 10000.0, 'Stocks': 1.0, 'FrozenStocks': 0.0}\n",
      "1\n",
      "2\n",
      "{'FrozenBalance': 3002.4, 'Balance': 6997.6, 'Stocks': 0.0, 'FrozenStocks': 1.0}\n"
     ]
    }
   ],
   "source": [
    "'''backtest\n",
    "start: 2018-10-19 00:00:00\n",
    "end: 2018-10-22 12:00:00\n",
    "period: 15m\n",
    "exchanges: [{\"eid\":\"OKEX\",\"currency\":\"BTC_USDT\",\"balance\":10000,\"stocks\":1}]\n",
    "'''\n",
    "from fmz import *\n",
    "task = VCtx(__doc__)\n",
    "print( exchange.GetTicker() )\n",
    "print( exchange.GetDepth() )\n",
    "print( exchange.GetAccount() )\n",
    "\n",
    "print( exchange.Buy( 3000, 1))\n",
    "print( exchange.Sell( 8000, 1))\n",
    "print( exchange.GetAccount() )"
   ]
  },
  {
   "cell_type": "code",
   "execution_count": null,
   "metadata": {},
   "outputs": [],
   "source": []
  }
 ],
 "metadata": {
  "kernelspec": {
   "display_name": "Python [conda env:py37]",
   "language": "python",
   "name": "conda-env-py37-py"
  },
  "language_info": {
   "codemirror_mode": {
    "name": "ipython",
    "version": 3
   },
   "file_extension": ".py",
   "mimetype": "text/x-python",
   "name": "python",
   "nbconvert_exporter": "python",
   "pygments_lexer": "ipython3",
   "version": "3.5.4"
  }
 },
 "nbformat": 4,
 "nbformat_minor": 2
}
