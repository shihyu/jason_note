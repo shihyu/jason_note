{
 "cells": [
  {
   "cell_type": "markdown",
   "metadata": {},
   "source": [
    "## 1.我們需要獲取數據，但不需要一直獲取數據\n",
    "## 2.我們需要做容錯\n",
    "## 3.一些數據的處理不需要放在邏輯層裡"
   ]
  },
  {
   "cell_type": "code",
   "execution_count": 1,
   "metadata": {},
   "outputs": [],
   "source": [
    "class mid_class():\n",
    "    def _init__(self):\n",
    "        '''\n",
    "        初始化數據填充交易所的信息，首次獲取價格，首次獲取account信息\n",
    "        設定好密鑰……\n",
    "        '''\n",
    "        pass\n",
    "    \n",
    "    def get_account(self):\n",
    "        '''\n",
    "        獲取賬戶信息\n",
    "        '''\n",
    "        pass\n",
    "    \n",
    "    def get_ticker(self):\n",
    "        '''\n",
    "        獲取市價信息\n",
    "        '''\n",
    "        pass\n",
    "        \n",
    "    def get_depth(self):\n",
    "        '''\n",
    "        獲取深度信息\n",
    "        '''\n",
    "        pass\n",
    "    \n",
    "    def get_ohlc_data(self):\n",
    "        '''\n",
    "        獲取K線信息\n",
    "        '''\n",
    "        pass\n",
    "    \n",
    "    def create_order(self):\n",
    "        '''\n",
    "        post一個掛單信息\n",
    "        '''\n",
    "        pass\n",
    "    \n",
    "    def cancel_order(self):\n",
    "        '''\n",
    "        取消一個掛單信息\n",
    "        '''\n",
    "        pass\n",
    "        \n",
    "    def refreash_data(self):\n",
    "        '''\n",
    "        刷新信息\n",
    "        '''\n",
    "        pass"
   ]
  }
 ],
 "metadata": {
  "kernelspec": {
   "display_name": "Python [conda env:py37]",
   "language": "python",
   "name": "conda-env-py37-py"
  },
  "language_info": {
   "codemirror_mode": {
    "name": "ipython",
    "version": 3
   },
   "file_extension": ".py",
   "mimetype": "text/x-python",
   "name": "python",
   "nbconvert_exporter": "python",
   "pygments_lexer": "ipython3",
   "version": "3.5.4"
  }
 },
 "nbformat": 4,
 "nbformat_minor": 2
}