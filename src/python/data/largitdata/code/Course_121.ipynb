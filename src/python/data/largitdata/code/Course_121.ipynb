{
 "cells": [
  {
   "cell_type": "code",
   "execution_count": 3,
   "metadata": {},
   "outputs": [],
   "source": [
    "import requests\n",
    "headers = {\n",
    "  'user-agent': 'Mozilla/5.0 (Macintosh; Intel Mac OS X 10_14_6) AppleWebKit/537.36 (KHTML, like Gecko) Chrome/78.0.3904.108 Safari/537.36'  \n",
    "}\n",
    "res = requests.get('https://www.momoshop.com.tw/category/DgrpCategory.jsp?d_code=2900400054&CPHOT=Y&flag=L', headers = headers)\n",
    "#res.text"
   ]
  },
  {
   "cell_type": "code",
   "execution_count": 4,
   "metadata": {},
   "outputs": [],
   "source": [
    "from bs4 import BeautifulSoup\n",
    "soup = BeautifulSoup(res.text, 'lxml')"
   ]
  },
  {
   "cell_type": "code",
   "execution_count": 7,
   "metadata": {},
   "outputs": [],
   "source": [
    "ary = []\n",
    "for good in soup.select('.eachGood'):\n",
    "    #print(good)\n",
    "    title = good.select_one('.prdName').get('title')\n",
    "    price = good.select_one('.prdPrice').text\n",
    "    icon = good.select_one('.iconArea').text\n",
    "    ary.append({'title':title, 'price':price, 'icon':icon})\n",
    "    #print('======================================')"
   ]
  },
  {
   "cell_type": "code",
   "execution_count": 8,
   "metadata": {},
   "outputs": [],
   "source": [
    "import pandas\n",
    "df = pandas.DataFrame(ary)"
   ]
  },
  {
   "cell_type": "code",
   "execution_count": 9,
   "metadata": {},
   "outputs": [
    {
     "data": {
      "text/html": [
       "<div>\n",
       "<style scoped>\n",
       "    .dataframe tbody tr th:only-of-type {\n",
       "        vertical-align: middle;\n",
       "    }\n",
       "\n",
       "    .dataframe tbody tr th {\n",
       "        vertical-align: top;\n",
       "    }\n",
       "\n",
       "    .dataframe thead th {\n",
       "        text-align: right;\n",
       "    }\n",
       "</style>\n",
       "<table border=\"1\" class=\"dataframe\">\n",
       "  <thead>\n",
       "    <tr style=\"text-align: right;\">\n",
       "      <th></th>\n",
       "      <th>icon</th>\n",
       "      <th>price</th>\n",
       "      <th>title</th>\n",
       "    </tr>\n",
       "  </thead>\n",
       "  <tbody>\n",
       "    <tr>\n",
       "      <th>0</th>\n",
       "      <td>折價券登記</td>\n",
       "      <td>$22,900</td>\n",
       "      <td>【12/12-16 滿額送寬口保溫杯再抽戴森】dyson 戴森 V11 Fluffy 手持無...</td>\n",
       "    </tr>\n",
       "    <tr>\n",
       "      <th>1</th>\n",
       "      <td>速折價券登記</td>\n",
       "      <td>$5,999</td>\n",
       "      <td>【Gtech】小綠 Multi Plus 無線除蹣吸塵器</td>\n",
       "    </tr>\n",
       "    <tr>\n",
       "      <th>2</th>\n",
       "      <td>折價券登記</td>\n",
       "      <td>$19,900</td>\n",
       "      <td>【12/12-16 滿額送寬口保溫杯再抽戴森】dyson 戴森 V8 CarbonFibre...</td>\n",
       "    </tr>\n",
       "    <tr>\n",
       "      <th>3</th>\n",
       "      <td>TV折價券登記</td>\n",
       "      <td>$9,890</td>\n",
       "      <td>英國Gtech小綠集塵袋無線除蹣神器</td>\n",
       "    </tr>\n",
       "    <tr>\n",
       "      <th>4</th>\n",
       "      <td>折價券登記</td>\n",
       "      <td>$16,900</td>\n",
       "      <td>【dyson 戴森】dyson V7 Trigger HH11 手持吸塵器(超值升級組)</td>\n",
       "    </tr>\n",
       "  </tbody>\n",
       "</table>\n",
       "</div>"
      ],
      "text/plain": [
       "      icon    price                                              title\n",
       "0    折價券登記  $22,900  【12/12-16 滿額送寬口保溫杯再抽戴森】dyson 戴森 V11 Fluffy 手持無...\n",
       "1   速折價券登記   $5,999                       【Gtech】小綠 Multi Plus 無線除蹣吸塵器\n",
       "2    折價券登記  $19,900  【12/12-16 滿額送寬口保溫杯再抽戴森】dyson 戴森 V8 CarbonFibre...\n",
       "3  TV折價券登記   $9,890                                 英國Gtech小綠集塵袋無線除蹣神器\n",
       "4    折價券登記  $16,900       【dyson 戴森】dyson V7 Trigger HH11 手持吸塵器(超值升級組)"
      ]
     },
     "execution_count": 9,
     "metadata": {},
     "output_type": "execute_result"
    }
   ],
   "source": [
    "df.head()"
   ]
  },
  {
   "cell_type": "code",
   "execution_count": null,
   "metadata": {},
   "outputs": [],
   "source": []
  }
 ],
 "metadata": {
  "kernelspec": {
   "display_name": "Python 3",
   "language": "python",
   "name": "python3"
  },
  "language_info": {
   "codemirror_mode": {
    "name": "ipython",
    "version": 3
   },
   "file_extension": ".py",
   "mimetype": "text/x-python",
   "name": "python",
   "nbconvert_exporter": "python",
   "pygments_lexer": "ipython3",
   "version": "3.6.2"
  }
 },
 "nbformat": 4,
 "nbformat_minor": 2
}
