{
 "cells": [
  {
   "cell_type": "markdown",
   "id": "4568cad9",
   "metadata": {},
   "source": [
    "## 如何透過 revChatGPT 操作 ChatGPT (Course 217)\n",
    "\n",
    "### 影片\n",
    "https://largitdata.com/course/217/\n",
    "\n",
    "### 程式碼\n",
    "https://github.com/ywchiu/largitdata/blob/master/code/Course_217.ipynb"
   ]
  },
  {
   "cell_type": "code",
   "execution_count": 1,
   "id": "9707c477",
   "metadata": {},
   "outputs": [
    {
     "name": "stdout",
     "output_type": "stream",
     "text": [
      "Spawning browser...\n",
      "Browser spawned.\n",
      "Found Cloudflare Cookie!\n",
      "{'message': '\"大數軟體\" (Big Data Software) 是指用於處理、分析、管理和使用海量數據的軟體。它通常支持分布式計算和存儲，以應對大量的數據增長和多樣化的數據需求。例如，Hadoop、Spark和NoSQL數據庫等都是大數軟體的代表。', 'conversation_id': '871be966-8412-4d42-ac21-cad020e289f9', 'parent_id': 'f22a9c6f-b2e0-496d-948b-66209635868d'}\n"
     ]
    }
   ],
   "source": [
    "from revChatGPT.ChatGPT import Chatbot\n",
    "\n",
    "chatbot = Chatbot({\n",
    "  \"session_token\": \"eyJhbGciOiJkaXIiLCJlbmMiOiJBMjU2R0NNIn0..1y0yKNYX4xYrJKMV.AAA4F4n92MlyvLlCbYSJUQN8jgF7CuO8d8uE1ULTv_y9501z15NJZzYgwVKQb12Vi-NJmbWBjvrzgHETsxUkcokUb-VyCR4qm9mb_lHw02RYXyRklb4qKKzKiUfDseuI39HD6fkreyR47S7oYb4Dhlwkwb9cB0rDo2Tk5VJ15yZLwLWEeqbDCKqEqF8UTPhwnw4Y4HIdU3wVqtrt4qDewzoBUm-doECO-68muCTJFds7YGqB8kPFZe_XdTJbyWGcpnP1aBm0m5bZBMcyabkizLi6QONSRNCYyj6tSq2JZa_pK3Llb6yYokqV0i6MsGtRUzR-gtx2CI0GxfoMw_yBX2uJ_WSyaQppyt6qtvkZkqPdDehi0CcuE0ICqQl0oB8NcyEKqBBJ0TLcV17aPbGcTFgHksrrODlk56mISJ4XUBeEPzw7yMnjEC3ECjwPH_EwTPz6IUk30yQUxa-KvUSA3wrj1EU6MM07Y8JZbITrLic8GuSxIK7bEyyy3_5fAooJvlDkvduE54Uy5b0_-2qteIiyCYnTToFFXtbl3k6M-NV35MDtqyfqO90x2AaGnINSk9BDgOJdj8h1YFXE3x5mf-3Dd9cgKTP-ud3E2LFXy-Ss-u2pZyWoABIs4M2e7pg_R33crCfAhIp8ZDtw4rEH51PyvIkmjFWAuftRxxznJ1IdjLhcOpjL81YQj0y5dSD0QTyZBkSxLA7YOet7_CPBIMUihdeqGYTDCvkC-P8rnEGF3hbZvs0nTSLZFdqOVomGmGyYJ8gewcf7Wat47ZpD0BvKndzYKo7ibBAPY0hJdLJ2JgqId1symr4j6YONwxB9yYKULey0T7IbmwAOqtBH8mVKUWq2KuR5ShN34ZipFawcMAcrRR7i96u4BRs7MT-gS3j5BcLbOpqOoNLKxKe9GwcHF2rDduxdF7EVfWNG2ofvBokvKdkvuTNnAgFNu0pQhCuv5T6eGHepBmfjlofZ0DeEcJyn81W94BaRb6dNGB8OLnDPnuKY6qyZRoeqByObQ5m81g0hELbmFk7C0cIKMpbZfil7KOXRaokjF9dHQkISx7hIV2zdWHP0cmvdX4HJWhSbQa9GmynbBJObfg9Ge25iqh5UhpEeIv5hjHtjtDUeeJEOHZVOWMR5qjZyiDxT8A7iZ2-39xiiRmQTx4p0xSPW1uY45D799V2wB1T5BXH9oB2mGFzj3KuPUO6R9ORG_TGP7aSPiBGgpjs6BzSTLBG5KzHkYNS74aXunsC6F8FSoojuAoNiQfR3Ygdv63RohDTLEedfAbNZuPfvcCdiT2o5bbNN2VUEF5NpB2dUAVHNmj0_8J1vayJtvnXYedtIHFgSfmxIxbRFIosNgFK04rsLfPJu83OOjcvveFc6hziX_cEdwcgkQyvGXFPKdzQW9-GjXB5IqtfawcYKZwqrmVdDgOy7FnCsNS-pBiYQQuq3mZxq5Tf02touk3G3R1BSRCa2yIi82lOMpe-Eai8jSktg6TYnWiB33Bzsxlk-VmazM_CgQSirX21sG4o0CT9fskN04u4VUFknO0xB7Nqq63xA5WxhjRrXDk_e0Im_y_Wbeck6a3uMV6rHh-u5fug2On0zhT22S7R89Ux394hvrmnT2gAormBWJoECfi6NWBTjo3TDtm-I4DxawciK2eATpcg6j3i_NAT1cjbn8YoPQYTmbKDZ1W2fzblNG4AfMSa4N5ZcSghsWpZiGSpWtDg3cF_BZCEQoqqtMn-R8rG6_zAOLZv_cY8QZTHP4EoArNXvOE027VKUTmf0ocpM6O3EU4ufO6A4QIsmG8YuD-c16tnHQhujhWw9vD4LxSMhWA90_qzpWSFdCCjcntF0ZJ2gaN-RvNA7VB4u31LbBMODjheE1V-xWo-PGvEI0z7qsmvb61FJPTwZCZuR5D4x8OWCuVeekC9mFZ4R8-KvHAjLH66GqtEWjxFSQb8eBrPEIDulf48icZ7SkfBhWAHKt7sgbvcAZqRrtZBkXXeaWDVjdQ-S75ROqjo8-qvkhRn6qqqmcND8mgUrH49y0U3Bk-k_qWt5WpWVKkxf7pqmJwdLlvCs4ybwdvJ8Zy57I9khLFNhZXwuG5vBetcigW7-TBy78tEJPZ03idTigg146xJ6xVgeF_puAvDHM7ebneFYfiU7LcbvncsZhmR1vw4_fNBJU87O1AARyudCttSZsQmxkxHQZZipw89Jj1o8VKVOtFKTWRKSdY0XvqJwkBh5IeuPFh2xlbxLW2dK2UC8CCgqnhblx-csqB7eX7LY59WwNwC5NSuaLmQfBXTEEB2l0OxaGIgC6wS5D-OqtzlD-sbOdqNDZYNFHKePqQL8HiEp8akh-C6abpiOIyyiMz0y78rzepBoZW7rXyPo-hURxiLnjh3neb2O5DofJ7YbgaFBM577MMEFuKq3fUncqg9b8FUdOqlEog_dN9uavISfkP_i4OcGxY9fOIzAfwnqK-k9Bk9-QBXM-uM9N5iw1fG9cl7a29Cneq0ZSdjYqwiOMaAdZ5gerC7UUCxJccjEXFljRrtVpMHyv3seqiosp7ee6Zh3r11ghD4xFY33QH6O.GzkC76O6Q7MLebklCfYQeQ\"\n",
    "}, conversation_id=None, parent_id=None) \n",
    "\n",
    "response = chatbot.ask(\"什麼是大數軟體?\", conversation_id=None, parent_id=None) \n",
    "\n",
    "print(response)"
   ]
  },
  {
   "cell_type": "markdown",
   "id": "3c118f29",
   "metadata": {},
   "source": [
    "## 如何運用Python 網路爬蟲強化 ChatGPT (Course 218)\n",
    "\n",
    "### 影片\n",
    "https://largitdata.com/course/218/\n",
    "\n",
    "### 程式碼\n",
    "https://github.com/ywchiu/largitdata/blob/master/code/Course_218.ipynb"
   ]
  },
  {
   "cell_type": "code",
   "execution_count": 10,
   "id": "9c7173a8",
   "metadata": {},
   "outputs": [
    {
     "name": "stderr",
     "output_type": "stream",
     "text": [
      "/var/folders/21/1tszsz8n1vdd79rbhmdnwwqc0000gn/T/ipykernel_84740/2333056536.py:2: DeprecationWarning: executable_path has been deprecated, please pass in a Service object\n",
      "  driver = webdriver.Chrome('./chromedriver')\n"
     ]
    }
   ],
   "source": [
    "from selenium import webdriver\n",
    "driver = webdriver.Chrome('./chromedriver')"
   ]
  },
  {
   "cell_type": "code",
   "execution_count": 11,
   "id": "a4683480",
   "metadata": {},
   "outputs": [],
   "source": [
    "driver.get('https://www.google.com/search?q=%E5%A4%A7%E6%95%B8%E8%BB%9F%E9%AB%94')"
   ]
  },
  {
   "cell_type": "code",
   "execution_count": 13,
   "id": "5f2c82d0",
   "metadata": {},
   "outputs": [],
   "source": [
    "#driver.page_source"
   ]
  },
  {
   "cell_type": "code",
   "execution_count": 17,
   "id": "4ee73011",
   "metadata": {},
   "outputs": [],
   "source": [
    "from bs4 import BeautifulSoup\n",
    "soup = BeautifulSoup(driver.page_source, 'lxml')\n",
    "url = soup.select('#rso a')[0].get('href')"
   ]
  },
  {
   "cell_type": "code",
   "execution_count": 18,
   "id": "d8729810",
   "metadata": {},
   "outputs": [],
   "source": [
    "driver.get(url)"
   ]
  },
  {
   "cell_type": "code",
   "execution_count": 19,
   "id": "8d5c64ab",
   "metadata": {},
   "outputs": [],
   "source": [
    "page_soup = BeautifulSoup(driver.page_source, 'lxml')"
   ]
  },
  {
   "cell_type": "code",
   "execution_count": 23,
   "id": "65aedd03",
   "metadata": {},
   "outputs": [],
   "source": [
    "info = ' '.join(page_soup.text.strip().split())"
   ]
  },
  {
   "cell_type": "code",
   "execution_count": 49,
   "id": "7ea07e3c",
   "metadata": {},
   "outputs": [
    {
     "name": "stdout",
     "output_type": "stream",
     "text": [
      "{'message': 'LargitData大數軟體有限公司是一家具有InfoMiner即時輿情分析平台的公司，它透過光學字元辨識技術(OCR)分析網路輿情大數據，讓客戶能夠快速了解群眾的聲音，抓住商機，並透過人工智慧與機器學習技術快速分析、摘要出大量輿情訊息。InfoMiner即時輿情分析平台提供多重角度的分析，透過雲端平台或即時通知，協助客戶做出明智的行銷決策。', 'conversation_id': 'f15c78af-580e-43a7-b8f5-4a6b1a2b1dc2', 'parent_id': '92d5e101-309e-4ea4-aaad-1e6e0a9ddf8a'}\n"
     ]
    }
   ],
   "source": [
    "response = chatbot.ask(\"請根據以下描述，請用中文述說什麼是大數軟體? : {}\".format(info[0:500]), conversation_id=None, parent_id=None) \n",
    "\n",
    "print(response)"
   ]
  },
  {
   "cell_type": "code",
   "execution_count": null,
   "id": "22f2bffb",
   "metadata": {},
   "outputs": [],
   "source": []
  }
 ],
 "metadata": {
  "kernelspec": {
   "display_name": "Python 3 (ipykernel)",
   "language": "python",
   "name": "python3"
  },
  "language_info": {
   "codemirror_mode": {
    "name": "ipython",
    "version": 3
   },
   "file_extension": ".py",
   "mimetype": "text/x-python",
   "name": "python",
   "nbconvert_exporter": "python",
   "pygments_lexer": "ipython3",
   "version": "3.8.10"
  }
 },
 "nbformat": 4,
 "nbformat_minor": 5
}
