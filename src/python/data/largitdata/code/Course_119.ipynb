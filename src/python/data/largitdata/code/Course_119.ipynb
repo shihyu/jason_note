{
 "cells": [
  {
   "cell_type": "markdown",
   "metadata": {},
   "source": [
    "## 檢查是否有最新一集"
   ]
  },
  {
   "cell_type": "code",
   "execution_count": 64,
   "metadata": {},
   "outputs": [],
   "source": [
    "import requests\n",
    "res = requests.get('https://www.comicbus.com/html/103.html')\n",
    "res.encoding = 'cp950'\n",
    "#res.text"
   ]
  },
  {
   "cell_type": "code",
   "execution_count": 68,
   "metadata": {},
   "outputs": [],
   "source": [
    "from bs4 import BeautifulSoup\n",
    "soup = BeautifulSoup(res.text, 'lxml')\n",
    "comics = []\n",
    "for rec in soup.select('#rp_ctl05_0_dl_0 td a'):\n",
    "    comics.append(int(rec.get('id').strip('c')))"
   ]
  },
  {
   "cell_type": "code",
   "execution_count": 70,
   "metadata": {},
   "outputs": [
    {
     "data": {
      "text/plain": [
       "959"
      ]
     },
     "execution_count": 70,
     "metadata": {},
     "output_type": "execute_result"
    }
   ],
   "source": [
    "max(comics)"
   ]
  },
  {
   "cell_type": "code",
   "execution_count": 72,
   "metadata": {},
   "outputs": [],
   "source": [
    "import pandas\n",
    "comic_df = pandas.DataFrame(comics)\n",
    "comic_df.columns = ['series']"
   ]
  },
  {
   "cell_type": "code",
   "execution_count": 73,
   "metadata": {},
   "outputs": [],
   "source": [
    "import sqlite3 as lite\n",
    "with lite.connect('comics.sqlite') as db:\n",
    "    comic_df.to_sql('comics', con = db, if_exists='replace')"
   ]
  },
  {
   "cell_type": "code",
   "execution_count": 75,
   "metadata": {},
   "outputs": [
    {
     "data": {
      "text/html": [
       "<div>\n",
       "<style scoped>\n",
       "    .dataframe tbody tr th:only-of-type {\n",
       "        vertical-align: middle;\n",
       "    }\n",
       "\n",
       "    .dataframe tbody tr th {\n",
       "        vertical-align: top;\n",
       "    }\n",
       "\n",
       "    .dataframe thead th {\n",
       "        text-align: right;\n",
       "    }\n",
       "</style>\n",
       "<table border=\"1\" class=\"dataframe\">\n",
       "  <thead>\n",
       "    <tr style=\"text-align: right;\">\n",
       "      <th></th>\n",
       "      <th>max_series</th>\n",
       "    </tr>\n",
       "  </thead>\n",
       "  <tbody>\n",
       "    <tr>\n",
       "      <th>0</th>\n",
       "      <td>959</td>\n",
       "    </tr>\n",
       "  </tbody>\n",
       "</table>\n",
       "</div>"
      ],
      "text/plain": [
       "   max_series\n",
       "0         959"
      ]
     },
     "execution_count": 75,
     "metadata": {},
     "output_type": "execute_result"
    }
   ],
   "source": [
    "with lite.connect('comics.sqlite') as db:\n",
    "    df2 = pandas.read_sql_query('select max(series) as max_series from comics', con = db)\n",
    "df2"
   ]
  },
  {
   "cell_type": "code",
   "execution_count": 81,
   "metadata": {},
   "outputs": [
    {
     "data": {
      "text/plain": [
       "[]"
      ]
     },
     "execution_count": 81,
     "metadata": {},
     "output_type": "execute_result"
    }
   ],
   "source": [
    "def check_comics():\n",
    "    # 檢查資料庫最新的漫畫集數\n",
    "    with lite.connect('comics.sqlite') as db:\n",
    "        df2 = pandas.read_sql_query('select max(series) as max_series from comics', con = db)\n",
    "    max_series = df2['max_series'][0]\n",
    "\n",
    "    # 利用網路爬蟲檢查網路上最新的集數\n",
    "    res = requests.get('https://www.comicbus.com/html/103.html')\n",
    "    res.encoding = 'cp950'\n",
    "    soup = BeautifulSoup(res.text, 'lxml')\n",
    "    comics = []\n",
    "    for rec in soup.select('#rp_ctl05_0_dl_0 td a'):\n",
    "        comics.append(int(rec.get('id').strip('c')))\n",
    "        \n",
    "    # 將還未抓取的集數放到 left_comics 之中\n",
    "    left_comics = []\n",
    "    for i in range(max_series, max(comics)):\n",
    "        left_comics.append(i)\n",
    "        \n",
    "    # 將抓取到的集數，寫到資料庫中\n",
    "    with lite.connect('comics.sqlite') as db:\n",
    "        comic_df.to_sql('comics', con = db, if_exists='replace')\n",
    "    return left_comics\n",
    "\n",
    "check_comics()"
   ]
  },
  {
   "cell_type": "markdown",
   "metadata": {},
   "source": [
    "## 完整漫畫抓取函式"
   ]
  },
  {
   "cell_type": "code",
   "execution_count": 82,
   "metadata": {},
   "outputs": [],
   "source": [
    "import time, os\n",
    "from selenium import webdriver\n",
    "from bs4 import BeautifulSoup\n",
    "import requests\n",
    "\n",
    "def getComic(s):\n",
    "    driver = webdriver.Chrome('/opt/local/common/chromedriver')\n",
    "    if not os.path.exists(str(s)):\n",
    "        os.mkdir(str(s))\n",
    "    pageurl = 'https://www.8899.click/online/comic-103.html?ch={}-{}'\n",
    "    driver.get(pageurl.format(s,1))\n",
    "    time.sleep(1)\n",
    "    soup = BeautifulSoup(driver.page_source, 'lxml')\n",
    "    pagenum = int(soup.select_one('#pagenum').text.split('/')[1].strip('頁')) \n",
    "    for i in range(pagenum):\n",
    "        driver.get(pageurl.format(s, i+1))\n",
    "        soup = BeautifulSoup(driver.page_source, 'lxml')\n",
    "        imgurl = 'https:' + soup.select_one('#TheImg').get('src')\n",
    "        res = requests.get(imgurl)\n",
    "        with open('{}/{}.jpg'.format(s, i+ 1), 'wb') as f:\n",
    "            f.write(res.content)\n",
    "        time.sleep(1)\n",
    "    driver.close()"
   ]
  },
  {
   "cell_type": "code",
   "execution_count": 84,
   "metadata": {},
   "outputs": [],
   "source": [
    "left_comics = check_comics()\n",
    "left_comics = [959]\n",
    "for i in left_comics:\n",
    "    getComic(i)"
   ]
  },
  {
   "cell_type": "markdown",
   "metadata": {},
   "source": [
    "## 發送漫畫"
   ]
  },
  {
   "cell_type": "code",
   "execution_count": 85,
   "metadata": {},
   "outputs": [],
   "source": [
    "token = 'VXRv1MIZgkZTKZYn6ykHTof6esBlpXjvVZSjmSvso7s'\n",
    "headers = {\n",
    "    'Authorization': f'Bearer {token}'\n",
    "}\n",
    "\n",
    "payload = {\n",
    " 'message':'最新的漫畫', \n",
    "}\n",
    "\n",
    "files = {\n",
    "    'imageFile': open('959/1.jpg', 'rb')\n",
    "}\n",
    "\n",
    "res = requests.post('https://notify-api.line.me/api/notify', data = payload, files=files, headers = headers)"
   ]
  },
  {
   "cell_type": "code",
   "execution_count": 41,
   "metadata": {},
   "outputs": [
    {
     "data": {
      "text/plain": [
       "'{\"status\":200,\"message\":\"ok\"}'"
      ]
     },
     "execution_count": 41,
     "metadata": {},
     "output_type": "execute_result"
    }
   ],
   "source": [
    "res.text"
   ]
  },
  {
   "cell_type": "code",
   "execution_count": 86,
   "metadata": {},
   "outputs": [],
   "source": [
    "def send_comics(f):\n",
    "    token = 'VXRv1MIZgkZTKZYn6ykHTof6esBlpXjvVZSjmSvso7s'\n",
    "    headers = {\n",
    "        'Authorization': f'Bearer {token}'\n",
    "    }\n",
    "\n",
    "    payload = {\n",
    "     'message':'最新的漫畫', \n",
    "    }\n",
    "\n",
    "    files = {\n",
    "        'imageFile': open(f, 'rb')\n",
    "    }\n",
    "\n",
    "    res = requests.post('https://notify-api.line.me/api/notify', data = payload, files=files, headers = headers)\n",
    "    return res.json()"
   ]
  },
  {
   "cell_type": "markdown",
   "metadata": {},
   "source": [
    "## 將完整流程串接"
   ]
  },
  {
   "cell_type": "code",
   "execution_count": 102,
   "metadata": {},
   "outputs": [],
   "source": [
    "import os\n",
    "left_comics = check_comics()\n",
    "left_comics = [957,958]\n",
    "for i in left_comics:\n",
    "    getComic(i)\n",
    "    \n",
    "    ary = []\n",
    "    for f in os.listdir(str(i)):\n",
    "        ary.append(int(f.replace('.jpg', '')))\n",
    "    ary.sort()\n",
    "    \n",
    "    #for c in ary:\n",
    "        #print('{}/{}.jpg'.format(i,c))\n",
    "    #    send_comics('{}/{}.jpg'.format(i,c))"
   ]
  },
  {
   "cell_type": "code",
   "execution_count": null,
   "metadata": {},
   "outputs": [],
   "source": []
  }
 ],
 "metadata": {
  "kernelspec": {
   "display_name": "Python 3",
   "language": "python",
   "name": "python3"
  },
  "language_info": {
   "codemirror_mode": {
    "name": "ipython",
    "version": 3
   },
   "file_extension": ".py",
   "mimetype": "text/x-python",
   "name": "python",
   "nbconvert_exporter": "python",
   "pygments_lexer": "ipython3",
   "version": "3.6.2"
  }
 },
 "nbformat": 4,
 "nbformat_minor": 2
}
