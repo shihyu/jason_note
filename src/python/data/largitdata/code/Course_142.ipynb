{
 "cells": [
  {
   "cell_type": "code",
   "execution_count": null,
   "metadata": {},
   "outputs": [],
   "source": [
    "from flask import Flask, render_template, request, jsonify, Response\n",
    "import requests\n",
    "\n",
    "app = Flask(__name__, static_url_path='', template_folder='./')\n",
    "\n",
    "\n",
    "@app.route('/')\n",
    "def index():\n",
    "    return render_template(\"query_price_advanced.html\")\n",
    "\n",
    "@app.route('/SERVICE/QueryPrice/<param>')\n",
    "def getParam(param):\n",
    "    q = request.args.get('q')\n",
    "    res = requests.get('http://210.65.131.75/SERVICE/QueryPrice/{}?q={}'.format(param, q))\n",
    "    print(res.json())\n",
    "    return jsonify({'name':param})\n",
    "\n",
    "if __name__ == '__main__':\n",
    "    app.run()"
   ]
  },
  {
   "cell_type": "markdown",
   "metadata": {},
   "source": [
    "## query_price.html"
   ]
  },
  {
   "cell_type": "raw",
   "metadata": {},
   "source": [
    "<html>\n",
    "<head>\n",
    "<script src=\"vendor.bundle.js\"></script>\n",
    "<script src=\"common.bundle.js\"></script>\n",
    "</head>\n",
    "<body>\n",
    "<script>\n",
    "var dataObj = {\n",
    "        'qryType':'biz',\n",
    "        'city' : 'O',\n",
    "        'town' : 'O01',\n",
    "        'ptype' : '1,2',\n",
    "        'starty' : '110',\n",
    "        'startm' : '1',\n",
    "        'endy' : '110',\n",
    "        'endm' : '3',\n",
    "        'token' : 'DTF7714281053',\n",
    "};\n",
    "var a = common.loadQueryPrice2(dataObj);\n",
    "</script>\n",
    "</body>\n",
    "</html>"
   ]
  },
  {
   "cell_type": "markdown",
   "metadata": {},
   "source": [
    "## query_price_advanced.html"
   ]
  },
  {
   "cell_type": "raw",
   "metadata": {},
   "source": [
    "<html>\n",
    "<head>\n",
    "<script src=\"vendor.bundle.js\"></script>\n",
    "<script src=\"common.bundle.js\"></script>\n",
    "</head>\n",
    "<body>\n",
    "<script>\n",
    "var params = new URLSearchParams(window.location.search);\n",
    "var dataObj = {\n",
    "        'qryType':'biz',\n",
    "        'city' : params.get('city'),\n",
    "        'town' : params.get('town'),\n",
    "        'ptype' : '1,2',\n",
    "        'starty' : '110',\n",
    "        'startm' : '1',\n",
    "        'endy' : '110',\n",
    "        'endm' : '3',\n",
    "        'token' : 'DTF7714281053',\n",
    "};\n",
    "var a = common.loadQueryPrice2(dataObj);\n",
    "</script>\n",
    "</body>\n",
    "</html>"
   ]
  }
 ],
 "metadata": {
  "kernelspec": {
   "display_name": "Python 3",
   "language": "python",
   "name": "python3"
  },
  "language_info": {
   "codemirror_mode": {
    "name": "ipython",
    "version": 3
   },
   "file_extension": ".py",
   "mimetype": "text/x-python",
   "name": "python",
   "nbconvert_exporter": "python",
   "pygments_lexer": "ipython3",
   "version": "3.7.3"
  }
 },
 "nbformat": 4,
 "nbformat_minor": 4
}
