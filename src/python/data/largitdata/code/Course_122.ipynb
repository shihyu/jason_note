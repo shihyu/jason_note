{
 "cells": [
  {
   "cell_type": "code",
   "execution_count": 2,
   "metadata": {},
   "outputs": [],
   "source": [
    "import requests\n",
    "res = requests.get('https://m.weibo.cn/api/container/getIndex?containerid=231522type%3D1%26q%3D%23%E6%AD%A6%E6%B1%89%E8%82%BA%E7%82%8E%23&page_type=searchall&page=4')\n",
    "jd = res.json()"
   ]
  },
  {
   "cell_type": "code",
   "execution_count": 8,
   "metadata": {},
   "outputs": [],
   "source": [
    "import pandas\n",
    "articles = [rec['mblog'] for rec in jd['data']['cards'] if rec.get('mblog')]\n",
    "df = pandas.DataFrame(articles)"
   ]
  },
  {
   "cell_type": "code",
   "execution_count": 10,
   "metadata": {},
   "outputs": [
    {
     "data": {
      "text/plain": [
       "0    <a  href=\"https://m.weibo.cn/p/index?container...\n",
       "1    做出巨大牺牲是主动语态，实际上是无可奈何的死去，民众是知情权未受保障下的荼毒生灵。<a hr...\n",
       "2    （照片：<a href='/n/欲伴小夜曲'>@欲伴小夜曲</a> ）<br /><br /...\n",
       "3    🙏🙏🙏除一切苦<a  href=\"https://m.weibo.cn/search?con...\n",
       "4    请疫情放过我们涉县吧，我们涉县人吃抿阶、饸饹、锅贴，野味最多也就吃个柿饼、核桃跟黑枣。。<b...\n",
       "5    小伙伴门有没有物流还可以邮寄口罩的[撇嘴]<br />想寄个4盒200个这样回国内给家里人会...\n",
       "6    <a  href=\"https://m.weibo.cn/p/index?container...\n",
       "7    #正式开学前不要提前网上教学# 教育部发这样的提醒，多此一举！在当前<a  href=\"ht...\n",
       "8    <a  href=\"https://m.weibo.cn/search?containeri...\n",
       "9    真讽刺，朋友圈看到的，全国都在驰援武汉，武汉还能对外发口罩，呵呵<a  href=\"http...\n",
       "Name: text, dtype: object"
      ]
     },
     "execution_count": 10,
     "metadata": {},
     "output_type": "execute_result"
    }
   ],
   "source": [
    "df['text']"
   ]
  },
  {
   "cell_type": "code",
   "execution_count": 11,
   "metadata": {},
   "outputs": [],
   "source": [
    "import requests\n",
    "articles = []\n",
    "for i in range(1,5):\n",
    "    res = requests.get('https://m.weibo.cn/api/container/getIndex?containerid=231522type%3D1%26q%3D%23%E6%AD%A6%E6%B1%89%E8%82%BA%E7%82%8E%23&page_type=searchall&page={}'.format(i))\n",
    "    jd = res.json()\n",
    "    articles.extend([rec['mblog'] for rec in jd['data']['cards'] if rec.get('mblog')])\n",
    "    \n",
    "df = pandas.DataFrame(articles)"
   ]
  },
  {
   "cell_type": "code",
   "execution_count": 13,
   "metadata": {},
   "outputs": [
    {
     "data": {
      "text/plain": [
       "38"
      ]
     },
     "execution_count": 13,
     "metadata": {},
     "output_type": "execute_result"
    }
   ],
   "source": [
    "len(df)"
   ]
  },
  {
   "cell_type": "code",
   "execution_count": 15,
   "metadata": {},
   "outputs": [
    {
     "data": {
      "text/plain": [
       "0     帮转🙏🙏🙏#新型冠状病毒肺炎##武汉肺炎具体情况：我叫陈雨薇，湖北省武汉人，是华中科技大学新...\n",
       "1     #武汉肺炎# 还没有结束，大家千万不要出门。现在外面正是病毒扩散#疫情仍处于扩散阶段# 的高...\n",
       "2     #武汉肺炎# #全民口罩行动# #体温检测# #逆向思维# 进社区要量测体温，但离开社区的却...\n",
       "3     肺炎患者求助超话肺炎患者求助超话#武汉肺炎# 转自朋友圈：武汉如有需住院而住不上院的新冠肺炎...\n",
       "4                    这种体外试验不妨把一定浓度的酒精当作对照组，和酒精头对头#武汉肺炎#\n",
       "5     以下是我看到这篇文第一时间给截了图！因为我知道，这样的文，很快的速度会被封！果然，在看完那刻...\n",
       "6               #武汉肺炎# 搞不明白，在这种情况下为何还要暴力抗法？#暴力抗法# 网页链接 \n",
       "7                        #新型冠状病毒# #武汉肺炎#肺炎患者求助超话 🙏🏻🙏🏻🙏🏻\n",
       "8     #武汉肺炎# 平常大城市上下班高峰期就很吓人，地铁站外老长老长的队，这返工了，每个人测温，排...\n",
       "9                          #睡眠弱势群体##武汉肺炎#  这睡眠，有天才的感觉了 \n",
       "10                        心态又有点崩了#武汉封城后的市民生活##武汉肺炎# 武汉 \n",
       "11    #武汉求助# #武汉肺炎# 这一切都跟梦一样！不真实！你以为事情在向好的方向发展时，世界就突...\n",
       "12    #武汉肺炎# 肺炎患者求助超话 新型肺炎超话 肺炎患者求助超话 突然发现同学确诊了，真的希望...\n",
       "13    有没有武汉保利蓝海郡的人帮忙 猫快饿死了 物业死也不让开锁的人进 快帮帮忙吧#武汉##武汉肺...\n",
       "14    鼠年初十一，玉泉山脚下的玉东园，前几年新建的公园，是北坞村整体拆迁后重新规划的公园，是当年皇...\n",
       "15              #武汉肺炎# 发现是我的同学求大家帮忙关注一下吧肺炎患者求助超话 新型肺炎超话\n",
       "16    #武汉封城##自如免租# #自如# @武汉同城会 @武汉同城 @乐活武汉 @武汉市住房保障和...\n",
       "17    今天开始，真正感觉到了#武汉肺炎# 的威胁了。附近两个小区分别发现两个确诊病例。他们是进超市...\n",
       "18                #武汉肺炎# #全国确诊新型肺炎病例# 大学同学的同学，看着好心痛啊加油啊\n",
       "19    #武汉肺炎##江城故事##世界另一面# 美国到底帮了中国没？武汉协和医院的20万口罩究竟是谁...\n",
       "20    在电视新闻里看到老同学也去支援武汉了，为他的奉献精神点赞👍，希望老同学能保护好自己，平安回来...\n",
       "21    【沒談武漢肺炎衰遭陸網友譙 賈靜雯打點滴發聲了】网页链接#武汉肺炎# 肆虐，許多明星跟著宣導...\n",
       "22       #武汉肺炎##志愿者##何辉##跟新浪看热点#  武汉一志愿者何辉感染新冠病毒去世网页链接 \n",
       "23    肺炎患者求助超话#肺炎患者求助超话#肺炎患者求助超话肺炎患者求助超话 【求助帖】发帖人是我的...\n",
       "24    我们是湖北周边随州地区，武汉回来的人特别多，今天才有人来测体温，然后说我们很早回来的人不登记...\n",
       "25    在昨日股市大跌的大趋势下，有一类股票却逆市上扬，那就是医药类股票。在如今这样的大环境下，我们...\n",
       "26                武汉吧友想象力十足，要把病毒吃掉#新型冠状病毒##武汉肺炎##今天立春# \n",
       "27                          【国内疫情最新数据】#武汉肺炎# 2月4日19:30 \n",
       "28    肺炎超话#比利时新型肺炎疫情# @梨视频 【#比利时确诊首例新冠病毒肺炎患者#：#从武汉撤侨...\n",
       "29    做出巨大牺牲是主动语态，实际上是无可奈何的死去，民众是知情权未受保障下的荼毒生灵。@投行老人...\n",
       "30    （照片：@欲伴小夜曲 ）“从仙界吹来的风把湖面熨帖成镜此刻需要一位仙女把人间的不值得都变成欢...\n",
       "31                          🙏🙏🙏除一切苦#武汉加油##武汉肺炎##书写的力量# \n",
       "32    请疫情放过我们涉县吧，我们涉县人吃抿阶、饸饹、锅贴，野味最多也就吃个柿饼、核桃跟黑枣。。#涉...\n",
       "33    小伙伴门有没有物流还可以邮寄口罩的[撇嘴]想寄个4盒200个这样回国内给家里人会被扣吗[流泪...\n",
       "34    肺炎超话#共同抗疫# @人民日报海外版-海外网 【七旬阿婆捡垃圾为生 #阿婆攒9000元欲捐...\n",
       "35    #正式开学前不要提前网上教学# 教育部发这样的提醒，多此一举！在当前#武汉肺炎# 严重时期，...\n",
       "36                #玉林爆料##南宁爆料##武汉肺炎# 体温：37℃身体状况：感冒轻微咳嗽 \n",
       "37     真讽刺，朋友圈看到的，全国都在驰援武汉，武汉还能对外发口罩，呵呵#武汉肺炎# #新型冠状病毒# \n",
       "Name: text, dtype: object"
      ]
     },
     "execution_count": 15,
     "metadata": {},
     "output_type": "execute_result"
    }
   ],
   "source": [
    "from bs4 import BeautifulSoup\n",
    "\n",
    "def parseArticle(e):\n",
    "    soup = BeautifulSoup(e, 'lxml')\n",
    "    return soup.text\n",
    "\n",
    "df['text'].map(parseArticle)"
   ]
  },
  {
   "cell_type": "code",
   "execution_count": null,
   "metadata": {},
   "outputs": [],
   "source": []
  }
 ],
 "metadata": {
  "kernelspec": {
   "display_name": "Python 3",
   "language": "python",
   "name": "python3"
  },
  "language_info": {
   "codemirror_mode": {
    "name": "ipython",
    "version": 3
   },
   "file_extension": ".py",
   "mimetype": "text/x-python",
   "name": "python",
   "nbconvert_exporter": "python",
   "pygments_lexer": "ipython3",
   "version": "3.6.2"
  }
 },
 "nbformat": 4,
 "nbformat_minor": 2
}
