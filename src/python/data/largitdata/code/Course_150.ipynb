{
 "cells": [
  {
   "cell_type": "markdown",
   "id": "ebe964b0",
   "metadata": {},
   "source": [
    "## 安裝 Playwright"
   ]
  },
  {
   "cell_type": "code",
   "execution_count": 10,
   "id": "468483dc",
   "metadata": {},
   "outputs": [
    {
     "name": "stdout",
     "output_type": "stream",
     "text": [
      "Requirement already satisfied: playwright in /Users/david/.pyenv/versions/3.8.10/lib/python3.8/site-packages (1.15.3)\n",
      "Requirement already satisfied: typing-extensions in /Users/david/.pyenv/versions/3.8.10/lib/python3.8/site-packages (from playwright) (3.7.4.3)\n",
      "Requirement already satisfied: pyee>=8.0.1 in /Users/david/.pyenv/versions/3.8.10/lib/python3.8/site-packages (from playwright) (8.2.2)\n",
      "Requirement already satisfied: websockets>=8.1 in /Users/david/.pyenv/versions/3.8.10/lib/python3.8/site-packages (from playwright) (9.1)\n",
      "Requirement already satisfied: greenlet>=1.0.0 in /Users/david/.pyenv/versions/3.8.10/lib/python3.8/site-packages (from playwright) (1.1.0)\n",
      "\u001b[33mWARNING: You are using pip version 21.1.1; however, version 21.3.1 is available.\n",
      "You should consider upgrading via the '/Users/david/.pyenv/versions/3.8.10/bin/python3.8 -m pip install --upgrade pip' command.\u001b[0m\n"
     ]
    }
   ],
   "source": [
    "! pip install playwright"
   ]
  },
  {
   "cell_type": "markdown",
   "id": "6bd1573e",
   "metadata": {},
   "source": [
    "## 安裝瀏覽器驅動檔案"
   ]
  },
  {
   "cell_type": "code",
   "execution_count": 11,
   "id": "9037bee1",
   "metadata": {},
   "outputs": [],
   "source": [
    "! python -m playwright install"
   ]
  },
  {
   "cell_type": "markdown",
   "id": "7a7d4dfe",
   "metadata": {},
   "source": [
    "## 錄製 Python 腳本"
   ]
  },
  {
   "cell_type": "code",
   "execution_count": 12,
   "id": "0f667f3f",
   "metadata": {},
   "outputs": [],
   "source": [
    "! python -m playwright codegen"
   ]
  },
  {
   "cell_type": "code",
   "execution_count": 5,
   "id": "5cf641b2",
   "metadata": {},
   "outputs": [],
   "source": [
    "# chromium\n",
    "! python -m playwright codegen -b chromium"
   ]
  },
  {
   "cell_type": "markdown",
   "id": "106873bc",
   "metadata": {},
   "source": [
    "## 指定網址與腳本寫入目的檔案"
   ]
  },
  {
   "cell_type": "code",
   "execution_count": 15,
   "id": "7557bdab",
   "metadata": {},
   "outputs": [],
   "source": [
    "! python -m playwright codegen --target python -o shopee.py -b webkit https://shopee.tw/\n"
   ]
  },
  {
   "cell_type": "markdown",
   "id": "e4a9f84e",
   "metadata": {},
   "source": [
    "## 執行爬蟲程式"
   ]
  },
  {
   "cell_type": "code",
   "execution_count": 17,
   "id": "53507dd0",
   "metadata": {},
   "outputs": [],
   "source": [
    "! python shopee.py"
   ]
  },
  {
   "cell_type": "code",
   "execution_count": null,
   "id": "76f2fe5d",
   "metadata": {},
   "outputs": [],
   "source": []
  }
 ],
 "metadata": {
  "kernelspec": {
   "display_name": "Python 3 (ipykernel)",
   "language": "python",
   "name": "python3"
  },
  "language_info": {
   "codemirror_mode": {
    "name": "ipython",
    "version": 3
   },
   "file_extension": ".py",
   "mimetype": "text/x-python",
   "name": "python",
   "nbconvert_exporter": "python",
   "pygments_lexer": "ipython3",
   "version": "3.8.10"
  }
 },
 "nbformat": 4,
 "nbformat_minor": 5
}
