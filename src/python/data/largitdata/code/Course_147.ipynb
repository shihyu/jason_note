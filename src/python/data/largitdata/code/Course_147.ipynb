{
 "cells": [
  {
   "cell_type": "code",
   "execution_count": 15,
   "id": "e19bd58d",
   "metadata": {},
   "outputs": [],
   "source": [
    "from selenium import webdriver\n",
    "driver = webdriver.Chrome('/opt/local/common/chromedriver')"
   ]
  },
  {
   "cell_type": "code",
   "execution_count": 16,
   "id": "77cdbcb2",
   "metadata": {},
   "outputs": [],
   "source": [
    "driver.get('https://momoshop.com.tw')"
   ]
  },
  {
   "cell_type": "code",
   "execution_count": 4,
   "id": "6872f476",
   "metadata": {},
   "outputs": [],
   "source": [
    "import json\n",
    "cookie = driver.get_cookies()\n",
    "with open('momo.json', 'w') as f:\n",
    "    f.write(json.dumps(cookie))"
   ]
  },
  {
   "cell_type": "code",
   "execution_count": 6,
   "id": "9fbcbbff",
   "metadata": {},
   "outputs": [],
   "source": [
    "#! head momo.json"
   ]
  },
  {
   "cell_type": "code",
   "execution_count": 17,
   "id": "3e59977d",
   "metadata": {},
   "outputs": [],
   "source": [
    "with open('momo.json', 'r') as f:\n",
    "    data = json.loads(f.read())"
   ]
  },
  {
   "cell_type": "code",
   "execution_count": 18,
   "id": "3b92badd",
   "metadata": {},
   "outputs": [],
   "source": [
    "for c in data:\n",
    "    #print(c)\n",
    "    driver.add_cookie(c)\n",
    "driver.refresh()"
   ]
  },
  {
   "cell_type": "code",
   "execution_count": null,
   "id": "017d2a95",
   "metadata": {},
   "outputs": [],
   "source": []
  }
 ],
 "metadata": {
  "kernelspec": {
   "display_name": "Python 3",
   "language": "python",
   "name": "python3"
  },
  "language_info": {
   "codemirror_mode": {
    "name": "ipython",
    "version": 3
   },
   "file_extension": ".py",
   "mimetype": "text/x-python",
   "name": "python",
   "nbconvert_exporter": "python",
   "pygments_lexer": "ipython3",
   "version": "3.7.3"
  }
 },
 "nbformat": 4,
 "nbformat_minor": 5
}
