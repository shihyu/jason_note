{
 "cells": [
  {
   "cell_type": "code",
   "execution_count": 21,
   "metadata": {},
   "outputs": [],
   "source": [
    "from selenium import webdriver\n",
    "driver = webdriver.Chrome('./chromedriver')\n",
    "driver.get('https://www.google.com')"
   ]
  },
  {
   "cell_type": "code",
   "execution_count": 22,
   "metadata": {},
   "outputs": [],
   "source": [
    "q  = driver.find_element_by_name('q')\n",
    "q.send_keys('大數軟體')"
   ]
  },
  {
   "cell_type": "code",
   "execution_count": 23,
   "metadata": {},
   "outputs": [],
   "source": [
    "from selenium.webdriver.common.keys import Keys\n",
    "q.send_keys(Keys.RETURN)"
   ]
  },
  {
   "cell_type": "code",
   "execution_count": 25,
   "metadata": {},
   "outputs": [],
   "source": [
    "from bs4 import BeautifulSoup\n",
    "soup = BeautifulSoup(driver.page_source, 'lxml')"
   ]
  },
  {
   "cell_type": "code",
   "execution_count": 27,
   "metadata": {},
   "outputs": [
    {
     "name": "stdout",
     "output_type": "stream",
     "text": [
      "大數軟體有限公司＜公司簡介及所有工作機會＞  104人力銀行\n",
      "LargitData- 大數軟體有限公司\n",
      "大數軟體LargitData - 優質新創人才招募中 - Yourator\n",
      "大數軟體有限公司- YouTube\n",
      "[Meet創業之星] 輿情分析系統LargitData，幫企業贏得先機｜數位時代\n",
      "大數軟體有限公司｜ MeetHub - 數位時代\n",
      "LargitData - 大數軟體- 首頁| Facebook\n",
      "大數召喚大數據助柯P勝選| 隱型冠軍| 產業| 經濟日報\n",
      "丘祐瑋- 如何從輿情大數據探索企業間秘密關係- 2017 台灣人工智慧年會 ...\n",
      "大數軟體有限公司- LargitData Jobs – CakeResume\n"
     ]
    }
   ],
   "source": [
    "for ele in soup.select('#rso h3 a'):\n",
    "    print(ele.text)"
   ]
  },
  {
   "cell_type": "code",
   "execution_count": 29,
   "metadata": {},
   "outputs": [],
   "source": [
    "driver.find_element_by_link_text('下一頁').click()"
   ]
  },
  {
   "cell_type": "code",
   "execution_count": null,
   "metadata": {},
   "outputs": [],
   "source": [
    "import time\n",
    "for p in range(3):\n",
    "    driver.find_element_by_link_text('下一頁').click()\n",
    "    soup = BeautifulSoup(driver.page_source, 'lxml')\n",
    "    for ele in soup.select('#rso h3 a'):\n",
    "        print(ele.text)\n",
    "    time.sleep(1)"
   ]
  }
 ],
 "metadata": {
  "kernelspec": {
   "display_name": "Python 3",
   "language": "python",
   "name": "python3"
  },
  "language_info": {
   "codemirror_mode": {
    "name": "ipython",
    "version": 3
   },
   "file_extension": ".py",
   "mimetype": "text/x-python",
   "name": "python",
   "nbconvert_exporter": "python",
   "pygments_lexer": "ipython3",
   "version": "3.6.2"
  }
 },
 "nbformat": 4,
 "nbformat_minor": 2
}
