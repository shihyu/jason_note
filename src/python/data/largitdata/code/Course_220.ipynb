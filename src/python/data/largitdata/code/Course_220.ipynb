{
 "cells": [
  {
   "cell_type": "markdown",
   "id": "3ce81905",
   "metadata": {},
   "source": [
    "## 指定Token"
   ]
  },
  {
   "cell_type": "code",
   "execution_count": 10,
   "id": "af391bb6",
   "metadata": {},
   "outputs": [],
   "source": [
    "TOKEN = '<SECRET KEY>'"
   ]
  },
  {
   "cell_type": "markdown",
   "id": "c951689d",
   "metadata": {},
   "source": [
    "## 使用yt-dlp 下載 Youtube 影片"
   ]
  },
  {
   "cell_type": "code",
   "execution_count": 2,
   "id": "c6b0faee",
   "metadata": {},
   "outputs": [
    {
     "name": "stdout",
     "output_type": "stream",
     "text": [
      "Requirement already satisfied: yt-dlp in /Users/david/.pyenv/versions/3.8.10/lib/python3.8/site-packages (2023.3.3)\n",
      "Requirement already satisfied: certifi in /Users/david/.pyenv/versions/3.8.10/lib/python3.8/site-packages (from yt-dlp) (2022.12.7)\n",
      "Requirement already satisfied: websockets in /Users/david/.pyenv/versions/3.8.10/lib/python3.8/site-packages (from yt-dlp) (9.1)\n",
      "Requirement already satisfied: pycryptodomex in /Users/david/.pyenv/versions/3.8.10/lib/python3.8/site-packages (from yt-dlp) (3.17)\n",
      "Requirement already satisfied: mutagen in /Users/david/.pyenv/versions/3.8.10/lib/python3.8/site-packages (from yt-dlp) (1.45.1)\n",
      "Requirement already satisfied: brotli in /Users/david/.pyenv/versions/3.8.10/lib/python3.8/site-packages (from yt-dlp) (1.0.9)\n",
      "\n",
      "\u001b[1m[\u001b[0m\u001b[34;49mnotice\u001b[0m\u001b[1;39;49m]\u001b[0m\u001b[39;49m A new release of pip is available: \u001b[0m\u001b[31;49m23.0\u001b[0m\u001b[39;49m -> \u001b[0m\u001b[32;49m23.0.1\u001b[0m\n",
      "\u001b[1m[\u001b[0m\u001b[34;49mnotice\u001b[0m\u001b[1;39;49m]\u001b[0m\u001b[39;49m To update, run: \u001b[0m\u001b[32;49mpip install --upgrade pip\u001b[0m\n"
     ]
    }
   ],
   "source": [
    "!pip install yt-dlp"
   ]
  },
  {
   "cell_type": "code",
   "execution_count": 7,
   "id": "d2b380ae",
   "metadata": {},
   "outputs": [
    {
     "name": "stdout",
     "output_type": "stream",
     "text": [
      "[youtube] Extracting URL: https://www.youtube.com/watch?v=PRp3kJtMQwU\n",
      "[youtube] PRp3kJtMQwU: Downloading webpage\n",
      "[youtube] PRp3kJtMQwU: Downloading android player API JSON\n",
      "[info] PRp3kJtMQwU: Downloading 1 format(s): 251\n",
      "[dashsegments] Total fragments: 3\n",
      "[download] Destination: joeman\n",
      "[download] 100% of   22.96MiB in 00:00:02 at 9.26MiB/s               \n",
      "[ExtractAudio] Destination: joeman.mp3\n",
      "Deleting original file joeman (pass -k to keep)\n"
     ]
    }
   ],
   "source": [
    "import yt_dlp\n",
    "\n",
    "# 設定選項\n",
    "ydl_opts = {\n",
    "    'format': 'bestaudio/best',\n",
    "    'outtmpl': 'joeman',\n",
    "    'postprocessors': [{\n",
    "        'key': 'FFmpegExtractAudio',\n",
    "        'preferredcodec': 'mp3',\n",
    "        'preferredquality': '192',\n",
    "    }],\n",
    "}\n",
    "\n",
    "# 填入影片的URL\n",
    "url = 'https://www.youtube.com/watch?v=PRp3kJtMQwU'\n",
    "\n",
    "# 建立 yt_dlp 下載器物件\n",
    "with yt_dlp.YoutubeDL(ydl_opts) as ydl:\n",
    "    ydl.download([url])\n"
   ]
  },
  {
   "cell_type": "code",
   "execution_count": 8,
   "id": "68e44d84",
   "metadata": {},
   "outputs": [],
   "source": [
    "! open joeman.mp3"
   ]
  },
  {
   "cell_type": "markdown",
   "id": "14845aae",
   "metadata": {},
   "source": [
    "## 使用Whisper API 將音檔轉換成文字"
   ]
  },
  {
   "cell_type": "code",
   "execution_count": 18,
   "id": "6a7c8397",
   "metadata": {},
   "outputs": [
    {
     "name": "stdout",
     "output_type": "stream",
     "text": [
      "Collecting openai\n",
      "  Downloading openai-0.27.0-py3-none-any.whl (70 kB)\n",
      "\u001b[2K     \u001b[90m━━━━━━━━━━━━━━━━━━━━━━━━━━━━━━━━━━━━━━━\u001b[0m \u001b[32m70.1/70.1 kB\u001b[0m \u001b[31m678.6 kB/s\u001b[0m eta \u001b[36m0:00:00\u001b[0ma \u001b[36m0:00:01\u001b[0m\n",
      "\u001b[?25hRequirement already satisfied: requests>=2.20 in /Users/david/.pyenv/versions/3.8.10/lib/python3.8/site-packages (from openai) (2.26.0)\n",
      "Requirement already satisfied: tqdm in /Users/david/.pyenv/versions/3.8.10/lib/python3.8/site-packages (from openai) (4.62.3)\n",
      "Requirement already satisfied: aiohttp in /Users/david/.pyenv/versions/3.8.10/lib/python3.8/site-packages (from openai) (3.8.1)\n",
      "Requirement already satisfied: urllib3<1.27,>=1.21.1 in /Users/david/.pyenv/versions/3.8.10/lib/python3.8/site-packages (from requests>=2.20->openai) (1.26.6)\n",
      "Requirement already satisfied: certifi>=2017.4.17 in /Users/david/.pyenv/versions/3.8.10/lib/python3.8/site-packages (from requests>=2.20->openai) (2022.12.7)\n",
      "Requirement already satisfied: idna<4,>=2.5 in /Users/david/.pyenv/versions/3.8.10/lib/python3.8/site-packages (from requests>=2.20->openai) (3.2)\n",
      "Requirement already satisfied: charset-normalizer~=2.0.0 in /Users/david/.pyenv/versions/3.8.10/lib/python3.8/site-packages (from requests>=2.20->openai) (2.0.4)\n",
      "Requirement already satisfied: yarl<2.0,>=1.0 in /Users/david/.pyenv/versions/3.8.10/lib/python3.8/site-packages (from aiohttp->openai) (1.7.2)\n",
      "Requirement already satisfied: multidict<7.0,>=4.5 in /Users/david/.pyenv/versions/3.8.10/lib/python3.8/site-packages (from aiohttp->openai) (5.1.0)\n",
      "Requirement already satisfied: async-timeout<5.0,>=4.0.0a3 in /Users/david/.pyenv/versions/3.8.10/lib/python3.8/site-packages (from aiohttp->openai) (4.0.2)\n",
      "Requirement already satisfied: aiosignal>=1.1.2 in /Users/david/.pyenv/versions/3.8.10/lib/python3.8/site-packages (from aiohttp->openai) (1.2.0)\n",
      "Requirement already satisfied: frozenlist>=1.1.1 in /Users/david/.pyenv/versions/3.8.10/lib/python3.8/site-packages (from aiohttp->openai) (1.3.0)\n",
      "Requirement already satisfied: attrs>=17.3.0 in /Users/david/.pyenv/versions/3.8.10/lib/python3.8/site-packages (from aiohttp->openai) (21.2.0)\n",
      "Installing collected packages: openai\n",
      "Successfully installed openai-0.27.0\n",
      "\n",
      "\u001b[1m[\u001b[0m\u001b[34;49mnotice\u001b[0m\u001b[1;39;49m]\u001b[0m\u001b[39;49m A new release of pip is available: \u001b[0m\u001b[31;49m23.0\u001b[0m\u001b[39;49m -> \u001b[0m\u001b[32;49m23.0.1\u001b[0m\n",
      "\u001b[1m[\u001b[0m\u001b[34;49mnotice\u001b[0m\u001b[1;39;49m]\u001b[0m\u001b[39;49m To update, run: \u001b[0m\u001b[32;49mpip install --upgrade pip\u001b[0m\n"
     ]
    }
   ],
   "source": [
    "! pip install openai"
   ]
  },
  {
   "cell_type": "code",
   "execution_count": 21,
   "id": "de9e1313",
   "metadata": {},
   "outputs": [
    {
     "ename": "APIError",
     "evalue": "Maximum content size limit (26214400) exceeded (33891014 bytes read) {\n  \"error\": {\n    \"message\": \"Maximum content size limit (26214400) exceeded (33891014 bytes read)\",\n    \"type\": \"server_error\",\n    \"param\": null,\n    \"code\": null\n  }\n} 413 {'error': {'message': 'Maximum content size limit (26214400) exceeded (33891014 bytes read)', 'type': 'server_error', 'param': None, 'code': None}} {'Date': 'Sun, 05 Mar 2023 08:20:56 GMT', 'Content-Type': 'application/json', 'Content-Length': '171', 'Connection': 'keep-alive', 'Openai-Processing-Ms': '319', 'Openai-Version': '2020-10-01', 'Strict-Transport-Security': 'max-age=15724800; includeSubDomains', 'X-Request-Id': 'c10abcb8a9246d448d2cbee97163fba3'}",
     "output_type": "error",
     "traceback": [
      "\u001b[0;31m---------------------------------------------------------------------------\u001b[0m",
      "\u001b[0;31mAPIError\u001b[0m                                  Traceback (most recent call last)",
      "\u001b[0;32m/var/folders/21/1tszsz8n1vdd79rbhmdnwwqc0000gn/T/ipykernel_22649/4094861207.py\u001b[0m in \u001b[0;36m<module>\u001b[0;34m\u001b[0m\n\u001b[1;32m      3\u001b[0m \u001b[0mopenai\u001b[0m\u001b[0;34m.\u001b[0m\u001b[0mapi_key\u001b[0m \u001b[0;34m=\u001b[0m \u001b[0mTOKEN\u001b[0m\u001b[0;34m\u001b[0m\u001b[0;34m\u001b[0m\u001b[0m\n\u001b[1;32m      4\u001b[0m \u001b[0maudio_file\u001b[0m \u001b[0;34m=\u001b[0m \u001b[0mopen\u001b[0m\u001b[0;34m(\u001b[0m\u001b[0;34m\"joeman.mp3\"\u001b[0m\u001b[0;34m,\u001b[0m \u001b[0;34m\"rb\"\u001b[0m\u001b[0;34m)\u001b[0m\u001b[0;34m\u001b[0m\u001b[0;34m\u001b[0m\u001b[0m\n\u001b[0;32m----> 5\u001b[0;31m \u001b[0mtranscript\u001b[0m \u001b[0;34m=\u001b[0m \u001b[0mopenai\u001b[0m\u001b[0;34m.\u001b[0m\u001b[0mAudio\u001b[0m\u001b[0;34m.\u001b[0m\u001b[0mtranscribe\u001b[0m\u001b[0;34m(\u001b[0m\u001b[0;34m\"whisper-1\"\u001b[0m\u001b[0;34m,\u001b[0m \u001b[0maudio_file\u001b[0m\u001b[0;34m)\u001b[0m\u001b[0;34m\u001b[0m\u001b[0;34m\u001b[0m\u001b[0m\n\u001b[0m",
      "\u001b[0;32m~/.pyenv/versions/3.8.10/lib/python3.8/site-packages/openai/api_resources/audio.py\u001b[0m in \u001b[0;36mtranscribe\u001b[0;34m(cls, model, file, api_key, api_base, api_type, api_version, organization, **params)\u001b[0m\n\u001b[1;32m     55\u001b[0m         \u001b[0mrequestor\u001b[0m\u001b[0;34m,\u001b[0m \u001b[0mfiles\u001b[0m\u001b[0;34m,\u001b[0m \u001b[0mdata\u001b[0m \u001b[0;34m=\u001b[0m \u001b[0mcls\u001b[0m\u001b[0;34m.\u001b[0m\u001b[0m_prepare_request\u001b[0m\u001b[0;34m(\u001b[0m\u001b[0mfile\u001b[0m\u001b[0;34m,\u001b[0m \u001b[0mfile\u001b[0m\u001b[0;34m.\u001b[0m\u001b[0mname\u001b[0m\u001b[0;34m,\u001b[0m \u001b[0mmodel\u001b[0m\u001b[0;34m,\u001b[0m \u001b[0;34m**\u001b[0m\u001b[0mparams\u001b[0m\u001b[0;34m)\u001b[0m\u001b[0;34m\u001b[0m\u001b[0;34m\u001b[0m\u001b[0m\n\u001b[1;32m     56\u001b[0m         \u001b[0murl\u001b[0m \u001b[0;34m=\u001b[0m \u001b[0mcls\u001b[0m\u001b[0;34m.\u001b[0m\u001b[0m_get_url\u001b[0m\u001b[0;34m(\u001b[0m\u001b[0;34m\"transcriptions\"\u001b[0m\u001b[0;34m)\u001b[0m\u001b[0;34m\u001b[0m\u001b[0;34m\u001b[0m\u001b[0m\n\u001b[0;32m---> 57\u001b[0;31m         \u001b[0mresponse\u001b[0m\u001b[0;34m,\u001b[0m \u001b[0m_\u001b[0m\u001b[0;34m,\u001b[0m \u001b[0mapi_key\u001b[0m \u001b[0;34m=\u001b[0m \u001b[0mrequestor\u001b[0m\u001b[0;34m.\u001b[0m\u001b[0mrequest\u001b[0m\u001b[0;34m(\u001b[0m\u001b[0;34m\"post\"\u001b[0m\u001b[0;34m,\u001b[0m \u001b[0murl\u001b[0m\u001b[0;34m,\u001b[0m \u001b[0mfiles\u001b[0m\u001b[0;34m=\u001b[0m\u001b[0mfiles\u001b[0m\u001b[0;34m,\u001b[0m \u001b[0mparams\u001b[0m\u001b[0;34m=\u001b[0m\u001b[0mdata\u001b[0m\u001b[0;34m)\u001b[0m\u001b[0;34m\u001b[0m\u001b[0;34m\u001b[0m\u001b[0m\n\u001b[0m\u001b[1;32m     58\u001b[0m         return util.convert_to_openai_object(\n\u001b[1;32m     59\u001b[0m             \u001b[0mresponse\u001b[0m\u001b[0;34m,\u001b[0m \u001b[0mapi_key\u001b[0m\u001b[0;34m,\u001b[0m \u001b[0mapi_version\u001b[0m\u001b[0;34m,\u001b[0m \u001b[0morganization\u001b[0m\u001b[0;34m\u001b[0m\u001b[0;34m\u001b[0m\u001b[0m\n",
      "\u001b[0;32m~/.pyenv/versions/3.8.10/lib/python3.8/site-packages/openai/api_requestor.py\u001b[0m in \u001b[0;36mrequest\u001b[0;34m(self, method, url, params, headers, files, stream, request_id, request_timeout)\u001b[0m\n\u001b[1;32m    224\u001b[0m             \u001b[0mrequest_timeout\u001b[0m\u001b[0;34m=\u001b[0m\u001b[0mrequest_timeout\u001b[0m\u001b[0;34m,\u001b[0m\u001b[0;34m\u001b[0m\u001b[0;34m\u001b[0m\u001b[0m\n\u001b[1;32m    225\u001b[0m         )\n\u001b[0;32m--> 226\u001b[0;31m         \u001b[0mresp\u001b[0m\u001b[0;34m,\u001b[0m \u001b[0mgot_stream\u001b[0m \u001b[0;34m=\u001b[0m \u001b[0mself\u001b[0m\u001b[0;34m.\u001b[0m\u001b[0m_interpret_response\u001b[0m\u001b[0;34m(\u001b[0m\u001b[0mresult\u001b[0m\u001b[0;34m,\u001b[0m \u001b[0mstream\u001b[0m\u001b[0;34m)\u001b[0m\u001b[0;34m\u001b[0m\u001b[0;34m\u001b[0m\u001b[0m\n\u001b[0m\u001b[1;32m    227\u001b[0m         \u001b[0;32mreturn\u001b[0m \u001b[0mresp\u001b[0m\u001b[0;34m,\u001b[0m \u001b[0mgot_stream\u001b[0m\u001b[0;34m,\u001b[0m \u001b[0mself\u001b[0m\u001b[0;34m.\u001b[0m\u001b[0mapi_key\u001b[0m\u001b[0;34m\u001b[0m\u001b[0;34m\u001b[0m\u001b[0m\n\u001b[1;32m    228\u001b[0m \u001b[0;34m\u001b[0m\u001b[0m\n",
      "\u001b[0;32m~/.pyenv/versions/3.8.10/lib/python3.8/site-packages/openai/api_requestor.py\u001b[0m in \u001b[0;36m_interpret_response\u001b[0;34m(self, result, stream)\u001b[0m\n\u001b[1;32m    617\u001b[0m         \u001b[0;32melse\u001b[0m\u001b[0;34m:\u001b[0m\u001b[0;34m\u001b[0m\u001b[0;34m\u001b[0m\u001b[0m\n\u001b[1;32m    618\u001b[0m             return (\n\u001b[0;32m--> 619\u001b[0;31m                 self._interpret_response_line(\n\u001b[0m\u001b[1;32m    620\u001b[0m                     \u001b[0mresult\u001b[0m\u001b[0;34m.\u001b[0m\u001b[0mcontent\u001b[0m\u001b[0;34m.\u001b[0m\u001b[0mdecode\u001b[0m\u001b[0;34m(\u001b[0m\u001b[0;34m\"utf-8\"\u001b[0m\u001b[0;34m)\u001b[0m\u001b[0;34m,\u001b[0m\u001b[0;34m\u001b[0m\u001b[0;34m\u001b[0m\u001b[0m\n\u001b[1;32m    621\u001b[0m                     \u001b[0mresult\u001b[0m\u001b[0;34m.\u001b[0m\u001b[0mstatus_code\u001b[0m\u001b[0;34m,\u001b[0m\u001b[0;34m\u001b[0m\u001b[0;34m\u001b[0m\u001b[0m\n",
      "\u001b[0;32m~/.pyenv/versions/3.8.10/lib/python3.8/site-packages/openai/api_requestor.py\u001b[0m in \u001b[0;36m_interpret_response_line\u001b[0;34m(self, rbody, rcode, rheaders, stream)\u001b[0m\n\u001b[1;32m    677\u001b[0m         \u001b[0mstream_error\u001b[0m \u001b[0;34m=\u001b[0m \u001b[0mstream\u001b[0m \u001b[0;32mand\u001b[0m \u001b[0;34m\"error\"\u001b[0m \u001b[0;32min\u001b[0m \u001b[0mresp\u001b[0m\u001b[0;34m.\u001b[0m\u001b[0mdata\u001b[0m\u001b[0;34m\u001b[0m\u001b[0;34m\u001b[0m\u001b[0m\n\u001b[1;32m    678\u001b[0m         \u001b[0;32mif\u001b[0m \u001b[0mstream_error\u001b[0m \u001b[0;32mor\u001b[0m \u001b[0;32mnot\u001b[0m \u001b[0;36m200\u001b[0m \u001b[0;34m<=\u001b[0m \u001b[0mrcode\u001b[0m \u001b[0;34m<\u001b[0m \u001b[0;36m300\u001b[0m\u001b[0;34m:\u001b[0m\u001b[0;34m\u001b[0m\u001b[0;34m\u001b[0m\u001b[0m\n\u001b[0;32m--> 679\u001b[0;31m             raise self.handle_error_response(\n\u001b[0m\u001b[1;32m    680\u001b[0m                 \u001b[0mrbody\u001b[0m\u001b[0;34m,\u001b[0m \u001b[0mrcode\u001b[0m\u001b[0;34m,\u001b[0m \u001b[0mresp\u001b[0m\u001b[0;34m.\u001b[0m\u001b[0mdata\u001b[0m\u001b[0;34m,\u001b[0m \u001b[0mrheaders\u001b[0m\u001b[0;34m,\u001b[0m \u001b[0mstream_error\u001b[0m\u001b[0;34m=\u001b[0m\u001b[0mstream_error\u001b[0m\u001b[0;34m\u001b[0m\u001b[0;34m\u001b[0m\u001b[0m\n\u001b[1;32m    681\u001b[0m             )\n",
      "\u001b[0;31mAPIError\u001b[0m: Maximum content size limit (26214400) exceeded (33891014 bytes read) {\n  \"error\": {\n    \"message\": \"Maximum content size limit (26214400) exceeded (33891014 bytes read)\",\n    \"type\": \"server_error\",\n    \"param\": null,\n    \"code\": null\n  }\n} 413 {'error': {'message': 'Maximum content size limit (26214400) exceeded (33891014 bytes read)', 'type': 'server_error', 'param': None, 'code': None}} {'Date': 'Sun, 05 Mar 2023 08:20:56 GMT', 'Content-Type': 'application/json', 'Content-Length': '171', 'Connection': 'keep-alive', 'Openai-Processing-Ms': '319', 'Openai-Version': '2020-10-01', 'Strict-Transport-Security': 'max-age=15724800; includeSubDomains', 'X-Request-Id': 'c10abcb8a9246d448d2cbee97163fba3'}"
     ]
    }
   ],
   "source": [
    "import os\n",
    "import openai\n",
    "openai.api_key = TOKEN\n",
    "audio_file = open(\"joeman.mp3\", \"rb\")\n",
    "transcript = openai.Audio.transcribe(\"whisper-1\", audio_file)\n"
   ]
  },
  {
   "cell_type": "markdown",
   "id": "5a519e1d",
   "metadata": {},
   "source": [
    "## 使用pydub  分割音檔"
   ]
  },
  {
   "cell_type": "code",
   "execution_count": 33,
   "id": "44f4e586",
   "metadata": {},
   "outputs": [
    {
     "name": "stdout",
     "output_type": "stream",
     "text": [
      "Requirement already satisfied: pydub in /Users/david/.pyenv/versions/3.8.10/lib/python3.8/site-packages (0.25.1)\n",
      "\n",
      "\u001b[1m[\u001b[0m\u001b[34;49mnotice\u001b[0m\u001b[1;39;49m]\u001b[0m\u001b[39;49m A new release of pip is available: \u001b[0m\u001b[31;49m23.0\u001b[0m\u001b[39;49m -> \u001b[0m\u001b[32;49m23.0.1\u001b[0m\n",
      "\u001b[1m[\u001b[0m\u001b[34;49mnotice\u001b[0m\u001b[1;39;49m]\u001b[0m\u001b[39;49m To update, run: \u001b[0m\u001b[32;49mpip install --upgrade pip\u001b[0m\n"
     ]
    }
   ],
   "source": [
    "! pip install pydub"
   ]
  },
  {
   "cell_type": "code",
   "execution_count": 34,
   "id": "a308e20b",
   "metadata": {},
   "outputs": [],
   "source": [
    "from pydub import AudioSegment\n",
    "\n",
    "# 載入 MP3 音檔\n",
    "sound = AudioSegment.from_file('joeman.mp3', format='mp3')\n",
    "\n",
    "# 設定每個分割檔案的長度（單位：毫秒）\n",
    "segment_length = 1000000\n",
    "\n",
    "# 將音檔分割成多個檔案\n",
    "for i, chunk in enumerate(sound[::segment_length]):\n",
    "    # 設定分割檔案的檔名\n",
    "    chunk.export(f'output_{i}.mp3', format='mp3')\n"
   ]
  },
  {
   "cell_type": "code",
   "execution_count": 35,
   "id": "6a020c90",
   "metadata": {},
   "outputs": [],
   "source": [
    "import os\n",
    "import openai\n",
    "openai.api_key = TOKEN\n",
    "audio_file = open(\"output_0.mp3\", \"rb\")\n",
    "transcript_0 = openai.Audio.transcribe(\"whisper-1\", audio_file)\n"
   ]
  },
  {
   "cell_type": "code",
   "execution_count": 38,
   "id": "50f2bb31",
   "metadata": {},
   "outputs": [],
   "source": [
    "#transcript_0.to_dict().get('text')"
   ]
  },
  {
   "cell_type": "code",
   "execution_count": 39,
   "id": "df13821d",
   "metadata": {},
   "outputs": [],
   "source": [
    "audio_file = open(\"output_1.mp3\", \"rb\")\n",
    "transcript_1 = openai.Audio.transcribe(\"whisper-1\", audio_file)"
   ]
  },
  {
   "cell_type": "code",
   "execution_count": 41,
   "id": "bc5a0b99",
   "metadata": {},
   "outputs": [],
   "source": [
    "# transcript_1.to_dict().get('text')"
   ]
  },
  {
   "cell_type": "code",
   "execution_count": 42,
   "id": "018b0988",
   "metadata": {},
   "outputs": [],
   "source": [
    "transcript = transcript_0.to_dict().get('text') + ' ' + transcript_1.to_dict().get('text')"
   ]
  },
  {
   "cell_type": "code",
   "execution_count": 44,
   "id": "7b485e69",
   "metadata": {},
   "outputs": [],
   "source": [
    "#transcript"
   ]
  },
  {
   "cell_type": "markdown",
   "id": "b75fe125",
   "metadata": {},
   "source": [
    "## 使用 ChatGPT API  摘要文章"
   ]
  },
  {
   "cell_type": "code",
   "execution_count": 46,
   "id": "5ea67514",
   "metadata": {},
   "outputs": [
    {
     "ename": "InvalidRequestError",
     "evalue": "This model's maximum context length is 4096 tokens. However, your messages resulted in 10916 tokens. Please reduce the length of the messages.",
     "output_type": "error",
     "traceback": [
      "\u001b[0;31m---------------------------------------------------------------------------\u001b[0m",
      "\u001b[0;31mInvalidRequestError\u001b[0m                       Traceback (most recent call last)",
      "\u001b[0;32m/var/folders/21/1tszsz8n1vdd79rbhmdnwwqc0000gn/T/ipykernel_22649/3708565478.py\u001b[0m in \u001b[0;36m<module>\u001b[0;34m\u001b[0m\n\u001b[1;32m      3\u001b[0m \u001b[0mopenai\u001b[0m\u001b[0;34m.\u001b[0m\u001b[0mapi_key\u001b[0m \u001b[0;34m=\u001b[0m \u001b[0mTOKEN\u001b[0m\u001b[0;34m\u001b[0m\u001b[0;34m\u001b[0m\u001b[0m\n\u001b[1;32m      4\u001b[0m \u001b[0;34m\u001b[0m\u001b[0m\n\u001b[0;32m----> 5\u001b[0;31m completion = openai.ChatCompletion.create(\n\u001b[0m\u001b[1;32m      6\u001b[0m   \u001b[0mmodel\u001b[0m\u001b[0;34m=\u001b[0m\u001b[0;34m\"gpt-3.5-turbo\"\u001b[0m\u001b[0;34m,\u001b[0m\u001b[0;34m\u001b[0m\u001b[0;34m\u001b[0m\u001b[0m\n\u001b[1;32m      7\u001b[0m   messages=[\n",
      "\u001b[0;32m~/.pyenv/versions/3.8.10/lib/python3.8/site-packages/openai/api_resources/chat_completion.py\u001b[0m in \u001b[0;36mcreate\u001b[0;34m(cls, *args, **kwargs)\u001b[0m\n\u001b[1;32m     23\u001b[0m         \u001b[0;32mwhile\u001b[0m \u001b[0;32mTrue\u001b[0m\u001b[0;34m:\u001b[0m\u001b[0;34m\u001b[0m\u001b[0;34m\u001b[0m\u001b[0m\n\u001b[1;32m     24\u001b[0m             \u001b[0;32mtry\u001b[0m\u001b[0;34m:\u001b[0m\u001b[0;34m\u001b[0m\u001b[0;34m\u001b[0m\u001b[0m\n\u001b[0;32m---> 25\u001b[0;31m                 \u001b[0;32mreturn\u001b[0m \u001b[0msuper\u001b[0m\u001b[0;34m(\u001b[0m\u001b[0;34m)\u001b[0m\u001b[0;34m.\u001b[0m\u001b[0mcreate\u001b[0m\u001b[0;34m(\u001b[0m\u001b[0;34m*\u001b[0m\u001b[0margs\u001b[0m\u001b[0;34m,\u001b[0m \u001b[0;34m**\u001b[0m\u001b[0mkwargs\u001b[0m\u001b[0;34m)\u001b[0m\u001b[0;34m\u001b[0m\u001b[0;34m\u001b[0m\u001b[0m\n\u001b[0m\u001b[1;32m     26\u001b[0m             \u001b[0;32mexcept\u001b[0m \u001b[0mTryAgain\u001b[0m \u001b[0;32mas\u001b[0m \u001b[0me\u001b[0m\u001b[0;34m:\u001b[0m\u001b[0;34m\u001b[0m\u001b[0;34m\u001b[0m\u001b[0m\n\u001b[1;32m     27\u001b[0m                 \u001b[0;32mif\u001b[0m \u001b[0mtimeout\u001b[0m \u001b[0;32mis\u001b[0m \u001b[0;32mnot\u001b[0m \u001b[0;32mNone\u001b[0m \u001b[0;32mand\u001b[0m \u001b[0mtime\u001b[0m\u001b[0;34m.\u001b[0m\u001b[0mtime\u001b[0m\u001b[0;34m(\u001b[0m\u001b[0;34m)\u001b[0m \u001b[0;34m>\u001b[0m \u001b[0mstart\u001b[0m \u001b[0;34m+\u001b[0m \u001b[0mtimeout\u001b[0m\u001b[0;34m:\u001b[0m\u001b[0;34m\u001b[0m\u001b[0;34m\u001b[0m\u001b[0m\n",
      "\u001b[0;32m~/.pyenv/versions/3.8.10/lib/python3.8/site-packages/openai/api_resources/abstract/engine_api_resource.py\u001b[0m in \u001b[0;36mcreate\u001b[0;34m(cls, api_key, api_base, api_type, request_id, api_version, organization, **params)\u001b[0m\n\u001b[1;32m    151\u001b[0m         )\n\u001b[1;32m    152\u001b[0m \u001b[0;34m\u001b[0m\u001b[0m\n\u001b[0;32m--> 153\u001b[0;31m         response, _, api_key = requestor.request(\n\u001b[0m\u001b[1;32m    154\u001b[0m             \u001b[0;34m\"post\"\u001b[0m\u001b[0;34m,\u001b[0m\u001b[0;34m\u001b[0m\u001b[0;34m\u001b[0m\u001b[0m\n\u001b[1;32m    155\u001b[0m             \u001b[0murl\u001b[0m\u001b[0;34m,\u001b[0m\u001b[0;34m\u001b[0m\u001b[0;34m\u001b[0m\u001b[0m\n",
      "\u001b[0;32m~/.pyenv/versions/3.8.10/lib/python3.8/site-packages/openai/api_requestor.py\u001b[0m in \u001b[0;36mrequest\u001b[0;34m(self, method, url, params, headers, files, stream, request_id, request_timeout)\u001b[0m\n\u001b[1;32m    224\u001b[0m             \u001b[0mrequest_timeout\u001b[0m\u001b[0;34m=\u001b[0m\u001b[0mrequest_timeout\u001b[0m\u001b[0;34m,\u001b[0m\u001b[0;34m\u001b[0m\u001b[0;34m\u001b[0m\u001b[0m\n\u001b[1;32m    225\u001b[0m         )\n\u001b[0;32m--> 226\u001b[0;31m         \u001b[0mresp\u001b[0m\u001b[0;34m,\u001b[0m \u001b[0mgot_stream\u001b[0m \u001b[0;34m=\u001b[0m \u001b[0mself\u001b[0m\u001b[0;34m.\u001b[0m\u001b[0m_interpret_response\u001b[0m\u001b[0;34m(\u001b[0m\u001b[0mresult\u001b[0m\u001b[0;34m,\u001b[0m \u001b[0mstream\u001b[0m\u001b[0;34m)\u001b[0m\u001b[0;34m\u001b[0m\u001b[0;34m\u001b[0m\u001b[0m\n\u001b[0m\u001b[1;32m    227\u001b[0m         \u001b[0;32mreturn\u001b[0m \u001b[0mresp\u001b[0m\u001b[0;34m,\u001b[0m \u001b[0mgot_stream\u001b[0m\u001b[0;34m,\u001b[0m \u001b[0mself\u001b[0m\u001b[0;34m.\u001b[0m\u001b[0mapi_key\u001b[0m\u001b[0;34m\u001b[0m\u001b[0;34m\u001b[0m\u001b[0m\n\u001b[1;32m    228\u001b[0m \u001b[0;34m\u001b[0m\u001b[0m\n",
      "\u001b[0;32m~/.pyenv/versions/3.8.10/lib/python3.8/site-packages/openai/api_requestor.py\u001b[0m in \u001b[0;36m_interpret_response\u001b[0;34m(self, result, stream)\u001b[0m\n\u001b[1;32m    617\u001b[0m         \u001b[0;32melse\u001b[0m\u001b[0;34m:\u001b[0m\u001b[0;34m\u001b[0m\u001b[0;34m\u001b[0m\u001b[0m\n\u001b[1;32m    618\u001b[0m             return (\n\u001b[0;32m--> 619\u001b[0;31m                 self._interpret_response_line(\n\u001b[0m\u001b[1;32m    620\u001b[0m                     \u001b[0mresult\u001b[0m\u001b[0;34m.\u001b[0m\u001b[0mcontent\u001b[0m\u001b[0;34m.\u001b[0m\u001b[0mdecode\u001b[0m\u001b[0;34m(\u001b[0m\u001b[0;34m\"utf-8\"\u001b[0m\u001b[0;34m)\u001b[0m\u001b[0;34m,\u001b[0m\u001b[0;34m\u001b[0m\u001b[0;34m\u001b[0m\u001b[0m\n\u001b[1;32m    621\u001b[0m                     \u001b[0mresult\u001b[0m\u001b[0;34m.\u001b[0m\u001b[0mstatus_code\u001b[0m\u001b[0;34m,\u001b[0m\u001b[0;34m\u001b[0m\u001b[0;34m\u001b[0m\u001b[0m\n",
      "\u001b[0;32m~/.pyenv/versions/3.8.10/lib/python3.8/site-packages/openai/api_requestor.py\u001b[0m in \u001b[0;36m_interpret_response_line\u001b[0;34m(self, rbody, rcode, rheaders, stream)\u001b[0m\n\u001b[1;32m    677\u001b[0m         \u001b[0mstream_error\u001b[0m \u001b[0;34m=\u001b[0m \u001b[0mstream\u001b[0m \u001b[0;32mand\u001b[0m \u001b[0;34m\"error\"\u001b[0m \u001b[0;32min\u001b[0m \u001b[0mresp\u001b[0m\u001b[0;34m.\u001b[0m\u001b[0mdata\u001b[0m\u001b[0;34m\u001b[0m\u001b[0;34m\u001b[0m\u001b[0m\n\u001b[1;32m    678\u001b[0m         \u001b[0;32mif\u001b[0m \u001b[0mstream_error\u001b[0m \u001b[0;32mor\u001b[0m \u001b[0;32mnot\u001b[0m \u001b[0;36m200\u001b[0m \u001b[0;34m<=\u001b[0m \u001b[0mrcode\u001b[0m \u001b[0;34m<\u001b[0m \u001b[0;36m300\u001b[0m\u001b[0;34m:\u001b[0m\u001b[0;34m\u001b[0m\u001b[0;34m\u001b[0m\u001b[0m\n\u001b[0;32m--> 679\u001b[0;31m             raise self.handle_error_response(\n\u001b[0m\u001b[1;32m    680\u001b[0m                 \u001b[0mrbody\u001b[0m\u001b[0;34m,\u001b[0m \u001b[0mrcode\u001b[0m\u001b[0;34m,\u001b[0m \u001b[0mresp\u001b[0m\u001b[0;34m.\u001b[0m\u001b[0mdata\u001b[0m\u001b[0;34m,\u001b[0m \u001b[0mrheaders\u001b[0m\u001b[0;34m,\u001b[0m \u001b[0mstream_error\u001b[0m\u001b[0;34m=\u001b[0m\u001b[0mstream_error\u001b[0m\u001b[0;34m\u001b[0m\u001b[0;34m\u001b[0m\u001b[0m\n\u001b[1;32m    681\u001b[0m             )\n",
      "\u001b[0;31mInvalidRequestError\u001b[0m: This model's maximum context length is 4096 tokens. However, your messages resulted in 10916 tokens. Please reduce the length of the messages."
     ]
    }
   ],
   "source": [
    "import os\n",
    "import openai\n",
    "openai.api_key = TOKEN\n",
    "\n",
    "completion = openai.ChatCompletion.create(\n",
    "  model=\"gpt-3.5-turbo\",\n",
    "  messages=[\n",
    "    {\"role\": \"system\", \"content\": \"請你成為文章摘要的小幫手，摘要以下文字，以繁體中文輸出\"},\n",
    "    {\"role\": \"user\", \"content\": transcript}\n",
    "  ]\n",
    ")\n",
    "\n",
    "print(completion.choices[0].message)\n"
   ]
  },
  {
   "cell_type": "code",
   "execution_count": 49,
   "id": "878ade1d",
   "metadata": {},
   "outputs": [],
   "source": [
    "transcript_ary = []\n",
    "\n",
    "ret = ''\n",
    "for script in transcript.split():\n",
    "    ret = ret + ' ' + script\n",
    "    if len(ret) > 1000:\n",
    "        transcript_ary.append(ret)\n",
    "        ret = ''\n",
    "transcript_ary.append(ret)"
   ]
  },
  {
   "cell_type": "code",
   "execution_count": 50,
   "id": "243b21c8",
   "metadata": {},
   "outputs": [
    {
     "data": {
      "text/plain": [
       "9"
      ]
     },
     "execution_count": 50,
     "metadata": {},
     "output_type": "execute_result"
    }
   ],
   "source": [
    "len(transcript_ary)"
   ]
  },
  {
   "cell_type": "code",
   "execution_count": 51,
   "id": "e8820e16",
   "metadata": {},
   "outputs": [],
   "source": [
    "import os\n",
    "import openai\n",
    "openai.api_key = TOKEN\n",
    "\n",
    "result_ary = []\n",
    "\n",
    "for t in transcript_ary:\n",
    "    completion = openai.ChatCompletion.create(\n",
    "      model=\"gpt-3.5-turbo\",\n",
    "      messages=[\n",
    "        {\"role\": \"system\", \"content\": \"請你成為文章摘要的小幫手，摘要以下文字，以繁體中文輸出\"},\n",
    "        {\"role\": \"user\", \"content\": t}\n",
    "      ]\n",
    "    )\n",
    "\n",
    "    result_ary.append(completion.choices[0].message)\n"
   ]
  },
  {
   "cell_type": "code",
   "execution_count": 56,
   "id": "6fe7e75c",
   "metadata": {},
   "outputs": [
    {
     "data": {
      "text/plain": [
       "9"
      ]
     },
     "execution_count": 56,
     "metadata": {},
     "output_type": "execute_result"
    }
   ],
   "source": [
    "len(result_ary)"
   ]
  },
  {
   "cell_type": "code",
   "execution_count": 58,
   "id": "7312c08f",
   "metadata": {},
   "outputs": [
    {
     "data": {
      "text/plain": [
       "'這篇文章是關於一位專長於日本房地產投資的老師，他分享了自己在金融風暴後決定進軍日本房地產的經歷和心得。他提到金融世界的風險很高，讓他開始思考換實際的具體投資，並選擇投資在日本的房地產市場。他也分享了自己虧損的經驗，並表示要成功投資需要精準的觀察力。另外，他還提到台灣的房地產市場也有很多好處，但他當時覺得日本的投資機會更大，所以決定前往投資。'"
      ]
     },
     "execution_count": 58,
     "metadata": {},
     "output_type": "execute_result"
    }
   ],
   "source": [
    "result_ary[0].get('content')"
   ]
  },
  {
   "cell_type": "code",
   "execution_count": 60,
   "id": "93c84b52",
   "metadata": {},
   "outputs": [
    {
     "name": "stdout",
     "output_type": "stream",
     "text": [
      "\n",
      "這篇文章是關於一位專長於日本房地產投資的老師，他分享了自己在金融風暴後決定進軍日本房地產的經歷和心得。他提到金融世界的風險很高，讓他開始思考換實際的具體投資，並選擇投資在日本的房地產市場。他也分享了自己虧損的經驗，並表示要成功投資需要精準的觀察力。另外，他還提到台灣的房地產市場也有很多好處，但他當時覺得日本的投資機會更大，所以決定前往投資。\n",
      "\n",
      "這段文字講述作者在投資日本房地產時，因為公司設立、稅務負擔等問題而感到困難。另外，作者提到日本房地產投資不易，需要大量貸款，而且要被迫每年買物件。作者也分享自己投資的經驗，認為居酒屋是一種比較穩定的投資對象。最後，作者建議投資者要謹慎選擇物件，並找專業人士協助整理房源資訊。\n",
      "\n",
      "本文介紹了在東京大學附近稻田附近的京區，它是一個很好的文教區，而且比較穩定的區域在西部的丘陵區吉祥寺附近，其中的Lions Mountains住宅區有7.5萬日元的租金收入，年回報率為5.8%，但投資者需要注意租戶的風險，尤其是租給學生的話，風險更高。該地區的房屋需求較穩定的上班族為佳，家庭更不容易搬走。\n",
      "\n",
      "文章提到了購買日本房產的注意事項和優缺點。建議購買2LDK以上的房子，避免租客搬家帶來的麻煩，以及注意租客遺留物品的問題。營業場合租約可以長達10年以上，但修繕費用成本較高。文章也介紹了投資日本房產的漲幅和增值潛力，以及老房子的實際優點和稅賦成本。\n",
      "\n",
      "本文介紹了作者在日本買房的經驗和投報分析。文章提到日本的房市雖然漲幅不及台灣大，但也有漲幅，且持有成本高，稅收也會影響房價漲幅。文章建議買房要選擇人口集中的區域，並要避免套房，貸租約的營業場合是穩定的選擇。最後，作者分享了自己曾買的一個房子，雖然在風化區但租金很高，且經過大地震和其他事件後價格仍穩定。\n",
      "\n",
      "這段文字主要是講述在日本購買房產需要注意的事項，例如在購買前要實際去看一下房子的狀況，以避免買到風化區等不良地區。另外，要注意房屋是否有修繕基金，以及管理費是否存了一大筆錢作為嫁妝。修繕基金與管理費適量較好，過多會影響投報率，但若購買的是1996年出租的舊房，則可能會有貴到沒有改的管理費。最後，作者提到了一個例子，警示讀者要注意租金與管理費之間的投報率，以免造成損失。\n",
      "\n",
      "本文主要提到房地產投資的注意事項，不要只听从房地產經紀人的建议，要作出自己的判断，尤其是在選擇地點和物業類型上，要注意考慮租客換手率、投報率等因素。文章举例说明，買小套房可能每年都要換租客，且仲介還可以多賺錢，反而買二房或事務所，換租客比例較低，且不需付給仲介反覆費。另外，投資度假宅風險也很高，建議不要購買。最後，投資房地產看重的是投報率，而非理由或感情因素。\n",
      "\n",
      "文章主要是關於投資房地產的分享，講者提到了自己在日本投資房產的經驗，並分享了一些對於房產投資的看法和心得。他提到，投資房產需要做好功課，不要著重於房價的上漲，而是要考慮到整個國家的經濟發展趨勢。此外，他也強調了投資報酬率的重要性，建議要選擇有穩定收益的物件進行投資。最後，他也分享了自己買房的經驗，並表示如果想要嘗試的話，可以先買一間試試看，也開玩笑的邀請聽眾去住他的家。\n",
      "\n",
      "文章主要介紹了兩個人生實用商學院的Podcast節目，歡迎聽眾多加收聽。文章也提到了作者曾經上過其中一個節目。此外，文章也討論了台積電是否值得投資。最後，作者呼籲聽眾點贊訂閱分享並關注他們的Instagram。\n"
     ]
    }
   ],
   "source": [
    "for res in result_ary:\n",
    "    print()\n",
    "    print(res.get('content'))"
   ]
  },
  {
   "cell_type": "code",
   "execution_count": null,
   "id": "e378ea75",
   "metadata": {},
   "outputs": [],
   "source": []
  }
 ],
 "metadata": {
  "kernelspec": {
   "display_name": "Python 3 (ipykernel)",
   "language": "python",
   "name": "python3"
  },
  "language_info": {
   "codemirror_mode": {
    "name": "ipython",
    "version": 3
   },
   "file_extension": ".py",
   "mimetype": "text/x-python",
   "name": "python",
   "nbconvert_exporter": "python",
   "pygments_lexer": "ipython3",
   "version": "3.8.10"
  }
 },
 "nbformat": 4,
 "nbformat_minor": 5
}
