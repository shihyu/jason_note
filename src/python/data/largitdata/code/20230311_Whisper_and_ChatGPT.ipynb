{
  "nbformat": 4,
  "nbformat_minor": 0,
  "metadata": {
    "colab": {
      "provenance": []
    },
    "kernelspec": {
      "name": "python3",
      "display_name": "Python 3"
    },
    "language_info": {
      "name": "python"
    }
  },
  "cells": [
    {
      "cell_type": "code",
      "execution_count": 1,
      "metadata": {
        "colab": {
          "base_uri": "https://localhost:8080/"
        },
        "cellView": "form",
        "id": "yVzkns0ROVmm",
        "outputId": "d70204bc-a26a-409a-be2d-dbcb9381697b"
      },
      "outputs": [
        {
          "output_type": "stream",
          "name": "stdout",
          "text": [
            "Looking in indexes: https://pypi.org/simple, https://us-python.pkg.dev/colab-wheels/public/simple/\n",
            "Requirement already satisfied: pip in /usr/local/lib/python3.9/dist-packages (23.0.1)\n",
            "\u001b[33mWARNING: Running pip as the 'root' user can result in broken permissions and conflicting behaviour with the system package manager. It is recommended to use a virtual environment instead: https://pip.pypa.io/warnings/venv\u001b[0m\u001b[33m\n",
            "\u001b[0mLooking in indexes: https://pypi.org/simple, https://us-python.pkg.dev/colab-wheels/public/simple/\n",
            "Requirement already satisfied: yt-dlp in /usr/local/lib/python3.9/dist-packages (2023.3.4)\n",
            "Requirement already satisfied: brotli in /usr/local/lib/python3.9/dist-packages (from yt-dlp) (1.0.9)\n",
            "Requirement already satisfied: pycryptodomex in /usr/local/lib/python3.9/dist-packages (from yt-dlp) (3.17)\n",
            "Requirement already satisfied: mutagen in /usr/local/lib/python3.9/dist-packages (from yt-dlp) (1.46.0)\n",
            "Requirement already satisfied: websockets in /usr/local/lib/python3.9/dist-packages (from yt-dlp) (10.4)\n",
            "Requirement already satisfied: certifi in /usr/local/lib/python3.9/dist-packages (from yt-dlp) (2022.12.7)\n",
            "\u001b[33mWARNING: Running pip as the 'root' user can result in broken permissions and conflicting behaviour with the system package manager. It is recommended to use a virtual environment instead: https://pip.pypa.io/warnings/venv\u001b[0m\u001b[33m\n",
            "\u001b[0mLooking in indexes: https://pypi.org/simple, https://us-python.pkg.dev/colab-wheels/public/simple/\n",
            "Requirement already satisfied: openai in /usr/local/lib/python3.9/dist-packages (0.27.1)\n",
            "Requirement already satisfied: requests>=2.20 in /usr/local/lib/python3.9/dist-packages (from openai) (2.25.1)\n",
            "Requirement already satisfied: aiohttp in /usr/local/lib/python3.9/dist-packages (from openai) (3.8.4)\n",
            "Requirement already satisfied: tqdm in /usr/local/lib/python3.9/dist-packages (from openai) (4.65.0)\n",
            "Requirement already satisfied: urllib3<1.27,>=1.21.1 in /usr/local/lib/python3.9/dist-packages (from requests>=2.20->openai) (1.26.14)\n",
            "Requirement already satisfied: chardet<5,>=3.0.2 in /usr/local/lib/python3.9/dist-packages (from requests>=2.20->openai) (4.0.0)\n",
            "Requirement already satisfied: idna<3,>=2.5 in /usr/local/lib/python3.9/dist-packages (from requests>=2.20->openai) (2.10)\n",
            "Requirement already satisfied: certifi>=2017.4.17 in /usr/local/lib/python3.9/dist-packages (from requests>=2.20->openai) (2022.12.7)\n",
            "Requirement already satisfied: frozenlist>=1.1.1 in /usr/local/lib/python3.9/dist-packages (from aiohttp->openai) (1.3.3)\n",
            "Requirement already satisfied: charset-normalizer<4.0,>=2.0 in /usr/local/lib/python3.9/dist-packages (from aiohttp->openai) (3.1.0)\n",
            "Requirement already satisfied: yarl<2.0,>=1.0 in /usr/local/lib/python3.9/dist-packages (from aiohttp->openai) (1.8.2)\n",
            "Requirement already satisfied: attrs>=17.3.0 in /usr/local/lib/python3.9/dist-packages (from aiohttp->openai) (22.2.0)\n",
            "Requirement already satisfied: multidict<7.0,>=4.5 in /usr/local/lib/python3.9/dist-packages (from aiohttp->openai) (6.0.4)\n",
            "Requirement already satisfied: async-timeout<5.0,>=4.0.0a3 in /usr/local/lib/python3.9/dist-packages (from aiohttp->openai) (4.0.2)\n",
            "Requirement already satisfied: aiosignal>=1.1.2 in /usr/local/lib/python3.9/dist-packages (from aiohttp->openai) (1.3.1)\n",
            "\u001b[33mWARNING: Running pip as the 'root' user can result in broken permissions and conflicting behaviour with the system package manager. It is recommended to use a virtual environment instead: https://pip.pypa.io/warnings/venv\u001b[0m\u001b[33m\n",
            "\u001b[0mLooking in indexes: https://pypi.org/simple, https://us-python.pkg.dev/colab-wheels/public/simple/\n",
            "Requirement already satisfied: pydub in /usr/local/lib/python3.9/dist-packages (0.25.1)\n",
            "\u001b[33mWARNING: Running pip as the 'root' user can result in broken permissions and conflicting behaviour with the system package manager. It is recommended to use a virtual environment instead: https://pip.pypa.io/warnings/venv\u001b[0m\u001b[33m\n",
            "\u001b[0m"
          ]
        }
      ],
      "source": [
        "#@title 安裝相關套件 (yt-dlp, openAI API, Pydub)\n",
        "! pip install --upgrade pip\n",
        "! pip install yt-dlp\n",
        "! pip install openai\n",
        "! pip install pydub"
      ]
    },
    {
      "cell_type": "code",
      "source": [
        "#@title 下載 youtube 影片 \n",
        "import yt_dlp\n",
        "\n",
        "#@markdown ### 輸出檔案名稱 (如輸入 audio 會產生 audio.mp3):\n",
        "filename = 'audio' #@param {type:\"string\"} \n",
        "\n",
        "# 填入影片的URL\n",
        "#@markdown ### Youtube 連結:\n",
        "url = 'https://www.youtube.com/watch?v=PRp3kJtMQwU' #@param {type:\"string\"} \n",
        "\n",
        "\n",
        "# 設定選項\n",
        "ydl_opts = {\n",
        "    'format': 'bestaudio/best',\n",
        "    'outtmpl': filename , \n",
        "    'postprocessors': [{\n",
        "        'key': 'FFmpegExtractAudio',\n",
        "        'preferredcodec': 'mp3',\n",
        "        'preferredquality': '192',\n",
        "    }],\n",
        "}\n",
        "\n",
        "# 建立 yt_dlp 下載器物件\n",
        "with yt_dlp.YoutubeDL(ydl_opts) as ydl:\n",
        "    ydl.download([url])"
      ],
      "metadata": {
        "colab": {
          "base_uri": "https://localhost:8080/"
        },
        "cellView": "form",
        "id": "yAV8xkUhOkle",
        "outputId": "8944301a-c703-4681-8d81-13dbb2de536c"
      },
      "execution_count": 2,
      "outputs": [
        {
          "output_type": "stream",
          "name": "stdout",
          "text": [
            "[youtube] Extracting URL: https://www.youtube.com/watch?v=PRp3kJtMQwU\n",
            "[youtube] PRp3kJtMQwU: Downloading webpage\n",
            "[youtube] PRp3kJtMQwU: Downloading android player API JSON\n",
            "[info] PRp3kJtMQwU: Downloading 1 format(s): 251\n",
            "[dashsegments] Total fragments: 3\n",
            "[download] Destination: audio\n",
            "[download] 100% of   22.96MiB in 00:00:00 at 30.31MiB/s              \n",
            "[ExtractAudio] Destination: audio.mp3\n",
            "Deleting original file audio (pass -k to keep)\n"
          ]
        }
      ]
    },
    {
      "cell_type": "code",
      "source": [
        "#@title 分割 youtube 影片 \n",
        "from pydub import AudioSegment\n",
        "\n",
        "# 設定每個分割檔案的長度（單位：毫秒）\n",
        "#@markdown ### 分割檔案的長度（單位：毫秒）:\n",
        "segment_length = 1000000 #@param {type:\"integer\"}\n",
        "\n",
        "\n",
        "# 載入 MP3 音檔\n",
        "sound = AudioSegment.from_file(f'{filename}.mp3', format='mp3')\n",
        "\n",
        "sound_track = []\n",
        "# 將音檔分割成多個檔案\n",
        "for i, chunk in enumerate(sound[::segment_length]):\n",
        "    # 設定分割檔案的檔名\n",
        "    chunk.export(f'output_{i}.mp3', format='mp3')\n",
        "    audio_file = open(f'output_{i}.mp3', \"rb\")\n",
        "    sound_track.append(audio_file)\n",
        "    \n"
      ],
      "metadata": {
        "cellView": "form",
        "id": "XfeeQGUQQOwx"
      },
      "execution_count": 3,
      "outputs": []
    },
    {
      "cell_type": "code",
      "source": [
        "#@title 語音轉文字\n",
        "import openai\n",
        "#@markdown ### 填入 OpenAI API Secret Key:\n",
        "openai.api_key = '' #@param {type:\"string\"}\n",
        "\n",
        "transcripts = []\n",
        "for audio_file in sound_track:\n",
        "  transcript = openai.Audio.transcribe(\"whisper-1\", audio_file)\n",
        "  transcripts.append(transcript.to_dict().get('text') )\n",
        "\n",
        "\n",
        "transcripts_out = ' '.join(transcripts)\n",
        "\n",
        "transcript_chunks = []\n",
        "\n",
        "ret = ''\n",
        "for script in transcripts_out.split():\n",
        "    ret = ret + ' ' + script\n",
        "    if len(ret) > 1000:\n",
        "        transcript_chunks.append(ret)\n",
        "        ret = ''\n",
        "transcript_chunks.append(ret)\n",
        "\n",
        "print(f'分成 {len(transcript_chunks)} 段轉錄結果')"
      ],
      "metadata": {
        "colab": {
          "base_uri": "https://localhost:8080/"
        },
        "cellView": "form",
        "id": "32SnCSzFUEhX",
        "outputId": "753759c9-4ca0-4bfc-d26b-41626d934901"
      },
      "execution_count": 4,
      "outputs": [
        {
          "output_type": "stream",
          "name": "stdout",
          "text": [
            "分成 9 段轉錄結果\n"
          ]
        }
      ]
    },
    {
      "cell_type": "code",
      "source": [
        "#@title 用ChatGPT 摘要文章\n",
        "\n",
        "\n",
        "#@markdown ### 請輸入咒語:\n",
        "prompt = \"請你成為文章摘要的小幫手，摘要以下文字，以繁體中文輸出\" #@param {type:\"string\"}\n",
        "\n",
        "result_ary = []\n",
        "\n",
        "for t in transcript_chunks:\n",
        "    completion = openai.ChatCompletion.create(\n",
        "      model=\"gpt-3.5-turbo\",\n",
        "      messages=[\n",
        "        {\"role\": \"system\", \"content\": prompt},\n",
        "        {\"role\": \"user\", \"content\": t}\n",
        "      ]\n",
        "    )\n",
        "    result_ary.append(completion.choices[0].message)\n",
        "    print(completion.choices[0].message.get('content'))\n",
        "    print()"
      ],
      "metadata": {
        "colab": {
          "base_uri": "https://localhost:8080/"
        },
        "cellView": "form",
        "id": "efCEnvh8VrvN",
        "outputId": "e171be54-ef37-4244-eafb-73c82d75a6cf"
      },
      "execution_count": 5,
      "outputs": [
        {
          "output_type": "stream",
          "name": "stdout",
          "text": [
            "本文是一集介紹在日本買房地產的節目，主持人邀請了專業的資深老師淡如姐分享他的心得。淡如姐表示，他在2010年開始進軍日本房地產，主要是因為金融風險太大，讓他意識到金融投資的風險，所以轉向投資實體房地產。另外，淡如姐也提到，對於想要在日本買房的人來說，需要有一定的資金基礎和專業知識，才能夠避免風險和獲取投資成功的收益。\n",
            "\n",
            "這段文字講述在日本長居的經驗，作者提到了開設公司的費用以及需要繳納高額稅金的問題。作者也谈到在日本房地产投资方面的困难，需要从台湾的信托公司贷款，并且房子价格非常高。作者最后提到自己在购买物业时专注于购买居酒屋，并且参考了Google评分以及租金投报率等因素来进行决策。\n",
            "\n",
            "這篇文章介紹了東京房地產的投資機會，特別是位於文京區附近的一間住宅。作者建議投資人先選擇穩定的地段，離市中心不要太遠，且盡量避免位於液化區域。此外，投資人應該詳細瞭解租戶的情況，尤其是他們的租賃歷史和背景資料。文章最後提到，套房有時表面的投報率可能不是真實的，投資人應該尋找穩定的上班族作為租戶。\n",
            "\n",
            "文章提到日本房產投資的一些問題和建議。首先，小公寓的維修費用和管理費比較高，容易有租客逃租和留下遺物等問題，建議購買2LDK或以上的房型。其次，建議找專業建築師評估房產，預測貸款期間的房租收益和未來漲幅，投資長期看好，可以考慮購買經營穩定的商業場所，如居酒屋。最後，老房子年代越久，稅金越少，有投資優勢。\n",
            "\n",
            "本文提到作者曾買過一間陽台有10坪的房子，但要扣除管理費用和修繕費用等成本，投報率其實只有5%以上。日本房市漲幅比台灣慢，而且很多年輕人因大地震等因素不想買房，導致日本房價長期走低。買日本房地產最好的方法是出租，但要注意成本和稅費。作者也提到，最好不要買套房，而帶租約的營業場合比較穩定，投報率也相對較高。\n",
            "\n",
            "本文探討在日本購買房產時需要注意的管理費、修繕激勵金等費用。作者提到，在選擇房產時，需要實際去看一下，以免買到風化區等不良區域，還要注意房屋是否需要拉皮等大裝修，以及修繕激勵金和管理費的多寡，以避免投資失敗。其中，修繕激勵金需要每個月繳交，而管理費則包括有存錢和花費等兩種情況，需仔細查看管理委員會是否盡職，以及管理員是否收取過高費用。\n",
            "\n",
            "此文中，作者分享了自己的投資經驗。他提到在投資日本房地產時，要注意地點和房型，因為租賃率和投報率有重要關係。他也談到買房子的費用，如仲介費和換租客的成本等。最後，他建議不要買度假宅，更好去住好一點的飯店。\n",
            "\n",
            "本文談論海外房地產投資必須找到能夠獲得固定租金的機會。投資者應集中資源在生產收益的物件上，而不是等待空置的物件賺錢。此外，文章強調自己的負責任角色，並建議投資者不要把所有錢都拿出來。最後，文章提到東南亞地區是投資海外房地產的不二之選，特別是越南。\n",
            "\n",
            "文章提到有人想買一間房子試試看，並提供自己家可以供人住。同時還介紹了人生實用商學院這個有兩個很棒的Podcast節目，並邀請大家多多聽取。最後，還呼籲觀眾若喜歡影片，可以按讚訂閱分享並追蹤他們的Instagram。\n",
            "\n"
          ]
        }
      ]
    },
    {
      "cell_type": "code",
      "source": [],
      "metadata": {
        "id": "MT2DatBYWt5F"
      },
      "execution_count": null,
      "outputs": []
    }
  ]
}