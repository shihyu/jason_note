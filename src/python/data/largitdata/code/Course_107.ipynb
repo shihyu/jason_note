{
 "cells": [
  {
   "cell_type": "code",
   "execution_count": 27,
   "metadata": {},
   "outputs": [
    {
     "data": {
      "text/plain": [
       "<selenium.webdriver.remote.webelement.WebElement (session=\"3d2afc09125289ba1525e5db5efded12\", element=\"0.13012673885568815-4\")>"
      ]
     },
     "execution_count": 27,
     "metadata": {},
     "output_type": "execute_result"
    }
   ],
   "source": [
    "from selenium import webdriver\n",
    "driver = webdriver.Chrome('./chromedriver')\n",
    "driver.implicitly_wait(30)\n",
    "driver.get('http://mops.twse.com.tw/mops/web/t163sb04')\n",
    "driver.find_element_by_name('year').send_keys('106')\n",
    "driver.find_element_by_name('season').send_keys('3')\n",
    "driver.find_element_by_css_selector('#search_bar1 input[type=button]').click()\n",
    "driver.find_element_by_css_selector('h2')"
   ]
  },
  {
   "cell_type": "code",
   "execution_count": null,
   "metadata": {},
   "outputs": [],
   "source": []
  }
 ],
 "metadata": {
  "kernelspec": {
   "display_name": "Python 3",
   "language": "python",
   "name": "python3"
  },
  "language_info": {
   "codemirror_mode": {
    "name": "ipython",
    "version": 3
   },
   "file_extension": ".py",
   "mimetype": "text/x-python",
   "name": "python",
   "nbconvert_exporter": "python",
   "pygments_lexer": "ipython3",
   "version": "3.6.2"
  }
 },
 "nbformat": 4,
 "nbformat_minor": 2
}
