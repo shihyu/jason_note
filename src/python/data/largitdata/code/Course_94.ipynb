{
 "cells": [
  {
   "cell_type": "markdown",
   "metadata": {},
   "source": [
    "## 資料前處理"
   ]
  },
  {
   "cell_type": "code",
   "execution_count": 23,
   "metadata": {
    "collapsed": true
   },
   "outputs": [],
   "source": [
    "import matplotlib.pyplot as plt\n",
    "import os, PIL\n",
    "import numpy as np\n",
    "digits = []\n",
    "labels = []\n",
    "basewidth = 50\n",
    "cnt = 0 \n",
    "\n",
    "for i in range(0,10):\n",
    "    for img in os.listdir('image_sample/{}/'.format(i)):\n",
    "        pil_image = PIL.Image.open('image_sample/{}/{}'.format(i, img)).convert('1') \n",
    "    \n",
    "        wpercent = (basewidth/float(pil_image.size[0]))\n",
    "        hsize = int((float(pil_image.size[1])*float(wpercent)))\n",
    "        img = pil_image.resize((basewidth,hsize), PIL.Image.ANTIALIAS)        \n",
    "        \n",
    "        cnt = cnt + 1\n",
    "        digits.append([pixel for pixel in iter(img.getdata())])\n",
    "        labels.append(i)"
   ]
  },
  {
   "cell_type": "markdown",
   "metadata": {},
   "source": [
    "## 標準化資料"
   ]
  },
  {
   "cell_type": "code",
   "execution_count": 24,
   "metadata": {
    "collapsed": false
   },
   "outputs": [
    {
     "name": "stderr",
     "output_type": "stream",
     "text": [
      "c:\\programdata\\anaconda3\\envs\\opencvtest\\lib\\site-packages\\sklearn\\utils\\validation.py:429: DataConversionWarning: Data with input dtype int32 was converted to float64 by StandardScaler.\n",
      "  warnings.warn(msg, _DataConversionWarning)\n"
     ]
    }
   ],
   "source": [
    "from sklearn.preprocessing import StandardScaler\n",
    "import numpy\n",
    "digit_ary  = numpy.array(digits)\n",
    "\n",
    "scaler = StandardScaler()\n",
    "scaler.fit(digit_ary)\n",
    "X_scaled = scaler.transform(digit_ary)"
   ]
  },
  {
   "cell_type": "markdown",
   "metadata": {},
   "source": [
    "## 建立模型"
   ]
  },
  {
   "cell_type": "code",
   "execution_count": 3,
   "metadata": {
    "collapsed": false
   },
   "outputs": [
    {
     "data": {
      "text/plain": [
       "MLPClassifier(activation='logistic', alpha=0.0001, batch_size='auto',\n",
       "       beta_1=0.9, beta_2=0.999, early_stopping=False, epsilon=1e-08,\n",
       "       hidden_layer_sizes=(30, 30, 30), learning_rate='constant',\n",
       "       learning_rate_init=0.001, max_iter=10000, momentum=0.9,\n",
       "       nesterovs_momentum=True, power_t=0.5, random_state=None,\n",
       "       shuffle=True, solver='adam', tol=0.0001, validation_fraction=0.1,\n",
       "       verbose=False, warm_start=False)"
      ]
     },
     "execution_count": 3,
     "metadata": {},
     "output_type": "execute_result"
    }
   ],
   "source": [
    "from sklearn.neural_network import MLPClassifier\n",
    "mlp = MLPClassifier(hidden_layer_sizes=(30,30,30), activation='logistic', max_iter = 10000)\n",
    "mlp.fit(X_scaled,labels)"
   ]
  },
  {
   "cell_type": "markdown",
   "metadata": {},
   "source": [
    "## 將模型儲存成pickle"
   ]
  },
  {
   "cell_type": "code",
   "execution_count": 4,
   "metadata": {
    "collapsed": true
   },
   "outputs": [],
   "source": [
    "from sklearn.externals import joblib\n",
    "joblib.dump(mlp, 'captcha.pkl') "
   ]
  },
  {
   "cell_type": "markdown",
   "metadata": {},
   "source": [
    "## 從pickle 讀取模型"
   ]
  },
  {
   "cell_type": "code",
   "execution_count": 25,
   "metadata": {
    "collapsed": true
   },
   "outputs": [],
   "source": [
    "clf = joblib.load('captcha.pkl') "
   ]
  },
  {
   "cell_type": "markdown",
   "metadata": {},
   "source": [
    "## 存儲驗證碼"
   ]
  },
  {
   "cell_type": "code",
   "execution_count": 32,
   "metadata": {
    "collapsed": true
   },
   "outputs": [],
   "source": [
    "import requests\n",
    "rs  = requests.session()\n",
    "res = rs.get('http://gcis.nat.gov.tw/pub/cmpy/cmpyInfoListAction.do')\n",
    "with open('kaptcha.jpg', 'wb') as f:\n",
    "    res2 = rs.get('http://gcis.nat.gov.tw/pub/kaptcha.jpg')\n",
    "    f.write(res2.content)\n"
   ]
  },
  {
   "cell_type": "code",
   "execution_count": 33,
   "metadata": {
    "collapsed": false
   },
   "outputs": [
    {
     "data": {
      "image/png": "[encoded data removed]",
      "text/plain": [
       "<PIL.JpegImagePlugin.JpegImageFile image mode=RGB size=120x40 at 0xC7817B8>"
      ]
     },
     "execution_count": 33,
     "metadata": {},
     "output_type": "execute_result"
    }
   ],
   "source": [
    "from PIL import Image\n",
    "Image.open('kaptcha.jpg')"
   ]
  },
  {
   "cell_type": "markdown",
   "metadata": {},
   "source": [
    "## 建立驗證碼存儲與切割函式"
   ]
  },
  {
   "cell_type": "code",
   "execution_count": 34,
   "metadata": {
    "collapsed": true
   },
   "outputs": [],
   "source": [
    "import requests\n",
    "import numpy\n",
    "from matplotlib import pyplot as plt\n",
    "from datetime import datetime\n",
    "import time\n",
    "import cv2\n",
    "from sklearn.preprocessing import StandardScaler\n",
    "basewidth = 50\n",
    "def saveKaptcha(image, dest):\n",
    "    scaler = StandardScaler()\n",
    "    pil_image = PIL.Image.open(image).convert('RGB') \n",
    "    open_cv_image = numpy.array(pil_image) \n",
    "    imgray = cv2.cvtColor(open_cv_image, cv2.COLOR_BGR2GRAY)\n",
    "    ret, thresh = cv2.threshold(imgray, 127, 255, 0)\n",
    "    image, contours, hierarchy = cv2.findContours(thresh, cv2.RETR_TREE, cv2.CHAIN_APPROX_SIMPLE)\n",
    "    cnts = sorted([(c, cv2.boundingRect(c)[0]) for c in contours], key=lambda x:x[1])\n",
    "    ary = []\n",
    "    for (c,_) in cnts:\n",
    "        (x,y,w,h) = cv2.boundingRect(c)\n",
    "        if w >= 15 and h == 24:\n",
    "            ary.append((x,y,w,h) )\n",
    "    data = []\n",
    "    for idx, (x,y,w,h) in enumerate(ary):\n",
    "        fig = plt.figure()\n",
    "        roi = open_cv_image[y:y+h, x:x+w]\n",
    "        thresh = roi.copy()\n",
    "        plt.imshow(thresh)\n",
    "        plt.savefig(os.path.join(dest, '{}.jpg'.format(idx)), dpi=100)\n",
    "\n",
    "\n"
   ]
  },
  {
   "cell_type": "code",
   "execution_count": 35,
   "metadata": {
    "collapsed": false
   },
   "outputs": [
    {
     "name": "stderr",
     "output_type": "stream",
     "text": [
      "c:\\programdata\\anaconda3\\envs\\opencvtest\\lib\\site-packages\\matplotlib\\pyplot.py:524: RuntimeWarning: More than 20 figures have been opened. Figures created through the pyplot interface (`matplotlib.pyplot.figure`) are retained until explicitly closed and may consume too much memory. (To control this warning, see the rcParam `figure.max_open_warning`).\n",
      "  max_open_warning, RuntimeWarning)\n"
     ]
    }
   ],
   "source": [
    "saveKaptcha('kaptcha.jpg', 'imagedata')"
   ]
  },
  {
   "cell_type": "markdown",
   "metadata": {},
   "source": [
    "## 辨識驗證碼"
   ]
  },
  {
   "cell_type": "code",
   "execution_count": 36,
   "metadata": {
    "collapsed": true
   },
   "outputs": [],
   "source": [
    "def predictKaptcha(dest):\n",
    "    data = []\n",
    "    for idx, img in enumerate(os.listdir(dest)):\n",
    "        pil_image = PIL.Image.open(os.path.join(dest,'{}'.format(img))).convert('1') \n",
    "        wpercent = (basewidth/float(pil_image.size[0]))\n",
    "        hsize = int((float(pil_image.size[1])*float(wpercent)))\n",
    "        img = pil_image.resize((basewidth,hsize), PIL.Image.ANTIALIAS)\n",
    "        data.append([pixel for pixel in iter(img.getdata())])\n",
    "    scaler.fit(data)\n",
    "    data_scaled = scaler.transform(data)\n",
    "    return clf.predict(data_scaled)"
   ]
  },
  {
   "cell_type": "code",
   "execution_count": 37,
   "metadata": {
    "collapsed": false
   },
   "outputs": [
    {
     "data": {
      "text/plain": [
       "array([2, 4, 6, 1, 4, 7])"
      ]
     },
     "execution_count": 37,
     "metadata": {},
     "output_type": "execute_result"
    }
   ],
   "source": [
    "predictKaptcha('imagedata')"
   ]
  },
  {
   "cell_type": "markdown",
   "metadata": {},
   "source": [
    "## 撰寫網路爬蟲"
   ]
  },
  {
   "cell_type": "code",
   "execution_count": 41,
   "metadata": {
    "collapsed": false
   },
   "outputs": [
    {
     "name": "stderr",
     "output_type": "stream",
     "text": [
      "c:\\programdata\\anaconda3\\envs\\opencvtest\\lib\\site-packages\\matplotlib\\pyplot.py:524: RuntimeWarning: More than 20 figures have been opened. Figures created through the pyplot interface (`matplotlib.pyplot.figure`) are retained until explicitly closed and may consume too much memory. (To control this warning, see the rcParam `figure.max_open_warning`).\n",
      "  max_open_warning, RuntimeWarning)\n"
     ]
    },
    {
     "name": "stdout",
     "output_type": "stream",
     "text": [
      "[6 3 9 4 7 5]\n"
     ]
    },
    {
     "data": {
      "image/png": "[encoded data removed]",
      "text/plain": [
       "<PIL.JpegImagePlugin.JpegImageFile image mode=RGB size=120x40 at 0xFCB9320>"
      ]
     },
     "execution_count": 41,
     "metadata": {},
     "output_type": "execute_result"
    }
   ],
   "source": [
    "import requests\n",
    "rs  = requests.session()\n",
    "res = rs.get('http://gcis.nat.gov.tw/pub/cmpy/cmpyInfoListAction.do')\n",
    "with open('kaptcha.jpg', 'wb') as f:\n",
    "    res2 = rs.get('http://gcis.nat.gov.tw/pub/kaptcha.jpg')\n",
    "    f.write(res2.content)\n",
    "saveKaptcha('kaptcha.jpg', 'imagedata') \n",
    "kaptcha = predictKaptcha('imagedata')\n",
    "\n",
    "print(kaptcha)\n",
    "Image.open('kaptcha.jpg')\n",
    "\n"
   ]
  },
  {
   "cell_type": "code",
   "execution_count": 42,
   "metadata": {
    "collapsed": false
   },
   "outputs": [
    {
     "name": "stdout",
     "output_type": "stream",
     "text": [
      "\r\n",
      "\r\n",
      "\r\n",
      "\r\n",
      "\r\n",
      "\r\n",
      "\r\n",
      "<!DOCTYPE html PUBLIC \"-//W3C//DTD XHTML 1.0 Transitional//EN\" \"http://www.w3.org/TR/xhtml1/DTD/xhtml1-transitional.dtd\">\r\n",
      "<html>\r\n",
      "<head>\r\n",
      "<meta name=\"DC.Title\" content=\"公司及分公司基本資料查詢\" />\r\n",
      "<meta name=\"DC.Creator\" content=\"\" />\r\n",
      "<meta name=\"DC.Subject\" content=\"\" />\r\n",
      "<meta name=\"DC.Description\" content=\"\" />\r\n",
      "<meta name=\"DC.Contributor\" content=\"\" />\r\n",
      "<meta name=\"DC.Type\" content=\"網頁\" />\r\n",
      "<meta name=\"DC.Format\" content=\"Microsoft Internet Explorer\" />\r\n",
      "<meta name=\"DC.Source\" content=\"\" />\r\n",
      "<meta name=\"DC.Language\" content=\"繁體中文\" />\r\n",
      "<meta name=\"DC.Coverage\" content=\"\" />\r\n",
      "<meta name=\"DC.Publisher\" content=\"經濟部\" />\r\n",
      "<meta name=\"DC.Date\" content=\"2008-05-13\" />\r\n",
      "<meta name=\"DC.Identifier\" content=\"URL\"/>\r\n",
      "<meta name=\"DC.Relation\" content=\"\" />\r\n",
      "<meta name=\"DC.Rights\" content=\"\" />\r\n",
      "<meta name=\"Category.Theme\" content=\"500\"/>\r\n",
      "<meta name=\"Category.Cake\" content=\"700\"/>\r\n",
      "<meta name=\"Category.Service\" content=\"620\"/>\r\n",
      "<meta name=\"Keywords\" content=\"財政經濟, 經濟貿易, 公司設立\" />\r\n",
      "<meta http-equiv=\"Content-Type\" content=\"text/html; charset=BIG5\">\r\n",
      "<title>公司及分公司基本資料查詢</title>\r\n",
      "\r\n",
      "<link rel=\"Stylesheet\" type=\"text/css\" href='/pub/css/pub.css'>\r\n",
      "<style type=\"text/css\">\r\n",
      "<!--\r\n",
      "A:link {color:#993300;}\r\n",
      "A:visited {color:#336699;}\r\n",
      "A:hover {color:#003399;}\r\n",
      "A:active {color:#666666;}\r\n",
      "-->\r\n",
      "</style>\r\n",
      "\r\n",
      "<script src='/pub/js/checkValue.js'></script>\r\n",
      "<noscript> </noscript>\r\n",
      "<script language=\"JavaScript\" src='/pub/js/utilities.js'></script>\r\n",
      "<noscript> </noscript>\r\n",
      "<script type=\"text/javascript\" language=\"javascript\">\r\n",
      "<!--\r\n",
      "  // 共用的，只要指定method名稱即可\r\n",
      "  function postAction(method) {\r\n",
      "    document.forms[0].method.value = method;\r\n",
      "    document.forms[0].submit();\r\n",
      "  }\r\n",
      "\r\n",
      "  function querychk() {\r\n",
      "    if(document.forms[0].useEUC.value == \"Y\")\r\n",
      "\t  completeForm();\r\n",
      "    \r\n",
      "    \r\n",
      "    var validate = true ;\r\n",
      "    //輸入統編\r\n",
      "    if ( document.forms[0].selQueryType[3].checked ){\r\n",
      "\t  var queryStr = document.forms[0].queryStr.value = document.forms[0].queryStr.value.replace(/[\\s　'\"]+/g, \"\");\r\n",
      "      validate = checkBanNo( queryStr ) ;\r\n",
      "      document.forms[0].queryStr.focus();\r\n",
      "    }\r\n",
      "    //輸入地址\r\n",
      "    else if ( document.forms[0].selQueryType[2].checked  ){\r\n",
      "      var cmpyAddr = document.forms[0].cmpyAddr.value = document.forms[0].cmpyAddr.value.replace(/[\\s　'\"]+/g, \"\");\r\n",
      "      validate = true;\r\n",
      "      //沒有選 縣市\r\n",
      "      if(document.getElementsByName('cityCode1')[0].selectedIndex == 0){ \r\n",
      "        alert(\"請點選縣市\");\r\n",
      "        validate = false;\r\n",
      "      }\r\n",
      "      //沒有選  鄉鎮市區\r\n",
      "      else if(document.getElementsByName('cityCode2')[0].selectedIndex == 0){ \r\n",
      "        alert(\"請點選鄉鎮市區\");\r\n",
      "        validate = false;\r\n",
      "      }\r\n",
      "      //沒有填 公司地址\r\n",
      "      else if(cmpyAddr == \"\"){\r\n",
      "      \talert(\"請輸入公司地址\");\r\n",
      "      \tvalidate = false;      \r\n",
      "      }                 \r\n",
      "    }\r\n",
      "    //輸入公司名稱 (中文或英文)\r\n",
      "    else {\t\r\n",
      "      var queryStr = document.forms[0].queryStr.value = document.forms[0].queryStr.value.replace(/[\\s　'\"]+/g, \"\");  \r\n",
      "      if ( queryStr == \"\" ){\r\n",
      "        alert('請輸入查詢資料');\r\n",
      "        validate = false ;\r\n",
      "      }\r\n",
      "    }\r\n",
      "    \r\n",
      "    if ( validate ){\r\n",
      "      if(document.forms[0].selQueryType[3].checked == true && document.forms[0].selCmpyType[1].checked == true)\r\n",
      "      {\r\n",
      "        document.forms[0].brBanNo.value = queryStr;\r\n",
      "        document.forms[0].action = \"/pub/cmpy/branInfoListAction.do\";\r\n",
      "        document.forms[0].method.value = \"query\";\r\n",
      "        document.forms[0].submit();\r\n",
      "      }else{\r\n",
      "        postAction('query');\r\n",
      "      }\r\n",
      "    }\r\n",
      "  }\r\n",
      "\r\n",
      "  // 跳至第X頁\r\n",
      "  function goPage() {\r\n",
      "    document.forms[0].method.value = \"goPage\";\r\n",
      "    document.forms[0].submit();\r\n",
      "  }\r\n",
      "  // body keydown....\r\n",
      "  function enter() {\r\n",
      "    if(event.keyCode==13){\r\n",
      "      //modified by girlie 20081124\r\n",
      "      //cases of otherEnterFlag:\r\n",
      "      //是用鍵盤選  '首頁' 再按 'enter'鍵  ||\r\n",
      "      //是用鍵盤選  '罕用字輸入說明 ' 再按 'enter'鍵 ||\r\n",
      "      //是用鍵盤選   罕用字輸入條件方式    再按 'enter'鍵\r\n",
      "\r\n",
      "      //是用'enter'鍵  去submit page && not otherEnterFlag cases\r\n",
      "      if ( document.forms[0].submitData!=null && document.getElementsByName('otherEnterFlag')[0].value == \"false\"){\r\n",
      "        document.forms[0].submitData.focus();\r\n",
      "      }\r\n",
      "    }\r\n",
      "  }\r\n",
      "  \r\n",
      "  function showValue(objEle){\r\n",
      "    if(objEle.value == 2) //點選 分公司 radio\r\n",
      "    {\r\n",
      "      document.forms[0].selCmpyType[0].checked = false; //公司 radio\r\n",
      "      document.forms[0].selCmpyType[1].checked = true;  //分公司 radio\r\n",
      "\r\n",
      "      document.forms[0].selQueryType[0].disabled = true; //公司名稱(中文) radio\r\n",
      "      document.forms[0].selQueryType[1].disabled = true; //外國公司名稱(英文)radio\r\n",
      "      document.forms[0].selQueryType[2].disabled = true; //公司地址 radio\r\n",
      "      document.forms[0].selQueryType[3].checked = true;  //統一編號 radio\r\n",
      "\r\n",
      "      document.forms[0].method.value = \"hideEUC\";\r\n",
      "      document.forms[0].submit();\r\n",
      "    }\r\n",
      "    if(objEle.value == 1) //點選 公司 radio\r\n",
      "    {\r\n",
      "   \t  document.forms[0].selCmpyType[0].checked = true; //公司 radio\r\n",
      "      document.forms[0].selCmpyType[1].checked = false;//分公司 radio\r\n",
      "\r\n",
      "      document.forms[0].selQueryType[0].disabled = false; //公司名稱(中文) radio\r\n",
      "      document.forms[0].selQueryType[0].checked = true;\r\n",
      "      document.forms[0].selQueryType[1].disabled = false; //外國公司名稱(英文)radio\r\n",
      "      document.forms[0].selQueryType[2].disabled = false; //公司地址 radio\r\n",
      "\r\n",
      "      document.forms[0].method.value = \"showEUC\";\r\n",
      "      document.forms[0].submit();\r\n",
      "    }\r\n",
      "  }\r\n",
      "\r\n",
      "/**\r\n",
      " * added by girlie 20080807\r\n",
      " * refresh the page to display or hide euc appletText\r\n",
      " * depending on the value of selQueryType\r\n",
      " */\r\n",
      "  function showEUC(){\r\n",
      "    document.forms[0].selQueryType[0].checked = true;\r\n",
      "    document.forms[0].selQueryType[1].checked = false;\r\n",
      "    document.forms[0].selQueryType[2].checked = false;\r\n",
      "\tdocument.forms[0].selQueryType[3].checked = false;\r\n",
      "\t\r\n",
      "\tdocument.forms[0].method.value = \"showEUC\";\r\n",
      "    document.forms[0].submit();\r\n",
      "  }\r\n",
      "  function hideEUC(selectedQtype){\r\n",
      "    document.forms[0].selQueryType[0].checked = false;\r\n",
      "    document.forms[0].selQueryType[1].checked = false;\r\n",
      "    document.forms[0].selQueryType[2].checked = false;\r\n",
      "\tdocument.forms[0].selQueryType[3].checked = false;\r\n",
      "\t\r\n",
      "    document.forms[0].selQueryType[selectedQtype].checked = true;\r\n",
      "\r\n",
      "    document.forms[0].method.value = \"hideEUC\";\r\n",
      "    document.forms[0].submit();\r\n",
      "  }\r\n",
      "\r\n",
      "  function completeForm() {\r\n",
      "    document.getElementsByName('queryStr')[0].value=document.queryApplet.getText();\r\n",
      "  }\r\n",
      "  //to remove javascript warning at IE browser. modified by girlie 20080821\r\n",
      "  function clearQuery() {\r\n",
      "    document.getElementsByName('queryStr')[0].value=\"\";\r\n",
      "\r\n",
      "    if(document.getElementById('queryApplet')!=null)\r\n",
      "   \t  document.getElementsByName('queryApplet')[0].setText(\"\");\r\n",
      "  }\r\n",
      "  //A+等級:H309204compliance added by girlie 20081124\r\n",
      "  function otherEnter() {\r\n",
      "    document.getElementsByName('otherEnterFlag')[0].value=\"true\";\r\n",
      "  }\r\n",
      "  function NOTotherEnter() {\r\n",
      "    document.getElementsByName('otherEnterFlag')[0].value=\"false\";\r\n",
      "  }\r\n",
      " \r\n",
      "//-->\r\n",
      "</script>\r\n",
      "\r\n",
      "<script type=\"text/javascript\">\r\n",
      "//20090423 added by girlie: force resubmit page on back button hit\r\n",
      "onload=function(){\r\n",
      "\tqueryShow(\"messageA\");\r\n",
      "\r\n",
      "var backbutton=document.getElementById(\"refreshed\");\r\n",
      " if(backbutton!=null)\r\n",
      " {\r\n",
      "\tif(backbutton.value==\"no\")\r\n",
      "\t{\r\n",
      "\t\tbackbutton.value=\"yes\";\r\n",
      "\t}\r\n",
      "\telse{\r\n",
      "\t     document.forms[0].method.value = \"first\";\r\n",
      "\t     document.forms[0].submit();\r\n",
      "\t}\r\n",
      " }\r\n",
      "\r\n",
      " var queryString = 'null' == ''|| 'null' == 'null'  ? '' : 'null';\r\n",
      " if (queryString != null && queryString != '' && queryString != 'null') {\r\n",
      "\t //document.getElementById(\"queryStr\").value = queryString;\r\n",
      "\t document.forms[0].queryStr.value = queryString;\r\n",
      "\t document.forms[0].selQueryType[3].checked = true;  //統一編號 radio\r\n",
      " }\r\n",
      "}\r\n",
      "</script>\r\n",
      "<noscript> </noscript>\r\n",
      "</head>\r\n",
      "<body class=\"nomargin\" onkeydown=\"enter();\">\r\n",
      "<form name=\"CmpyInfoListForm\" method=\"post\" action=\"/pub/cmpy/cmpyInfoListAction.do\">\r\n",
      "\r\n",
      "<input type=\"hidden\" name=\"method\" value=\"query\">\r\n",
      "<!-- A+等級:H309204compliance gohomeFlag field added by girlie 20081121-->\r\n",
      "<input type=\"hidden\" name=\"otherEnterFlag\" value=\"false\">\r\n",
      "\r\n",
      "<input type=\"hidden\" name=\"useEUC\" value='N' />\r\n",
      "<input type=\"hidden\" name=\"isShowEUC\" value='N' />\r\n",
      "\r\n",
      "\r\n",
      "<input type=\"hidden\" name=\"queryKey\" value='sed48741'/>\r\n",
      "<!--最上方 Header***-->\r\n",
      "\r\n",
      "\r\n",
      "\r\n",
      "\r\n",
      "<!-- header -->\r\n",
      "<TABLE cellSpacing='0' cellPadding='0' width=\"100%\" border='0' id=\"table1\"\r\n",
      " summary=\"This is the cmpy header links.\">\r\n",
      "<CAPTION> </CAPTION> \r\n",
      "<TBODY>  \r\n",
      "  <TR>\r\n",
      "  <TH height=\"44\" id=\"a1\" axis=\"upperLinks\" class=\"content_light\" align=\"left\">\r\n",
      "\t<img border=\"0\" src='/pub/images/location.gif' width=\"22\" height=\"18\" alt=\"目前所在位置\">\r\n",
      "\t目前所在位置：<a accesskey=\"C\" href=\"http://gcis.nat.gov.tw/mainNew/\" target=\"_top\" tabindex=\"1\" onfocus=\"otherEnter();\" onblur=\"NOTotherEnter();\">首頁</a> 〉\r\n",
      "\t<a href=\"http://gcis.nat.gov.tw/mainNew/classNAction.do?method=list&pkGcisClassN=4\" target=\"_top\" tabindex=\"2\" onfocus=\"otherEnter();\" onblur=\"NOTotherEnter();\">商工登記資料公示查詢系統</a> 〉\r\n",
      "\t<a href=\"http://gcis.nat.gov.tw/mainNew/subclassNAction.do?method=getFile&pk=23\" target=\"_top\" tabindex=\"3\" onfocus=\"otherEnter();\" onblur=\"NOTotherEnter();\"> 公司登記資料查詢</a> \r\n",
      "    \r\n",
      "    <hr size=\"1\" class=\"skyblueLn\">\r\n",
      "  </TH>\r\n",
      "  </TR>\r\n",
      "</TBODY>\r\n",
      "</TABLE>\r\n",
      "\r\n",
      "\r\n",
      "\r\n",
      "<!-- 查詢明細 -->\r\n",
      "\r\n",
      "  <TABLE width=\"100%\" border=\"0\" cellpadding=\"0\" cellspacing=\"0\" class=\"bgTael\"\r\n",
      "  summary=\"Search Condition Details\">\r\n",
      "  <CAPTION> </CAPTION>\r\n",
      "    <TR>\r\n",
      "      <TH scope=\"col\" width=\"36\" height=\"27\" valign=\"top\"><img src='/pub/images/search_pencil_trans.gif' width=\"24\" height=\"22\" alt=\"公司及分公司基本資料查詢\"></TH>\r\n",
      "      <TH scope=\"col\" align=\"left\" class=\"content_th15\">經濟部─公司及分公司基本資料查詢</TH>\r\n",
      "      <TH scope=\"col\" class=\"content_light\" align=\"right\">查詢字串：\r\n",
      "        <font color=\"#FF0000\" style=\"font-weight:normal\">\r\n",
      "        \r\n",
      "          24567645\n",
      "\r\n",
      "        \r\n",
      "        \r\n",
      "        </font> |\r\n",
      "        <font color=\"#FF0000\" style=\"font-weight:normal\"><a href='/pub/cmpy/cmpyInfoListAction.do?method=go2NoPaging'>瀏覽全部</a></font> |\r\n",
      "        <font color=\"#FF0000\" style=\"font-weight:normal\"><a href='/pub/cmpy/cmpyInfoListAction.do?method=first'>重新查詢</a></font> |\r\n",
      "        <font color=\"#FF0000\" style=\"font-weight:normal\">花費秒數：0.007</font>\r\n",
      "      </TH>\r\n",
      "    </TR>\r\n",
      "  </TABLE>\r\n",
      "\r\n",
      "  <table width=\"100%\" border=\"0\" cellspacing=\"0\" cellpadding=\"0\" class=\"asLine\"\r\n",
      "  summary=\"This is a dark green line.\">\r\n",
      "  <caption> </caption>\r\n",
      "    <tr>\r\n",
      "      <th scope=\"col\" valign=\"top\" width=\"1\" height=\"1\"> </th>\r\n",
      "    </tr>\r\n",
      "  </table>\r\n",
      "\r\n",
      "  <hr size=\"1\" class=\"skyblueLn\">\r\n",
      "  <TABLE width=\"100%\" border=\"0\" cellpadding=\"0\" cellspacing=\"1\" class=\"w-13c\"\r\n",
      "  summary=\"Search Result headings.\">\r\n",
      "  <CAPTION> </CAPTION>\r\n",
      "    <TR bgcolor=\"#C6E1F4\">\r\n",
      "       <TH scope=\"col\" width=\"7%\" align=\"center\">序號</TH>\r\n",
      "       <TH scope=\"col\" width=\"12%\" align=\"center\">統一編號</TH>\r\n",
      "       <TH scope=\"col\" width=\"27%\" align=\"center\">公司名稱</TH>\r\n",
      "       <TH scope=\"col\" width=\"15%\" align=\"center\">登記機關</TH>\r\n",
      "       <TH scope=\"col\" width=\"15%\" align=\"center\">公司狀況</TH>\r\n",
      "       <TH scope=\"col\" width=\"12%\" align=\"center\">核准設立日期</TH>\r\n",
      "       <TH scope=\"col\" width=\"12%\" align=\"center\">核准變更日期</TH>\r\n",
      "    </TR>\r\n",
      "  </TABLE>\r\n",
      "  <TABLE width=\"100%\" border=\"0\" cellpadding=\"0\" cellspacing=\"1\" class=\"normalTable\"\r\n",
      "  summary=\"Search Result iterate tr List.\">\r\n",
      "  <caption> </caption>\r\n",
      "  \r\n",
      "    \r\n",
      "      \r\n",
      "      <TR>\r\n",
      "        <TD class=\"fieldlight\" width=\"7%\" align=\"center\" >\r\n",
      "          1\r\n",
      "        </TD>\r\n",
      "        <TD class=\"fieldlight\" width=\"12%\" align=\"center\" >\r\n",
      "          <a href=\"/pub/cmpy/cmpyInfoAction.do?method=detail&banNo=24567645\">\r\n",
      "          24567645\n",
      "\r\n",
      "          </a>\r\n",
      "        </TD>\r\n",
      "        <!-- 判斷有中文名稱就秀出 -->\r\n",
      "        <TD class=\"w-13c\" width=\"27%\" align=\"center\" >\r\n",
      "          <a href=\"/pub/cmpy/cmpyInfoAction.do?method=detail&banNo=24567645\">\r\n",
      "            大數軟體有限公司\r\n",
      "            <!-- 判斷有英文名稱就秀出 -->\r\n",
      "            \r\n",
      "          </a>\r\n",
      "        </TD>\r\n",
      "        <TD class=\"fieldlight\" width=\"15%\" align=\"center\" >\r\n",
      "          臺北市政府\n",
      "\r\n",
      "        </TD>\r\n",
      "        <TD class=\"fieldlight\" width=\"15%\" align=\"center\" >\r\n",
      "          \r\n",
      "          \r\n",
      "          \r\n",
      "          \r\n",
      "          \r\n",
      "          \r\n",
      "          \r\n",
      "          \t核准設立\n",
      "&nbsp;\r\n",
      "          \r\n",
      "          \r\n",
      "        </TD>\r\n",
      "        <TD class=\"fieldlight\" width=\"12%\" align=\"center\" >\r\n",
      "          1030714\r\n",
      "        </TD>\r\n",
      "        <TD class=\"fieldlight\" width=\"12%\" align=\"center\" >\r\n",
      "          1060627\r\n",
      "        </TD>\r\n",
      "      </TR>\r\n",
      "    \r\n",
      "  </TABLE>\r\n",
      "\r\n",
      "<!-- 換頁 -->\r\n",
      "  <TABLE width=\"100%\" class=\"normalTable\" border=\"0\" cellpadding=\"0\" cellspacing=\"1\" id='page_1' style=\"display:block\">\r\n",
      "    <TR>\r\n",
      "      <TD align=\"center\" width=\"15%\">\r\n",
      "          <font size=\"3\" color=\"blue\">\r\n",
      "       \t     共&nbsp;1&nbsp;筆&nbsp;\r\n",
      "          1&nbsp;頁&nbsp;\r\n",
      "          </font>\r\n",
      "      </TD>\r\n",
      "      <TD align=\"center\" width=\"70%\">\r\n",
      "          <a href=\"javascript:postAction('firstPage');\">\r\n",
      "            <img alt=\"第一頁\" src='/pub/images/arrow_first.gif' />&nbsp;&nbsp;\r\n",
      "          </a>\r\n",
      "          <a href=\"javascript:postAction('previousPage');\">\r\n",
      "            <img alt=\"上一頁\" src='/pub/images/arrow_left.gif' />&nbsp;&nbsp;\r\n",
      "          </a>\r\n",
      "\t\t     至第<select name=\"goPage\" onchange=\"postAction('goPage');\"><option value=\"1\" selected=\"selected\">1</option></select>頁&nbsp;&nbsp;&nbsp;\r\n",
      "          <a href=\"javascript:postAction('nextPage');\">\r\n",
      "            <img alt=\"下一頁\" src='/pub/images/arrow_right.gif' />&nbsp;&nbsp;\r\n",
      "          </a>\r\n",
      "          <a href=\"javascript:postAction('lastPage');\">\r\n",
      "            <img alt=\"最後一頁\" src='/pub/images/arrow_last.gif' />&nbsp;&nbsp;\r\n",
      "          </a>\r\n",
      "      </TD>\r\n",
      "      <TD align=\"center\" width=\"15%\">\r\n",
      "          <font size=\"3\" color=\"blue\">\r\n",
      "\t\t      第 1 頁\r\n",
      "\t\t  </font>\r\n",
      "      </TD>\r\n",
      "    </TR>\r\n",
      "  </TABLE>\r\n",
      "\r\n",
      "\r\n",
      "<!-- 查無資料訊息 -->\r\n",
      "\r\n",
      "\r\n",
      "<noscript>\r\n",
      "  <DIV><DT class='w-13ared'>\r\n",
      "\t<br>看到此訊息表示您的瀏覽器不支援Java Script語法，請檢查您瀏覽器的設定，或安裝的工具列、防毒軟體是否關閉java script功能，未支援java script功能將無法使用本系統。<br>\r\n",
      "  </DT></DIV>\r\n",
      "</noscript>\r\n",
      "<!-- 查詢規則 提示語  -->\r\n",
      "<!--font size=\"2\" color=\"#0000FF\">使用本查詢項目時系統可能會請您安裝Java[TM] Plug-in以正確顯示罕用字，<br><a href=\"java-cmex.html\" target=\"_blank\"><font color=\"#FF0000\">詳情請見說明</font></a>。</font-->\r\n",
      "\r\n",
      "</form>\r\n",
      "</body>\r\n",
      "\r\n",
      "</html>\r\n",
      "<!-- <SCRIPT type=\"text/javascript\" src='/pub/js/notify.js' charset=\"utf-8\">-->\r\n",
      "\r\n",
      "\n"
     ]
    }
   ],
   "source": [
    "payload = {\n",
    "'method':'query',\n",
    "'otherEnterFlag':'false',\n",
    "'useEUC':'N',\n",
    "'isShowEUC':'N',\n",
    "'queryKey':'sed50975',\n",
    "'selCmpyType':'1',\n",
    "'selQueryType':'2',\n",
    "'queryStr':'24567645',\n",
    "'brBanNo':'',\n",
    "'imageCode':'053350'  \n",
    "}\n",
    "headers ={\n",
    "'Referer':'http://gcis.nat.gov.tw/pub/cmpy/cmpyInfoListAction.do',\n",
    "'User-Agent':'Mozilla/5.0 (Windows NT 6.1; Win64; x64) AppleWebKit/537.36 (KHTML, like Gecko) Chrome/60.0.3112.90 Safari/537.36'   \n",
    "} \n",
    "payload['imageCode'] = ''.join([str(ele) for ele in kaptcha.tolist()])\n",
    "res3 = rs.post('http://gcis.nat.gov.tw/pub/cmpy/cmpyInfoListAction.do', data = payload, headers = headers)\n",
    "res3.encoding = 'cp950'\n",
    "\n",
    "print(res3.text)"
   ]
  },
  {
   "cell_type": "code",
   "execution_count": null,
   "metadata": {
    "collapsed": true
   },
   "outputs": [],
   "source": []
  }
 ],
 "metadata": {
  "kernelspec": {
   "display_name": "Python 3",
   "language": "python",
   "name": "python3"
  },
  "language_info": {
   "codemirror_mode": {
    "name": "ipython",
    "version": 3
   },
   "file_extension": ".py",
   "mimetype": "text/x-python",
   "name": "python",
   "nbconvert_exporter": "python",
   "pygments_lexer": "ipython3",
   "version": "3.6.0"
  }
 },
 "nbformat": 4,
 "nbformat_minor": 2
}
