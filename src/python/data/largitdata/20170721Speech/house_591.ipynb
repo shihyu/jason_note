{
 "cells": [
  {
   "cell_type": "markdown",
   "metadata": {},
   "source": [
    "## 資料搜集"
   ]
  },
  {
   "cell_type": "code",
   "execution_count": 8,
   "metadata": {
    "collapsed": false
   },
   "outputs": [],
   "source": [
    "import requests\n",
    "url = 'https://rent.591.com.tw/home/search/rsList?is_new_list=1&type=1&kind=1&searchtype=1&region=1&section=5&firstRow=60&totalRows=571'\n",
    "headers = {\n",
    "   'User-Agent':'Mozilla/5.0 (Windows NT 6.1; Win64; x64) AppleWebKit/537.36 (KHTML, like Gecko) Chrome/59.0.3071.115 Safari/537.36' \n",
    "}\n",
    "res = requests.get(url , headers = headers)\n",
    "jd = res.json()"
   ]
  },
  {
   "cell_type": "code",
   "execution_count": 19,
   "metadata": {
    "collapsed": false
   },
   "outputs": [
    {
     "data": {
      "text/html": [
       "<div>\n",
       "<table border=\"1\" class=\"dataframe\">\n",
       "  <thead>\n",
       "    <tr style=\"text-align: right;\">\n",
       "      <th></th>\n",
       "      <th>addInfo</th>\n",
       "      <th>addition2</th>\n",
       "      <th>addition3</th>\n",
       "      <th>addition4</th>\n",
       "      <th>addr_number_name</th>\n",
       "      <th>address</th>\n",
       "      <th>address_img</th>\n",
       "      <th>address_img_title</th>\n",
       "      <th>alley_name</th>\n",
       "      <th>allfloor</th>\n",
       "      <th>...</th>\n",
       "      <th>storeprice</th>\n",
       "      <th>street_name</th>\n",
       "      <th>streetid</th>\n",
       "      <th>type</th>\n",
       "      <th>unit</th>\n",
       "      <th>updatetime</th>\n",
       "      <th>user_id</th>\n",
       "      <th>vipBorder</th>\n",
       "      <th>vipimg</th>\n",
       "      <th>vipstyle</th>\n",
       "    </tr>\n",
       "  </thead>\n",
       "  <tbody>\n",
       "    <tr>\n",
       "      <th>0</th>\n",
       "      <td></td>\n",
       "      <td>0</td>\n",
       "      <td>0</td>\n",
       "      <td>0</td>\n",
       "      <td></td>\n",
       "      <td>仁愛路四段仁愛路層峰名邸。24..</td>\n",
       "      <td>仁愛路層峰名邸。24H管理。氣派門廳</td>\n",
       "      <td>仁愛路層峰名邸。24H管理。氣派門廳</td>\n",
       "      <td></td>\n",
       "      <td>15</td>\n",
       "      <td>...</td>\n",
       "      <td>0</td>\n",
       "      <td>仁愛路四段</td>\n",
       "      <td>67192</td>\n",
       "      <td>1</td>\n",
       "      <td>元/月</td>\n",
       "      <td>1496983778</td>\n",
       "      <td>1434864</td>\n",
       "      <td></td>\n",
       "      <td></td>\n",
       "      <td></td>\n",
       "    </tr>\n",
       "    <tr>\n",
       "      <th>1</th>\n",
       "      <td></td>\n",
       "      <td>0</td>\n",
       "      <td>0</td>\n",
       "      <td>0</td>\n",
       "      <td></td>\n",
       "      <td>大安路二段160巷大安4房+車..</td>\n",
       "      <td>大安4房+車位</td>\n",
       "      <td>大安4房+車位</td>\n",
       "      <td>160巷</td>\n",
       "      <td>4</td>\n",
       "      <td>...</td>\n",
       "      <td>0</td>\n",
       "      <td>大安路二段</td>\n",
       "      <td>25615</td>\n",
       "      <td>1</td>\n",
       "      <td>元/月</td>\n",
       "      <td>1500179128</td>\n",
       "      <td>1061107</td>\n",
       "      <td></td>\n",
       "      <td></td>\n",
       "      <td></td>\n",
       "    </tr>\n",
       "    <tr>\n",
       "      <th>2</th>\n",
       "      <td></td>\n",
       "      <td>0</td>\n",
       "      <td>0</td>\n",
       "      <td>0</td>\n",
       "      <td></td>\n",
       "      <td>仁愛路四段仁愛敦化圓環</td>\n",
       "      <td>仁愛敦化圓環</td>\n",
       "      <td>仁愛敦化圓環</td>\n",
       "      <td></td>\n",
       "      <td>14</td>\n",
       "      <td>...</td>\n",
       "      <td>0</td>\n",
       "      <td>仁愛路四段</td>\n",
       "      <td>67192</td>\n",
       "      <td>1</td>\n",
       "      <td>元/月</td>\n",
       "      <td>1499915702</td>\n",
       "      <td>1061107</td>\n",
       "      <td></td>\n",
       "      <td></td>\n",
       "      <td></td>\n",
       "    </tr>\n",
       "    <tr>\n",
       "      <th>3</th>\n",
       "      <td></td>\n",
       "      <td>0</td>\n",
       "      <td>0</td>\n",
       "      <td>0</td>\n",
       "      <td></td>\n",
       "      <td>敦化南路一段尊貴輝煌,鑽石名..</td>\n",
       "      <td>尊貴輝煌,鑽石名宅,晉升上流,叱吒風雲</td>\n",
       "      <td>尊貴輝煌,鑽石名宅,晉升上流,叱吒風雲</td>\n",
       "      <td></td>\n",
       "      <td>14</td>\n",
       "      <td>...</td>\n",
       "      <td>0</td>\n",
       "      <td>敦化南路一段</td>\n",
       "      <td>25662</td>\n",
       "      <td>1</td>\n",
       "      <td>元/月</td>\n",
       "      <td>1500629195</td>\n",
       "      <td>1791779</td>\n",
       "      <td></td>\n",
       "      <td></td>\n",
       "      <td></td>\n",
       "    </tr>\n",
       "    <tr>\n",
       "      <th>4</th>\n",
       "      <td></td>\n",
       "      <td>0</td>\n",
       "      <td>0</td>\n",
       "      <td>0</td>\n",
       "      <td></td>\n",
       "      <td>仁愛路四段408巷國父紀念館屋..</td>\n",
       "      <td>國父紀念館屋新溫馨美宅1+1房有露台</td>\n",
       "      <td>國父紀念館屋新溫馨美宅1+1房有露台</td>\n",
       "      <td>408巷</td>\n",
       "      <td>9</td>\n",
       "      <td>...</td>\n",
       "      <td>0</td>\n",
       "      <td>仁愛路四段</td>\n",
       "      <td>25617</td>\n",
       "      <td>1</td>\n",
       "      <td>元/月</td>\n",
       "      <td>1500426244</td>\n",
       "      <td>839865</td>\n",
       "      <td></td>\n",
       "      <td></td>\n",
       "      <td></td>\n",
       "    </tr>\n",
       "  </tbody>\n",
       "</table>\n",
       "<p>5 rows × 88 columns</p>\n",
       "</div>"
      ],
      "text/plain": [
       "  addInfo  addition2  addition3  addition4 addr_number_name  \\\n",
       "0                  0          0          0                    \n",
       "1                  0          0          0                    \n",
       "2                  0          0          0                    \n",
       "3                  0          0          0                    \n",
       "4                  0          0          0                    \n",
       "\n",
       "             address          address_img    address_img_title alley_name  \\\n",
       "0  仁愛路四段仁愛路層峰名邸。24..   仁愛路層峰名邸。24H管理。氣派門廳   仁愛路層峰名邸。24H管理。氣派門廳              \n",
       "1  大安路二段160巷大安4房+車..              大安4房+車位              大安4房+車位       160巷   \n",
       "2        仁愛路四段仁愛敦化圓環               仁愛敦化圓環               仁愛敦化圓環              \n",
       "3   敦化南路一段尊貴輝煌,鑽石名..  尊貴輝煌,鑽石名宅,晉升上流,叱吒風雲  尊貴輝煌,鑽石名宅,晉升上流,叱吒風雲              \n",
       "4  仁愛路四段408巷國父紀念館屋..   國父紀念館屋新溫馨美宅1+1房有露台   國父紀念館屋新溫馨美宅1+1房有露台       408巷   \n",
       "\n",
       "   allfloor    ...    storeprice  street_name streetid  type  unit  \\\n",
       "0        15    ...             0        仁愛路四段    67192     1   元/月   \n",
       "1         4    ...             0        大安路二段    25615     1   元/月   \n",
       "2        14    ...             0        仁愛路四段    67192     1   元/月   \n",
       "3        14    ...             0       敦化南路一段    25662     1   元/月   \n",
       "4         9    ...             0        仁愛路四段    25617     1   元/月   \n",
       "\n",
       "   updatetime  user_id  vipBorder vipimg  vipstyle  \n",
       "0  1496983778  1434864                              \n",
       "1  1500179128  1061107                              \n",
       "2  1499915702  1061107                              \n",
       "3  1500629195  1791779                              \n",
       "4  1500426244   839865                              \n",
       "\n",
       "[5 rows x 88 columns]"
      ]
     },
     "execution_count": 19,
     "metadata": {},
     "output_type": "execute_result"
    }
   ],
   "source": [
    "import pandas\n",
    "df = pandas.DataFrame(jd['data']['data'])\n",
    "df.head()"
   ]
  },
  {
   "cell_type": "code",
   "execution_count": 25,
   "metadata": {
    "collapsed": false
   },
   "outputs": [],
   "source": [
    "df = df[['address', 'floor', 'allfloor', 'layout','area', 'price','browsenum_all']]"
   ]
  },
  {
   "cell_type": "code",
   "execution_count": 26,
   "metadata": {
    "collapsed": false
   },
   "outputs": [
    {
     "data": {
      "text/html": [
       "<div>\n",
       "<table border=\"1\" class=\"dataframe\">\n",
       "  <thead>\n",
       "    <tr style=\"text-align: right;\">\n",
       "      <th></th>\n",
       "      <th>address</th>\n",
       "      <th>floor</th>\n",
       "      <th>allfloor</th>\n",
       "      <th>layout</th>\n",
       "      <th>area</th>\n",
       "      <th>price</th>\n",
       "      <th>browsenum_all</th>\n",
       "    </tr>\n",
       "  </thead>\n",
       "  <tbody>\n",
       "    <tr>\n",
       "      <th>0</th>\n",
       "      <td>仁愛路四段仁愛路層峰名邸。24..</td>\n",
       "      <td>3</td>\n",
       "      <td>15</td>\n",
       "      <td>3房2廳2衛</td>\n",
       "      <td>63.0</td>\n",
       "      <td>120,000</td>\n",
       "      <td>292</td>\n",
       "    </tr>\n",
       "    <tr>\n",
       "      <th>1</th>\n",
       "      <td>大安路二段160巷大安4房+車..</td>\n",
       "      <td>2</td>\n",
       "      <td>4</td>\n",
       "      <td>4房2廳2衛</td>\n",
       "      <td>37.8</td>\n",
       "      <td>38,000</td>\n",
       "      <td>196</td>\n",
       "    </tr>\n",
       "    <tr>\n",
       "      <th>2</th>\n",
       "      <td>仁愛路四段仁愛敦化圓環</td>\n",
       "      <td>12</td>\n",
       "      <td>14</td>\n",
       "      <td>1房1廳1衛</td>\n",
       "      <td>21.4</td>\n",
       "      <td>28,999</td>\n",
       "      <td>216</td>\n",
       "    </tr>\n",
       "    <tr>\n",
       "      <th>3</th>\n",
       "      <td>敦化南路一段尊貴輝煌,鑽石名..</td>\n",
       "      <td>10</td>\n",
       "      <td>14</td>\n",
       "      <td>3房2廳2衛</td>\n",
       "      <td>62.4</td>\n",
       "      <td>120,000</td>\n",
       "      <td>1</td>\n",
       "    </tr>\n",
       "    <tr>\n",
       "      <th>4</th>\n",
       "      <td>仁愛路四段408巷國父紀念館屋..</td>\n",
       "      <td>2</td>\n",
       "      <td>9</td>\n",
       "      <td>2房1廳1衛</td>\n",
       "      <td>22.6</td>\n",
       "      <td>42,000</td>\n",
       "      <td>37</td>\n",
       "    </tr>\n",
       "  </tbody>\n",
       "</table>\n",
       "</div>"
      ],
      "text/plain": [
       "             address  floor  allfloor  layout  area    price  browsenum_all\n",
       "0  仁愛路四段仁愛路層峰名邸。24..      3        15  3房2廳2衛  63.0  120,000            292\n",
       "1  大安路二段160巷大安4房+車..      2         4  4房2廳2衛  37.8   38,000            196\n",
       "2        仁愛路四段仁愛敦化圓環     12        14  1房1廳1衛  21.4   28,999            216\n",
       "3   敦化南路一段尊貴輝煌,鑽石名..     10        14  3房2廳2衛  62.4  120,000              1\n",
       "4  仁愛路四段408巷國父紀念館屋..      2         9  2房1廳1衛  22.6   42,000             37"
      ]
     },
     "execution_count": 26,
     "metadata": {},
     "output_type": "execute_result"
    }
   ],
   "source": [
    "df.head()"
   ]
  },
  {
   "cell_type": "markdown",
   "metadata": {},
   "source": [
    "## 資料清理"
   ]
  },
  {
   "cell_type": "code",
   "execution_count": 32,
   "metadata": {
    "collapsed": false
   },
   "outputs": [
    {
     "data": {
      "text/html": [
       "<div>\n",
       "<table border=\"1\" class=\"dataframe\">\n",
       "  <thead>\n",
       "    <tr style=\"text-align: right;\">\n",
       "      <th></th>\n",
       "      <th>address</th>\n",
       "      <th>floor</th>\n",
       "      <th>allfloor</th>\n",
       "      <th>layout</th>\n",
       "      <th>area</th>\n",
       "      <th>price</th>\n",
       "      <th>browsenum_all</th>\n",
       "      <th>layout_bedroom</th>\n",
       "      <th>layout_livingroom</th>\n",
       "      <th>layout_bathroom</th>\n",
       "    </tr>\n",
       "  </thead>\n",
       "  <tbody>\n",
       "    <tr>\n",
       "      <th>0</th>\n",
       "      <td>仁愛路四段仁愛路層峰名邸。24..</td>\n",
       "      <td>3</td>\n",
       "      <td>15</td>\n",
       "      <td>3房2廳2衛</td>\n",
       "      <td>63.0</td>\n",
       "      <td>120,000</td>\n",
       "      <td>292</td>\n",
       "      <td>3</td>\n",
       "      <td>2</td>\n",
       "      <td>2</td>\n",
       "    </tr>\n",
       "    <tr>\n",
       "      <th>1</th>\n",
       "      <td>大安路二段160巷大安4房+車..</td>\n",
       "      <td>2</td>\n",
       "      <td>4</td>\n",
       "      <td>4房2廳2衛</td>\n",
       "      <td>37.8</td>\n",
       "      <td>38,000</td>\n",
       "      <td>196</td>\n",
       "      <td>4</td>\n",
       "      <td>2</td>\n",
       "      <td>2</td>\n",
       "    </tr>\n",
       "    <tr>\n",
       "      <th>2</th>\n",
       "      <td>仁愛路四段仁愛敦化圓環</td>\n",
       "      <td>12</td>\n",
       "      <td>14</td>\n",
       "      <td>1房1廳1衛</td>\n",
       "      <td>21.4</td>\n",
       "      <td>28,999</td>\n",
       "      <td>216</td>\n",
       "      <td>1</td>\n",
       "      <td>1</td>\n",
       "      <td>1</td>\n",
       "    </tr>\n",
       "    <tr>\n",
       "      <th>3</th>\n",
       "      <td>敦化南路一段尊貴輝煌,鑽石名..</td>\n",
       "      <td>10</td>\n",
       "      <td>14</td>\n",
       "      <td>3房2廳2衛</td>\n",
       "      <td>62.4</td>\n",
       "      <td>120,000</td>\n",
       "      <td>1</td>\n",
       "      <td>3</td>\n",
       "      <td>2</td>\n",
       "      <td>2</td>\n",
       "    </tr>\n",
       "    <tr>\n",
       "      <th>4</th>\n",
       "      <td>仁愛路四段408巷國父紀念館屋..</td>\n",
       "      <td>2</td>\n",
       "      <td>9</td>\n",
       "      <td>2房1廳1衛</td>\n",
       "      <td>22.6</td>\n",
       "      <td>42,000</td>\n",
       "      <td>37</td>\n",
       "      <td>2</td>\n",
       "      <td>1</td>\n",
       "      <td>1</td>\n",
       "    </tr>\n",
       "  </tbody>\n",
       "</table>\n",
       "</div>"
      ],
      "text/plain": [
       "             address  floor  allfloor  layout  area    price  browsenum_all  \\\n",
       "0  仁愛路四段仁愛路層峰名邸。24..      3        15  3房2廳2衛  63.0  120,000            292   \n",
       "1  大安路二段160巷大安4房+車..      2         4  4房2廳2衛  37.8   38,000            196   \n",
       "2        仁愛路四段仁愛敦化圓環     12        14  1房1廳1衛  21.4   28,999            216   \n",
       "3   敦化南路一段尊貴輝煌,鑽石名..     10        14  3房2廳2衛  62.4  120,000              1   \n",
       "4  仁愛路四段408巷國父紀念館屋..      2         9  2房1廳1衛  22.6   42,000             37   \n",
       "\n",
       "  layout_bedroom layout_livingroom layout_bathroom  \n",
       "0              3                 2               2  \n",
       "1              4                 2               2  \n",
       "2              1                 1               1  \n",
       "3              3                 2               2  \n",
       "4              2                 1               1  "
      ]
     },
     "execution_count": 32,
     "metadata": {},
     "output_type": "execute_result"
    }
   ],
   "source": [
    "df[['layout_bedroom', 'layout_livingroom', 'layout_bathroom']] = df['layout'].str.extract('(\\d+)房(\\d+)廳(\\d+)衛', expand=False)\n",
    "df.head()"
   ]
  },
  {
   "cell_type": "code",
   "execution_count": 33,
   "metadata": {
    "collapsed": true
   },
   "outputs": [],
   "source": [
    "df['price'] = df['price'].map(lambda e: int(''.join(e.split(','))))"
   ]
  },
  {
   "cell_type": "code",
   "execution_count": 34,
   "metadata": {
    "collapsed": false
   },
   "outputs": [
    {
     "data": {
      "text/html": [
       "<div>\n",
       "<table border=\"1\" class=\"dataframe\">\n",
       "  <thead>\n",
       "    <tr style=\"text-align: right;\">\n",
       "      <th></th>\n",
       "      <th>address</th>\n",
       "      <th>floor</th>\n",
       "      <th>allfloor</th>\n",
       "      <th>layout</th>\n",
       "      <th>area</th>\n",
       "      <th>price</th>\n",
       "      <th>browsenum_all</th>\n",
       "      <th>layout_bedroom</th>\n",
       "      <th>layout_livingroom</th>\n",
       "      <th>layout_bathroom</th>\n",
       "    </tr>\n",
       "  </thead>\n",
       "  <tbody>\n",
       "    <tr>\n",
       "      <th>0</th>\n",
       "      <td>仁愛路四段仁愛路層峰名邸。24..</td>\n",
       "      <td>3</td>\n",
       "      <td>15</td>\n",
       "      <td>3房2廳2衛</td>\n",
       "      <td>63.0</td>\n",
       "      <td>120000</td>\n",
       "      <td>292</td>\n",
       "      <td>3</td>\n",
       "      <td>2</td>\n",
       "      <td>2</td>\n",
       "    </tr>\n",
       "    <tr>\n",
       "      <th>1</th>\n",
       "      <td>大安路二段160巷大安4房+車..</td>\n",
       "      <td>2</td>\n",
       "      <td>4</td>\n",
       "      <td>4房2廳2衛</td>\n",
       "      <td>37.8</td>\n",
       "      <td>38000</td>\n",
       "      <td>196</td>\n",
       "      <td>4</td>\n",
       "      <td>2</td>\n",
       "      <td>2</td>\n",
       "    </tr>\n",
       "    <tr>\n",
       "      <th>2</th>\n",
       "      <td>仁愛路四段仁愛敦化圓環</td>\n",
       "      <td>12</td>\n",
       "      <td>14</td>\n",
       "      <td>1房1廳1衛</td>\n",
       "      <td>21.4</td>\n",
       "      <td>28999</td>\n",
       "      <td>216</td>\n",
       "      <td>1</td>\n",
       "      <td>1</td>\n",
       "      <td>1</td>\n",
       "    </tr>\n",
       "    <tr>\n",
       "      <th>3</th>\n",
       "      <td>敦化南路一段尊貴輝煌,鑽石名..</td>\n",
       "      <td>10</td>\n",
       "      <td>14</td>\n",
       "      <td>3房2廳2衛</td>\n",
       "      <td>62.4</td>\n",
       "      <td>120000</td>\n",
       "      <td>1</td>\n",
       "      <td>3</td>\n",
       "      <td>2</td>\n",
       "      <td>2</td>\n",
       "    </tr>\n",
       "    <tr>\n",
       "      <th>4</th>\n",
       "      <td>仁愛路四段408巷國父紀念館屋..</td>\n",
       "      <td>2</td>\n",
       "      <td>9</td>\n",
       "      <td>2房1廳1衛</td>\n",
       "      <td>22.6</td>\n",
       "      <td>42000</td>\n",
       "      <td>37</td>\n",
       "      <td>2</td>\n",
       "      <td>1</td>\n",
       "      <td>1</td>\n",
       "    </tr>\n",
       "  </tbody>\n",
       "</table>\n",
       "</div>"
      ],
      "text/plain": [
       "             address  floor  allfloor  layout  area   price  browsenum_all  \\\n",
       "0  仁愛路四段仁愛路層峰名邸。24..      3        15  3房2廳2衛  63.0  120000            292   \n",
       "1  大安路二段160巷大安4房+車..      2         4  4房2廳2衛  37.8   38000            196   \n",
       "2        仁愛路四段仁愛敦化圓環     12        14  1房1廳1衛  21.4   28999            216   \n",
       "3   敦化南路一段尊貴輝煌,鑽石名..     10        14  3房2廳2衛  62.4  120000              1   \n",
       "4  仁愛路四段408巷國父紀念館屋..      2         9  2房1廳1衛  22.6   42000             37   \n",
       "\n",
       "  layout_bedroom layout_livingroom layout_bathroom  \n",
       "0              3                 2               2  \n",
       "1              4                 2               2  \n",
       "2              1                 1               1  \n",
       "3              3                 2               2  \n",
       "4              2                 1               1  "
      ]
     },
     "execution_count": 34,
     "metadata": {},
     "output_type": "execute_result"
    }
   ],
   "source": [
    "df.head()"
   ]
  },
  {
   "cell_type": "markdown",
   "metadata": {},
   "source": [
    "## 資料儲存"
   ]
  },
  {
   "cell_type": "code",
   "execution_count": 37,
   "metadata": {
    "collapsed": true
   },
   "outputs": [],
   "source": [
    "df.to_excel('house591.xlsx')"
   ]
  },
  {
   "cell_type": "code",
   "execution_count": 36,
   "metadata": {
    "collapsed": false
   },
   "outputs": [],
   "source": [
    "import sqlite3 \n",
    "with sqlite3.connect('house.sqlite') as db:\n",
    "    df.to_sql('renthouse', con = db)"
   ]
  },
  {
   "cell_type": "code",
   "execution_count": 38,
   "metadata": {
    "collapsed": false
   },
   "outputs": [
    {
     "data": {
      "text/html": [
       "<div>\n",
       "<table border=\"1\" class=\"dataframe\">\n",
       "  <thead>\n",
       "    <tr style=\"text-align: right;\">\n",
       "      <th></th>\n",
       "      <th>index</th>\n",
       "      <th>address</th>\n",
       "      <th>floor</th>\n",
       "      <th>allfloor</th>\n",
       "      <th>layout</th>\n",
       "      <th>area</th>\n",
       "      <th>price</th>\n",
       "      <th>browsenum_all</th>\n",
       "      <th>layout_bedroom</th>\n",
       "      <th>layout_livingroom</th>\n",
       "      <th>layout_bathroom</th>\n",
       "    </tr>\n",
       "  </thead>\n",
       "  <tbody>\n",
       "    <tr>\n",
       "      <th>0</th>\n",
       "      <td>0</td>\n",
       "      <td>仁愛路四段仁愛路層峰名邸。24..</td>\n",
       "      <td>3</td>\n",
       "      <td>15</td>\n",
       "      <td>3房2廳2衛</td>\n",
       "      <td>63.0</td>\n",
       "      <td>120000</td>\n",
       "      <td>292</td>\n",
       "      <td>3</td>\n",
       "      <td>2</td>\n",
       "      <td>2</td>\n",
       "    </tr>\n",
       "    <tr>\n",
       "      <th>1</th>\n",
       "      <td>1</td>\n",
       "      <td>大安路二段160巷大安4房+車..</td>\n",
       "      <td>2</td>\n",
       "      <td>4</td>\n",
       "      <td>4房2廳2衛</td>\n",
       "      <td>37.8</td>\n",
       "      <td>38000</td>\n",
       "      <td>196</td>\n",
       "      <td>4</td>\n",
       "      <td>2</td>\n",
       "      <td>2</td>\n",
       "    </tr>\n",
       "    <tr>\n",
       "      <th>2</th>\n",
       "      <td>2</td>\n",
       "      <td>仁愛路四段仁愛敦化圓環</td>\n",
       "      <td>12</td>\n",
       "      <td>14</td>\n",
       "      <td>1房1廳1衛</td>\n",
       "      <td>21.4</td>\n",
       "      <td>28999</td>\n",
       "      <td>216</td>\n",
       "      <td>1</td>\n",
       "      <td>1</td>\n",
       "      <td>1</td>\n",
       "    </tr>\n",
       "    <tr>\n",
       "      <th>3</th>\n",
       "      <td>3</td>\n",
       "      <td>敦化南路一段尊貴輝煌,鑽石名..</td>\n",
       "      <td>10</td>\n",
       "      <td>14</td>\n",
       "      <td>3房2廳2衛</td>\n",
       "      <td>62.4</td>\n",
       "      <td>120000</td>\n",
       "      <td>1</td>\n",
       "      <td>3</td>\n",
       "      <td>2</td>\n",
       "      <td>2</td>\n",
       "    </tr>\n",
       "    <tr>\n",
       "      <th>4</th>\n",
       "      <td>4</td>\n",
       "      <td>仁愛路四段408巷國父紀念館屋..</td>\n",
       "      <td>2</td>\n",
       "      <td>9</td>\n",
       "      <td>2房1廳1衛</td>\n",
       "      <td>22.6</td>\n",
       "      <td>42000</td>\n",
       "      <td>37</td>\n",
       "      <td>2</td>\n",
       "      <td>1</td>\n",
       "      <td>1</td>\n",
       "    </tr>\n",
       "  </tbody>\n",
       "</table>\n",
       "</div>"
      ],
      "text/plain": [
       "   index            address  floor  allfloor  layout  area   price  \\\n",
       "0      0  仁愛路四段仁愛路層峰名邸。24..      3        15  3房2廳2衛  63.0  120000   \n",
       "1      1  大安路二段160巷大安4房+車..      2         4  4房2廳2衛  37.8   38000   \n",
       "2      2        仁愛路四段仁愛敦化圓環     12        14  1房1廳1衛  21.4   28999   \n",
       "3      3   敦化南路一段尊貴輝煌,鑽石名..     10        14  3房2廳2衛  62.4  120000   \n",
       "4      4  仁愛路四段408巷國父紀念館屋..      2         9  2房1廳1衛  22.6   42000   \n",
       "\n",
       "   browsenum_all layout_bedroom layout_livingroom layout_bathroom  \n",
       "0            292              3                 2               2  \n",
       "1            196              4                 2               2  \n",
       "2            216              1                 1               1  \n",
       "3              1              3                 2               2  \n",
       "4             37              2                 1               1  "
      ]
     },
     "execution_count": 38,
     "metadata": {},
     "output_type": "execute_result"
    }
   ],
   "source": [
    "with sqlite3.connect('house.sqlite') as db:\n",
    "    df2 = pandas.read_sql_query('select * from renthouse', con = db)\n",
    "df2.head()"
   ]
  },
  {
   "cell_type": "markdown",
   "metadata": {},
   "source": [
    "## 資料分析"
   ]
  },
  {
   "cell_type": "code",
   "execution_count": 40,
   "metadata": {
    "collapsed": false
   },
   "outputs": [
    {
     "data": {
      "text/html": [
       "<div>\n",
       "<table border=\"1\" class=\"dataframe\">\n",
       "  <thead>\n",
       "    <tr style=\"text-align: right;\">\n",
       "      <th></th>\n",
       "      <th>floor</th>\n",
       "      <th>allfloor</th>\n",
       "      <th>area</th>\n",
       "      <th>price</th>\n",
       "      <th>browsenum_all</th>\n",
       "    </tr>\n",
       "  </thead>\n",
       "  <tbody>\n",
       "    <tr>\n",
       "      <th>count</th>\n",
       "      <td>30.00000</td>\n",
       "      <td>30.000000</td>\n",
       "      <td>30.00000</td>\n",
       "      <td>30.000000</td>\n",
       "      <td>30.000000</td>\n",
       "    </tr>\n",
       "    <tr>\n",
       "      <th>mean</th>\n",
       "      <td>5.50000</td>\n",
       "      <td>11.000000</td>\n",
       "      <td>33.49000</td>\n",
       "      <td>54829.933333</td>\n",
       "      <td>330.866667</td>\n",
       "    </tr>\n",
       "    <tr>\n",
       "      <th>std</th>\n",
       "      <td>3.73012</td>\n",
       "      <td>4.548588</td>\n",
       "      <td>17.94254</td>\n",
       "      <td>27696.684927</td>\n",
       "      <td>670.327750</td>\n",
       "    </tr>\n",
       "    <tr>\n",
       "      <th>min</th>\n",
       "      <td>-1.00000</td>\n",
       "      <td>4.000000</td>\n",
       "      <td>12.00000</td>\n",
       "      <td>23500.000000</td>\n",
       "      <td>1.000000</td>\n",
       "    </tr>\n",
       "    <tr>\n",
       "      <th>25%</th>\n",
       "      <td>2.25000</td>\n",
       "      <td>9.000000</td>\n",
       "      <td>22.30000</td>\n",
       "      <td>39249.750000</td>\n",
       "      <td>84.750000</td>\n",
       "    </tr>\n",
       "    <tr>\n",
       "      <th>50%</th>\n",
       "      <td>4.50000</td>\n",
       "      <td>10.000000</td>\n",
       "      <td>26.05000</td>\n",
       "      <td>43000.000000</td>\n",
       "      <td>199.500000</td>\n",
       "    </tr>\n",
       "    <tr>\n",
       "      <th>75%</th>\n",
       "      <td>8.50000</td>\n",
       "      <td>13.750000</td>\n",
       "      <td>37.80000</td>\n",
       "      <td>61875.000000</td>\n",
       "      <td>282.750000</td>\n",
       "    </tr>\n",
       "    <tr>\n",
       "      <th>max</th>\n",
       "      <td>13.00000</td>\n",
       "      <td>26.000000</td>\n",
       "      <td>78.90000</td>\n",
       "      <td>120000.000000</td>\n",
       "      <td>3700.000000</td>\n",
       "    </tr>\n",
       "  </tbody>\n",
       "</table>\n",
       "</div>"
      ],
      "text/plain": [
       "          floor   allfloor      area          price  browsenum_all\n",
       "count  30.00000  30.000000  30.00000      30.000000      30.000000\n",
       "mean    5.50000  11.000000  33.49000   54829.933333     330.866667\n",
       "std     3.73012   4.548588  17.94254   27696.684927     670.327750\n",
       "min    -1.00000   4.000000  12.00000   23500.000000       1.000000\n",
       "25%     2.25000   9.000000  22.30000   39249.750000      84.750000\n",
       "50%     4.50000  10.000000  26.05000   43000.000000     199.500000\n",
       "75%     8.50000  13.750000  37.80000   61875.000000     282.750000\n",
       "max    13.00000  26.000000  78.90000  120000.000000    3700.000000"
      ]
     },
     "execution_count": 40,
     "metadata": {},
     "output_type": "execute_result"
    }
   ],
   "source": [
    "df.describe()"
   ]
  },
  {
   "cell_type": "code",
   "execution_count": 45,
   "metadata": {
    "collapsed": false
   },
   "outputs": [
    {
     "data": {
      "text/html": [
       "<div>\n",
       "<table border=\"1\" class=\"dataframe\">\n",
       "  <thead>\n",
       "    <tr style=\"text-align: right;\">\n",
       "      <th></th>\n",
       "      <th>address</th>\n",
       "      <th>floor</th>\n",
       "      <th>allfloor</th>\n",
       "      <th>layout</th>\n",
       "      <th>area</th>\n",
       "      <th>price</th>\n",
       "      <th>browsenum_all</th>\n",
       "      <th>layout_bedroom</th>\n",
       "      <th>layout_livingroom</th>\n",
       "      <th>layout_bathroom</th>\n",
       "    </tr>\n",
       "  </thead>\n",
       "  <tbody>\n",
       "    <tr>\n",
       "      <th>0</th>\n",
       "      <td>仁愛路四段仁愛路層峰名邸。24..</td>\n",
       "      <td>3</td>\n",
       "      <td>15</td>\n",
       "      <td>3房2廳2衛</td>\n",
       "      <td>63.0</td>\n",
       "      <td>120000</td>\n",
       "      <td>292</td>\n",
       "      <td>3</td>\n",
       "      <td>2</td>\n",
       "      <td>2</td>\n",
       "    </tr>\n",
       "    <tr>\n",
       "      <th>3</th>\n",
       "      <td>敦化南路一段尊貴輝煌,鑽石名..</td>\n",
       "      <td>10</td>\n",
       "      <td>14</td>\n",
       "      <td>3房2廳2衛</td>\n",
       "      <td>62.4</td>\n",
       "      <td>120000</td>\n",
       "      <td>1</td>\n",
       "      <td>3</td>\n",
       "      <td>2</td>\n",
       "      <td>2</td>\n",
       "    </tr>\n",
       "    <tr>\n",
       "      <th>19</th>\n",
       "      <td>信義路二段靜巷環境單純、東門..</td>\n",
       "      <td>5</td>\n",
       "      <td>7</td>\n",
       "      <td>4房2廳2衛</td>\n",
       "      <td>72.2</td>\n",
       "      <td>100000</td>\n",
       "      <td>87</td>\n",
       "      <td>4</td>\n",
       "      <td>2</td>\n",
       "      <td>2</td>\n",
       "    </tr>\n",
       "    <tr>\n",
       "      <th>23</th>\n",
       "      <td>羅斯福路三段鄰近台電大樓站~..</td>\n",
       "      <td>7</td>\n",
       "      <td>19</td>\n",
       "      <td>3房2廳2衛</td>\n",
       "      <td>78.9</td>\n",
       "      <td>100000</td>\n",
       "      <td>166</td>\n",
       "      <td>3</td>\n",
       "      <td>2</td>\n",
       "      <td>2</td>\n",
       "    </tr>\n",
       "    <tr>\n",
       "      <th>9</th>\n",
       "      <td>信義路四段誠忠不動產(賴竑溢..</td>\n",
       "      <td>4</td>\n",
       "      <td>15</td>\n",
       "      <td>3房2廳2衛</td>\n",
       "      <td>44.4</td>\n",
       "      <td>100000</td>\n",
       "      <td>168</td>\n",
       "      <td>3</td>\n",
       "      <td>2</td>\n",
       "      <td>2</td>\n",
       "    </tr>\n",
       "  </tbody>\n",
       "</table>\n",
       "</div>"
      ],
      "text/plain": [
       "              address  floor  allfloor  layout  area   price  browsenum_all  \\\n",
       "0   仁愛路四段仁愛路層峰名邸。24..      3        15  3房2廳2衛  63.0  120000            292   \n",
       "3    敦化南路一段尊貴輝煌,鑽石名..     10        14  3房2廳2衛  62.4  120000              1   \n",
       "19   信義路二段靜巷環境單純、東門..      5         7  4房2廳2衛  72.2  100000             87   \n",
       "23   羅斯福路三段鄰近台電大樓站~..      7        19  3房2廳2衛  78.9  100000            166   \n",
       "9    信義路四段誠忠不動產(賴竑溢..      4        15  3房2廳2衛  44.4  100000            168   \n",
       "\n",
       "   layout_bedroom layout_livingroom layout_bathroom  \n",
       "0               3                 2               2  \n",
       "3               3                 2               2  \n",
       "19              4                 2               2  \n",
       "23              3                 2               2  \n",
       "9               3                 2               2  "
      ]
     },
     "execution_count": 45,
     "metadata": {},
     "output_type": "execute_result"
    }
   ],
   "source": [
    "df.sort_values(['price'], ascending=False).head()"
   ]
  },
  {
   "cell_type": "code",
   "execution_count": 47,
   "metadata": {
    "collapsed": true
   },
   "outputs": [],
   "source": [
    "import requests\n",
    "url = 'https://rent.591.com.tw/home/search/rsList?is_new_list=1&type=1&kind=1&searchtype=1&region=1&section=5&firstRow={}&totalRows=571'\n",
    "headers = {\n",
    "   'User-Agent':'Mozilla/5.0 (Windows NT 6.1; Win64; x64) AppleWebKit/537.36 (KHTML, like Gecko) Chrome/59.0.3071.115 Safari/537.36' \n",
    "}\n",
    "house_ary = []\n",
    "for i in range(0,21):\n",
    "    res = requests.get(url.format(i*20) , headers = headers)\n",
    "    jd = res.json()\n",
    "    df = pandas.DataFrame(jd['data']['data'])\n",
    "    df = df[['address', 'floor', 'allfloor', 'layout','area', 'price','browsenum_all']]\n",
    "    df[['layout_bedroom', 'layout_livingroom', 'layout_bathroom']] = df['layout'].str.extract('(\\d+)房(\\d+)廳(\\d+)衛', expand=False)\n",
    "    df['price'] = df['price'].map(lambda e: int(''.join(e.split(','))))\n",
    "    house_ary.append(df)"
   ]
  },
  {
   "cell_type": "code",
   "execution_count": 48,
   "metadata": {
    "collapsed": true
   },
   "outputs": [],
   "source": [
    "df = pandas.concat(house_ary)"
   ]
  },
  {
   "cell_type": "code",
   "execution_count": 50,
   "metadata": {
    "collapsed": false
   },
   "outputs": [],
   "source": [
    "df.to_excel('house591.xlsx')"
   ]
  },
  {
   "cell_type": "code",
   "execution_count": 51,
   "metadata": {
    "collapsed": true
   },
   "outputs": [],
   "source": [
    "df = pandas.read_excel('house591.xlsx')"
   ]
  },
  {
   "cell_type": "code",
   "execution_count": 52,
   "metadata": {
    "collapsed": false
   },
   "outputs": [
    {
     "name": "stdout",
     "output_type": "stream",
     "text": [
      "Populating the interactive namespace from numpy and matplotlib\n"
     ]
    },
    {
     "data": {
      "text/plain": [
       "<matplotlib.axes._subplots.AxesSubplot at 0xbfbf898>"
      ]
     },
     "execution_count": 52,
     "metadata": {},
     "output_type": "execute_result"
    },
    {
     "data": {
      "image/png": "[encoded data removed]",
      "text/plain": [
       "<matplotlib.figure.Figure at 0xbd4db70>"
      ]
     },
     "metadata": {},
     "output_type": "display_data"
    }
   ],
   "source": [
    "%pylab inline\n",
    "df[['price', 'area']].plot(kind='scatter', x = 'area', y = 'price', figsize=[10,5])"
   ]
  },
  {
   "cell_type": "code",
   "execution_count": 53,
   "metadata": {
    "collapsed": false
   },
   "outputs": [
    {
     "name": "stdout",
     "output_type": "stream",
     "text": [
      "Coefficient:[ 1690.54414116]\n",
      "Intercept:-7334.495691834789\n"
     ]
    }
   ],
   "source": [
    "from sklearn.linear_model import LinearRegression\n",
    "y= df['price']\n",
    "X = df[['area']]\n",
    "regr = LinearRegression()\n",
    "regr.fit(X,y)\n",
    "\n",
    "print('Coefficient:{}'.format(regr.coef_) )\n",
    "print('Intercept:{}'.format(regr.intercept_) )"
   ]
  },
  {
   "cell_type": "code",
   "execution_count": 54,
   "metadata": {
    "collapsed": false,
    "scrolled": true
   },
   "outputs": [
    {
     "data": {
      "text/plain": [
       "<matplotlib.text.Text at 0xcf385c0>"
      ]
     },
     "execution_count": 54,
     "metadata": {},
     "output_type": "execute_result"
    },
    {
     "data": {
      "image/png": "[encoded data removed]",
      "text/plain": [
       "<matplotlib.figure.Figure at 0xc4ab6a0>"
      ]
     },
     "metadata": {},
     "output_type": "display_data"
    }
   ],
   "source": [
    "plt.scatter(X,y, color=\"blue\")\n",
    "plt.plot(X, regr.predict(X), linewidth = 3, color = \"red\")\n",
    "plt.xlabel('area')\n",
    "plt.ylabel('price')"
   ]
  }
 ],
 "metadata": {
  "kernelspec": {
   "display_name": "Python 3",
   "language": "python",
   "name": "python3"
  },
  "language_info": {
   "codemirror_mode": {
    "name": "ipython",
    "version": 3
   },
   "file_extension": ".py",
   "mimetype": "text/x-python",
   "name": "python",
   "nbconvert_exporter": "python",
   "pygments_lexer": "ipython3",
   "version": "3.6.0"
  }
 },
 "nbformat": 4,
 "nbformat_minor": 2
}
