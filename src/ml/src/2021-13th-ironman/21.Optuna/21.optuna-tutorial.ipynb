{
 "cells": [
  {
   "cell_type": "markdown",
   "metadata": {},
   "source": [
    "## 關於 Optuna\n",
    "Optuna 是一個專為機器學習設計的自動超參數優化的框架。其最突出的特點是：\n",
    "\n",
    "- 人性化的定義搜索空間。\n",
    "- 支援大多數 ML 與 DL 的學習套件。例如: Sklearn、PyTorch、TensorFlow, XGBoost、LightGBM、 CatBoost...等。\n",
    "- 對對搜索結果提供可解釋性(XAI)。\n",
    "- 儲存歷史最佳的參數實現平行優化工作。\n",
    "- 決定並終止不滿足預定義條件的試驗。"
   ]
  },
  {
   "cell_type": "code",
   "execution_count": null,
   "metadata": {},
   "outputs": [],
   "source": [
    "# 首先載入 optuna 套件，如果尚未安裝此套件的的讀者可以參考以下指令進行安裝：\n",
    "\n",
    "!pip install optuna"
   ]
  },
  {
   "cell_type": "markdown",
   "metadata": {},
   "source": [
    "## Optuna basics\n",
    "這裡我們設定一個簡單的目標函式 $(x1+2)^2 + (x2-4)^2$。我們都知道當這個式子 x1=-2, x2=4 時將會有極小值 0。因此我們就用這個簡單的例子透過 Optuna 找出這個函式中極小值所對應的 x1 與 x2 吧。"
   ]
  },
  {
   "cell_type": "code",
   "execution_count": 3,
   "metadata": {
    "execution": {
     "iopub.execute_input": "2021-08-04T08:22:49.462638Z",
     "iopub.status.busy": "2021-08-04T08:22:49.462267Z",
     "iopub.status.idle": "2021-08-04T08:22:49.468354Z",
     "shell.execute_reply": "2021-08-04T08:22:49.467252Z",
     "shell.execute_reply.started": "2021-08-04T08:22:49.462608Z"
    }
   },
   "outputs": [],
   "source": [
    "import optuna\n",
    "\n",
    "def objective(trial):\n",
    "    x1 = trial.suggest_float(\"x1\", -5, 5)\n",
    "    x2 = trial.suggest_float(\"x2\", -5, 5)\n",
    "    return (x1 + 2) ** 2 + (x2 - 4) ** 2"
   ]
  },
  {
   "cell_type": "markdown",
   "metadata": {},
   "source": [
    "接著我們來定義一個找出極小值的目標函式 `objective()`。在這個函式中我們將要設定 optuna 可以去尋找的一參數，也就是 x1 與 x2。我們可以透過 optuna 所提供的 `trial` 物件來為我們的超參數設定一組範圍。其中它有一個 `suggest_float` 方法，該方法採用超參數的名稱和範圍來尋找其最佳值。我們以 x1 來舉例：\n",
    "\n",
    "```\n",
    "x1 = trial.suggest_float(\"x1\", -5, 5)\n",
    "```\n",
    "\n",
    "上面這一段程式在 GridSearch 中可以表示成 `{\"x1\": np.arange(-5, 5, .1)}`。即表示搜尋過程中我們會從 x1 隨機設定 -5~5 之間的任一浮點數。設定完函式後就可以開始優化了，我們從 optuna 建立一個 `study` 物件，並將 `objective` 函數傳遞給 `study` 的 `optimize` 方法。由於我們的目標是要找出函式中的極小值，因此 `direction` 設為 `minimize`。另外在 `optimize` 方法中我們也可以設定試驗的次數(n_trials)或時間(timeout)。一切就緒後即可開始執行！以下範例是迭代50次並從中找到一組最佳的 x1 與 x2 使其目標函式可以最小化。跑完 50 次後我們可以經由 `study` 變數中得到一組最佳的解。試驗結束後我們可以發現 x1 趨近於 -2 和 x2 趨近於 4。"
   ]
  },
  {
   "cell_type": "code",
   "execution_count": 4,
   "metadata": {
    "execution": {
     "iopub.execute_input": "2021-08-04T08:22:50.044634Z",
     "iopub.status.busy": "2021-08-04T08:22:50.044231Z",
     "iopub.status.idle": "2021-08-04T08:22:50.482863Z",
     "shell.execute_reply": "2021-08-04T08:22:50.481900Z",
     "shell.execute_reply.started": "2021-08-04T08:22:50.044600Z"
    }
   },
   "outputs": [
    {
     "name": "stderr",
     "output_type": "stream",
     "text": [
      "\u001b[32m[I 2021-08-04 08:22:50,047]\u001b[0m A new study created in memory with name: no-name-d0bdcd8f-3c13-4e67-b82e-d01c7dbbc350\u001b[0m\n",
      "\u001b[32m[I 2021-08-04 08:22:50,051]\u001b[0m Trial 0 finished with value: 16.94686468110967 and parameters: {'x1': 1.2979908061978929, 'x2': 1.5362383793589443}. Best is trial 0 with value: 16.94686468110967.\u001b[0m\n",
      "\u001b[32m[I 2021-08-04 08:22:50,053]\u001b[0m Trial 1 finished with value: 54.304611944143886 and parameters: {'x1': -4.5126142507200315, 'x2': -2.9275812208318786}. Best is trial 0 with value: 16.94686468110967.\u001b[0m\n",
      "\u001b[32m[I 2021-08-04 08:22:50,054]\u001b[0m Trial 2 finished with value: 79.30079467709912 and parameters: {'x1': -4.188218629989622, 'x2': -4.632061972927759}. Best is trial 0 with value: 16.94686468110967.\u001b[0m\n",
      "\u001b[32m[I 2021-08-04 08:22:50,056]\u001b[0m Trial 3 finished with value: 15.422041642959934 and parameters: {'x1': -3.1889689528087883, 'x2': 0.25722102279379744}. Best is trial 3 with value: 15.422041642959934.\u001b[0m\n",
      "\u001b[32m[I 2021-08-04 08:22:50,058]\u001b[0m Trial 4 finished with value: 8.355810886963818 and parameters: {'x1': -1.2133304053874872, 'x2': 1.2184605277156315}. Best is trial 4 with value: 8.355810886963818.\u001b[0m\n",
      "\u001b[32m[I 2021-08-04 08:22:50,060]\u001b[0m Trial 5 finished with value: 56.23652291233088 and parameters: {'x1': 1.4398663340285989, 'x2': -2.6636208262736205}. Best is trial 4 with value: 8.355810886963818.\u001b[0m\n",
      "\u001b[32m[I 2021-08-04 08:22:50,061]\u001b[0m Trial 6 finished with value: 39.427805932861745 and parameters: {'x1': -2.3410281867172533, 'x2': -2.2698888115122173}. Best is trial 4 with value: 8.355810886963818.\u001b[0m\n",
      "\u001b[32m[I 2021-08-04 08:22:50,063]\u001b[0m Trial 7 finished with value: 44.323438315781914 and parameters: {'x1': -2.8048911924540554, 'x2': -2.608750901955059}. Best is trial 4 with value: 8.355810886963818.\u001b[0m\n",
      "\u001b[32m[I 2021-08-04 08:22:50,065]\u001b[0m Trial 8 finished with value: 14.149107293284306 and parameters: {'x1': -4.416301102657268, 'x2': 1.1171895180949587}. Best is trial 4 with value: 8.355810886963818.\u001b[0m\n",
      "\u001b[32m[I 2021-08-04 08:22:50,066]\u001b[0m Trial 9 finished with value: 32.73977981686757 and parameters: {'x1': 3.6525081716830012, 'x2': 4.888217983337682}. Best is trial 4 with value: 8.355810886963818.\u001b[0m\n",
      "\u001b[32m[I 2021-08-04 08:22:50,077]\u001b[0m Trial 10 finished with value: 0.19305434339128288 and parameters: {'x1': -1.7414641220859395, 'x2': 3.6447345454135895}. Best is trial 10 with value: 0.19305434339128288.\u001b[0m\n",
      "\u001b[32m[I 2021-08-04 08:22:50,086]\u001b[0m Trial 11 finished with value: 1.6886532448496907 and parameters: {'x1': -0.7975929829570158, 'x2': 3.507180955912332}. Best is trial 10 with value: 0.19305434339128288.\u001b[0m\n",
      "\u001b[32m[I 2021-08-04 08:22:50,096]\u001b[0m Trial 12 finished with value: 3.4419104651060692 and parameters: {'x1': -0.2682063473854054, 'x2': 4.665433099469714}. Best is trial 10 with value: 0.19305434339128288.\u001b[0m\n",
      "\u001b[32m[I 2021-08-04 08:22:50,105]\u001b[0m Trial 13 finished with value: 2.228665895703928 and parameters: {'x1': -0.6599764056910589, 'x2': 3.341970621932976}. Best is trial 10 with value: 0.19305434339128288.\u001b[0m\n",
      "\u001b[32m[I 2021-08-04 08:22:50,115]\u001b[0m Trial 14 finished with value: 11.566490190057676 and parameters: {'x1': 1.2798785588316752, 'x2': 3.100618640745802}. Best is trial 10 with value: 0.19305434339128288.\u001b[0m\n",
      "\u001b[32m[I 2021-08-04 08:22:50,124]\u001b[0m Trial 15 finished with value: 1.1089688108888893 and parameters: {'x1': -1.4660083441003908, 'x2': 3.092353746045034}. Best is trial 10 with value: 0.19305434339128288.\u001b[0m\n",
      "\u001b[32m[I 2021-08-04 08:22:50,133]\u001b[0m Trial 16 finished with value: 3.269883211022034 and parameters: {'x1': -1.6604351743379642, 'x2': 2.2238865632524636}. Best is trial 10 with value: 0.19305434339128288.\u001b[0m\n",
      "\u001b[32m[I 2021-08-04 08:22:50,142]\u001b[0m Trial 17 finished with value: 29.705804200391903 and parameters: {'x1': 0.564486794143098, 'x2': -0.8092839054330694}. Best is trial 10 with value: 0.19305434339128288.\u001b[0m\n",
      "\u001b[32m[I 2021-08-04 08:22:50,151]\u001b[0m Trial 18 finished with value: 46.84838437544477 and parameters: {'x1': 4.8382122874081706, 'x2': 4.295359252072265}. Best is trial 10 with value: 0.19305434339128288.\u001b[0m\n",
      "\u001b[32m[I 2021-08-04 08:22:50,161]\u001b[0m Trial 19 finished with value: 21.47979741395138 and parameters: {'x1': 2.398380405016834, 'x2': 2.5391621490680985}. Best is trial 10 with value: 0.19305434339128288.\u001b[0m\n",
      "\u001b[32m[I 2021-08-04 08:22:50,171]\u001b[0m Trial 20 finished with value: 22.38823943069139 and parameters: {'x1': -3.415638728462417, 'x2': -0.5148871991633075}. Best is trial 10 with value: 0.19305434339128288.\u001b[0m\n",
      "\u001b[32m[I 2021-08-04 08:22:50,180]\u001b[0m Trial 21 finished with value: 0.04140490983908035 and parameters: {'x1': -1.8154924755761588, 'x2': 3.9141985823539844}. Best is trial 21 with value: 0.04140490983908035.\u001b[0m\n",
      "\u001b[32m[I 2021-08-04 08:22:50,189]\u001b[0m Trial 22 finished with value: 0.11441043977795395 and parameters: {'x1': -2.223085517946131, 'x2': 4.254250450266387}. Best is trial 21 with value: 0.04140490983908035.\u001b[0m\n",
      "\u001b[32m[I 2021-08-04 08:22:50,198]\u001b[0m Trial 23 finished with value: 0.05538872507219033 and parameters: {'x1': -2.0127826290015154, 'x2': 4.235000700994699}. Best is trial 21 with value: 0.04140490983908035.\u001b[0m\n",
      "\u001b[32m[I 2021-08-04 08:22:50,207]\u001b[0m Trial 24 finished with value: 0.20231755609260432 and parameters: {'x1': -2.3051431568492746, 'x2': 4.330462115711716}. Best is trial 21 with value: 0.04140490983908035.\u001b[0m\n",
      "\u001b[32m[I 2021-08-04 08:22:50,217]\u001b[0m Trial 25 finished with value: 3.3386439760873428 and parameters: {'x1': -3.615265500505363, 'x2': 4.8541436290018805}. Best is trial 21 with value: 0.04140490983908035.\u001b[0m\n",
      "\u001b[32m[I 2021-08-04 08:22:50,227]\u001b[0m Trial 26 finished with value: 9.246972321482188 and parameters: {'x1': 0.45169267629645793, 'x2': 2.2010627185817455}. Best is trial 21 with value: 0.04140490983908035.\u001b[0m\n",
      "\u001b[32m[I 2021-08-04 08:22:50,237]\u001b[0m Trial 27 finished with value: 0.20595640758756859 and parameters: {'x1': -2.4517785556744034, 'x2': 4.043041192134031}. Best is trial 21 with value: 0.04140490983908035.\u001b[0m\n",
      "\u001b[32m[I 2021-08-04 08:22:50,247]\u001b[0m Trial 28 finished with value: 0.9101411211799613 and parameters: {'x1': -1.9624513321710733, 'x2': 4.953273947364678}. Best is trial 21 with value: 0.04140490983908035.\u001b[0m\n",
      "\u001b[32m[I 2021-08-04 08:22:50,256]\u001b[0m Trial 29 finished with value: 6.481716197532645 and parameters: {'x1': -0.9568642287012278, 'x2': 1.6775909145523995}. Best is trial 21 with value: 0.04140490983908035.\u001b[0m\n",
      "\u001b[32m[I 2021-08-04 08:22:50,266]\u001b[0m Trial 30 finished with value: 5.379336426538546 and parameters: {'x1': -3.81077731736938, 'x2': 2.5507167518255454}. Best is trial 21 with value: 0.04140490983908035.\u001b[0m\n",
      "\u001b[32m[I 2021-08-04 08:22:50,276]\u001b[0m Trial 31 finished with value: 1.099924817144747 and parameters: {'x1': -3.032998788123055, 'x2': 3.818786532285685}. Best is trial 21 with value: 0.04140490983908035.\u001b[0m\n",
      "\u001b[32m[I 2021-08-04 08:22:50,285]\u001b[0m Trial 32 finished with value: 0.06680556373647784 and parameters: {'x1': -1.7783413042308827, 'x2': 3.8670602154115943}. Best is trial 21 with value: 0.04140490983908035.\u001b[0m\n",
      "\u001b[32m[I 2021-08-04 08:22:50,295]\u001b[0m Trial 33 finished with value: 4.5204703555724945 and parameters: {'x1': -0.11857182433193558, 'x2': 4.990302163672701}. Best is trial 21 with value: 0.04140490983908035.\u001b[0m\n",
      "\u001b[32m[I 2021-08-04 08:22:50,306]\u001b[0m Trial 34 finished with value: 8.693360269329244 and parameters: {'x1': -4.943429922221815, 'x2': 4.171990006391422}. Best is trial 21 with value: 0.04140490983908035.\u001b[0m\n",
      "\u001b[32m[I 2021-08-04 08:22:50,318]\u001b[0m Trial 35 finished with value: 75.61593865162025 and parameters: {'x1': -2.727279162084396, 'x2': -4.665275741257059}. Best is trial 21 with value: 0.04140490983908035.\u001b[0m\n",
      "\u001b[32m[I 2021-08-04 08:22:50,329]\u001b[0m Trial 36 finished with value: 1.7446837555570769 and parameters: {'x1': -1.2580168477161306, 'x2': 2.9072306934746157}. Best is trial 21 with value: 0.04140490983908035.\u001b[0m\n",
      "\u001b[32m[I 2021-08-04 08:22:50,340]\u001b[0m Trial 37 finished with value: 12.660067950094549 and parameters: {'x1': -1.8988350712449595, 'x2': 0.4433395428738862}. Best is trial 21 with value: 0.04140490983908035.\u001b[0m\n",
      "\u001b[32m[I 2021-08-04 08:22:50,352]\u001b[0m Trial 38 finished with value: 8.409783863566803 and parameters: {'x1': -4.006971224440554, 'x2': 1.9067130230581415}. Best is trial 21 with value: 0.04140490983908035.\u001b[0m\n",
      "\u001b[32m[I 2021-08-04 08:22:50,364]\u001b[0m Trial 39 finished with value: 8.90909696921814 and parameters: {'x1': -2.2778116330263423, 'x2': 1.0281457529391895}. Best is trial 21 with value: 0.04140490983908035.\u001b[0m\n",
      "\u001b[32m[I 2021-08-04 08:22:50,374]\u001b[0m Trial 40 finished with value: 37.87939024234665 and parameters: {'x1': -4.84360499488796, 'x2': -1.4583239987559282}. Best is trial 21 with value: 0.04140490983908035.\u001b[0m\n",
      "\u001b[32m[I 2021-08-04 08:22:50,385]\u001b[0m Trial 41 finished with value: 0.1567548715729303 and parameters: {'x1': -1.7976839034813445, 'x2': 3.659672115949362}. Best is trial 21 with value: 0.04140490983908035.\u001b[0m\n",
      "\u001b[32m[I 2021-08-04 08:22:50,395]\u001b[0m Trial 42 finished with value: 1.2768540825830195 and parameters: {'x1': -3.1012192038072417, 'x2': 3.7466813316212875}. Best is trial 21 with value: 0.04140490983908035.\u001b[0m\n",
      "\u001b[32m[I 2021-08-04 08:22:50,406]\u001b[0m Trial 43 finished with value: 1.8780522538679438 and parameters: {'x1': -0.651664696951014, 'x2': 4.245039107939412}. Best is trial 21 with value: 0.04140490983908035.\u001b[0m\n",
      "\u001b[32m[I 2021-08-04 08:22:50,416]\u001b[0m Trial 44 finished with value: 0.7744821239424141 and parameters: {'x1': -1.3205808617525738, 'x2': 4.559349406476434}. Best is trial 21 with value: 0.04140490983908035.\u001b[0m\n",
      "\u001b[32m[I 2021-08-04 08:22:50,427]\u001b[0m Trial 45 finished with value: 63.892593687128816 and parameters: {'x1': -2.7049073927937535, 'x2': -3.9621416248841945}. Best is trial 21 with value: 0.04140490983908035.\u001b[0m\n",
      "\u001b[32m[I 2021-08-04 08:22:50,440]\u001b[0m Trial 46 finished with value: 0.38975334746417495 and parameters: {'x1': -1.9878033737490906, 'x2': 3.375816861992996}. Best is trial 21 with value: 0.04140490983908035.\u001b[0m\n",
      "\u001b[32m[I 2021-08-04 08:22:50,450]\u001b[0m Trial 47 finished with value: 4.032140556940203 and parameters: {'x1': -0.3936524187944116, 'x2': 2.7950983420647315}. Best is trial 21 with value: 0.04140490983908035.\u001b[0m\n",
      "\u001b[32m[I 2021-08-04 08:22:50,461]\u001b[0m Trial 48 finished with value: 0.5215113171770368 and parameters: {'x1': -1.2919147002397495, 'x2': 3.858132014039555}. Best is trial 21 with value: 0.04140490983908035.\u001b[0m\n",
      "\u001b[32m[I 2021-08-04 08:22:50,471]\u001b[0m Trial 49 finished with value: 5.16880320913144 and parameters: {'x1': 0.2225866666713845, 'x2': 3.521552805143531}. Best is trial 21 with value: 0.04140490983908035.\u001b[0m\n"
     ]
    },
    {
     "name": "stdout",
     "output_type": "stream",
     "text": [
      "Number of finished trials: 50\n",
      "Best trial parameters: {'x1': -1.8154924755761588, 'x2': 3.9141985823539844}\n",
      "Best score: 0.04140490983908035\n",
      "CPU times: user 432 ms, sys: 46.3 ms, total: 478 ms\n",
      "Wall time: 431 ms\n"
     ]
    }
   ],
   "source": [
    "%%time\n",
    "# Creating Optuna object and defining its parameters\n",
    "study = optuna.create_study(direction='minimize')\n",
    "study.optimize(objective, n_trials = 50)\n",
    "\n",
    "# Showing optimization results\n",
    "print('Number of finished trials:', len(study.trials))\n",
    "print('Best trial parameters:', study.best_trial.params)\n",
    "print('Best score:', study.best_value)"
   ]
  },
  {
   "cell_type": "markdown",
   "metadata": {},
   "source": [
    "由上述的簡單例子我們可以知道建立一個 optuna 最佳化流程僅需要三步驟：\n",
    "1. 建立 objective 函式與設定 trial，並回傳 loss。\n",
    "2. 建立 `create_study()` 物件。\n",
    "3. 使用 `optimize()` 執行搜尋。\n"
   ]
  },
  {
   "cell_type": "markdown",
   "metadata": {},
   "source": [
    "## End-to-end example with XGBoost\n",
    "我們以 Sklearn 所提供的房價預測資料夾來做範例。此資料集共有 506 筆資料，其中輸入特徵有 13 個其輸出為預測該筆資料的房價。由於想要快速示範如何使用 optuna，因此這裡就不做任何資料 EDA 與前處理。"
   ]
  },
  {
   "cell_type": "code",
   "execution_count": 5,
   "metadata": {
    "execution": {
     "iopub.execute_input": "2021-08-04T08:22:50.833786Z",
     "iopub.status.busy": "2021-08-04T08:22:50.833371Z",
     "iopub.status.idle": "2021-08-04T08:22:50.927196Z",
     "shell.execute_reply": "2021-08-04T08:22:50.926148Z",
     "shell.execute_reply.started": "2021-08-04T08:22:50.833750Z"
    }
   },
   "outputs": [
    {
     "name": "stdout",
     "output_type": "stream",
     "text": [
      "X: (506, 13)\n",
      "y: (506,)\n"
     ]
    }
   ],
   "source": [
    "from sklearn.datasets import load_boston\n",
    "X, y = load_boston(return_X_y=True)\n",
    "print('X:',X.shape)\n",
    "print('y:',y.shape)"
   ]
  },
  {
   "cell_type": "markdown",
   "metadata": {},
   "source": [
    "資料集成功被載入後我們就可以建立一個 objective 函式。在這個目標函式中，我們建立了一個小範圍的的 XGBoost 超參數搜索空間。其每一個超參數都會有一個搜索的範圍，可以使用 `suggest_*` 方法設定區間。此方法必須輸入超參數的名稱，以及給予該參數的一組隨機範圍其型態有很多例如：`suggest_int`、`suggest_discrete_uniform`、`suggest_float`...等。更多詳細的內容可以從[官方文件](https://optuna.readthedocs.io/en/stable/reference/generated/optuna.trial.Trial.html)取得。或是也可以參考官方在 [GitHub](https://github.com/optuna/optuna-examples/tree/main/xgboost) 上對於 XGBoost 的使用範例。"
   ]
  },
  {
   "cell_type": "code",
   "execution_count": 6,
   "metadata": {
    "execution": {
     "iopub.execute_input": "2021-08-04T08:22:51.833728Z",
     "iopub.status.busy": "2021-08-04T08:22:51.833339Z",
     "iopub.status.idle": "2021-08-04T08:22:51.926961Z",
     "shell.execute_reply": "2021-08-04T08:22:51.925972Z",
     "shell.execute_reply.started": "2021-08-04T08:22:51.833694Z"
    }
   },
   "outputs": [],
   "source": [
    "import optuna\n",
    "import xgboost as xgb\n",
    "from sklearn.metrics import mean_squared_error\n",
    "from sklearn.model_selection import train_test_split\n",
    "\n",
    "def objective(trial, X=X, y=y):\n",
    "    \"\"\"\n",
    "    A function to train a model using different hyperparamerters combinations provided by Optuna. \n",
    "    Log loss of validation data predictions is returned to estimate hyperparameters effectiveness.\n",
    "    \"\"\"\n",
    "    X_train, X_valid, y_train, y_valid = train_test_split(X, y, test_size=0.4)\n",
    "\n",
    "    params = {\n",
    "        'max_depth': trial.suggest_int('max_depth', 6, 15),\n",
    "        \"subsample\": trial.suggest_float(\"subsample\", 0.2, 1.0),\n",
    "        'n_estimators': trial.suggest_int('n_estimators', 500, 2000, 100),\n",
    "        'eta': trial.suggest_float(\"eta\", 1e-8, 1.0, log=True),\n",
    "        'alpha': trial.suggest_float('alpha', 1e-8, 1.0, log=True),\n",
    "        'lambda': trial.suggest_float('lambda', 1e-8, 1.0, log=True),\n",
    "        'gamma': trial.suggest_float(\"gamma\", 1e-8, 1.0, log=True),\n",
    "        'min_child_weight': trial.suggest_int('min_child_weight', 2, 10),\n",
    "        'grow_policy': trial.suggest_categorical(\"grow_policy\", [\"depthwise\", \"lossguide\"]),\n",
    "        \"colsample_bytree\": trial.suggest_float(\"colsample_bytree\", 0.2, 1.0)\n",
    "    }\n",
    "\n",
    "    reg = xgb.XGBRegressor(**params)\n",
    "    reg.fit(X_train, y_train,\n",
    "            eval_set=[(X_valid, y_valid)], eval_metric='rmse',\n",
    "            verbose=False)\n",
    "    return mean_squared_error(y_valid, reg.predict(X_valid), squared=False)"
   ]
  },
  {
   "cell_type": "code",
   "execution_count": 13,
   "metadata": {
    "execution": {
     "iopub.execute_input": "2021-08-04T08:31:02.397424Z",
     "iopub.status.busy": "2021-08-04T08:31:02.397018Z",
     "iopub.status.idle": "2021-08-04T08:31:12.010492Z",
     "shell.execute_reply": "2021-08-04T08:31:12.009473Z",
     "shell.execute_reply.started": "2021-08-04T08:31:02.397371Z"
    }
   },
   "outputs": [
    {
     "name": "stderr",
     "output_type": "stream",
     "text": [
      "\u001b[32m[I 2021-08-04 08:31:02,400]\u001b[0m A new study created in memory with name: no-name-4eaf3c4d-e434-4dfd-9b0e-1a4a678863b6\u001b[0m\n",
      "\u001b[32m[I 2021-08-04 08:31:02,966]\u001b[0m Trial 0 finished with value: 23.43004811155196 and parameters: {'max_depth': 14, 'subsample': 0.8998831844318185, 'n_estimators': 700, 'eta': 5.2744054065145944e-05, 'alpha': 1.9595998907215243e-06, 'lambda': 3.8886724800128816e-07, 'gamma': 0.0003401624372181507, 'min_child_weight': 10, 'grow_policy': 'depthwise', 'colsample_bytree': 0.4060504769012863}. Best is trial 0 with value: 23.43004811155196.\u001b[0m\n",
      "\u001b[32m[I 2021-08-04 08:31:04,536]\u001b[0m Trial 1 finished with value: 3.623483113631351 and parameters: {'max_depth': 8, 'subsample': 0.9933787227246718, 'n_estimators': 1800, 'eta': 0.0027570634364581445, 'alpha': 3.2415102097910046e-06, 'lambda': 3.9016314675928876e-05, 'gamma': 0.10087309991295847, 'min_child_weight': 9, 'grow_policy': 'lossguide', 'colsample_bytree': 0.5554347428204337}. Best is trial 1 with value: 3.623483113631351.\u001b[0m\n",
      "\u001b[32m[I 2021-08-04 08:31:05,573]\u001b[0m Trial 2 finished with value: 8.819238163840618 and parameters: {'max_depth': 6, 'subsample': 0.26615849685142917, 'n_estimators': 1600, 'eta': 0.0006850242553351456, 'alpha': 0.003972906551623055, 'lambda': 1.3258885112660908e-05, 'gamma': 1.4577261843651751e-05, 'min_child_weight': 4, 'grow_policy': 'lossguide', 'colsample_bytree': 0.8193549888986089}. Best is trial 1 with value: 3.623483113631351.\u001b[0m\n",
      "\u001b[32m[I 2021-08-04 08:31:06,438]\u001b[0m Trial 3 finished with value: 23.239390100445757 and parameters: {'max_depth': 10, 'subsample': 0.30197461965015693, 'n_estimators': 1900, 'eta': 1.468342735829105e-05, 'alpha': 0.0844225982958723, 'lambda': 0.12340276659334191, 'gamma': 7.313455258192956e-06, 'min_child_weight': 10, 'grow_policy': 'lossguide', 'colsample_bytree': 0.35576007533849713}. Best is trial 1 with value: 3.623483113631351.\u001b[0m\n",
      "\u001b[32m[I 2021-08-04 08:31:07,092]\u001b[0m Trial 4 finished with value: 3.7994478953006072 and parameters: {'max_depth': 15, 'subsample': 0.5830150817273543, 'n_estimators': 1500, 'eta': 0.3097651699467635, 'alpha': 0.0004842174815635028, 'lambda': 2.3647927601775652e-07, 'gamma': 2.3801562880607437e-08, 'min_child_weight': 2, 'grow_policy': 'depthwise', 'colsample_bytree': 0.6594730775228099}. Best is trial 1 with value: 3.623483113631351.\u001b[0m\n",
      "\u001b[32m[I 2021-08-04 08:31:07,760]\u001b[0m Trial 5 finished with value: 3.577906394609281 and parameters: {'max_depth': 7, 'subsample': 0.6492839919549172, 'n_estimators': 900, 'eta': 0.010009645711449654, 'alpha': 1.1976656649253479e-07, 'lambda': 1.2346847173964657e-05, 'gamma': 9.593571453777484e-08, 'min_child_weight': 9, 'grow_policy': 'depthwise', 'colsample_bytree': 0.7636174194727676}. Best is trial 5 with value: 3.577906394609281.\u001b[0m\n",
      "\u001b[32m[I 2021-08-04 08:31:09,569]\u001b[0m Trial 6 finished with value: 4.152546376316326 and parameters: {'max_depth': 12, 'subsample': 0.9970943793108169, 'n_estimators': 1900, 'eta': 0.011504256655537838, 'alpha': 2.3507097852528737e-06, 'lambda': 0.006410439517281546, 'gamma': 1.8874977295950173e-08, 'min_child_weight': 6, 'grow_policy': 'lossguide', 'colsample_bytree': 0.24224827789839187}. Best is trial 5 with value: 3.577906394609281.\u001b[0m\n",
      "\u001b[32m[I 2021-08-04 08:31:10,204]\u001b[0m Trial 7 finished with value: 3.075839347690606 and parameters: {'max_depth': 14, 'subsample': 0.27261445097806325, 'n_estimators': 1200, 'eta': 0.005969814699373777, 'alpha': 0.00022127041330143656, 'lambda': 3.946866636631199e-07, 'gamma': 9.812798292197102e-07, 'min_child_weight': 6, 'grow_policy': 'depthwise', 'colsample_bytree': 0.22501880363625518}. Best is trial 7 with value: 3.075839347690606.\u001b[0m\n",
      "\u001b[32m[I 2021-08-04 08:31:11,209]\u001b[0m Trial 8 finished with value: 23.110537564194818 and parameters: {'max_depth': 14, 'subsample': 0.3816665307978899, 'n_estimators': 1700, 'eta': 1.2613619034433071e-08, 'alpha': 0.0007481464189126417, 'lambda': 5.378205340573512e-07, 'gamma': 0.052835392371252274, 'min_child_weight': 9, 'grow_policy': 'depthwise', 'colsample_bytree': 0.7315773761113278}. Best is trial 7 with value: 3.075839347690606.\u001b[0m\n",
      "\u001b[32m[I 2021-08-04 08:31:12,000]\u001b[0m Trial 9 finished with value: 23.906526286343148 and parameters: {'max_depth': 10, 'subsample': 0.7663334584732493, 'n_estimators': 1600, 'eta': 2.9583803857120106e-08, 'alpha': 2.8999349229775197e-07, 'lambda': 0.8081839243627994, 'gamma': 1.1340496982137625e-06, 'min_child_weight': 6, 'grow_policy': 'depthwise', 'colsample_bytree': 0.2106884106837087}. Best is trial 7 with value: 3.075839347690606.\u001b[0m\n"
     ]
    },
    {
     "name": "stdout",
     "output_type": "stream",
     "text": [
      "Number of finished trials: 10\n",
      "Best trial parameters: {'max_depth': 14, 'subsample': 0.27261445097806325, 'n_estimators': 1200, 'eta': 0.005969814699373777, 'alpha': 0.00022127041330143656, 'lambda': 3.946866636631199e-07, 'gamma': 9.812798292197102e-07, 'min_child_weight': 6, 'grow_policy': 'depthwise', 'colsample_bytree': 0.22501880363625518}\n",
      "Best score: 3.075839347690606\n",
      "CPU times: user 30 s, sys: 535 ms, total: 30.5 s\n",
      "Wall time: 9.61 s\n"
     ]
    }
   ],
   "source": [
    "%%time\n",
    "# Creating Optuna ob＄＄ject and defining its parameters\n",
    "study = optuna.create_study(direction='minimize')\n",
    "study.optimize(objective, n_trials = 10)\n",
    "\n",
    "# Showing optimization results\n",
    "print('Number of finished trials:', len(study.trials))\n",
    "print('Best trial parameters:', study.best_trial.params)\n",
    "print('Best score:', study.best_value)"
   ]
  },
  {
   "cell_type": "markdown",
   "metadata": {},
   "source": [
    "Optuna 預設的超參數搜尋方法能有效地在短時間內往最佳的方向去尋找一組適合的參數。與 GridSearch 相比原本可能需要數小時的搜索空間在短短的幾分鐘內就可以獲得不錯的經果。並且有效的降低 loss。除了回歸問題 Optuna 也能對分類問題進行超參數搜尋，官方的 [GitHub](https://github.com/optuna/optuna-examples) 也有提供各種不同機器學習框架的寫法。"
   ]
  },
  {
   "cell_type": "markdown",
   "metadata": {},
   "source": [
    "##  Optuna如何採樣參數？\n",
    "TPESampler 為預設的超參數採樣器。它試圖透過提高最後一次試驗的分數來對超參數候選者進行採樣。除此之外 Optuna 提供了以下這幾個參數採樣的方式:\n",
    "- `GridSampler`: 與 Sklearn 的 `GridSearch` 採樣方式相同。使用此方法時建議不要設定太大的範圍。\n",
    "- `RandomSampler`: 與 Sklearn 的 `RandomizedGridSearch` 採樣方式相同。\n",
    "- `TPESampler`: 全名 Tree-structured Parzen Estimator sampler。預設採樣方式。\n",
    "- `CmaEsSampler`: 基於 CMA ES 演算算法的採樣器 (不支援類別型的超參數).\n",
    "\n",
    "如果需要替換採樣參數的方式可以參考以下程式。"
   ]
  },
  {
   "cell_type": "code",
   "execution_count": null,
   "metadata": {},
   "outputs": [],
   "source": [
    "from optuna.samplers import CmaEsSampler, RandomSampler\n",
    "\n",
    "# Study with a random sampler\n",
    "study_1 = optuna.create_study(sampler=RandomSampler(seed=1121218))\n",
    "\n",
    "# Study with a CMA ES sampler\n",
    "study_2 = optuna.create_study(sampler=CmaEsSampler(seed=1121218))"
   ]
  },
  {
   "cell_type": "markdown",
   "metadata": {},
   "source": [
    "## Optuna 視覺化分析\n",
    "Optuna 在同時也提供了視覺化的套件:\n",
    "- plot_optimization_history (視覺化優化的過程)\n",
    "- plot_intermediate_values (視覺化學習的曲線)\n",
    "- plot_parallel_coordinate (視覺化高維度中參數間的彼此關係)\n",
    "- plot_contour (視覺化參數間的彼此關係)\n",
    "- plot_slice (視覺化個別參數)\n",
    "- plot_param_importances (參數對模型的重要程度)\n",
    "- plot_edf (視覺化驗分佈函數)\n",
    "\n",
    "\n",
    "延續上面的範例我們來視覺化展示 Optuna 搜尋的過程與結果。首先我們來繪製 `study` 的優化歷史過程。"
   ]
  },
  {
   "cell_type": "code",
   "execution_count": 14,
   "metadata": {
    "execution": {
     "iopub.execute_input": "2021-08-04T08:31:16.132455Z",
     "iopub.status.busy": "2021-08-04T08:31:16.132077Z",
     "iopub.status.idle": "2021-08-04T08:31:16.149005Z",
     "shell.execute_reply": "2021-08-04T08:31:16.147967Z",
     "shell.execute_reply.started": "2021-08-04T08:31:16.132423Z"
    }
   },
   "outputs": [
    {
     "data": {
      "text/html": [
       "<div>                            <div id=\"33693eba-4ba9-4103-a8d1-0561794cf3d3\" class=\"plotly-graph-div\" style=\"height:525px; width:100%;\"></div>            <script type=\"text/javascript\">                require([\"plotly\"], function(Plotly) {                    window.PLOTLYENV=window.PLOTLYENV || {};                                    if (document.getElementById(\"33693eba-4ba9-4103-a8d1-0561794cf3d3\")) {                    Plotly.newPlot(                        \"33693eba-4ba9-4103-a8d1-0561794cf3d3\",                        [{\"mode\":\"markers\",\"name\":\"Objective Value\",\"type\":\"scatter\",\"x\":[0,1,2,3,4,5,6,7,8,9],\"y\":[23.43004811155196,3.623483113631351,8.819238163840618,23.239390100445757,3.7994478953006072,3.577906394609281,4.152546376316326,3.075839347690606,23.110537564194818,23.906526286343148]},{\"name\":\"Best Value\",\"type\":\"scatter\",\"x\":[0,1,2,3,4,5,6,7,8,9],\"y\":[23.43004811155196,3.623483113631351,3.623483113631351,3.623483113631351,3.623483113631351,3.577906394609281,3.577906394609281,3.075839347690606,3.075839347690606,3.075839347690606]}],                        {\"template\":{\"data\":{\"bar\":[{\"error_x\":{\"color\":\"#2a3f5f\"},\"error_y\":{\"color\":\"#2a3f5f\"},\"marker\":{\"line\":{\"color\":\"#E5ECF6\",\"width\":0.5},\"pattern\":{\"fillmode\":\"overlay\",\"size\":10,\"solidity\":0.2}},\"type\":\"bar\"}],\"barpolar\":[{\"marker\":{\"line\":{\"color\":\"#E5ECF6\",\"width\":0.5},\"pattern\":{\"fillmode\":\"overlay\",\"size\":10,\"solidity\":0.2}},\"type\":\"barpolar\"}],\"carpet\":[{\"aaxis\":{\"endlinecolor\":\"#2a3f5f\",\"gridcolor\":\"white\",\"linecolor\":\"white\",\"minorgridcolor\":\"white\",\"startlinecolor\":\"#2a3f5f\"},\"baxis\":{\"endlinecolor\":\"#2a3f5f\",\"gridcolor\":\"white\",\"linecolor\":\"white\",\"minorgridcolor\":\"white\",\"startlinecolor\":\"#2a3f5f\"},\"type\":\"carpet\"}],\"choropleth\":[{\"colorbar\":{\"outlinewidth\":0,\"ticks\":\"\"},\"type\":\"choropleth\"}],\"contour\":[{\"colorbar\":{\"outlinewidth\":0,\"ticks\":\"\"},\"colorscale\":[[0.0,\"#0d0887\"],[0.1111111111111111,\"#46039f\"],[0.2222222222222222,\"#7201a8\"],[0.3333333333333333,\"#9c179e\"],[0.4444444444444444,\"#bd3786\"],[0.5555555555555556,\"#d8576b\"],[0.6666666666666666,\"#ed7953\"],[0.7777777777777778,\"#fb9f3a\"],[0.8888888888888888,\"#fdca26\"],[1.0,\"#f0f921\"]],\"type\":\"contour\"}],\"contourcarpet\":[{\"colorbar\":{\"outlinewidth\":0,\"ticks\":\"\"},\"type\":\"contourcarpet\"}],\"heatmap\":[{\"colorbar\":{\"outlinewidth\":0,\"ticks\":\"\"},\"colorscale\":[[0.0,\"#0d0887\"],[0.1111111111111111,\"#46039f\"],[0.2222222222222222,\"#7201a8\"],[0.3333333333333333,\"#9c179e\"],[0.4444444444444444,\"#bd3786\"],[0.5555555555555556,\"#d8576b\"],[0.6666666666666666,\"#ed7953\"],[0.7777777777777778,\"#fb9f3a\"],[0.8888888888888888,\"#fdca26\"],[1.0,\"#f0f921\"]],\"type\":\"heatmap\"}],\"heatmapgl\":[{\"colorbar\":{\"outlinewidth\":0,\"ticks\":\"\"},\"colorscale\":[[0.0,\"#0d0887\"],[0.1111111111111111,\"#46039f\"],[0.2222222222222222,\"#7201a8\"],[0.3333333333333333,\"#9c179e\"],[0.4444444444444444,\"#bd3786\"],[0.5555555555555556,\"#d8576b\"],[0.6666666666666666,\"#ed7953\"],[0.7777777777777778,\"#fb9f3a\"],[0.8888888888888888,\"#fdca26\"],[1.0,\"#f0f921\"]],\"type\":\"heatmapgl\"}],\"histogram\":[{\"marker\":{\"pattern\":{\"fillmode\":\"overlay\",\"size\":10,\"solidity\":0.2}},\"type\":\"histogram\"}],\"histogram2d\":[{\"colorbar\":{\"outlinewidth\":0,\"ticks\":\"\"},\"colorscale\":[[0.0,\"#0d0887\"],[0.1111111111111111,\"#46039f\"],[0.2222222222222222,\"#7201a8\"],[0.3333333333333333,\"#9c179e\"],[0.4444444444444444,\"#bd3786\"],[0.5555555555555556,\"#d8576b\"],[0.6666666666666666,\"#ed7953\"],[0.7777777777777778,\"#fb9f3a\"],[0.8888888888888888,\"#fdca26\"],[1.0,\"#f0f921\"]],\"type\":\"histogram2d\"}],\"histogram2dcontour\":[{\"colorbar\":{\"outlinewidth\":0,\"ticks\":\"\"},\"colorscale\":[[0.0,\"#0d0887\"],[0.1111111111111111,\"#46039f\"],[0.2222222222222222,\"#7201a8\"],[0.3333333333333333,\"#9c179e\"],[0.4444444444444444,\"#bd3786\"],[0.5555555555555556,\"#d8576b\"],[0.6666666666666666,\"#ed7953\"],[0.7777777777777778,\"#fb9f3a\"],[0.8888888888888888,\"#fdca26\"],[1.0,\"#f0f921\"]],\"type\":\"histogram2dcontour\"}],\"mesh3d\":[{\"colorbar\":{\"outlinewidth\":0,\"ticks\":\"\"},\"type\":\"mesh3d\"}],\"parcoords\":[{\"line\":{\"colorbar\":{\"outlinewidth\":0,\"ticks\":\"\"}},\"type\":\"parcoords\"}],\"pie\":[{\"automargin\":true,\"type\":\"pie\"}],\"scatter\":[{\"marker\":{\"colorbar\":{\"outlinewidth\":0,\"ticks\":\"\"}},\"type\":\"scatter\"}],\"scatter3d\":[{\"line\":{\"colorbar\":{\"outlinewidth\":0,\"ticks\":\"\"}},\"marker\":{\"colorbar\":{\"outlinewidth\":0,\"ticks\":\"\"}},\"type\":\"scatter3d\"}],\"scattercarpet\":[{\"marker\":{\"colorbar\":{\"outlinewidth\":0,\"ticks\":\"\"}},\"type\":\"scattercarpet\"}],\"scattergeo\":[{\"marker\":{\"colorbar\":{\"outlinewidth\":0,\"ticks\":\"\"}},\"type\":\"scattergeo\"}],\"scattergl\":[{\"marker\":{\"colorbar\":{\"outlinewidth\":0,\"ticks\":\"\"}},\"type\":\"scattergl\"}],\"scattermapbox\":[{\"marker\":{\"colorbar\":{\"outlinewidth\":0,\"ticks\":\"\"}},\"type\":\"scattermapbox\"}],\"scatterpolar\":[{\"marker\":{\"colorbar\":{\"outlinewidth\":0,\"ticks\":\"\"}},\"type\":\"scatterpolar\"}],\"scatterpolargl\":[{\"marker\":{\"colorbar\":{\"outlinewidth\":0,\"ticks\":\"\"}},\"type\":\"scatterpolargl\"}],\"scatterternary\":[{\"marker\":{\"colorbar\":{\"outlinewidth\":0,\"ticks\":\"\"}},\"type\":\"scatterternary\"}],\"surface\":[{\"colorbar\":{\"outlinewidth\":0,\"ticks\":\"\"},\"colorscale\":[[0.0,\"#0d0887\"],[0.1111111111111111,\"#46039f\"],[0.2222222222222222,\"#7201a8\"],[0.3333333333333333,\"#9c179e\"],[0.4444444444444444,\"#bd3786\"],[0.5555555555555556,\"#d8576b\"],[0.6666666666666666,\"#ed7953\"],[0.7777777777777778,\"#fb9f3a\"],[0.8888888888888888,\"#fdca26\"],[1.0,\"#f0f921\"]],\"type\":\"surface\"}],\"table\":[{\"cells\":{\"fill\":{\"color\":\"#EBF0F8\"},\"line\":{\"color\":\"white\"}},\"header\":{\"fill\":{\"color\":\"#C8D4E3\"},\"line\":{\"color\":\"white\"}},\"type\":\"table\"}]},\"layout\":{\"annotationdefaults\":{\"arrowcolor\":\"#2a3f5f\",\"arrowhead\":0,\"arrowwidth\":1},\"autotypenumbers\":\"strict\",\"coloraxis\":{\"colorbar\":{\"outlinewidth\":0,\"ticks\":\"\"}},\"colorscale\":{\"diverging\":[[0,\"#8e0152\"],[0.1,\"#c51b7d\"],[0.2,\"#de77ae\"],[0.3,\"#f1b6da\"],[0.4,\"#fde0ef\"],[0.5,\"#f7f7f7\"],[0.6,\"#e6f5d0\"],[0.7,\"#b8e186\"],[0.8,\"#7fbc41\"],[0.9,\"#4d9221\"],[1,\"#276419\"]],\"sequential\":[[0.0,\"#0d0887\"],[0.1111111111111111,\"#46039f\"],[0.2222222222222222,\"#7201a8\"],[0.3333333333333333,\"#9c179e\"],[0.4444444444444444,\"#bd3786\"],[0.5555555555555556,\"#d8576b\"],[0.6666666666666666,\"#ed7953\"],[0.7777777777777778,\"#fb9f3a\"],[0.8888888888888888,\"#fdca26\"],[1.0,\"#f0f921\"]],\"sequentialminus\":[[0.0,\"#0d0887\"],[0.1111111111111111,\"#46039f\"],[0.2222222222222222,\"#7201a8\"],[0.3333333333333333,\"#9c179e\"],[0.4444444444444444,\"#bd3786\"],[0.5555555555555556,\"#d8576b\"],[0.6666666666666666,\"#ed7953\"],[0.7777777777777778,\"#fb9f3a\"],[0.8888888888888888,\"#fdca26\"],[1.0,\"#f0f921\"]]},\"colorway\":[\"#636efa\",\"#EF553B\",\"#00cc96\",\"#ab63fa\",\"#FFA15A\",\"#19d3f3\",\"#FF6692\",\"#B6E880\",\"#FF97FF\",\"#FECB52\"],\"font\":{\"color\":\"#2a3f5f\"},\"geo\":{\"bgcolor\":\"white\",\"lakecolor\":\"white\",\"landcolor\":\"#E5ECF6\",\"showlakes\":true,\"showland\":true,\"subunitcolor\":\"white\"},\"hoverlabel\":{\"align\":\"left\"},\"hovermode\":\"closest\",\"mapbox\":{\"style\":\"light\"},\"paper_bgcolor\":\"white\",\"plot_bgcolor\":\"#E5ECF6\",\"polar\":{\"angularaxis\":{\"gridcolor\":\"white\",\"linecolor\":\"white\",\"ticks\":\"\"},\"bgcolor\":\"#E5ECF6\",\"radialaxis\":{\"gridcolor\":\"white\",\"linecolor\":\"white\",\"ticks\":\"\"}},\"scene\":{\"xaxis\":{\"backgroundcolor\":\"#E5ECF6\",\"gridcolor\":\"white\",\"gridwidth\":2,\"linecolor\":\"white\",\"showbackground\":true,\"ticks\":\"\",\"zerolinecolor\":\"white\"},\"yaxis\":{\"backgroundcolor\":\"#E5ECF6\",\"gridcolor\":\"white\",\"gridwidth\":2,\"linecolor\":\"white\",\"showbackground\":true,\"ticks\":\"\",\"zerolinecolor\":\"white\"},\"zaxis\":{\"backgroundcolor\":\"#E5ECF6\",\"gridcolor\":\"white\",\"gridwidth\":2,\"linecolor\":\"white\",\"showbackground\":true,\"ticks\":\"\",\"zerolinecolor\":\"white\"}},\"shapedefaults\":{\"line\":{\"color\":\"#2a3f5f\"}},\"ternary\":{\"aaxis\":{\"gridcolor\":\"white\",\"linecolor\":\"white\",\"ticks\":\"\"},\"baxis\":{\"gridcolor\":\"white\",\"linecolor\":\"white\",\"ticks\":\"\"},\"bgcolor\":\"#E5ECF6\",\"caxis\":{\"gridcolor\":\"white\",\"linecolor\":\"white\",\"ticks\":\"\"}},\"title\":{\"x\":0.05},\"xaxis\":{\"automargin\":true,\"gridcolor\":\"white\",\"linecolor\":\"white\",\"ticks\":\"\",\"title\":{\"standoff\":15},\"zerolinecolor\":\"white\",\"zerolinewidth\":2},\"yaxis\":{\"automargin\":true,\"gridcolor\":\"white\",\"linecolor\":\"white\",\"ticks\":\"\",\"title\":{\"standoff\":15},\"zerolinecolor\":\"white\",\"zerolinewidth\":2}}},\"title\":{\"text\":\"Optimization History Plot\"},\"xaxis\":{\"title\":{\"text\":\"#Trials\"}},\"yaxis\":{\"title\":{\"text\":\"Objective Value\"}}},                        {\"staticPlot\": true, \"responsive\": true}                    ).then(function(){\n",
       "                            \n",
       "var gd = document.getElementById('33693eba-4ba9-4103-a8d1-0561794cf3d3');\n",
       "var x = new MutationObserver(function (mutations, observer) {{\n",
       "        var display = window.getComputedStyle(gd).display;\n",
       "        if (!display || display === 'none') {{\n",
       "            console.log([gd, 'removed!']);\n",
       "            Plotly.purge(gd);\n",
       "            observer.disconnect();\n",
       "        }}\n",
       "}});\n",
       "\n",
       "// Listen for the removal of the full notebook cells\n",
       "var notebookContainer = gd.closest('#notebook-container');\n",
       "if (notebookContainer) {{\n",
       "    x.observe(notebookContainer, {childList: true});\n",
       "}}\n",
       "\n",
       "// Listen for the clearing of the current output cell\n",
       "var outputEl = gd.closest('.output');\n",
       "if (outputEl) {{\n",
       "    x.observe(outputEl, {childList: true});\n",
       "}}\n",
       "\n",
       "                        })                };                });            </script>        </div>"
      ]
     },
     "metadata": {},
     "output_type": "display_data"
    }
   ],
   "source": [
    "from optuna.visualization import plot_optimization_history\n",
    "\n",
    "plotly_config = {\"staticPlot\": True}\n",
    "\n",
    "fig = plot_optimization_history(study)\n",
    "fig.show(config=plotly_config)"
   ]
  },
  {
   "cell_type": "markdown",
   "metadata": {},
   "source": [
    "這張圖告訴我們，Optuna 只經過幾次試驗就使分數收斂到最小值。接下來，讓我們繪製超參數重要性："
   ]
  },
  {
   "cell_type": "code",
   "execution_count": 12,
   "metadata": {
    "execution": {
     "iopub.execute_input": "2021-08-04T08:24:27.247455Z",
     "iopub.status.busy": "2021-08-04T08:24:27.246760Z",
     "iopub.status.idle": "2021-08-04T08:24:27.767083Z",
     "shell.execute_reply": "2021-08-04T08:24:27.765989Z",
     "shell.execute_reply.started": "2021-08-04T08:24:27.247393Z"
    }
   },
   "outputs": [
    {
     "data": {
      "text/html": [
       "<div>                            <div id=\"f5ab26a6-ab2f-45cb-ae67-5991d82d9e93\" class=\"plotly-graph-div\" style=\"height:525px; width:100%;\"></div>            <script type=\"text/javascript\">                require([\"plotly\"], function(Plotly) {                    window.PLOTLYENV=window.PLOTLYENV || {};                                    if (document.getElementById(\"f5ab26a6-ab2f-45cb-ae67-5991d82d9e93\")) {                    Plotly.newPlot(                        \"f5ab26a6-ab2f-45cb-ae67-5991d82d9e93\",                        [{\"cliponaxis\":false,\"hovertemplate\":[\"lambda (LogUniformDistribution): 0.002379016921598351<extra></extra>\",\"grow_policy (CategoricalDistribution): 0.010118738626207796<extra></extra>\",\"gamma (LogUniformDistribution): 0.030078124809650848<extra></extra>\",\"subsample (UniformDistribution): 0.032609315129444774<extra></extra>\",\"min_child_weight (IntUniformDistribution): 0.05534040357119688<extra></extra>\",\"max_depth (IntUniformDistribution): 0.08469062561825938<extra></extra>\",\"n_estimators (IntUniformDistribution): 0.09013524397492426<extra></extra>\",\"colsample_bytree (UniformDistribution): 0.11885356350577253<extra></extra>\",\"alpha (LogUniformDistribution): 0.14593228385660317<extra></extra>\",\"eta (LogUniformDistribution): 0.4298626839863421<extra></extra>\"],\"marker\":{\"color\":\"rgb(66,146,198)\"},\"orientation\":\"h\",\"text\":[\"0.002379016921598351\",\"0.010118738626207796\",\"0.030078124809650848\",\"0.032609315129444774\",\"0.05534040357119688\",\"0.08469062561825938\",\"0.09013524397492426\",\"0.11885356350577253\",\"0.14593228385660317\",\"0.4298626839863421\"],\"textposition\":\"outside\",\"texttemplate\":\"%{text:.2f}\",\"type\":\"bar\",\"x\":[0.002379016921598351,0.010118738626207796,0.030078124809650848,0.032609315129444774,0.05534040357119688,0.08469062561825938,0.09013524397492426,0.11885356350577253,0.14593228385660317,0.4298626839863421],\"y\":[\"lambda\",\"grow_policy\",\"gamma\",\"subsample\",\"min_child_weight\",\"max_depth\",\"n_estimators\",\"colsample_bytree\",\"alpha\",\"eta\"]}],                        {\"showlegend\":false,\"template\":{\"data\":{\"bar\":[{\"error_x\":{\"color\":\"#2a3f5f\"},\"error_y\":{\"color\":\"#2a3f5f\"},\"marker\":{\"line\":{\"color\":\"#E5ECF6\",\"width\":0.5},\"pattern\":{\"fillmode\":\"overlay\",\"size\":10,\"solidity\":0.2}},\"type\":\"bar\"}],\"barpolar\":[{\"marker\":{\"line\":{\"color\":\"#E5ECF6\",\"width\":0.5},\"pattern\":{\"fillmode\":\"overlay\",\"size\":10,\"solidity\":0.2}},\"type\":\"barpolar\"}],\"carpet\":[{\"aaxis\":{\"endlinecolor\":\"#2a3f5f\",\"gridcolor\":\"white\",\"linecolor\":\"white\",\"minorgridcolor\":\"white\",\"startlinecolor\":\"#2a3f5f\"},\"baxis\":{\"endlinecolor\":\"#2a3f5f\",\"gridcolor\":\"white\",\"linecolor\":\"white\",\"minorgridcolor\":\"white\",\"startlinecolor\":\"#2a3f5f\"},\"type\":\"carpet\"}],\"choropleth\":[{\"colorbar\":{\"outlinewidth\":0,\"ticks\":\"\"},\"type\":\"choropleth\"}],\"contour\":[{\"colorbar\":{\"outlinewidth\":0,\"ticks\":\"\"},\"colorscale\":[[0.0,\"#0d0887\"],[0.1111111111111111,\"#46039f\"],[0.2222222222222222,\"#7201a8\"],[0.3333333333333333,\"#9c179e\"],[0.4444444444444444,\"#bd3786\"],[0.5555555555555556,\"#d8576b\"],[0.6666666666666666,\"#ed7953\"],[0.7777777777777778,\"#fb9f3a\"],[0.8888888888888888,\"#fdca26\"],[1.0,\"#f0f921\"]],\"type\":\"contour\"}],\"contourcarpet\":[{\"colorbar\":{\"outlinewidth\":0,\"ticks\":\"\"},\"type\":\"contourcarpet\"}],\"heatmap\":[{\"colorbar\":{\"outlinewidth\":0,\"ticks\":\"\"},\"colorscale\":[[0.0,\"#0d0887\"],[0.1111111111111111,\"#46039f\"],[0.2222222222222222,\"#7201a8\"],[0.3333333333333333,\"#9c179e\"],[0.4444444444444444,\"#bd3786\"],[0.5555555555555556,\"#d8576b\"],[0.6666666666666666,\"#ed7953\"],[0.7777777777777778,\"#fb9f3a\"],[0.8888888888888888,\"#fdca26\"],[1.0,\"#f0f921\"]],\"type\":\"heatmap\"}],\"heatmapgl\":[{\"colorbar\":{\"outlinewidth\":0,\"ticks\":\"\"},\"colorscale\":[[0.0,\"#0d0887\"],[0.1111111111111111,\"#46039f\"],[0.2222222222222222,\"#7201a8\"],[0.3333333333333333,\"#9c179e\"],[0.4444444444444444,\"#bd3786\"],[0.5555555555555556,\"#d8576b\"],[0.6666666666666666,\"#ed7953\"],[0.7777777777777778,\"#fb9f3a\"],[0.8888888888888888,\"#fdca26\"],[1.0,\"#f0f921\"]],\"type\":\"heatmapgl\"}],\"histogram\":[{\"marker\":{\"pattern\":{\"fillmode\":\"overlay\",\"size\":10,\"solidity\":0.2}},\"type\":\"histogram\"}],\"histogram2d\":[{\"colorbar\":{\"outlinewidth\":0,\"ticks\":\"\"},\"colorscale\":[[0.0,\"#0d0887\"],[0.1111111111111111,\"#46039f\"],[0.2222222222222222,\"#7201a8\"],[0.3333333333333333,\"#9c179e\"],[0.4444444444444444,\"#bd3786\"],[0.5555555555555556,\"#d8576b\"],[0.6666666666666666,\"#ed7953\"],[0.7777777777777778,\"#fb9f3a\"],[0.8888888888888888,\"#fdca26\"],[1.0,\"#f0f921\"]],\"type\":\"histogram2d\"}],\"histogram2dcontour\":[{\"colorbar\":{\"outlinewidth\":0,\"ticks\":\"\"},\"colorscale\":[[0.0,\"#0d0887\"],[0.1111111111111111,\"#46039f\"],[0.2222222222222222,\"#7201a8\"],[0.3333333333333333,\"#9c179e\"],[0.4444444444444444,\"#bd3786\"],[0.5555555555555556,\"#d8576b\"],[0.6666666666666666,\"#ed7953\"],[0.7777777777777778,\"#fb9f3a\"],[0.8888888888888888,\"#fdca26\"],[1.0,\"#f0f921\"]],\"type\":\"histogram2dcontour\"}],\"mesh3d\":[{\"colorbar\":{\"outlinewidth\":0,\"ticks\":\"\"},\"type\":\"mesh3d\"}],\"parcoords\":[{\"line\":{\"colorbar\":{\"outlinewidth\":0,\"ticks\":\"\"}},\"type\":\"parcoords\"}],\"pie\":[{\"automargin\":true,\"type\":\"pie\"}],\"scatter\":[{\"marker\":{\"colorbar\":{\"outlinewidth\":0,\"ticks\":\"\"}},\"type\":\"scatter\"}],\"scatter3d\":[{\"line\":{\"colorbar\":{\"outlinewidth\":0,\"ticks\":\"\"}},\"marker\":{\"colorbar\":{\"outlinewidth\":0,\"ticks\":\"\"}},\"type\":\"scatter3d\"}],\"scattercarpet\":[{\"marker\":{\"colorbar\":{\"outlinewidth\":0,\"ticks\":\"\"}},\"type\":\"scattercarpet\"}],\"scattergeo\":[{\"marker\":{\"colorbar\":{\"outlinewidth\":0,\"ticks\":\"\"}},\"type\":\"scattergeo\"}],\"scattergl\":[{\"marker\":{\"colorbar\":{\"outlinewidth\":0,\"ticks\":\"\"}},\"type\":\"scattergl\"}],\"scattermapbox\":[{\"marker\":{\"colorbar\":{\"outlinewidth\":0,\"ticks\":\"\"}},\"type\":\"scattermapbox\"}],\"scatterpolar\":[{\"marker\":{\"colorbar\":{\"outlinewidth\":0,\"ticks\":\"\"}},\"type\":\"scatterpolar\"}],\"scatterpolargl\":[{\"marker\":{\"colorbar\":{\"outlinewidth\":0,\"ticks\":\"\"}},\"type\":\"scatterpolargl\"}],\"scatterternary\":[{\"marker\":{\"colorbar\":{\"outlinewidth\":0,\"ticks\":\"\"}},\"type\":\"scatterternary\"}],\"surface\":[{\"colorbar\":{\"outlinewidth\":0,\"ticks\":\"\"},\"colorscale\":[[0.0,\"#0d0887\"],[0.1111111111111111,\"#46039f\"],[0.2222222222222222,\"#7201a8\"],[0.3333333333333333,\"#9c179e\"],[0.4444444444444444,\"#bd3786\"],[0.5555555555555556,\"#d8576b\"],[0.6666666666666666,\"#ed7953\"],[0.7777777777777778,\"#fb9f3a\"],[0.8888888888888888,\"#fdca26\"],[1.0,\"#f0f921\"]],\"type\":\"surface\"}],\"table\":[{\"cells\":{\"fill\":{\"color\":\"#EBF0F8\"},\"line\":{\"color\":\"white\"}},\"header\":{\"fill\":{\"color\":\"#C8D4E3\"},\"line\":{\"color\":\"white\"}},\"type\":\"table\"}]},\"layout\":{\"annotationdefaults\":{\"arrowcolor\":\"#2a3f5f\",\"arrowhead\":0,\"arrowwidth\":1},\"autotypenumbers\":\"strict\",\"coloraxis\":{\"colorbar\":{\"outlinewidth\":0,\"ticks\":\"\"}},\"colorscale\":{\"diverging\":[[0,\"#8e0152\"],[0.1,\"#c51b7d\"],[0.2,\"#de77ae\"],[0.3,\"#f1b6da\"],[0.4,\"#fde0ef\"],[0.5,\"#f7f7f7\"],[0.6,\"#e6f5d0\"],[0.7,\"#b8e186\"],[0.8,\"#7fbc41\"],[0.9,\"#4d9221\"],[1,\"#276419\"]],\"sequential\":[[0.0,\"#0d0887\"],[0.1111111111111111,\"#46039f\"],[0.2222222222222222,\"#7201a8\"],[0.3333333333333333,\"#9c179e\"],[0.4444444444444444,\"#bd3786\"],[0.5555555555555556,\"#d8576b\"],[0.6666666666666666,\"#ed7953\"],[0.7777777777777778,\"#fb9f3a\"],[0.8888888888888888,\"#fdca26\"],[1.0,\"#f0f921\"]],\"sequentialminus\":[[0.0,\"#0d0887\"],[0.1111111111111111,\"#46039f\"],[0.2222222222222222,\"#7201a8\"],[0.3333333333333333,\"#9c179e\"],[0.4444444444444444,\"#bd3786\"],[0.5555555555555556,\"#d8576b\"],[0.6666666666666666,\"#ed7953\"],[0.7777777777777778,\"#fb9f3a\"],[0.8888888888888888,\"#fdca26\"],[1.0,\"#f0f921\"]]},\"colorway\":[\"#636efa\",\"#EF553B\",\"#00cc96\",\"#ab63fa\",\"#FFA15A\",\"#19d3f3\",\"#FF6692\",\"#B6E880\",\"#FF97FF\",\"#FECB52\"],\"font\":{\"color\":\"#2a3f5f\"},\"geo\":{\"bgcolor\":\"white\",\"lakecolor\":\"white\",\"landcolor\":\"#E5ECF6\",\"showlakes\":true,\"showland\":true,\"subunitcolor\":\"white\"},\"hoverlabel\":{\"align\":\"left\"},\"hovermode\":\"closest\",\"mapbox\":{\"style\":\"light\"},\"paper_bgcolor\":\"white\",\"plot_bgcolor\":\"#E5ECF6\",\"polar\":{\"angularaxis\":{\"gridcolor\":\"white\",\"linecolor\":\"white\",\"ticks\":\"\"},\"bgcolor\":\"#E5ECF6\",\"radialaxis\":{\"gridcolor\":\"white\",\"linecolor\":\"white\",\"ticks\":\"\"}},\"scene\":{\"xaxis\":{\"backgroundcolor\":\"#E5ECF6\",\"gridcolor\":\"white\",\"gridwidth\":2,\"linecolor\":\"white\",\"showbackground\":true,\"ticks\":\"\",\"zerolinecolor\":\"white\"},\"yaxis\":{\"backgroundcolor\":\"#E5ECF6\",\"gridcolor\":\"white\",\"gridwidth\":2,\"linecolor\":\"white\",\"showbackground\":true,\"ticks\":\"\",\"zerolinecolor\":\"white\"},\"zaxis\":{\"backgroundcolor\":\"#E5ECF6\",\"gridcolor\":\"white\",\"gridwidth\":2,\"linecolor\":\"white\",\"showbackground\":true,\"ticks\":\"\",\"zerolinecolor\":\"white\"}},\"shapedefaults\":{\"line\":{\"color\":\"#2a3f5f\"}},\"ternary\":{\"aaxis\":{\"gridcolor\":\"white\",\"linecolor\":\"white\",\"ticks\":\"\"},\"baxis\":{\"gridcolor\":\"white\",\"linecolor\":\"white\",\"ticks\":\"\"},\"bgcolor\":\"#E5ECF6\",\"caxis\":{\"gridcolor\":\"white\",\"linecolor\":\"white\",\"ticks\":\"\"}},\"title\":{\"x\":0.05},\"xaxis\":{\"automargin\":true,\"gridcolor\":\"white\",\"linecolor\":\"white\",\"ticks\":\"\",\"title\":{\"standoff\":15},\"zerolinecolor\":\"white\",\"zerolinewidth\":2},\"yaxis\":{\"automargin\":true,\"gridcolor\":\"white\",\"linecolor\":\"white\",\"ticks\":\"\",\"title\":{\"standoff\":15},\"zerolinecolor\":\"white\",\"zerolinewidth\":2}}},\"title\":{\"text\":\"Hyperparameter Importances\"},\"xaxis\":{\"title\":{\"text\":\"Importance for Objective Value\"}},\"yaxis\":{\"title\":{\"text\":\"Hyperparameter\"}}},                        {\"staticPlot\": true, \"responsive\": true}                    ).then(function(){\n",
       "                            \n",
       "var gd = document.getElementById('f5ab26a6-ab2f-45cb-ae67-5991d82d9e93');\n",
       "var x = new MutationObserver(function (mutations, observer) {{\n",
       "        var display = window.getComputedStyle(gd).display;\n",
       "        if (!display || display === 'none') {{\n",
       "            console.log([gd, 'removed!']);\n",
       "            Plotly.purge(gd);\n",
       "            observer.disconnect();\n",
       "        }}\n",
       "}});\n",
       "\n",
       "// Listen for the removal of the full notebook cells\n",
       "var notebookContainer = gd.closest('#notebook-container');\n",
       "if (notebookContainer) {{\n",
       "    x.observe(notebookContainer, {childList: true});\n",
       "}}\n",
       "\n",
       "// Listen for the clearing of the current output cell\n",
       "var outputEl = gd.closest('.output');\n",
       "if (outputEl) {{\n",
       "    x.observe(outputEl, {childList: true});\n",
       "}}\n",
       "\n",
       "                        })                };                });            </script>        </div>"
      ]
     },
     "metadata": {},
     "output_type": "display_data"
    }
   ],
   "source": [
    "from optuna.visualization import plot_param_importances\n",
    "\n",
    "fig = plot_param_importances(study)\n",
    "fig.show(config=plotly_config)"
   ]
  },
  {
   "cell_type": "markdown",
   "metadata": {},
   "source": [
    "從這張圖我們可以發現 eta(learning_rate) 學習速率是最為重要的。此外 grow_policy 與 lambda 對減少 loss 上無太大幫助。因此在下一次執行試驗的時候可以考慮將無用的參數移除，並將重要的超參數範圍加大取得更好的搜索結果。其他的使用方法可以 [參考](https://optuna.readthedocs.io/en/stable/reference/visualization/index.html) 官方的說明文件。"
   ]
  }
 ],
 "metadata": {
  "kernelspec": {
   "display_name": "Python 3",
   "language": "python",
   "name": "python3"
  },
  "language_info": {
   "codemirror_mode": {
    "name": "ipython",
    "version": 3
   },
   "file_extension": ".py",
   "mimetype": "text/x-python",
   "name": "python",
   "nbconvert_exporter": "python",
   "pygments_lexer": "ipython3",
   "version": "3.7.6"
  }
 },
 "nbformat": 4,
 "nbformat_minor": 4
}
