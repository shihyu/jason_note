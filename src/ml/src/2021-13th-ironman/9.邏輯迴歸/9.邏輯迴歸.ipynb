{
 "cells": [
  {
   "cell_type": "code",
   "execution_count": null,
   "metadata": {},
   "outputs": [],
   "source": [
    "import pandas as pd\n",
    "import numpy as np\n",
    "import matplotlib.pyplot as plt\n",
    "import seaborn as sns\n",
    "from sklearn.datasets import load_iris"
   ]
  },
  {
   "cell_type": "markdown",
   "metadata": {},
   "source": [
    "## 1) 載入資料集"
   ]
  },
  {
   "cell_type": "code",
   "execution_count": 3,
   "metadata": {},
   "outputs": [
    {
     "data": {
      "text/html": [
       "<div>\n",
       "<style scoped>\n",
       "    .dataframe tbody tr th:only-of-type {\n",
       "        vertical-align: middle;\n",
       "    }\n",
       "\n",
       "    .dataframe tbody tr th {\n",
       "        vertical-align: top;\n",
       "    }\n",
       "\n",
       "    .dataframe thead th {\n",
       "        text-align: right;\n",
       "    }\n",
       "</style>\n",
       "<table border=\"1\" class=\"dataframe\">\n",
       "  <thead>\n",
       "    <tr style=\"text-align: right;\">\n",
       "      <th></th>\n",
       "      <th>SepalLengthCm</th>\n",
       "      <th>SepalWidthCm</th>\n",
       "      <th>PetalLengthCm</th>\n",
       "      <th>PetalWidthCm</th>\n",
       "      <th>Species</th>\n",
       "    </tr>\n",
       "  </thead>\n",
       "  <tbody>\n",
       "    <tr>\n",
       "      <th>0</th>\n",
       "      <td>5.1</td>\n",
       "      <td>3.5</td>\n",
       "      <td>1.4</td>\n",
       "      <td>0.2</td>\n",
       "      <td>0.0</td>\n",
       "    </tr>\n",
       "    <tr>\n",
       "      <th>1</th>\n",
       "      <td>4.9</td>\n",
       "      <td>3.0</td>\n",
       "      <td>1.4</td>\n",
       "      <td>0.2</td>\n",
       "      <td>0.0</td>\n",
       "    </tr>\n",
       "    <tr>\n",
       "      <th>2</th>\n",
       "      <td>4.7</td>\n",
       "      <td>3.2</td>\n",
       "      <td>1.3</td>\n",
       "      <td>0.2</td>\n",
       "      <td>0.0</td>\n",
       "    </tr>\n",
       "    <tr>\n",
       "      <th>3</th>\n",
       "      <td>4.6</td>\n",
       "      <td>3.1</td>\n",
       "      <td>1.5</td>\n",
       "      <td>0.2</td>\n",
       "      <td>0.0</td>\n",
       "    </tr>\n",
       "    <tr>\n",
       "      <th>4</th>\n",
       "      <td>5.0</td>\n",
       "      <td>3.6</td>\n",
       "      <td>1.4</td>\n",
       "      <td>0.2</td>\n",
       "      <td>0.0</td>\n",
       "    </tr>\n",
       "    <tr>\n",
       "      <th>...</th>\n",
       "      <td>...</td>\n",
       "      <td>...</td>\n",
       "      <td>...</td>\n",
       "      <td>...</td>\n",
       "      <td>...</td>\n",
       "    </tr>\n",
       "    <tr>\n",
       "      <th>145</th>\n",
       "      <td>6.7</td>\n",
       "      <td>3.0</td>\n",
       "      <td>5.2</td>\n",
       "      <td>2.3</td>\n",
       "      <td>2.0</td>\n",
       "    </tr>\n",
       "    <tr>\n",
       "      <th>146</th>\n",
       "      <td>6.3</td>\n",
       "      <td>2.5</td>\n",
       "      <td>5.0</td>\n",
       "      <td>1.9</td>\n",
       "      <td>2.0</td>\n",
       "    </tr>\n",
       "    <tr>\n",
       "      <th>147</th>\n",
       "      <td>6.5</td>\n",
       "      <td>3.0</td>\n",
       "      <td>5.2</td>\n",
       "      <td>2.0</td>\n",
       "      <td>2.0</td>\n",
       "    </tr>\n",
       "    <tr>\n",
       "      <th>148</th>\n",
       "      <td>6.2</td>\n",
       "      <td>3.4</td>\n",
       "      <td>5.4</td>\n",
       "      <td>2.3</td>\n",
       "      <td>2.0</td>\n",
       "    </tr>\n",
       "    <tr>\n",
       "      <th>149</th>\n",
       "      <td>5.9</td>\n",
       "      <td>3.0</td>\n",
       "      <td>5.1</td>\n",
       "      <td>1.8</td>\n",
       "      <td>2.0</td>\n",
       "    </tr>\n",
       "  </tbody>\n",
       "</table>\n",
       "<p>150 rows × 5 columns</p>\n",
       "</div>"
      ],
      "text/plain": [
       "     SepalLengthCm  SepalWidthCm  PetalLengthCm  PetalWidthCm  Species\n",
       "0              5.1           3.5            1.4           0.2      0.0\n",
       "1              4.9           3.0            1.4           0.2      0.0\n",
       "2              4.7           3.2            1.3           0.2      0.0\n",
       "3              4.6           3.1            1.5           0.2      0.0\n",
       "4              5.0           3.6            1.4           0.2      0.0\n",
       "..             ...           ...            ...           ...      ...\n",
       "145            6.7           3.0            5.2           2.3      2.0\n",
       "146            6.3           2.5            5.0           1.9      2.0\n",
       "147            6.5           3.0            5.2           2.0      2.0\n",
       "148            6.2           3.4            5.4           2.3      2.0\n",
       "149            5.9           3.0            5.1           1.8      2.0\n",
       "\n",
       "[150 rows x 5 columns]"
      ]
     },
     "execution_count": 3,
     "metadata": {},
     "output_type": "execute_result"
    }
   ],
   "source": [
    "iris = load_iris()\n",
    "df_data = pd.DataFrame(data= np.c_[iris['data'], iris['target']],\n",
    "                     columns= ['SepalLengthCm','SepalWidthCm','PetalLengthCm','PetalWidthCm','Species'])\n",
    "df_data"
   ]
  },
  {
   "cell_type": "markdown",
   "metadata": {},
   "source": [
    "## 2) 切割訓練集與測試集"
   ]
  },
  {
   "cell_type": "code",
   "execution_count": 4,
   "metadata": {},
   "outputs": [
    {
     "name": "stdout",
     "output_type": "stream",
     "text": [
      "train shape: (105, 4)\n",
      "test shape: (45, 4)\n"
     ]
    }
   ],
   "source": [
    "from sklearn.model_selection import train_test_split\n",
    "X = df_data.drop(labels=['Species'],axis=1).values # 移除Species並取得剩下欄位資料\n",
    "y = df_data['Species'].values\n",
    "X_train, X_test, y_train, y_test = train_test_split(X, y, test_size=0.3, random_state=42, stratify=y)\n",
    "\n",
    "print('train shape:', X_train.shape)\n",
    "print('test shape:', X_test.shape)"
   ]
  },
  {
   "cell_type": "markdown",
   "metadata": {},
   "source": [
    "## 建立 Logistic regression 模型\n",
    "邏輯迴歸是由線性回歸變化而來的，屬判別模型適合解決二元分類問題。\n",
    "\n",
    "Parameters:\n",
    "- penalty: 正規化l1/l2，防止模型過度擬合。\n",
    "- C: 數值越大對 weight 的控制力越弱，預設為1。\n",
    "- n_init: 預設為10次隨機初始化，選擇效果最好的一種來作為模型。\n",
    "- solver: 優化器的選擇。newton-cg,lbfgs,liblinear,sag,saga。預設為liblinear。\n",
    "- multi_class: 選擇分類方式，ovr就是one-vs-rest(OvR)，而multinomial就是many-vs-many(MvM)。預設為 auto，故模型訓練中會取一個最好的結果。\n",
    "- max_iter: 迭代次數，預設為100代。\n",
    "- class_weight: 若遇資料不平衡問題可以設定balance，預設=None。\n",
    "- random_state: 亂數種子僅在solver=sag/liblinear時有用。\n",
    "\n",
    "Attributes:\n",
    "- coef_: 取得斜率。\n",
    "- intercept_: 取得截距。\n",
    "\n",
    "Methods:\n",
    "- fit: 放入X、y進行模型擬合。\n",
    "- predict: 預測並回傳預測類別。\n",
    "- predict_proba: 預測每個類別的機率值。\n",
    "- score: 預測成功的比例。"
   ]
  },
  {
   "cell_type": "code",
   "execution_count": 11,
   "metadata": {},
   "outputs": [],
   "source": [
    "from sklearn.linear_model import LogisticRegression\n",
    "\n",
    "# 建立Logistic模型\n",
    "logisticModel = LogisticRegression(multi_class='auto', solver='newton-cg',random_state=0)\n",
    "# 使用訓練資料訓練模型\n",
    "logisticModel.fit(X_train, y_train)\n",
    "# 使用訓練資料預測分類\n",
    "predicted = logisticModel.predict(X_train)"
   ]
  },
  {
   "cell_type": "markdown",
   "metadata": {},
   "source": [
    "## 使用Score評估模型"
   ]
  },
  {
   "cell_type": "code",
   "execution_count": 12,
   "metadata": {},
   "outputs": [
    {
     "name": "stdout",
     "output_type": "stream",
     "text": [
      "訓練集:  0.9714285714285714\n",
      "測試集:  0.9333333333333333\n"
     ]
    }
   ],
   "source": [
    "# 預測成功的比例\n",
    "print('訓練集: ',logisticModel.score(X_train,y_train))\n",
    "print('測試集: ',logisticModel.score(X_test,y_test))"
   ]
  },
  {
   "cell_type": "markdown",
   "metadata": {},
   "source": [
    "## 真實分類"
   ]
  },
  {
   "cell_type": "code",
   "execution_count": 13,
   "metadata": {},
   "outputs": [],
   "source": [
    "# 建立測試集的 DataFrme\n",
    "df_test=pd.DataFrame(X_test, columns= ['SepalLengthCm','SepalWidthCm','PetalLengthCm','PetalWidthCm'])\n",
    "df_test['Species'] = y_test\n",
    "pred = logisticModel.predict(X_test)\n",
    "df_test['Predict'] = pred"
   ]
  },
  {
   "cell_type": "code",
   "execution_count": 14,
   "metadata": {},
   "outputs": [
    {
     "data": {
      "image/png": "[encoded data removed]",
      "text/plain": [
       "<Figure size 360x360 with 1 Axes>"
      ]
     },
     "metadata": {
      "needs_background": "light"
     },
     "output_type": "display_data"
    }
   ],
   "source": [
    "sns.lmplot(x=\"PetalLengthCm\", y=\"PetalWidthCm\", hue='Species', data=df_test, fit_reg=False, legend=False)\n",
    "plt.legend(title='target', loc='upper left', labels=['Iris-Setosa', 'Iris-Versicolour', 'Iris-Virginica'])\n",
    "plt.show()"
   ]
  },
  {
   "cell_type": "markdown",
   "metadata": {},
   "source": [
    "## Logistic regression (訓練集)預測結果"
   ]
  },
  {
   "cell_type": "code",
   "execution_count": 10,
   "metadata": {},
   "outputs": [
    {
     "data": {
      "image/png": "[encoded data removed]",
      "text/plain": [
       "<Figure size 360x360 with 1 Axes>"
      ]
     },
     "metadata": {
      "needs_background": "light"
     },
     "output_type": "display_data"
    }
   ],
   "source": [
    "sns.lmplot(x=\"PetalLengthCm\", y=\"PetalWidthCm\", data=df_test, hue=\"Predict\", fit_reg=False, legend=False)\n",
    "plt.legend(title='target', loc='upper left', labels=['Iris-Setosa', 'Iris-Versicolour', 'Iris-Virginica'])\n",
    "plt.show()"
   ]
  },
  {
   "cell_type": "markdown",
   "metadata": {},
   "source": [
    "## [補充] Limitation of Logistic Regression\n",
    "Logistic 其實有很大的限制，如下圖範例在線性不可分的時候無法有效預測。我們可以發現無法一刀可以將這四筆資料分成兩個類別。\n",
    "\n",
    "![](https://i.imgur.com/1PHn2Xj.png)\n",
    "\n",
    "因為在剛剛的計算方法 Logistic Regression 在兩個類別中僅會切出一條直線。以上例來看不管怎麼分割，始終無法將資料分離出來。\n",
    "\n",
    "![](https://i.imgur.com/tOckkeI.png)\n",
    "\n",
    "> from 台大李宏毅教授機器學習課程"
   ]
  },
  {
   "cell_type": "code",
   "execution_count": 15,
   "metadata": {},
   "outputs": [
    {
     "data": {
      "text/plain": [
       "array([0, 0, 0, 0])"
      ]
     },
     "execution_count": 15,
     "metadata": {},
     "output_type": "execute_result"
    }
   ],
   "source": [
    "from sklearn.linear_model import LogisticRegression\n",
    "\n",
    "X=np.array([[0,0],[0,1],[1,0],[1,1]])\n",
    "y=[1,0,0,1]\n",
    "\n",
    "# 建立Logistic模型\n",
    "logisticModel = LogisticRegression(random_state=0)\n",
    "# 使用訓練資料訓練模型\n",
    "logisticModel.fit(X, y)\n",
    "# 使用訓練資料預測分類\n",
    "logisticModel.predict(X)"
   ]
  },
  {
   "cell_type": "code",
   "execution_count": 16,
   "metadata": {},
   "outputs": [
    {
     "data": {
      "text/plain": [
       "<matplotlib.collections.PathCollection at 0x7f89057c2e10>"
      ]
     },
     "execution_count": 16,
     "metadata": {},
     "output_type": "execute_result"
    },
    {
     "data": {
      "image/png": "[encoded data removed]",
      "text/plain": [
       "<Figure size 432x288 with 1 Axes>"
      ]
     },
     "metadata": {
      "needs_background": "light"
     },
     "output_type": "display_data"
    }
   ],
   "source": [
    "color = \"rb\"\n",
    "color = [color[y[i]] for i in range(len(y))]\n",
    "plt.scatter(X[:,0],X[:,1],c=color)"
   ]
  },
  {
   "cell_type": "code",
   "execution_count": 18,
   "metadata": {},
   "outputs": [
    {
     "name": "stderr",
     "output_type": "stream",
     "text": [
      "/opt/anaconda3/lib/python3.7/site-packages/ipykernel_launcher.py:53: RuntimeWarning: invalid value encountered in double_scalars\n"
     ]
    },
    {
     "data": {
      "image/png": "[encoded data removed]",
      "text/plain": [
       "<Figure size 432x288 with 1 Axes>"
      ]
     },
     "metadata": {
      "needs_background": "light"
     },
     "output_type": "display_data"
    }
   ],
   "source": [
    "from matplotlib.colors import ListedColormap\n",
    "import matplotlib.pyplot as plt\n",
    "import numpy as np\n",
    "\n",
    "# 決策邊界函式\n",
    "def plot_decision_regions(X, y, classifier, test_idx = None, resolution=0.02):\n",
    "\t# setup marker generator and color map\n",
    "\tmarkers = ('s','x','o','^','v')\n",
    "\tcolors = ('red','blue','lightgreen','gray','cyan')\n",
    "\tcmap = ListedColormap(colors[:len(np.unique(y))])\n",
    "\n",
    "\t# plot the decision surface\n",
    "\tx1_min, x1_max = X[:,0].min() - 1, X[:,0].max() + 1\n",
    "\tx2_min, x2_max = X[:,1].min() - 1, X[:,1].max() + 1\n",
    "\n",
    "\txx1, xx2 = np.meshgrid(np.arange(x1_min,x1_max,resolution),\n",
    "\t\t\t\t\t\t\tnp.arange(x2_min,x2_max,resolution))\n",
    "\n",
    "\tZ = classifier.predict(np.array([xx1.ravel(),xx2.ravel()]).T)\n",
    "\n",
    "\tZ = Z.reshape(xx1.shape)\n",
    "\n",
    "\tplt.contourf(xx1, xx2, Z, alpha=0.4, cmap=cmap)\n",
    "\tplt.xlim(xx1.min(),xx1.max())\n",
    "\tplt.ylim(xx2.min(),xx2.max())\n",
    "\n",
    "\tfor idx, cl in enumerate(np.unique(y)):\n",
    "\t\tplt.scatter(x=X[y==cl,0], y=X[y==cl,1],\n",
    "\t\t\talpha=0.8, c=[cmap(idx)], marker=markers[idx],label=cl)\n",
    "\tif test_idx:\n",
    "\t\tX_test, y_test = X[test_idx,:], y[test_idx]\n",
    "\t\tplt.scatter(X_test[:, 0], X_test[:,1], c='',\n",
    "\t\t\talpha=1.0, linewidth=1, marker='o',\n",
    "\t\t\ts=55, label='test set')\n",
    "\n",
    "# 繪製決策邊界\n",
    "plt.figure()\n",
    "plot_decision_regions(X,y,logisticModel)\n",
    "# Plot also the training points\n",
    "colors = \"rb\"\n",
    "for i, color in zip(logisticModel.classes_, colors):\n",
    "    idx = np.where(y == i)\n",
    "    plt.scatter(X[idx, 0], X[idx, 1], c=color, cmap=plt.cm.Paired)\n",
    "\n",
    "# Plot the three one-against-all classifiers\n",
    "xmin, xmax = plt.xlim()\n",
    "ymin, ymax = plt.ylim()\n",
    "coef = logisticModel.coef_\n",
    "intercept = logisticModel.intercept_\n",
    "\n",
    "def plot_hyperplane(c, color):\n",
    "    def line(x0):\n",
    "        return (-(x0 * coef[c, 0]) - intercept[c]) / coef[c, 1]\n",
    "    plt.plot([xmin, xmax], [line(xmin), line(xmax)],\n",
    "              ls=\"--\", color=color)\n",
    "\n",
    "plot_hyperplane(0, 'r')\n",
    "\n",
    "plt.show()"
   ]
  },
  {
   "cell_type": "code",
   "execution_count": null,
   "metadata": {},
   "outputs": [],
   "source": []
  },
  {
   "cell_type": "code",
   "execution_count": null,
   "metadata": {},
   "outputs": [],
   "source": []
  }
 ],
 "metadata": {
  "kernelspec": {
   "display_name": "Python 3",
   "language": "python",
   "name": "python3"
  },
  "language_info": {
   "codemirror_mode": {
    "name": "ipython",
    "version": 3
   },
   "file_extension": ".py",
   "mimetype": "text/x-python",
   "name": "python",
   "nbconvert_exporter": "python",
   "pygments_lexer": "ipython3",
   "version": "3.7.6"
  }
 },
 "nbformat": 4,
 "nbformat_minor": 4
}
