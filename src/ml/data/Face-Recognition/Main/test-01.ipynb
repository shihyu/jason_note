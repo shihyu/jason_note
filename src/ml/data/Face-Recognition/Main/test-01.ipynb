{
 "cells": [
  {
   "cell_type": "code",
   "execution_count": 11,
   "id": "177dc27b-be7b-44e3-b719-e5173a93cd86",
   "metadata": {},
   "outputs": [],
   "source": [
    "!pip install -r requirements.txt -q"
   ]
  },
  {
   "cell_type": "code",
   "execution_count": 12,
   "id": "dbb5ef28-309c-4447-8dbc-bd5eb2300fab",
   "metadata": {},
   "outputs": [],
   "source": [
    "# # Import necessary libraries\n",
    "\n",
    "# !pip install ultralytics -q\n",
    "# !pip install gradio -q\n",
    "# !pip install pandas -q\n",
    "# !pip install deepface -q"
   ]
  },
  {
   "cell_type": "code",
   "execution_count": 13,
   "id": "67268226-bac1-464c-87e2-c5e1fda044e9",
   "metadata": {},
   "outputs": [],
   "source": [
    "# Import necessary libraries\n",
    "from ultralytics import YOLO\n",
    "from ultralytics.engine.results import Results  \n",
    "from deepface import DeepFace\n",
    "from PIL import Image\n",
    "import gradio as gr\n",
    "import shutil\n",
    "import pandas\n",
    "import cv2\n",
    "import os"
   ]
  },
  {
   "cell_type": "code",
   "execution_count": 14,
   "id": "e2c62a9d-8112-49b7-9b8d-43f9e10673c2",
   "metadata": {},
   "outputs": [],
   "source": [
    "def faceRecognition(input_image):\n",
    "\n",
    "    # Path to the directory containing cropped objects\n",
    "    cropped_objects_dir = \"./faces/\"\n",
    "\n",
    "    # Initialize a list to store the extracted names\n",
    "    extracted_names = []\n",
    "\n",
    "    file_to_delete = \"./database/representations_facenet512.pkl\"\n",
    "    if os.path.exists(file_to_delete):\n",
    "        os.remove(file_to_delete)    \n",
    "\n",
    "    # Iterate through the image files in the directory\n",
    "    for filename in os.listdir(cropped_objects_dir):\n",
    "        if filename.endswith(\".jpg\"):\n",
    "            img_path = os.path.join(cropped_objects_dir, filename)\n",
    "            model = DeepFace.find(img_path=img_path, db_path=\"database\", enforce_detection=False, model_name=\"Facenet512\")\n",
    "\n",
    "            # Check if a face was recognized in the image\n",
    "            if model and len(model[0]['identity']) > 0:\n",
    "                # Extract the name and append it to the list\n",
    "                name = model[0]['identity'][0].split('/')[1]\n",
    "            else:\n",
    "                # If no face is recognized, set name to 'unknown'\n",
    "                name = 'unknown'\n",
    "\n",
    "            extracted_names.append(name)\n",
    "\n",
    "    return extracted_names"
   ]
  },
  {
   "cell_type": "code",
   "execution_count": 15,
   "id": "f61dff16-32e7-42fc-b312-4d5cb175628d",
   "metadata": {},
   "outputs": [],
   "source": [
    "def faceExtraction(input_image, model, results):\n",
    "    # Load the image\n",
    "    image = Image.open(input_image)\n",
    "    detected_objects = []\n",
    "\n",
    "    if hasattr(results, 'boxes') and hasattr(results, 'names'):\n",
    "        for box in results.boxes.xyxy:\n",
    "            object_id = int(box[-1])\n",
    "            object_name = results.names.get(object_id)\n",
    "            x1, y1, x2, y2 = int(box[0]), int(box[1]), int(box[2]), int(box[3])\n",
    "\n",
    "            detected_objects.append((object_name, (x1, y1, x2, y2)))\n",
    "\n",
    "    # Create or clear the 'faces' directory\n",
    "    if os.path.exists(\"faces\"):\n",
    "        shutil.rmtree(\"faces\")\n",
    "    os.makedirs(\"faces\")\n",
    "\n",
    "    # Crop and save each detected object\n",
    "    for i, (object_name, (x1, y1, x2, y2)) in enumerate(detected_objects):\n",
    "        object_image = image.crop((x1, y1, x2, y2))\n",
    "        object_image.save(f\"faces/face{i}.jpg\")\n",
    "        \n",
    "    return 0"
   ]
  },
  {
   "cell_type": "code",
   "execution_count": 16,
   "id": "05b301be-5c7c-46d8-b23e-0c7686cf9e17",
   "metadata": {},
   "outputs": [],
   "source": [
    "def faceDetection(input_image):\n",
    "    model = YOLO('best.pt')\n",
    "    results: Results = model.predict(input_image)[0]\n",
    "\n",
    "    return faceExtraction(input_image, model, results)"
   ]
  },
  {
   "cell_type": "code",
   "execution_count": 17,
   "id": "062e3b20-c871-4df7-a539-6248c405fc79",
   "metadata": {},
   "outputs": [
    {
     "name": "stdin",
     "output_type": "stream",
     "text": [
      "enter image path :  mawa.jpeg\n"
     ]
    },
    {
     "name": "stderr",
     "output_type": "stream",
     "text": [
      "\n",
      "image 1/1 /Users/saurabh/Documents/projects/Face-Recognition/Main/mawa.jpeg: 480x640 10 faces, 60.3ms\n",
      "Speed: 2.9ms preprocess, 60.3ms inference, 0.9ms postprocess per image at shape (1, 3, 480, 640)\n",
      "Finding representations: 100%|██████████████████| 17/17 [00:54<00:00,  3.21s/it]\n",
      "Corrupt JPEG data: 2 extraneous bytes before marker 0xd9\n",
      "Corrupt JPEG data: 2 extraneous bytes before marker 0xd9\n",
      "Corrupt JPEG data: premature end of data segment\n"
     ]
    },
    {
     "name": "stdout",
     "output_type": "stream",
     "text": [
      "Representations stored in database/representations_facenet512.pkl file.Please delete this file when you add new identities in your database.\n",
      "find function lasts  54.62927794456482  seconds\n",
      "WARNING: Representations for images in database folder were previously stored in representations_facenet512.pkl. If you added new instances after the creation, then please delete this file and call find function again. It will create it again.\n",
      "There are  21  representations found in  representations_facenet512.pkl\n",
      "find function lasts  0.08342695236206055  seconds\n",
      "WARNING: Representations for images in database folder were previously stored in representations_facenet512.pkl. If you added new instances after the creation, then please delete this file and call find function again. It will create it again.\n",
      "There are  21  representations found in  representations_facenet512.pkl\n",
      "find function lasts  0.08341789245605469  seconds\n",
      "WARNING: Representations for images in database folder were previously stored in representations_facenet512.pkl. If you added new instances after the creation, then please delete this file and call find function again. It will create it again.\n",
      "There are  21  representations found in  representations_facenet512.pkl\n",
      "find function lasts  0.08262300491333008  seconds\n",
      "WARNING: Representations for images in database folder were previously stored in representations_facenet512.pkl. If you added new instances after the creation, then please delete this file and call find function again. It will create it again.\n",
      "There are  21  representations found in  representations_facenet512.pkl\n",
      "find function lasts  0.08449697494506836  seconds\n",
      "WARNING: Representations for images in database folder were previously stored in representations_facenet512.pkl. If you added new instances after the creation, then please delete this file and call find function again. It will create it again.\n",
      "There are  21  representations found in  representations_facenet512.pkl\n"
     ]
    },
    {
     "name": "stderr",
     "output_type": "stream",
     "text": [
      "Corrupt JPEG data: 4 extraneous bytes before marker 0xd9\n",
      "Corrupt JPEG data: premature end of data segment\n",
      "Corrupt JPEG data: premature end of data segment\n"
     ]
    },
    {
     "name": "stdout",
     "output_type": "stream",
     "text": [
      "find function lasts  0.08761382102966309  seconds\n",
      "WARNING: Representations for images in database folder were previously stored in representations_facenet512.pkl. If you added new instances after the creation, then please delete this file and call find function again. It will create it again.\n",
      "There are  21  representations found in  representations_facenet512.pkl\n",
      "find function lasts  0.07505106925964355  seconds\n",
      "WARNING: Representations for images in database folder were previously stored in representations_facenet512.pkl. If you added new instances after the creation, then please delete this file and call find function again. It will create it again.\n",
      "There are  21  representations found in  representations_facenet512.pkl\n",
      "find function lasts  0.07570981979370117  seconds\n",
      "WARNING: Representations for images in database folder were previously stored in representations_facenet512.pkl. If you added new instances after the creation, then please delete this file and call find function again. It will create it again.\n",
      "There are  21  representations found in  representations_facenet512.pkl\n"
     ]
    },
    {
     "name": "stderr",
     "output_type": "stream",
     "text": [
      "Corrupt JPEG data: premature end of data segment\n",
      "Corrupt JPEG data: premature end of data segment\n",
      "Corrupt JPEG data: premature end of data segment\n"
     ]
    },
    {
     "name": "stdout",
     "output_type": "stream",
     "text": [
      "find function lasts  0.0840609073638916  seconds\n",
      "WARNING: Representations for images in database folder were previously stored in representations_facenet512.pkl. If you added new instances after the creation, then please delete this file and call find function again. It will create it again.\n",
      "There are  21  representations found in  representations_facenet512.pkl\n",
      "find function lasts  0.08532905578613281  seconds\n",
      "['unknown', 'unknown', 'unknown', 'unknown', 'sahil', 'unknown', 'unknown', 'unknown', 'unknown', 'unknown']\n"
     ]
    },
    {
     "name": "stderr",
     "output_type": "stream",
     "text": [
      "Corrupt JPEG data: premature end of data segment\n"
     ]
    }
   ],
   "source": [
    "image = input(\"enter image path : \")\n",
    "faceDetection(image)\n",
    "names = faceRecognition(image)\n",
    "print(names)"
   ]
  },
  {
   "cell_type": "code",
   "execution_count": null,
   "id": "257ead09-962c-4fe7-8dda-63fe5cc4d10a",
   "metadata": {},
   "outputs": [],
   "source": []
  }
 ],
 "metadata": {
  "kernelspec": {
   "display_name": "Python 3 (ipykernel)",
   "language": "python",
   "name": "python3"
  },
  "language_info": {
   "codemirror_mode": {
    "name": "ipython",
    "version": 3
   },
   "file_extension": ".py",
   "mimetype": "text/x-python",
   "name": "python",
   "nbconvert_exporter": "python",
   "pygments_lexer": "ipython3",
   "version": "3.11.6"
  }
 },
 "nbformat": 4,
 "nbformat_minor": 5
}
