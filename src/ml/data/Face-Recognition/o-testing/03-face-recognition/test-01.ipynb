{
 "cells": [
  {
   "cell_type": "code",
   "execution_count": 20,
   "id": "d5dc406e-36fa-4d11-b671-150729332143",
   "metadata": {},
   "outputs": [],
   "source": [
    "from deepface import DeepFace\n",
    "import cv2\n",
    "import os"
   ]
  },
  {
   "cell_type": "code",
   "execution_count": 21,
   "id": "2e4bb828-5c8f-4083-af7a-007cb7a07344",
   "metadata": {},
   "outputs": [],
   "source": [
    "img_path = \"testing.jpeg\""
   ]
  },
  {
   "cell_type": "code",
   "execution_count": 23,
   "id": "ac637b57-b980-4475-979d-c9fd19ac90df",
   "metadata": {},
   "outputs": [
    {
     "name": "stderr",
     "output_type": "stream",
     "text": [
      "Finding representations: 100%|██████████████████| 20/20 [00:30<00:00,  1.53s/it]\n"
     ]
    },
    {
     "name": "stdout",
     "output_type": "stream",
     "text": [
      "Representations stored in database/representations_facenet512.pkl file.Please delete this file when you add new identities in your database.\n",
      "find function lasts  33.39196491241455  seconds\n"
     ]
    }
   ],
   "source": [
    "model = DeepFace.find(img_path=\"testing.jpeg\", db_path=\"database\", enforce_detection=False, model_name=\"Facenet512\")"
   ]
  },
  {
   "cell_type": "code",
   "execution_count": 24,
   "id": "71e11c0e-667a-4675-9071-f674d951d344",
   "metadata": {},
   "outputs": [],
   "source": [
    "# Extract the name and coordinates\n",
    "name = model[0]['identity'][0].split('/')[1]\n",
    "xmin = int(model[0]['source_x'][0])\n",
    "ymin = int(model[0]['source_y'][0])\n",
    "width = model[0]['source_w'][0]\n",
    "height = model[0]['source_h'][0]\n",
    "xmax = int(xmin + width)\n",
    "ymax = int(ymin + height)"
   ]
  },
  {
   "cell_type": "code",
   "execution_count": 18,
   "id": "17f31017-1107-4cb9-8634-491704d31a79",
   "metadata": {},
   "outputs": [
    {
     "data": {
      "text/plain": [
       "array([[[150, 164, 174],\n",
       "        [150, 165, 175],\n",
       "        [150, 165, 175],\n",
       "        ...,\n",
       "        [170, 178, 186],\n",
       "        [169, 177, 185],\n",
       "        [169, 177, 184]],\n",
       "\n",
       "       [[149, 164, 173],\n",
       "        [150, 164, 174],\n",
       "        [150, 164, 174],\n",
       "        ...,\n",
       "        [170, 178, 186],\n",
       "        [170, 178, 186],\n",
       "        [170, 178, 185]],\n",
       "\n",
       "       [[149, 164, 174],\n",
       "        [150, 164, 174],\n",
       "        [148, 163, 173],\n",
       "        ...,\n",
       "        [169, 177, 185],\n",
       "        [170, 178, 185],\n",
       "        [170, 178, 185]],\n",
       "\n",
       "       ...,\n",
       "\n",
       "       [[119, 122, 118],\n",
       "        [118, 122, 118],\n",
       "        [119, 123, 119],\n",
       "        ...,\n",
       "        [182, 176, 174],\n",
       "        [199, 192, 190],\n",
       "        [208, 199, 197]],\n",
       "\n",
       "       [[118, 122, 118],\n",
       "        [117, 121, 117],\n",
       "        [117, 121, 117],\n",
       "        ...,\n",
       "        [165, 157, 155],\n",
       "        [198, 190, 187],\n",
       "        [213, 204, 201]],\n",
       "\n",
       "       [[119, 122, 118],\n",
       "        [118, 122, 118],\n",
       "        [118, 122, 118],\n",
       "        ...,\n",
       "        [159, 151, 149],\n",
       "        [195, 187, 185],\n",
       "        [211, 203, 201]]], dtype=uint8)"
      ]
     },
     "execution_count": 18,
     "metadata": {},
     "output_type": "execute_result"
    }
   ],
   "source": [
    "# Load the image using OpenCV\n",
    "img = cv2.imread(img_path)\n",
    "\n",
    "# Draw a rectangle around the recognized face\n",
    "cv2.rectangle(img, (xmin, ymin), (xmax, ymax), (0, 0, 255), 1)\n",
    "\n",
    "# Write the name on the image\n",
    "cv2.putText(img, name, (xmin, ymin - 10), cv2.FONT_HERSHEY_SIMPLEX, 1, (255, 0, 0), 1, cv2.LINE_AA)"
   ]
  },
  {
   "cell_type": "code",
   "execution_count": 25,
   "id": "39c399c2-2020-4042-afac-366662d062b8",
   "metadata": {},
   "outputs": [
    {
     "name": "stdout",
     "output_type": "stream",
     "text": [
      "Image saved with name in 'run' folder: run/output_image.jpg\n"
     ]
    }
   ],
   "source": [
    "# Check if the \"run\" folder exists, and create it if it doesn't\n",
    "if not os.path.exists(\"run\"):\n",
    "    os.mkdir(\"run\")\n",
    "\n",
    "# Define the path to save the image in the \"run\" folder\n",
    "output_path = os.path.join(\"run\", \"output_image.jpg\")\n",
    "\n",
    "# Save the image with the rectangle and name\n",
    "cv2.imwrite(output_path, img)\n",
    "\n",
    "print(f\"Image saved with name in 'run' folder: {output_path}\")"
   ]
  },
  {
   "cell_type": "code",
   "execution_count": 27,
   "id": "aadd7fa7-8ffa-46e8-a8e9-45e011c94555",
   "metadata": {},
   "outputs": [
    {
     "data": {
      "text/html": [
       "<div>\n",
       "<style scoped>\n",
       "    .dataframe tbody tr th:only-of-type {\n",
       "        vertical-align: middle;\n",
       "    }\n",
       "\n",
       "    .dataframe tbody tr th {\n",
       "        vertical-align: top;\n",
       "    }\n",
       "\n",
       "    .dataframe thead th {\n",
       "        text-align: right;\n",
       "    }\n",
       "</style>\n",
       "<table border=\"1\" class=\"dataframe\">\n",
       "  <thead>\n",
       "    <tr style=\"text-align: right;\">\n",
       "      <th></th>\n",
       "      <th>identity</th>\n",
       "      <th>source_x</th>\n",
       "      <th>source_y</th>\n",
       "      <th>source_w</th>\n",
       "      <th>source_h</th>\n",
       "      <th>Facenet512_cosine</th>\n",
       "    </tr>\n",
       "  </thead>\n",
       "  <tbody>\n",
       "    <tr>\n",
       "      <th>0</th>\n",
       "      <td>database/sahil/6.jpg</td>\n",
       "      <td>1455</td>\n",
       "      <td>1051</td>\n",
       "      <td>619</td>\n",
       "      <td>619</td>\n",
       "      <td>0.262341</td>\n",
       "    </tr>\n",
       "    <tr>\n",
       "      <th>1</th>\n",
       "      <td>database/sahil/5.jpg</td>\n",
       "      <td>1455</td>\n",
       "      <td>1051</td>\n",
       "      <td>619</td>\n",
       "      <td>619</td>\n",
       "      <td>0.262451</td>\n",
       "    </tr>\n",
       "    <tr>\n",
       "      <th>2</th>\n",
       "      <td>database/sahil/3.jpg</td>\n",
       "      <td>1455</td>\n",
       "      <td>1051</td>\n",
       "      <td>619</td>\n",
       "      <td>619</td>\n",
       "      <td>0.263752</td>\n",
       "    </tr>\n",
       "    <tr>\n",
       "      <th>3</th>\n",
       "      <td>database/sahil/2.jpg</td>\n",
       "      <td>1455</td>\n",
       "      <td>1051</td>\n",
       "      <td>619</td>\n",
       "      <td>619</td>\n",
       "      <td>0.298766</td>\n",
       "    </tr>\n",
       "  </tbody>\n",
       "</table>\n",
       "</div>"
      ],
      "text/plain": [
       "               identity  source_x  source_y  source_w  source_h  \\\n",
       "0  database/sahil/6.jpg      1455      1051       619       619   \n",
       "1  database/sahil/5.jpg      1455      1051       619       619   \n",
       "2  database/sahil/3.jpg      1455      1051       619       619   \n",
       "3  database/sahil/2.jpg      1455      1051       619       619   \n",
       "\n",
       "   Facenet512_cosine  \n",
       "0           0.262341  \n",
       "1           0.262451  \n",
       "2           0.263752  \n",
       "3           0.298766  "
      ]
     },
     "execution_count": 27,
     "metadata": {},
     "output_type": "execute_result"
    }
   ],
   "source": [
    "model[0]"
   ]
  },
  {
   "cell_type": "code",
   "execution_count": null,
   "id": "5804182c-6aa6-4f18-bff6-d67ba076fc76",
   "metadata": {},
   "outputs": [],
   "source": []
  }
 ],
 "metadata": {
  "kernelspec": {
   "display_name": "Python 3 (ipykernel)",
   "language": "python",
   "name": "python3"
  },
  "language_info": {
   "codemirror_mode": {
    "name": "ipython",
    "version": 3
   },
   "file_extension": ".py",
   "mimetype": "text/x-python",
   "name": "python",
   "nbconvert_exporter": "python",
   "pygments_lexer": "ipython3",
   "version": "3.10.13"
  }
 },
 "nbformat": 4,
 "nbformat_minor": 5
}
