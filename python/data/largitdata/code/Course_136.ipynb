{
 "cells": [
  {
   "cell_type": "code",
   "execution_count": 5,
   "metadata": {},
   "outputs": [],
   "source": [
    "from selenium import webdriver\n",
    "driver = webdriver.Chrome('/opt/local/common/chromedriver')\n",
    "driver.get('https://shopee.tw/flash_sale?promotionId=2004619176')"
   ]
  },
  {
   "cell_type": "code",
   "execution_count": 8,
   "metadata": {},
   "outputs": [],
   "source": [
    "ary = []\n",
    "csrftoken = ''\n",
    "for ele in driver.get_cookies():\n",
    "    if ele.get('name') == 'csrftoken':\n",
    "        csrftoken = ele.get('value')\n",
    "    ary.append('{}={}'.format(ele.get('name'), ele.get('value')))\n",
    "cookie = ';'.join(ary)"
   ]
  },
  {
   "cell_type": "code",
   "execution_count": 9,
   "metadata": {},
   "outputs": [
    {
     "data": {
      "text/plain": [
       "'mlTRMkFgCYbitV4hfvgWjAcPFYIEiO1d'"
      ]
     },
     "execution_count": 9,
     "metadata": {},
     "output_type": "execute_result"
    }
   ],
   "source": [
    "csrftoken"
   ]
  },
  {
   "cell_type": "code",
   "execution_count": 10,
   "metadata": {},
   "outputs": [],
   "source": [
    "import requests\n",
    "import json\n",
    "headers = {\n",
    "  'x-csrftoken': csrftoken ,\n",
    "  'referer': 'https://shopee.tw/flash_sale?promotionId=2004619176'  ,\n",
    "   'content-type': 'application/json' ,\n",
    "  'cookie': cookie}\n",
    "payload = json.loads('''{\"promotionid\":2004619176,\"categoryid\":0,\"itemids\":[2581694163,5542309336,1120009935,5056175049,2262482163,6156995313,3950283356,6941242269,1299185050,211707338,6653630617,5543281425],\"sort_soldout\":false,\"limit\":12,\"need_personalize\":true,\"with_dp_items\":true}''')\n",
    "res = requests.post('https://shopee.tw/api/v2/flash_sale/flash_sale_batch_get_items', json = payload, headers = headers)"
   ]
  },
  {
   "cell_type": "code",
   "execution_count": 14,
   "metadata": {},
   "outputs": [],
   "source": [
    "#res.json()"
   ]
  },
  {
   "cell_type": "code",
   "execution_count": 13,
   "metadata": {},
   "outputs": [],
   "source": [
    "import requests\n",
    "res = requests.get('https://shopee.tw/api/v2/flash_sale/get_all_itemids?need_personalize=true&promotionid=2004619176&sort_soldout=false')\n",
    "#res.json()"
   ]
  },
  {
   "cell_type": "code",
   "execution_count": null,
   "metadata": {},
   "outputs": [],
   "source": []
  }
 ],
 "metadata": {
  "kernelspec": {
   "display_name": "Python 3",
   "language": "python",
   "name": "python3"
  },
  "language_info": {
   "codemirror_mode": {
    "name": "ipython",
    "version": 3
   },
   "file_extension": ".py",
   "mimetype": "text/x-python",
   "name": "python",
   "nbconvert_exporter": "python",
   "pygments_lexer": "ipython3",
   "version": "3.7.3"
  }
 },
 "nbformat": 4,
 "nbformat_minor": 4
}
