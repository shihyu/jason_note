{
 "cells": [
  {
   "cell_type": "code",
   "execution_count": 1,
   "id": "4acb561a",
   "metadata": {},
   "outputs": [],
   "source": [
    "username = 'soho.chiu@gmail.com'\n",
    "password = '<your password>'"
   ]
  },
  {
   "cell_type": "code",
   "execution_count": 2,
   "id": "ce5f5d3e",
   "metadata": {},
   "outputs": [],
   "source": [
    "from selenium import webdriver\n",
    "driver = webdriver.Chrome('/opt/local/common/chromedriver')"
   ]
  },
  {
   "cell_type": "code",
   "execution_count": 3,
   "id": "b87eac1a",
   "metadata": {},
   "outputs": [],
   "source": [
    "driver.get('https://shopee.tw/buyer/login?next=https%3A%2F%2Fshopee.tw%2Fshopee-coins')"
   ]
  },
  {
   "cell_type": "code",
   "execution_count": 12,
   "id": "dd9fbca6",
   "metadata": {},
   "outputs": [],
   "source": [
    "driver.find_element_by_css_selector('input[name=\"loginKey\"]').send_keys(username)"
   ]
  },
  {
   "cell_type": "code",
   "execution_count": 13,
   "id": "deed7368",
   "metadata": {},
   "outputs": [],
   "source": [
    "driver.find_element_by_css_selector('input[name=\"password\"]').send_keys(password)"
   ]
  },
  {
   "cell_type": "code",
   "execution_count": 17,
   "id": "437e4139",
   "metadata": {},
   "outputs": [
    {
     "data": {
      "text/plain": [
       "'登入'"
      ]
     },
     "execution_count": 17,
     "metadata": {},
     "output_type": "execute_result"
    }
   ],
   "source": [
    "driver.find_elements_by_css_selector('button')[2].text"
   ]
  },
  {
   "cell_type": "code",
   "execution_count": 18,
   "id": "01f0f82d",
   "metadata": {},
   "outputs": [],
   "source": [
    "driver.find_elements_by_css_selector('button')[2].click()"
   ]
  },
  {
   "cell_type": "code",
   "execution_count": 27,
   "id": "4dea586e",
   "metadata": {},
   "outputs": [
    {
     "data": {
      "text/plain": [
       "'今日簽到獲得 0.05 蝦幣'"
      ]
     },
     "execution_count": 27,
     "metadata": {},
     "output_type": "execute_result"
    }
   ],
   "source": [
    "driver.find_element_by_css_selector('button[class^=\"pcmall-dailycheckin\"]').text"
   ]
  },
  {
   "cell_type": "code",
   "execution_count": 28,
   "id": "820b591b",
   "metadata": {},
   "outputs": [],
   "source": [
    "driver.find_element_by_css_selector('button[class^=\"pcmall-dailycheckin\"]').click()"
   ]
  },
  {
   "cell_type": "code",
   "execution_count": null,
   "id": "7fc4effd",
   "metadata": {},
   "outputs": [],
   "source": []
  }
 ],
 "metadata": {
  "kernelspec": {
   "display_name": "Python 3 (ipykernel)",
   "language": "python",
   "name": "python3"
  },
  "language_info": {
   "codemirror_mode": {
    "name": "ipython",
    "version": 3
   },
   "file_extension": ".py",
   "mimetype": "text/x-python",
   "name": "python",
   "nbconvert_exporter": "python",
   "pygments_lexer": "ipython3",
   "version": "3.8.10"
  }
 },
 "nbformat": 4,
 "nbformat_minor": 5
}
