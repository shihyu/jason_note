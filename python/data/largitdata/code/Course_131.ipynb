{
 "cells": [
  {
   "cell_type": "code",
   "execution_count": 114,
   "metadata": {},
   "outputs": [],
   "source": [
    "import requests\n",
    "url = 'https://mops.twse.com.tw/mops/web/ajax_t100sb15'\n",
    "\n",
    "payload = {\n",
    "'encodeURIComponent': '1',\n",
    "'step': '1',\n",
    "'firstin': '1',\n",
    "'TYPEK': 'sii',\n",
    "'RYEAR': '108' \n",
    "}\n",
    "\n",
    "res = requests.post(url, data = payload)"
   ]
  },
  {
   "cell_type": "code",
   "execution_count": 116,
   "metadata": {},
   "outputs": [],
   "source": [
    "import pandas\n",
    "dfs = pandas.read_html(res.text)"
   ]
  },
  {
   "cell_type": "code",
   "execution_count": 118,
   "metadata": {},
   "outputs": [],
   "source": [
    "df = dfs[0].iloc[:, [0,1,2,5,6,7]]"
   ]
  },
  {
   "cell_type": "code",
   "execution_count": 120,
   "metadata": {},
   "outputs": [],
   "source": [
    "df.columns = ['產業類別', '公司代號', '公司名稱', '平均數108',  '平均數107', '中位數108']"
   ]
  },
  {
   "cell_type": "code",
   "execution_count": 123,
   "metadata": {},
   "outputs": [
    {
     "data": {
      "text/html": [
       "<div>\n",
       "<style scoped>\n",
       "    .dataframe tbody tr th:only-of-type {\n",
       "        vertical-align: middle;\n",
       "    }\n",
       "\n",
       "    .dataframe tbody tr th {\n",
       "        vertical-align: top;\n",
       "    }\n",
       "\n",
       "    .dataframe thead th {\n",
       "        text-align: right;\n",
       "    }\n",
       "</style>\n",
       "<table border=\"1\" class=\"dataframe\">\n",
       "  <thead>\n",
       "    <tr style=\"text-align: right;\">\n",
       "      <th></th>\n",
       "      <th>產業類別</th>\n",
       "      <th>公司代號</th>\n",
       "      <th>公司名稱</th>\n",
       "      <th>平均數108</th>\n",
       "      <th>平均數107</th>\n",
       "      <th>中位數108</th>\n",
       "    </tr>\n",
       "  </thead>\n",
       "  <tbody>\n",
       "    <tr>\n",
       "      <th>512</th>\n",
       "      <td>半導體業</td>\n",
       "      <td>3034</td>\n",
       "      <td>聯詠</td>\n",
       "      <td>2713</td>\n",
       "      <td>2542.0</td>\n",
       "      <td>2398</td>\n",
       "    </tr>\n",
       "    <tr>\n",
       "      <th>272</th>\n",
       "      <td>其他電子業</td>\n",
       "      <td>2354</td>\n",
       "      <td>鴻準</td>\n",
       "      <td>3053</td>\n",
       "      <td>2457.0</td>\n",
       "      <td>2388</td>\n",
       "    </tr>\n",
       "    <tr>\n",
       "      <th>344</th>\n",
       "      <td>半導體業</td>\n",
       "      <td>2454</td>\n",
       "      <td>聯發科</td>\n",
       "      <td>2647</td>\n",
       "      <td>2705.0</td>\n",
       "      <td>2339</td>\n",
       "    </tr>\n",
       "    <tr>\n",
       "      <th>518</th>\n",
       "      <td>半導體業</td>\n",
       "      <td>3041</td>\n",
       "      <td>揚智</td>\n",
       "      <td>2416</td>\n",
       "      <td>1641.0</td>\n",
       "      <td>2054</td>\n",
       "    </tr>\n",
       "    <tr>\n",
       "      <th>292</th>\n",
       "      <td>半導體業</td>\n",
       "      <td>2379</td>\n",
       "      <td>瑞昱</td>\n",
       "      <td>2100</td>\n",
       "      <td>1993.0</td>\n",
       "      <td>1819</td>\n",
       "    </tr>\n",
       "    <tr>\n",
       "      <th>...</th>\n",
       "      <td>...</td>\n",
       "      <td>...</td>\n",
       "      <td>...</td>\n",
       "      <td>...</td>\n",
       "      <td>...</td>\n",
       "      <td>...</td>\n",
       "    </tr>\n",
       "    <tr>\n",
       "      <th>338</th>\n",
       "      <td>通信網路業</td>\n",
       "      <td>2444</td>\n",
       "      <td>兆勁</td>\n",
       "      <td>442</td>\n",
       "      <td>468.0</td>\n",
       "      <td>360</td>\n",
       "    </tr>\n",
       "    <tr>\n",
       "      <th>435</th>\n",
       "      <td>觀光事業</td>\n",
       "      <td>2712</td>\n",
       "      <td>遠雄來</td>\n",
       "      <td>427</td>\n",
       "      <td>431.0</td>\n",
       "      <td>348</td>\n",
       "    </tr>\n",
       "    <tr>\n",
       "      <th>430</th>\n",
       "      <td>觀光事業</td>\n",
       "      <td>2702</td>\n",
       "      <td>華園</td>\n",
       "      <td>407</td>\n",
       "      <td>386.0</td>\n",
       "      <td>344</td>\n",
       "    </tr>\n",
       "    <tr>\n",
       "      <th>436</th>\n",
       "      <td>觀光事業</td>\n",
       "      <td>2722</td>\n",
       "      <td>夏都</td>\n",
       "      <td>386</td>\n",
       "      <td>365.0</td>\n",
       "      <td>337</td>\n",
       "    </tr>\n",
       "    <tr>\n",
       "      <th>24</th>\n",
       "      <td>食品工業</td>\n",
       "      <td>1235</td>\n",
       "      <td>興泰</td>\n",
       "      <td>312</td>\n",
       "      <td>342.0</td>\n",
       "      <td>332</td>\n",
       "    </tr>\n",
       "  </tbody>\n",
       "</table>\n",
       "<p>864 rows × 6 columns</p>\n",
       "</div>"
      ],
      "text/plain": [
       "      產業類別  公司代號 公司名稱  平均數108  平均數107  中位數108\n",
       "512   半導體業  3034   聯詠    2713  2542.0    2398\n",
       "272  其他電子業  2354   鴻準    3053  2457.0    2388\n",
       "344   半導體業  2454  聯發科    2647  2705.0    2339\n",
       "518   半導體業  3041   揚智    2416  1641.0    2054\n",
       "292   半導體業  2379   瑞昱    2100  1993.0    1819\n",
       "..     ...   ...  ...     ...     ...     ...\n",
       "338  通信網路業  2444   兆勁     442   468.0     360\n",
       "435   觀光事業  2712  遠雄來     427   431.0     348\n",
       "430   觀光事業  2702   華園     407   386.0     344\n",
       "436   觀光事業  2722   夏都     386   365.0     337\n",
       "24    食品工業  1235   興泰     312   342.0     332\n",
       "\n",
       "[864 rows x 6 columns]"
      ]
     },
     "execution_count": 123,
     "metadata": {},
     "output_type": "execute_result"
    }
   ],
   "source": [
    "df.sort_values('中位數108', ascending=False)"
   ]
  },
  {
   "cell_type": "code",
   "execution_count": 127,
   "metadata": {},
   "outputs": [
    {
     "data": {
      "text/plain": [
       "69.46"
      ]
     },
     "execution_count": 127,
     "metadata": {},
     "output_type": "execute_result"
    }
   ],
   "source": [
    "import numpy\n",
    "a = (numpy.random.randn(100) * 10 + 70).astype(int)\n",
    "a.mean()"
   ]
  },
  {
   "cell_type": "code",
   "execution_count": 129,
   "metadata": {},
   "outputs": [
    {
     "data": {
      "text/plain": [
       "71.0"
      ]
     },
     "execution_count": 129,
     "metadata": {},
     "output_type": "execute_result"
    }
   ],
   "source": [
    "s = pandas.Series(a)\n",
    "s.median()"
   ]
  },
  {
   "cell_type": "code",
   "execution_count": 130,
   "metadata": {},
   "outputs": [],
   "source": [
    "b = numpy.array([1000])"
   ]
  },
  {
   "cell_type": "code",
   "execution_count": 131,
   "metadata": {},
   "outputs": [],
   "source": [
    "m = numpy.concatenate([a,b])"
   ]
  },
  {
   "cell_type": "code",
   "execution_count": 133,
   "metadata": {},
   "outputs": [],
   "source": [
    "s2 = pandas.Series(m)"
   ]
  },
  {
   "cell_type": "code",
   "execution_count": 134,
   "metadata": {},
   "outputs": [
    {
     "data": {
      "text/plain": [
       "71.0"
      ]
     },
     "execution_count": 134,
     "metadata": {},
     "output_type": "execute_result"
    }
   ],
   "source": [
    "s2.median()"
   ]
  },
  {
   "cell_type": "code",
   "execution_count": 135,
   "metadata": {},
   "outputs": [
    {
     "data": {
      "text/plain": [
       "78.67326732673267"
      ]
     },
     "execution_count": 135,
     "metadata": {},
     "output_type": "execute_result"
    }
   ],
   "source": [
    "s2.mean()"
   ]
  },
  {
   "cell_type": "code",
   "execution_count": null,
   "metadata": {},
   "outputs": [],
   "source": []
  }
 ],
 "metadata": {
  "kernelspec": {
   "display_name": "Python 3",
   "language": "python",
   "name": "python3"
  },
  "language_info": {
   "codemirror_mode": {
    "name": "ipython",
    "version": 3
   },
   "file_extension": ".py",
   "mimetype": "text/x-python",
   "name": "python",
   "nbconvert_exporter": "python",
   "pygments_lexer": "ipython3",
   "version": "3.7.3"
  }
 },
 "nbformat": 4,
 "nbformat_minor": 4
}
