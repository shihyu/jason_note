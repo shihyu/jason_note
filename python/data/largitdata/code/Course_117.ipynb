{
 "cells": [
  {
   "cell_type": "markdown",
   "metadata": {},
   "source": [
    "## 完整漫畫抓取函式"
   ]
  },
  {
   "cell_type": "code",
   "execution_count": 1,
   "metadata": {},
   "outputs": [],
   "source": [
    "import time, os\n",
    "from selenium import webdriver\n",
    "from bs4 import BeautifulSoup\n",
    "import requests\n",
    "driver = webdriver.Chrome('/opt/local/common/chromedriver')\n",
    "\n",
    "for s in range(953, 957):\n",
    "    if not os.path.exists(str(s)):\n",
    "        os.mkdir(str(s))\n",
    "    pageurl = 'https://www.8899.click/online/comic-103.html?ch={}-{}'\n",
    "    driver.get(pageurl.format(s,1))\n",
    "    time.sleep(1)\n",
    "    soup = BeautifulSoup(driver.page_source, 'lxml')\n",
    "    pagenum = int(soup.select_one('#pagenum').text.split('/')[1].strip('頁')) \n",
    "    for i in range(pagenum):\n",
    "        driver.get(pageurl.format(s, i+1))\n",
    "        soup = BeautifulSoup(driver.page_source, 'lxml')\n",
    "        imgurl = 'https:' + soup.select_one('#TheImg').get('src')\n",
    "        res = requests.get(imgurl)\n",
    "        with open('{}/{}.jpg'.format(s, i+ 1), 'wb') as f:\n",
    "            f.write(res.content)\n",
    "        time.sleep(1)"
   ]
  },
  {
   "cell_type": "code",
   "execution_count": 1,
   "metadata": {},
   "outputs": [
    {
     "name": "stdout",
     "output_type": "stream",
     "text": [
      "Requirement already satisfied: img2pdf in /Users/davidchiu/.pyenv/versions/3.6.2/lib/python3.6/site-packages\n",
      "Requirement already satisfied: Pillow in /Users/davidchiu/.pyenv/versions/3.6.2/lib/python3.6/site-packages (from img2pdf)\n",
      "\u001b[33mYou are using pip version 9.0.1, however version 19.2.2 is available.\n",
      "You should consider upgrading via the 'pip install --upgrade pip' command.\u001b[0m\n"
     ]
    }
   ],
   "source": [
    "! pip install img2pdf"
   ]
  },
  {
   "cell_type": "code",
   "execution_count": 2,
   "metadata": {},
   "outputs": [],
   "source": [
    "import img2pdf\n",
    "?img2pdf.convert"
   ]
  },
  {
   "cell_type": "code",
   "execution_count": 3,
   "metadata": {},
   "outputs": [
    {
     "name": "stdout",
     "output_type": "stream",
     "text": [
      "8.jpg\n",
      "9.jpg\n",
      "14.jpg\n",
      "15.jpg\n",
      "17.jpg\n",
      "16.jpg\n",
      "12.jpg\n",
      "13.jpg\n",
      "11.jpg\n",
      "10.jpg\n",
      "4.jpg\n",
      "5.jpg\n",
      "7.jpg\n",
      "6.jpg\n",
      "2.jpg\n",
      "3.jpg\n",
      "1.jpg\n"
     ]
    }
   ],
   "source": [
    "import os\n",
    "for f in os.listdir('952/'):\n",
    "    print(f)"
   ]
  },
  {
   "cell_type": "code",
   "execution_count": 7,
   "metadata": {},
   "outputs": [],
   "source": [
    "import os\n",
    "ary = []\n",
    "for f in os.listdir('952/'):\n",
    "    ary.append(int(f.split('.jpg')[0]))"
   ]
  },
  {
   "cell_type": "code",
   "execution_count": 8,
   "metadata": {},
   "outputs": [
    {
     "data": {
      "text/plain": [
       "[8, 9, 14, 15, 17, 16, 12, 13, 11, 10, 4, 5, 7, 6, 2, 3, 1]"
      ]
     },
     "execution_count": 8,
     "metadata": {},
     "output_type": "execute_result"
    }
   ],
   "source": [
    "ary"
   ]
  },
  {
   "cell_type": "code",
   "execution_count": 9,
   "metadata": {},
   "outputs": [],
   "source": [
    "ary.sort()"
   ]
  },
  {
   "cell_type": "code",
   "execution_count": 13,
   "metadata": {},
   "outputs": [],
   "source": [
    "li = []\n",
    "for e in ary:\n",
    "    li.append(f'952/{e}.jpg')"
   ]
  },
  {
   "cell_type": "code",
   "execution_count": 15,
   "metadata": {},
   "outputs": [],
   "source": [
    "pdf_obj = img2pdf.convert(li)"
   ]
  },
  {
   "cell_type": "code",
   "execution_count": 16,
   "metadata": {},
   "outputs": [],
   "source": [
    "with open('952.pdf', 'wb') as f:\n",
    "    f.write(pdf_obj)"
   ]
  },
  {
   "cell_type": "code",
   "execution_count": null,
   "metadata": {},
   "outputs": [],
   "source": []
  }
 ],
 "metadata": {
  "kernelspec": {
   "display_name": "Python 3",
   "language": "python",
   "name": "python3"
  },
  "language_info": {
   "codemirror_mode": {
    "name": "ipython",
    "version": 3
   },
   "file_extension": ".py",
   "mimetype": "text/x-python",
   "name": "python",
   "nbconvert_exporter": "python",
   "pygments_lexer": "ipython3",
   "version": "3.6.2"
  }
 },
 "nbformat": 4,
 "nbformat_minor": 2
}
