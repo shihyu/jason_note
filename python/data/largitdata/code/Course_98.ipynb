{
 "cells": [
  {
   "cell_type": "code",
   "execution_count": 47,
   "metadata": {},
   "outputs": [
    {
     "data": {
      "text/plain": [
       "19"
      ]
     },
     "execution_count": 47,
     "metadata": {},
     "output_type": "execute_result"
    }
   ],
   "source": [
    "import requests\n",
    "from bs4 import BeautifulSoup\n",
    "res = requests.get('https://pages.tmall.com/wow/act/18132/industry-100719')\n",
    "soup = BeautifulSoup(res.text, 'html.parser')\n",
    "len(soup.select('.J_dynamic_data'))"
   ]
  },
  {
   "cell_type": "code",
   "execution_count": 55,
   "metadata": {},
   "outputs": [
    {
     "data": {
      "text/html": [
       "<div>\n",
       "<table border=\"1\" class=\"dataframe\">\n",
       "  <thead>\n",
       "    <tr style=\"text-align: right;\">\n",
       "      <th></th>\n",
       "      <th>af_1x1</th>\n",
       "      <th>brandLogo</th>\n",
       "      <th>btnText</th>\n",
       "      <th>couponUrl</th>\n",
       "      <th>couponValue</th>\n",
       "      <th>hideSalePoint</th>\n",
       "      <th>iconImg</th>\n",
       "      <th>itemActPrice</th>\n",
       "      <th>itemActPriceTitle</th>\n",
       "      <th>itemDesc</th>\n",
       "      <th>itemImg</th>\n",
       "      <th>itemMPrice</th>\n",
       "      <th>itemTagPrice</th>\n",
       "      <th>itemTagPriceTitle</th>\n",
       "      <th>itemTitle</th>\n",
       "      <th>itemUrl</th>\n",
       "      <th>salePoint</th>\n",
       "    </tr>\n",
       "  </thead>\n",
       "  <tbody>\n",
       "    <tr>\n",
       "      <th>0</th>\n",
       "      <td></td>\n",
       "      <td>//img.alicdn.com/bao/uploaded/i1/TB1YtZpmWigSK...</td>\n",
       "      <td></td>\n",
       "      <td></td>\n",
       "      <td></td>\n",
       "      <td>False</td>\n",
       "      <td>//img.alicdn.com/tps/TB1XVIxNXXXXXcyXXXXXXXXXX...</td>\n",
       "      <td>2??9</td>\n",
       "      <td>双11狂欢价</td>\n",
       "      <td>10日10点开卖 抢先加购</td>\n",
       "      <td>//img.alicdn.com/bao/uploaded/i1/TB1r46Gb4rI8K...</td>\n",
       "      <td>2??9</td>\n",
       "      <td>2999</td>\n",
       "      <td></td>\n",
       "      <td>OPPO R11s新品</td>\n",
       "      <td>//detail.tmall.com/item.htm?acm=lb-zebra-27325...</td>\n",
       "      <td></td>\n",
       "    </tr>\n",
       "  </tbody>\n",
       "</table>\n",
       "</div>"
      ],
      "text/plain": [
       "  af_1x1                                          brandLogo btnText couponUrl  \\\n",
       "0         //img.alicdn.com/bao/uploaded/i1/TB1YtZpmWigSK...                     \n",
       "\n",
       "  couponValue hideSalePoint  \\\n",
       "0                     False   \n",
       "\n",
       "                                             iconImg itemActPrice  \\\n",
       "0  //img.alicdn.com/tps/TB1XVIxNXXXXXcyXXXXXXXXXX...         2??9   \n",
       "\n",
       "  itemActPriceTitle       itemDesc  \\\n",
       "0            双11狂欢价  10日10点开卖 抢先加购   \n",
       "\n",
       "                                             itemImg itemMPrice itemTagPrice  \\\n",
       "0  //img.alicdn.com/bao/uploaded/i1/TB1r46Gb4rI8K...       2??9         2999   \n",
       "\n",
       "  itemTagPriceTitle    itemTitle  \\\n",
       "0                    OPPO R11s新品   \n",
       "\n",
       "                                             itemUrl salePoint  \n",
       "0  //detail.tmall.com/item.htm?acm=lb-zebra-27325...            "
      ]
     },
     "execution_count": 55,
     "metadata": {},
     "output_type": "execute_result"
    }
   ],
   "source": [
    "import json\n",
    "import pandas\n",
    "jd = json.loads(soup.select('.J_dynamic_data')[1].text.strip())\n",
    "df = pandas.DataFrame(jd['items'])\n",
    "df.head(1)"
   ]
  },
  {
   "cell_type": "code",
   "execution_count": 66,
   "metadata": {},
   "outputs": [],
   "source": [
    "j_ary = []\n",
    "for jdata in soup.select('.J_dynamic_data'):\n",
    "    if jdata.text.strip() != '':\n",
    "        jd = json.loads(jdata.text.strip())\n",
    "        if isinstance(jd, dict) and jd.get('items'):            \n",
    "            df = pandas.DataFrame(jd['items'])\n",
    "        if isinstance(jd, list):\n",
    "            df = pandas.DataFrame(jd)\n",
    "        j_ary.append(df)"
   ]
  },
  {
   "cell_type": "code",
   "execution_count": 68,
   "metadata": {},
   "outputs": [],
   "source": [
    "jdf = pandas.concat(j_ary)\n",
    "#jdf"
   ]
  },
  {
   "cell_type": "code",
   "execution_count": 71,
   "metadata": {},
   "outputs": [],
   "source": [
    "#jdf.columns\n",
    "jdf[['itemTitle', 'itemUrl', 'itemTagPrice']].to_excel('1111.xlsx')"
   ]
  },
  {
   "cell_type": "code",
   "execution_count": null,
   "metadata": {
    "collapsed": true
   },
   "outputs": [],
   "source": []
  }
 ],
 "metadata": {
  "kernelspec": {
   "display_name": "Python 3",
   "language": "python",
   "name": "python3"
  },
  "language_info": {
   "codemirror_mode": {
    "name": "ipython",
    "version": 3
   },
   "file_extension": ".py",
   "mimetype": "text/x-python",
   "name": "python",
   "nbconvert_exporter": "python",
   "pygments_lexer": "ipython3",
   "version": "3.6.2"
  }
 },
 "nbformat": 4,
 "nbformat_minor": 2
}
