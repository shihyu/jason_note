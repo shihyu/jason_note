{
 "cells": [
  {
   "cell_type": "code",
   "execution_count": 23,
   "metadata": {
    "collapsed": false
   },
   "outputs": [
    {
     "name": "stdout",
     "output_type": "stream",
     "text": [
      "13999 双11狂欢价 买二付一 独立音响\n",
      "5299 双11狂欢价 斥资10亿美元打造海量内容\n",
      "4999 双11狂欢价 16G大内存 4K超清大屏\n",
      "3799 双11狂欢价 再抢三星VR眼镜\n",
      "3699 双11狂欢价 到手价3599\n",
      "2499 双11狂欢价 55吋64位芯片超清真4K\n",
      "2499 双11狂欢价 64位30核机皇 送挂架\n",
      "1399 双11狂欢价 11日0-2点抢挂架\n",
      "3899 双11狂欢价 3D智能变频 加量不加价\n",
      "2799 双11狂欢价 前10分钟送洗护礼盒\n",
      "2798 双11狂欢价 库存紧张 手快有手慢无\n",
      "1598 双11狂欢价 疯狂抢购抽万元大奖\n",
      "2399 双11狂欢价 0-2点领券再减100\n",
      "798 双11狂欢价 联系客服抢券狂抵50元\n",
      "5799 双11狂欢价 抗油污不锈 低至5699\n",
      "2799 双11狂欢价 抢100元券，低至2699元\n",
      "1899 双11狂欢价 进店送50元优惠劵\n",
      "1599 双11狂欢价 抢券立减100元\n",
      "3980 双11狂欢价 全网保价 买贵退差\n",
      "3799 双11狂欢价 下单即现惊喜价 仅需3?99\n",
      "2699 双11狂欢价 低至2599元+10年包修\n",
      "3949 双11狂欢价 直降400再抢千套亮碟\n",
      "1899 双11狂欢价 人性化设计尊享健康风\n",
      "2349 双11狂欢价 价保1年 较618省100元\n",
      "2069 双11狂欢价 领券后到手价1969元\n",
      "2178 双11狂欢价 11号抢0元购机\n",
      "999 双11狂欢价 前15秒平分20万现金\n",
      "999 双11狂欢价 前5分钟送浴巾 仅需949元\n"
     ]
    }
   ],
   "source": [
    "import requests\n",
    "from bs4 import BeautifulSoup\n",
    "import json\n",
    "res = requests.get('https://pages.tmall.com/wow/act/16495/industry_1193?spm=a222r.8215186.6793847256.70.oLRCZx&acm=lb-zebra-189803-1485944.1003.4.1273089&wh_weex=true&scm=1003.4.lb-zebra-189803-1485944.OTHER_14766062362431_1273089')\n",
    "soup = BeautifulSoup(res.text, 'html.parser')\n",
    "jd = json.loads(soup.select('.J_dynamic_data')[0].text)\n",
    "for item in jd['items']:\n",
    "    print item['itemActPrice'], item['itemActPriceTitle'], item['itemDesc']\n"
   ]
  },
  {
   "cell_type": "code",
   "execution_count": null,
   "metadata": {
    "collapsed": true
   },
   "outputs": [],
   "source": []
  }
 ],
 "metadata": {
  "kernelspec": {
   "display_name": "Python 2",
   "language": "python",
   "name": "python2"
  },
  "language_info": {
   "codemirror_mode": {
    "name": "ipython",
    "version": 2
   },
   "file_extension": ".py",
   "mimetype": "text/x-python",
   "name": "python",
   "nbconvert_exporter": "python",
   "pygments_lexer": "ipython2",
   "version": "2.7.12"
  }
 },
 "nbformat": 4,
 "nbformat_minor": 0
}
