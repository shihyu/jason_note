{
 "cells": [
  {
   "cell_type": "code",
   "execution_count": 29,
   "id": "22b7ea43",
   "metadata": {},
   "outputs": [
    {
     "name": "stdout",
     "output_type": "stream",
     "text": [
      "我熱愛數據科學\n"
     ]
    }
   ],
   "source": [
    "import asyncio\n",
    "from bs4 import BeautifulSoup\n",
    "from playwright.async_api import Playwright, async_playwright\n",
    "import opencc\n",
    "\n",
    "converter = opencc.OpenCC('s2t.json')\n",
    "\n",
    "async def run(playwright: Playwright) -> None:\n",
    "    browser = await playwright.chromium.launch(headless=True)\n",
    "    context = await browser.new_context()\n",
    "\n",
    "    # Open new page\n",
    "    page = await context.new_page()\n",
    "\n",
    "    # Go to https://fanyi.youdao.com/\n",
    "    await page.goto(\"https://fanyi.youdao.com/\")\n",
    "\n",
    "    # Click .guide-close\n",
    "    await page.click(\".guide-close\")\n",
    "\n",
    "    # Click textarea\n",
    "    await page.click(\"textarea\")\n",
    "\n",
    "    # Fill textarea\n",
    "    await page.fill(\"textarea\", \"I love data science\")\n",
    "    await page.wait_for_timeout(1000)\n",
    "    page_content = await page.content()\n",
    "    soup = BeautifulSoup(page_content, 'lxml')\n",
    "    ret = soup.select_one('#transTarget').text\n",
    "    print(converter.convert(ret))\n",
    "\n",
    "    # Click text=我知道了\n",
    "    await page.click(\"text=我知道了\")\n",
    "    await page.wait_for_timeout(3000)\n",
    "\n",
    "    # ---------------------\n",
    "    await context.close()\n",
    "    await browser.close()\n",
    "\n",
    "\n",
    "async def main() -> None:\n",
    "    async with async_playwright() as playwright:\n",
    "        await run(playwright)\n",
    "\n",
    "\n",
    "await main()\n"
   ]
  },
  {
   "cell_type": "code",
   "execution_count": 26,
   "id": "14f69587",
   "metadata": {},
   "outputs": [
    {
     "name": "stdout",
     "output_type": "stream",
     "text": [
      "Requirement already satisfied: OpenCC in /Users/david/.pyenv/versions/3.8.10/lib/python3.8/site-packages (1.1.4)\n",
      "\u001b[33mWARNING: You are using pip version 22.0.4; however, version 22.1.2 is available.\n",
      "You should consider upgrading via the '/Users/david/.pyenv/versions/3.8.10/bin/python3.8 -m pip install --upgrade pip' command.\u001b[0m\u001b[33m\n",
      "\u001b[0m"
     ]
    }
   ],
   "source": [
    "! pip install OpenCC"
   ]
  },
  {
   "cell_type": "code",
   "execution_count": 27,
   "id": "0d88055b",
   "metadata": {},
   "outputs": [
    {
     "data": {
      "text/plain": [
       "'漢字'"
      ]
     },
     "execution_count": 27,
     "metadata": {},
     "output_type": "execute_result"
    }
   ],
   "source": [
    "import opencc\n",
    "converter = opencc.OpenCC('s2t.json')\n",
    "converter.convert('汉字')"
   ]
  },
  {
   "cell_type": "code",
   "execution_count": null,
   "id": "99cc5910",
   "metadata": {},
   "outputs": [],
   "source": []
  }
 ],
 "metadata": {
  "kernelspec": {
   "display_name": "Python 3 (ipykernel)",
   "language": "python",
   "name": "python3"
  },
  "language_info": {
   "codemirror_mode": {
    "name": "ipython",
    "version": 3
   },
   "file_extension": ".py",
   "mimetype": "text/x-python",
   "name": "python",
   "nbconvert_exporter": "python",
   "pygments_lexer": "ipython3",
   "version": "3.8.10"
  }
 },
 "nbformat": 4,
 "nbformat_minor": 5
}
