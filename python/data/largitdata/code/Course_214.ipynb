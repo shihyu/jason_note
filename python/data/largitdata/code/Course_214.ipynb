{
 "cells": [
  {
   "cell_type": "code",
   "execution_count": 6,
   "id": "250468e8",
   "metadata": {},
   "outputs": [],
   "source": [
    "import requests\n",
    "res = requests.get('https://jp.burberry.com/the-mid-length-kensington-heritage-trench-coat-p80580281')\n",
    "#res.text"
   ]
  },
  {
   "cell_type": "code",
   "execution_count": 7,
   "id": "df799416",
   "metadata": {},
   "outputs": [],
   "source": [
    "from bs4 import BeautifulSoup\n",
    "soup = BeautifulSoup(res.text, 'lxml')"
   ]
  },
  {
   "cell_type": "code",
   "execution_count": 8,
   "id": "a160f7f4",
   "metadata": {},
   "outputs": [
    {
     "data": {
      "text/plain": [
       "'¥324,500'"
      ]
     },
     "execution_count": 8,
     "metadata": {},
     "output_type": "execute_result"
    }
   ],
   "source": [
    "soup.select_one('.product-info-panel__price').text"
   ]
  },
  {
   "cell_type": "code",
   "execution_count": 26,
   "id": "7aeb0a2a",
   "metadata": {},
   "outputs": [
    {
     "name": "stdout",
     "output_type": "stream",
     "text": [
      "85000.0\n",
      "324500.0\n",
      "1790.0\n",
      "2490.0\n",
      "3390000.0\n"
     ]
    }
   ],
   "source": [
    "import re\n",
    "country_code = {'tw': 'TWD', 'jp': 'JPY', 'uk': 'GBP', 'us': 'USD', 'kr' : 'KRW'}\n",
    "for country in country_code:\n",
    "    res = requests.get(f'https://{country}.burberry.com/the-mid-length-kensington-heritage-trench-coat-p80580281')\n",
    "    soup = BeautifulSoup(res.text, 'lxml')\n",
    "    price_text = soup.select_one('.product-info-panel__price').text\n",
    "    p = float(''.join([e for e in price_text if re.match('[0-9.]', e)]))\n",
    "    print(p)"
   ]
  },
  {
   "cell_type": "code",
   "execution_count": 12,
   "id": "1f4fad49",
   "metadata": {},
   "outputs": [
    {
     "name": "stderr",
     "output_type": "stream",
     "text": [
      "/Users/david/.pyenv/versions/3.8.10/lib/python3.8/site-packages/pandas/compat/__init__.py:124: UserWarning: Could not import the lzma module. Your installed Python is incomplete. Attempting to use lzma compression will result in a RuntimeError.\n",
      "  warnings.warn(msg)\n"
     ]
    }
   ],
   "source": [
    "import pandas\n",
    "dfs = pandas.read_html('https://rate.bot.com.tw/xrt?Lang=zh-TW')"
   ]
  },
  {
   "cell_type": "code",
   "execution_count": 23,
   "id": "b0e5d677",
   "metadata": {},
   "outputs": [
    {
     "name": "stderr",
     "output_type": "stream",
     "text": [
      "/var/folders/21/1tszsz8n1vdd79rbhmdnwwqc0000gn/T/ipykernel_86398/948301763.py:4: SettingWithCopyWarning: \n",
      "A value is trying to be set on a copy of a slice from a DataFrame.\n",
      "Try using .loc[row_indexer,col_indexer] = value instead\n",
      "\n",
      "See the caveats in the documentation: https://pandas.pydata.org/pandas-docs/stable/user_guide/indexing.html#returning-a-view-versus-a-copy\n",
      "  df['coin'] = df['coin'].str.extract('.+\\((.+)\\)')\n"
     ]
    },
    {
     "data": {
      "text/plain": [
       "{'USD': 32.025,\n",
       " 'HKD': 4.094,\n",
       " 'GBP': 37.2,\n",
       " 'AUD': 21.03,\n",
       " 'CAD': 23.84,\n",
       " 'SGD': 22.62,\n",
       " 'CHF': 32.8,\n",
       " 'JPY': 0.2236,\n",
       " 'SEK': 3.06,\n",
       " 'NZD': 18.59,\n",
       " 'THB': 0.9113,\n",
       " 'PHP': 0.6016,\n",
       " 'IDR': 0.00238,\n",
       " 'EUR': 32.19,\n",
       " 'KRW': 0.02455,\n",
       " 'VND': 0.00149,\n",
       " 'MYR': 7.306,\n",
       " 'CNY': 4.571}"
      ]
     },
     "execution_count": 23,
     "metadata": {},
     "output_type": "execute_result"
    }
   ],
   "source": [
    "df = dfs[0]\n",
    "df = df.iloc[:, [0,2]]\n",
    "df.columns = ['coin', 'price']\n",
    "df['coin'] = df['coin'].str.extract('.+\\((.+)\\)')\n",
    "\n",
    "price_dic = {}\n",
    "for idx, rec in df.iterrows():\n",
    "    if rec.price != '-':\n",
    "        price_dic[rec.coin] = float(rec.price)\n",
    "price_dic"
   ]
  },
  {
   "cell_type": "code",
   "execution_count": 31,
   "id": "543126eb",
   "metadata": {},
   "outputs": [
    {
     "name": "stdout",
     "output_type": "stream",
     "text": [
      "tw 85000.0\n",
      "jp 72558.2\n",
      "uk 66588.0\n",
      "us 79742.25\n",
      "kr 83224.5\n"
     ]
    }
   ],
   "source": [
    "import re\n",
    "country_code = {'tw': 'TWD', 'jp': 'JPY', 'uk': 'GBP', 'us': 'USD', 'kr' : 'KRW'}\n",
    "for country in country_code:\n",
    "    res = requests.get(f'https://{country}.burberry.com/the-mid-length-kensington-heritage-trench-coat-p80580281')\n",
    "    soup = BeautifulSoup(res.text, 'lxml')\n",
    "    price_text = soup.select_one('.product-info-panel__price').text\n",
    "    p = float(''.join([e for e in price_text if re.match('[0-9.]', e)]))\n",
    "    print(country ,p *  price_dic.get(country_code.get(country), 1) )"
   ]
  },
  {
   "cell_type": "code",
   "execution_count": 32,
   "id": "ee8021a0",
   "metadata": {},
   "outputs": [
    {
     "name": "stdout",
     "output_type": "stream",
     "text": [
      "tw 79000.0\n",
      "jp 66409.2\n",
      "uk 65100.00000000001\n",
      "us 76539.75\n",
      "kr 79787.5\n"
     ]
    }
   ],
   "source": [
    "import re\n",
    "country_code = {'tw': 'TWD', 'jp': 'JPY', 'uk': 'GBP', 'us': 'USD', 'kr' : 'KRW'}\n",
    "for country in country_code:\n",
    "    res = requests.get(f'https://{country}.burberry.com/grainy-leather-mini-frances-bag-p80556851')\n",
    "    soup = BeautifulSoup(res.text, 'lxml')\n",
    "    price_text = soup.select_one('.product-info-panel__price').text\n",
    "    p = float(''.join([e for e in price_text if re.match('[0-9.]', e)]))\n",
    "    print(country ,p *  price_dic.get(country_code.get(country), 1) )"
   ]
  },
  {
   "cell_type": "code",
   "execution_count": null,
   "id": "7a4f193d",
   "metadata": {},
   "outputs": [],
   "source": []
  }
 ],
 "metadata": {
  "kernelspec": {
   "display_name": "Python 3 (ipykernel)",
   "language": "python",
   "name": "python3"
  },
  "language_info": {
   "codemirror_mode": {
    "name": "ipython",
    "version": 3
   },
   "file_extension": ".py",
   "mimetype": "text/x-python",
   "name": "python",
   "nbconvert_exporter": "python",
   "pygments_lexer": "ipython3",
   "version": "3.8.10"
  }
 },
 "nbformat": 4,
 "nbformat_minor": 5
}
