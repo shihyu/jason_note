{
 "cells": [
  {
   "cell_type": "markdown",
   "id": "4568cad9",
   "metadata": {},
   "source": [
    "## 如何透過 revChatGPT 操作 ChatGPT (Course 217)\n",
    "\n",
    "### 影片\n",
    "https://largitdata.com/course/217/\n",
    "\n",
    "### 程式碼\n",
    "https://github.com/ywchiu/largitdata/blob/master/code/Course_217.ipynb"
   ]
  },
  {
   "cell_type": "code",
   "execution_count": null,
   "id": "37d3eece",
   "metadata": {},
   "outputs": [],
   "source": [
    "! pip install --upgrade revChatGPT"
   ]
  },
  {
   "cell_type": "code",
   "execution_count": 1,
   "id": "9707c477",
   "metadata": {},
   "outputs": [
    {
     "name": "stdout",
     "output_type": "stream",
     "text": [
      "Spawning browser...\n",
      "Browser spawned.\n",
      "Found Cloudflare Cookie!\n",
      "{'message': '人工智慧是一種電腦科學領域，目的是設計和開發能夠模擬人類智能的系統。這類系統可以進行自然語言處理、計算機視覺、決策樹、機器學習等任務。目前，人工智慧在商業、醫療、金融、汽車、電商等領域都有廣泛應用。', 'conversation_id': '1a44c7c2-4d7a-459f-ba4d-da39cffae370', 'parent_id': '65561c53-4523-4ec9-8681-3e8cb9ae6ecf'}\n"
     ]
    }
   ],
   "source": [
    "from revChatGPT.ChatGPT import Chatbot\n",
    "\n",
    "chatbot = Chatbot({\n",
    "  \"session_token\": \"eyJhbGciOiJkaXIiLCJlbmMiOiJBMjU2R0NNIn0..39aOeshFPEJo9A4E.L29_bb-UnOatjYsqTJqBMamHW7m7L-d6M3HR00tXKG6hujcMkx-1_eyBJwhpA9CYNFRzU_K_ECOY830LyZ9B2_Y3Poz-pB_kTQt5pHxADcx0vXEpaT32z3cTlaFa--g16T7bBtcAN5CHdchsYjbcpktRIhYdeqwU8I42XuoC2RwfczzkZIYORQ9ANx6mF_N6nCctQZ0PvN8LlS4qPMOFUOk-q3MVbZFX523VSrAEAqUzf7Z1Tgd9nD1fFUwIkitY69GckQveLjBx-VTy6BKP76opyoyWV3ztG45ekmHyaTDHTZH4DyTe6SGNdm1aRzdRECHOI9Jw-QjxsAAvSAE7vwKuC_NgxdaU27lDd_7tcYjRRqwLsNiM7gyW5x25iFlVhfSYv5nc4nMZH4X_Zn8IQ0cab5uj3aVWBe_tT65rliD5N4UDyLUPcbdipacQfYCTEnfbV47FpB0wARth2hGdPNnqqQ3f8vQCpo8p5KL9imIhRWuQK_ZDlr4pNTVQBTJEU1aWsAm_m1IZ4Lya92QqOdNM_HRrtsuWBqkAk8BX4YTKtVKeAnfwMXalqUDijb2p32R4yYZXSmsBWCs8xjTlwkse4dl8XawXNWNaCRzLV09WwNlRvpW1rqGQhWBhdwk_Lfv5r1BiD_UKU30tN17uWlEaASnt7vhDDuhQOy-WPuvHqMq_dviQQMm99w-135VJEnqXdrvVYhwERLNIr-ICNvWRp5DJTqH6QCbGaFtTOK_eLGcxxptk-43CFvgWWHoWxxCQJ-CjQ5sQlljPBFUZF23b_YAoWpHYNrqHlFFPV03v00xDc-7CER_f-HNcHc_oEz3rByX9wK53_V1oWJBjhqkVQodP4WgNnfW5Q9lWIR5M7ohnh0ZiLjveosMBkCWeGAd_vpOeCPlHewl3fZccWKeEOZ4sVU7zBnD30oaoELJXPTTWjSD6rzNXHTaCsOmZR0Rwc_sLSwZ5GkiCQQhe4A29UxkQOoxNasFWd2rZjKQqjfdoJC2bOKeBDhjm5EFUuY74SRbWfbX57Sjv8poxVFUXXO_1CgMDTvPAO3kbHuSrFqPhHBL8LdtrH1XhTsrwEBwiACmpuuEs3J9_NSr1SVYTlPUwWA_B0moq14Tbglvv9qD1mEViWjNeXkHdIgcdSxKSmHf36iVLkhZVOc8p1VKvjKori7NzQ_2THL0HLc4FAGB_NhY7NLB2P5INpvFpVesjeFPAvmleS4unrYFKGGsaHu7KfCD7xq0BAEsSr2qhXwIDOmWo9JKfTuFZYcBREJmxfILCcQVv8WfqlHEtiwT8ZVf3n7Hy8-yP6cMgu9eydRJXicAdAJR0NFESvqJzaFx6wFhACnR3_EJ8ZlOH2otHVuF1fw7gK-89oUZMp31dSpTiBp87t1NPGNO6YDzXG8jaCT2ZshJeFbkjMztd7UWpBo6w3SCAHB_AkmkkulMeFwJCVXZxbWQQgtYlIkmkJ4thV3q9NWiEoI7BfFrxfosThNBQlRtA9CFvjJr5mUu8nHGEL4mxmnSX-cSn9wsB2qJ2AAfAX1Rqm_0GUzMhGpvD0RQo3v3n6V9RYIfab4q7pWhJi6OkB1C8EXCr-vZ2QnTrTKobgEb1Z4vU3GGfpXMTekeO5we1xGMqI6pq6jqOfpXmg75F343a3kTtHB3S3yt2nkAPz5lfmqtUrOSRHV_Yef9HHQIMzTvOJvGVDjjZVUXVed9P9EjazIQljBkJjtFZckEnxkeIOSDl6iKmLZnhqQ6U7U-bC9f_H0le28XBdDAo1QLiWHbC8E6OCCJaJwuu8JUYO2Kv0q432It3xI92IZyAF98LQ1XXwh6G01wrd8imCj2NuKkgisTtJEpLiyzKpvLgwnVbVtzDfE0-812Hd1ko6tJkeXlkQmwTHfK1b-ERuQhx3pPr2G6_oYLuIiMKlRvb0QLUC4TUGCY7vawZWOX26lTRc1__AZCNrrnuH4uI2ig4XqbjIWGXYXIJrzBguKYjrx6dpVqM3_CIWdhSd5crwGmsqmNEGSzJuxjJVNbZUgS8cMH6lExIR21CB29UfAA8xlC58PR5LnlZAQiAXP2iP8ES0dajMkw04ob-mmaeMUxhmD8d_BPWR8k1lfEiIlu2NIPduJVTaZrBATtFAVN9Yk6_Z-3h7EUCu_B5MxEsjUPiDYvolw5X6oczGOp0tSAmzC65UYDvKwCb_Q8F66Ty3stO8PzPg_LXOJ5Rly73UyDQdbQzOfY6eQlj-PsKRDoMQhITUZ_HAyAghw-SAm4yre07eLAROYtFO7IyGbGZXdc.bEDRJ2GF998IPFJPE4jVBQ\"\n",
    "}, conversation_id=None, parent_id=None) # You can start a custom conversation\n",
    "\n",
    "response = chatbot.ask(\"請用100個字解釋人工智慧?\", conversation_id=None, parent_id=None) # You can specify custom conversation and parent ids. Otherwise it uses the saved conversation (yes. conversations are automatically saved)\n",
    "\n",
    "print(response)"
   ]
  },
  {
   "cell_type": "markdown",
   "id": "72ec32ba",
   "metadata": {},
   "source": [
    "## [Open Jarvis] 如何讓Python 自動將語音轉譯成文字? (Course 87)\n",
    "\n",
    "### 影片\n",
    "- https://largitdata.com/course/87/\n",
    "\n",
    "### 程式碼\n",
    "- https://github.com/ywchiu/largitdata/blob/master/code/Course_87.ipynb"
   ]
  },
  {
   "cell_type": "code",
   "execution_count": 2,
   "id": "9cd28f49",
   "metadata": {},
   "outputs": [],
   "source": [
    "# Course 87\n",
    "\n",
    "import speech_recognition\n",
    "\n",
    "def listenTo():\n",
    "    r = speech_recognition.Recognizer()\n",
    "\n",
    "    with speech_recognition.Microphone() as source:\n",
    "        r.adjust_for_ambient_noise(source)\n",
    "        audio = r.listen(source)\n",
    "\n",
    "    return r.recognize_google(audio, language='zh-TW')"
   ]
  },
  {
   "cell_type": "code",
   "execution_count": 3,
   "id": "b921e97d",
   "metadata": {},
   "outputs": [
    {
     "data": {
      "text/plain": [
       "'你好'"
      ]
     },
     "execution_count": 3,
     "metadata": {},
     "output_type": "execute_result"
    }
   ],
   "source": [
    "listenTo()"
   ]
  },
  {
   "cell_type": "markdown",
   "id": "8d7289f6",
   "metadata": {},
   "source": [
    "## [Open Jarvis] 如何用Python 讓電腦說話? (Course 88)\n",
    "\n",
    "### 影片\n",
    "- https://largitdata.com/course/88/\n",
    "\n",
    "### 程式碼\n",
    "- https://github.com/ywchiu/largitdata/blob/master/code/Course_88.ipynb"
   ]
  },
  {
   "cell_type": "code",
   "execution_count": 6,
   "id": "66ab94e7",
   "metadata": {},
   "outputs": [
    {
     "name": "stdout",
     "output_type": "stream",
     "text": [
      "pygame 2.0.1 (SDL 2.0.14, Python 3.8.10)\n",
      "Hello from the pygame community. https://www.pygame.org/contribute.html\n"
     ]
    }
   ],
   "source": [
    "#Course 88\n",
    "\n",
    "import tempfile\n",
    "from gtts import gTTS\n",
    "from pygame import mixer\n",
    "mixer.init()\n",
    "\n",
    "def speak(sentence):\n",
    "    with tempfile.NamedTemporaryFile(delete=True) as fp:\n",
    "        tts = gTTS(text=sentence, lang='zh-tw')\n",
    "        tts.save(\"{}.mp3\".format(fp.name))\n",
    "        mixer.music.load('{}.mp3'.format(fp.name))\n",
    "        mixer.music.play()\n"
   ]
  },
  {
   "cell_type": "code",
   "execution_count": null,
   "id": "8dc2e7d8",
   "metadata": {},
   "outputs": [],
   "source": [
    "speak('大家好')"
   ]
  },
  {
   "cell_type": "markdown",
   "id": "83d8f363",
   "metadata": {},
   "source": [
    "## Colab 版本\n",
    "\n",
    "### 影片\n",
    "- https://www.largitdata.com/course/204/\n",
    "\n",
    "### 程式碼\n",
    "- https://colab.research.google.com/github/ywchiu/python_basic/blob/master/Third_Party_Package.ipynb"
   ]
  },
  {
   "cell_type": "markdown",
   "id": "8587fd6f",
   "metadata": {},
   "source": [
    "## 利用語音與ChatGPT 對話"
   ]
  },
  {
   "cell_type": "code",
   "execution_count": 10,
   "id": "dca2aa79",
   "metadata": {},
   "outputs": [],
   "source": [
    "rec_result = listenTo()\n",
    "chatgpt_result = chatbot.ask(rec_result, conversation_id=None, parent_id=None) # You can specify custom conversation and parent ids. Otherwise it uses the saved conversation (yes. conversations are automatically saved)\n",
    "speak(chatgpt_result.get('message'))"
   ]
  },
  {
   "cell_type": "code",
   "execution_count": null,
   "id": "9048034e",
   "metadata": {},
   "outputs": [],
   "source": []
  }
 ],
 "metadata": {
  "kernelspec": {
   "display_name": "Python 3 (ipykernel)",
   "language": "python",
   "name": "python3"
  },
  "language_info": {
   "codemirror_mode": {
    "name": "ipython",
    "version": 3
   },
   "file_extension": ".py",
   "mimetype": "text/x-python",
   "name": "python",
   "nbconvert_exporter": "python",
   "pygments_lexer": "ipython3",
   "version": "3.8.10"
  }
 },
 "nbformat": 4,
 "nbformat_minor": 5
}
