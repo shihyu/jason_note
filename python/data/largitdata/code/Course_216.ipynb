{
 "cells": [
  {
   "cell_type": "code",
   "execution_count": 1,
   "id": "e9f62d91",
   "metadata": {},
   "outputs": [],
   "source": [
    "import requests\n",
    "res = requests.get('https://blob.sportslottery.com.tw/apidata/Live/Register.json')"
   ]
  },
  {
   "cell_type": "code",
   "execution_count": 3,
   "id": "ff3663c4",
   "metadata": {},
   "outputs": [],
   "source": [
    "jd = res.json()"
   ]
  },
  {
   "cell_type": "code",
   "execution_count": 6,
   "id": "2e76bfd7",
   "metadata": {},
   "outputs": [
    {
     "name": "stderr",
     "output_type": "stream",
     "text": [
      "/Users/david/.pyenv/versions/3.8.10/lib/python3.8/site-packages/pandas/compat/__init__.py:124: UserWarning: Could not import the lzma module. Your installed Python is incomplete. Attempting to use lzma compression will result in a RuntimeError.\n",
      "  warnings.warn(msg)\n"
     ]
    }
   ],
   "source": [
    "import pandas\n",
    "ary = []\n",
    "for rec in jd:\n",
    "    game_type = rec.get('cn')[0]\n",
    "    atn = rec.get('atn')[0]\n",
    "    htn = rec.get('htn')[0]\n",
    "    for ms in rec.get('ms'):\n",
    "        for cs in ms.get('cs'):\n",
    "            win = cs[0].get('o')\n",
    "            tie = cs[1].get('o')\n",
    "            loss = cs[2].get('o')\n",
    "    ary.append({'game_type': game_type, 'atn':atn, 'htn':htn, 'win':win, 'tie':tie, 'loss':loss})"
   ]
  },
  {
   "cell_type": "code",
   "execution_count": 7,
   "id": "6a4bee8f",
   "metadata": {},
   "outputs": [],
   "source": [
    "df = pandas.DataFrame(ary)"
   ]
  },
  {
   "cell_type": "code",
   "execution_count": 8,
   "id": "67e38e15",
   "metadata": {},
   "outputs": [
    {
     "data": {
      "text/html": [
       "<div>\n",
       "<style scoped>\n",
       "    .dataframe tbody tr th:only-of-type {\n",
       "        vertical-align: middle;\n",
       "    }\n",
       "\n",
       "    .dataframe tbody tr th {\n",
       "        vertical-align: top;\n",
       "    }\n",
       "\n",
       "    .dataframe thead th {\n",
       "        text-align: right;\n",
       "    }\n",
       "</style>\n",
       "<table border=\"1\" class=\"dataframe\">\n",
       "  <thead>\n",
       "    <tr style=\"text-align: right;\">\n",
       "      <th></th>\n",
       "      <th>game_type</th>\n",
       "      <th>atn</th>\n",
       "      <th>htn</th>\n",
       "      <th>win</th>\n",
       "      <th>tie</th>\n",
       "      <th>loss</th>\n",
       "    </tr>\n",
       "  </thead>\n",
       "  <tbody>\n",
       "    <tr>\n",
       "      <th>0</th>\n",
       "      <td>土耳其</td>\n",
       "      <td>柯西奧倫古庫</td>\n",
       "      <td>馬尼薩</td>\n",
       "      <td>2.15</td>\n",
       "      <td>3.10</td>\n",
       "      <td>2.40</td>\n",
       "    </tr>\n",
       "    <tr>\n",
       "      <th>1</th>\n",
       "      <td>國際賽(國家)</td>\n",
       "      <td>波蘭</td>\n",
       "      <td>法國</td>\n",
       "      <td>5.75</td>\n",
       "      <td>4.75</td>\n",
       "      <td>1.20</td>\n",
       "    </tr>\n",
       "    <tr>\n",
       "      <th>2</th>\n",
       "      <td>國際賽(國家)</td>\n",
       "      <td>塞內加爾</td>\n",
       "      <td>英格蘭</td>\n",
       "      <td>5.00</td>\n",
       "      <td>3.60</td>\n",
       "      <td>1.35</td>\n",
       "    </tr>\n",
       "    <tr>\n",
       "      <th>3</th>\n",
       "      <td>國際賽(國家)</td>\n",
       "      <td>克羅埃西亞</td>\n",
       "      <td>日本</td>\n",
       "      <td>1.85</td>\n",
       "      <td>2.95</td>\n",
       "      <td>3.00</td>\n",
       "    </tr>\n",
       "    <tr>\n",
       "      <th>4</th>\n",
       "      <td>國際賽(國家)</td>\n",
       "      <td>南韓</td>\n",
       "      <td>巴西</td>\n",
       "      <td>6.50</td>\n",
       "      <td>5.00</td>\n",
       "      <td>1.18</td>\n",
       "    </tr>\n",
       "    <tr>\n",
       "      <th>5</th>\n",
       "      <td>國際賽(國家)</td>\n",
       "      <td>西班牙</td>\n",
       "      <td>摩洛哥</td>\n",
       "      <td>1.40</td>\n",
       "      <td>3.50</td>\n",
       "      <td>5.00</td>\n",
       "    </tr>\n",
       "    <tr>\n",
       "      <th>6</th>\n",
       "      <td>國際賽(國家)</td>\n",
       "      <td>瑞士</td>\n",
       "      <td>葡萄牙</td>\n",
       "      <td>3.50</td>\n",
       "      <td>3.20</td>\n",
       "      <td>1.65</td>\n",
       "    </tr>\n",
       "  </tbody>\n",
       "</table>\n",
       "</div>"
      ],
      "text/plain": [
       "  game_type     atn  htn   win   tie  loss\n",
       "0       土耳其  柯西奧倫古庫  馬尼薩  2.15  3.10  2.40\n",
       "1   國際賽(國家)      波蘭   法國  5.75  4.75  1.20\n",
       "2   國際賽(國家)    塞內加爾  英格蘭  5.00  3.60  1.35\n",
       "3   國際賽(國家)   克羅埃西亞   日本  1.85  2.95  3.00\n",
       "4   國際賽(國家)      南韓   巴西  6.50  5.00  1.18\n",
       "5   國際賽(國家)     西班牙  摩洛哥  1.40  3.50  5.00\n",
       "6   國際賽(國家)      瑞士  葡萄牙  3.50  3.20  1.65"
      ]
     },
     "execution_count": 8,
     "metadata": {},
     "output_type": "execute_result"
    }
   ],
   "source": [
    "df"
   ]
  },
  {
   "cell_type": "code",
   "execution_count": null,
   "id": "a33e2ff6",
   "metadata": {},
   "outputs": [],
   "source": []
  }
 ],
 "metadata": {
  "kernelspec": {
   "display_name": "Python 3 (ipykernel)",
   "language": "python",
   "name": "python3"
  },
  "language_info": {
   "codemirror_mode": {
    "name": "ipython",
    "version": 3
   },
   "file_extension": ".py",
   "mimetype": "text/x-python",
   "name": "python",
   "nbconvert_exporter": "python",
   "pygments_lexer": "ipython3",
   "version": "3.8.10"
  }
 },
 "nbformat": 4,
 "nbformat_minor": 5
}
