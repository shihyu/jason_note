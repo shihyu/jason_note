{
 "cells": [
  {
   "cell_type": "code",
   "execution_count": 29,
   "metadata": {
    "collapsed": true
   },
   "outputs": [],
   "source": [
    "import pandas\n",
    "df = pandas.read_csv('ExchangeRate@201612271602.csv')"
   ]
  },
  {
   "cell_type": "code",
   "execution_count": 31,
   "metadata": {
    "collapsed": false
   },
   "outputs": [
    {
     "data": {
      "text/html": [
       "<div>\n",
       "<table border=\"1\" class=\"dataframe\">\n",
       "  <thead>\n",
       "    <tr style=\"text-align: right;\">\n",
       "      <th></th>\n",
       "      <th>﻿資料日期</th>\n",
       "      <th>幣別</th>\n",
       "      <th>匯率</th>\n",
       "      <th>現金</th>\n",
       "      <th>即期</th>\n",
       "      <th>遠期10天</th>\n",
       "      <th>遠期30天</th>\n",
       "      <th>遠期60天</th>\n",
       "      <th>遠期90天</th>\n",
       "      <th>遠期120天</th>\n",
       "      <th>...</th>\n",
       "      <th>匯率.1</th>\n",
       "      <th>現金.1</th>\n",
       "      <th>即期.1</th>\n",
       "      <th>遠期10天.1</th>\n",
       "      <th>遠期30天.1</th>\n",
       "      <th>遠期60天.1</th>\n",
       "      <th>遠期90天.1</th>\n",
       "      <th>遠期120天.1</th>\n",
       "      <th>遠期150天.1</th>\n",
       "      <th>遠期180天.1</th>\n",
       "    </tr>\n",
       "  </thead>\n",
       "  <tbody>\n",
       "    <tr>\n",
       "      <th>20161227</th>\n",
       "      <td>JPY</td>\n",
       "      <td>本行買入</td>\n",
       "      <td>0.2667</td>\n",
       "      <td>0.2731</td>\n",
       "      <td>0.2731</td>\n",
       "      <td>0.2730</td>\n",
       "      <td>0.2729</td>\n",
       "      <td>0.2728</td>\n",
       "      <td>0.2728</td>\n",
       "      <td>0.27307</td>\n",
       "      <td>...</td>\n",
       "      <td>0.2777</td>\n",
       "      <td>0.2771</td>\n",
       "      <td>0.2772</td>\n",
       "      <td>0.2773</td>\n",
       "      <td>0.2772</td>\n",
       "      <td>0.2771</td>\n",
       "      <td>0.2772</td>\n",
       "      <td>0.2773</td>\n",
       "      <td>0.2775</td>\n",
       "      <td>NaN</td>\n",
       "    </tr>\n",
       "    <tr>\n",
       "      <th>20161226</th>\n",
       "      <td>JPY</td>\n",
       "      <td>本行買入</td>\n",
       "      <td>0.2663</td>\n",
       "      <td>0.2727</td>\n",
       "      <td>0.2727</td>\n",
       "      <td>0.2726</td>\n",
       "      <td>0.2725</td>\n",
       "      <td>0.2724</td>\n",
       "      <td>0.2724</td>\n",
       "      <td>0.27250</td>\n",
       "      <td>...</td>\n",
       "      <td>0.2773</td>\n",
       "      <td>0.2767</td>\n",
       "      <td>0.2768</td>\n",
       "      <td>0.2769</td>\n",
       "      <td>0.2768</td>\n",
       "      <td>0.2767</td>\n",
       "      <td>0.2768</td>\n",
       "      <td>0.2770</td>\n",
       "      <td>0.2771</td>\n",
       "      <td>NaN</td>\n",
       "    </tr>\n",
       "    <tr>\n",
       "      <th>20161223</th>\n",
       "      <td>JPY</td>\n",
       "      <td>本行買入</td>\n",
       "      <td>0.2653</td>\n",
       "      <td>0.2717</td>\n",
       "      <td>0.2717</td>\n",
       "      <td>0.2716</td>\n",
       "      <td>0.2715</td>\n",
       "      <td>0.2715</td>\n",
       "      <td>0.2715</td>\n",
       "      <td>0.27160</td>\n",
       "      <td>...</td>\n",
       "      <td>0.2763</td>\n",
       "      <td>0.2757</td>\n",
       "      <td>0.2758</td>\n",
       "      <td>0.2760</td>\n",
       "      <td>0.2759</td>\n",
       "      <td>0.2759</td>\n",
       "      <td>0.2760</td>\n",
       "      <td>0.2761</td>\n",
       "      <td>0.2762</td>\n",
       "      <td>NaN</td>\n",
       "    </tr>\n",
       "    <tr>\n",
       "      <th>20161222</th>\n",
       "      <td>JPY</td>\n",
       "      <td>本行買入</td>\n",
       "      <td>0.2638</td>\n",
       "      <td>0.2702</td>\n",
       "      <td>0.2701</td>\n",
       "      <td>0.2700</td>\n",
       "      <td>0.2699</td>\n",
       "      <td>0.2698</td>\n",
       "      <td>0.2698</td>\n",
       "      <td>0.26980</td>\n",
       "      <td>...</td>\n",
       "      <td>0.2748</td>\n",
       "      <td>0.2742</td>\n",
       "      <td>0.2742</td>\n",
       "      <td>0.2742</td>\n",
       "      <td>0.2741</td>\n",
       "      <td>0.2740</td>\n",
       "      <td>0.2741</td>\n",
       "      <td>0.2742</td>\n",
       "      <td>0.2743</td>\n",
       "      <td>NaN</td>\n",
       "    </tr>\n",
       "    <tr>\n",
       "      <th>20161221</th>\n",
       "      <td>JPY</td>\n",
       "      <td>本行買入</td>\n",
       "      <td>0.2637</td>\n",
       "      <td>0.2701</td>\n",
       "      <td>0.2700</td>\n",
       "      <td>0.2698</td>\n",
       "      <td>0.2697</td>\n",
       "      <td>0.2697</td>\n",
       "      <td>0.2697</td>\n",
       "      <td>0.26960</td>\n",
       "      <td>...</td>\n",
       "      <td>0.2747</td>\n",
       "      <td>0.2741</td>\n",
       "      <td>0.2741</td>\n",
       "      <td>0.2741</td>\n",
       "      <td>0.2740</td>\n",
       "      <td>0.2739</td>\n",
       "      <td>0.2740</td>\n",
       "      <td>0.2742</td>\n",
       "      <td>0.2743</td>\n",
       "      <td>NaN</td>\n",
       "    </tr>\n",
       "  </tbody>\n",
       "</table>\n",
       "<p>5 rows × 22 columns</p>\n",
       "</div>"
      ],
      "text/plain": [
       "         ﻿資料日期    幣別      匯率      現金      即期   遠期10天   遠期30天   遠期60天   遠期90天  \\\n",
       "20161227   JPY  本行買入  0.2667  0.2731  0.2731  0.2730  0.2729  0.2728  0.2728   \n",
       "20161226   JPY  本行買入  0.2663  0.2727  0.2727  0.2726  0.2725  0.2724  0.2724   \n",
       "20161223   JPY  本行買入  0.2653  0.2717  0.2717  0.2716  0.2715  0.2715  0.2715   \n",
       "20161222   JPY  本行買入  0.2638  0.2702  0.2701  0.2700  0.2699  0.2698  0.2698   \n",
       "20161221   JPY  本行買入  0.2637  0.2701  0.2700  0.2698  0.2697  0.2697  0.2697   \n",
       "\n",
       "           遠期120天    ...       匯率.1    現金.1    即期.1  遠期10天.1  遠期30天.1  \\\n",
       "20161227  0.27307    ...     0.2777  0.2771  0.2772   0.2773   0.2772   \n",
       "20161226  0.27250    ...     0.2773  0.2767  0.2768   0.2769   0.2768   \n",
       "20161223  0.27160    ...     0.2763  0.2757  0.2758   0.2760   0.2759   \n",
       "20161222  0.26980    ...     0.2748  0.2742  0.2742   0.2742   0.2741   \n",
       "20161221  0.26960    ...     0.2747  0.2741  0.2741   0.2741   0.2740   \n",
       "\n",
       "          遠期60天.1  遠期90天.1  遠期120天.1  遠期150天.1  遠期180天.1  \n",
       "20161227   0.2771   0.2772    0.2773    0.2775       NaN  \n",
       "20161226   0.2767   0.2768    0.2770    0.2771       NaN  \n",
       "20161223   0.2759   0.2760    0.2761    0.2762       NaN  \n",
       "20161222   0.2740   0.2741    0.2742    0.2743       NaN  \n",
       "20161221   0.2739   0.2740    0.2742    0.2743       NaN  \n",
       "\n",
       "[5 rows x 22 columns]"
      ]
     },
     "execution_count": 31,
     "metadata": {},
     "output_type": "execute_result"
    }
   ],
   "source": [
    "df.head()"
   ]
  },
  {
   "cell_type": "code",
   "execution_count": 33,
   "metadata": {
    "collapsed": false
   },
   "outputs": [
    {
     "name": "stdout",
     "output_type": "stream",
     "text": [
      "<class 'pandas.core.frame.DataFrame'>\n",
      "Int64Index: 126 entries, 20161227 to 20160629\n",
      "Data columns (total 22 columns):\n",
      "﻿資料日期       126 non-null object\n",
      "幣別          126 non-null object\n",
      "匯率          126 non-null float64\n",
      "現金          126 non-null float64\n",
      "即期          126 non-null float64\n",
      "遠期10天       126 non-null float64\n",
      "遠期30天       126 non-null float64\n",
      "遠期60天       126 non-null float64\n",
      "遠期90天       126 non-null float64\n",
      "遠期120天      126 non-null float64\n",
      "遠期150天      126 non-null float64\n",
      "遠期180天      126 non-null object\n",
      "匯率.1        126 non-null float64\n",
      "現金.1        126 non-null float64\n",
      "即期.1        126 non-null float64\n",
      "遠期10天.1     126 non-null float64\n",
      "遠期30天.1     126 non-null float64\n",
      "遠期60天.1     126 non-null float64\n",
      "遠期90天.1     126 non-null float64\n",
      "遠期120天.1    126 non-null float64\n",
      "遠期150天.1    126 non-null float64\n",
      "遠期180天.1    0 non-null float64\n",
      "dtypes: float64(19), object(3)\n",
      "memory usage: 22.6+ KB\n"
     ]
    }
   ],
   "source": [
    "df.info()"
   ]
  },
  {
   "cell_type": "code",
   "execution_count": 36,
   "metadata": {
    "collapsed": false
   },
   "outputs": [],
   "source": [
    "df.index = pandas.to_datetime(df.index, format='%Y%m%d')"
   ]
  },
  {
   "cell_type": "code",
   "execution_count": 38,
   "metadata": {
    "collapsed": false
   },
   "outputs": [
    {
     "name": "stdout",
     "output_type": "stream",
     "text": [
      "<class 'pandas.core.frame.DataFrame'>\n",
      "DatetimeIndex: 126 entries, 2016-12-27 to 2016-06-29\n",
      "Data columns (total 22 columns):\n",
      "﻿資料日期       126 non-null object\n",
      "幣別          126 non-null object\n",
      "匯率          126 non-null float64\n",
      "現金          126 non-null float64\n",
      "即期          126 non-null float64\n",
      "遠期10天       126 non-null float64\n",
      "遠期30天       126 non-null float64\n",
      "遠期60天       126 non-null float64\n",
      "遠期90天       126 non-null float64\n",
      "遠期120天      126 non-null float64\n",
      "遠期150天      126 non-null float64\n",
      "遠期180天      126 non-null object\n",
      "匯率.1        126 non-null float64\n",
      "現金.1        126 non-null float64\n",
      "即期.1        126 non-null float64\n",
      "遠期10天.1     126 non-null float64\n",
      "遠期30天.1     126 non-null float64\n",
      "遠期60天.1     126 non-null float64\n",
      "遠期90天.1     126 non-null float64\n",
      "遠期120天.1    126 non-null float64\n",
      "遠期150天.1    126 non-null float64\n",
      "遠期180天.1    0 non-null float64\n",
      "dtypes: float64(19), object(3)\n",
      "memory usage: 22.6+ KB\n"
     ]
    }
   ],
   "source": [
    "df.info()"
   ]
  },
  {
   "cell_type": "code",
   "execution_count": 39,
   "metadata": {
    "collapsed": false
   },
   "outputs": [
    {
     "name": "stdout",
     "output_type": "stream",
     "text": [
      "Populating the interactive namespace from numpy and matplotlib\n"
     ]
    }
   ],
   "source": [
    "%pylab inline"
   ]
  },
  {
   "cell_type": "code",
   "execution_count": 42,
   "metadata": {
    "collapsed": false
   },
   "outputs": [
    {
     "data": {
      "text/plain": [
       "<matplotlib.axes._subplots.AxesSubplot at 0xa0a8358>"
      ]
     },
     "execution_count": 42,
     "metadata": {},
     "output_type": "execute_result"
    },
    {
     "data": {
      "image/png": "[encoded data removed]",
      "text/plain": [
       "<matplotlib.figure.Figure at 0xa186c50>"
      ]
     },
     "metadata": {},
     "output_type": "display_data"
    }
   ],
   "source": [
    "df.plot(kind = 'line', y= ['匯率', '現金'])"
   ]
  },
  {
   "cell_type": "code",
   "execution_count": null,
   "metadata": {
    "collapsed": true
   },
   "outputs": [],
   "source": []
  }
 ],
 "metadata": {
  "kernelspec": {
   "display_name": "Python 2",
   "language": "python",
   "name": "python2"
  },
  "language_info": {
   "codemirror_mode": {
    "name": "ipython",
    "version": 2
   },
   "file_extension": ".py",
   "mimetype": "text/x-python",
   "name": "python",
   "nbconvert_exporter": "python",
   "pygments_lexer": "ipython2",
   "version": "2.7.12"
  }
 },
 "nbformat": 4,
 "nbformat_minor": 0
}
