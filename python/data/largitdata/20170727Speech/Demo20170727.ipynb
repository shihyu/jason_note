{
 "cells": [
  {
   "cell_type": "markdown",
   "metadata": {},
   "source": [
    "## 591 網路爬蟲"
   ]
  },
  {
   "cell_type": "code",
   "execution_count": 11,
   "metadata": {
    "collapsed": false,
    "scrolled": true
   },
   "outputs": [],
   "source": [
    "import requests\n",
    "headers = {\n",
    " 'User-Agent':'Mozilla/5.0 (Windows NT 6.1; Win64; x64) AppleWebKit/537.36 (KHTML, like Gecko) Chrome/59.0.3071.115 Safari/537.36'   \n",
    "}\n",
    "res = requests.get('https://rent.591.com.tw/home/search/rsList?is_new_list=1&type=1&kind=1&searchtype=1&region=1&section=5', headers = headers)\n",
    "jd = res.json()"
   ]
  },
  {
   "cell_type": "markdown",
   "metadata": {},
   "source": [
    "## 使用Pandas 整理資料"
   ]
  },
  {
   "cell_type": "code",
   "execution_count": 12,
   "metadata": {
    "collapsed": false
   },
   "outputs": [
    {
     "data": {
      "text/html": [
       "<div>\n",
       "<table border=\"1\" class=\"dataframe\">\n",
       "  <thead>\n",
       "    <tr style=\"text-align: right;\">\n",
       "      <th></th>\n",
       "      <th>addInfo</th>\n",
       "      <th>addition2</th>\n",
       "      <th>addition3</th>\n",
       "      <th>addition4</th>\n",
       "      <th>addr_number_name</th>\n",
       "      <th>address</th>\n",
       "      <th>address_img</th>\n",
       "      <th>address_img_title</th>\n",
       "      <th>alley_name</th>\n",
       "      <th>allfloor</th>\n",
       "      <th>...</th>\n",
       "      <th>storeprice</th>\n",
       "      <th>street_name</th>\n",
       "      <th>streetid</th>\n",
       "      <th>type</th>\n",
       "      <th>unit</th>\n",
       "      <th>updatetime</th>\n",
       "      <th>user_id</th>\n",
       "      <th>vipBorder</th>\n",
       "      <th>vipimg</th>\n",
       "      <th>vipstyle</th>\n",
       "    </tr>\n",
       "  </thead>\n",
       "  <tbody>\n",
       "    <tr>\n",
       "      <th>0</th>\n",
       "      <td></td>\n",
       "      <td>0</td>\n",
       "      <td>0</td>\n",
       "      <td>1</td>\n",
       "      <td></td>\n",
       "      <td>忠孝東路三段217巷忠孝復..</td>\n",
       "      <td>忠孝復興站忠孝東路三房兩廳華廈附傢俱</td>\n",
       "      <td>忠孝復興站忠孝東路三房兩廳華廈附傢俱</td>\n",
       "      <td>217巷</td>\n",
       "      <td>7</td>\n",
       "      <td>...</td>\n",
       "      <td>0</td>\n",
       "      <td>忠孝東路三段</td>\n",
       "      <td>25636</td>\n",
       "      <td>1</td>\n",
       "      <td>元/月</td>\n",
       "      <td>1500890064</td>\n",
       "      <td>2153882</td>\n",
       "      <td>vipStyle</td>\n",
       "      <td></td>\n",
       "      <td>isvip</td>\n",
       "    </tr>\n",
       "    <tr>\n",
       "      <th>1</th>\n",
       "      <td></td>\n",
       "      <td>0</td>\n",
       "      <td>0</td>\n",
       "      <td>1</td>\n",
       "      <td></td>\n",
       "      <td>復興南路一段市民大..</td>\n",
       "      <td>市民大道微風SOGO忠孝東路</td>\n",
       "      <td>市民大道微風SOGO忠孝東路</td>\n",
       "      <td></td>\n",
       "      <td>7</td>\n",
       "      <td>...</td>\n",
       "      <td>0</td>\n",
       "      <td>復興南路一段</td>\n",
       "      <td>25660</td>\n",
       "      <td>1</td>\n",
       "      <td>元/月</td>\n",
       "      <td>1500973928</td>\n",
       "      <td>2099380</td>\n",
       "      <td>vipStyle</td>\n",
       "      <td></td>\n",
       "      <td>isvip</td>\n",
       "    </tr>\n",
       "    <tr>\n",
       "      <th>2</th>\n",
       "      <td></td>\n",
       "      <td>0</td>\n",
       "      <td>0</td>\n",
       "      <td>1</td>\n",
       "      <td></td>\n",
       "      <td>仁愛路三段123巷仁..</td>\n",
       "      <td>仁愛復興南路忠孝SOGO</td>\n",
       "      <td>仁愛復興南路忠孝SOGO</td>\n",
       "      <td>123巷</td>\n",
       "      <td>7</td>\n",
       "      <td>...</td>\n",
       "      <td>0</td>\n",
       "      <td>仁愛路三段</td>\n",
       "      <td>25616</td>\n",
       "      <td>1</td>\n",
       "      <td>元/月</td>\n",
       "      <td>1500972331</td>\n",
       "      <td>2099380</td>\n",
       "      <td>vipStyle</td>\n",
       "      <td></td>\n",
       "      <td>isvip</td>\n",
       "    </tr>\n",
       "    <tr>\n",
       "      <th>3</th>\n",
       "      <td></td>\n",
       "      <td>0</td>\n",
       "      <td>0</td>\n",
       "      <td>1</td>\n",
       "      <td></td>\n",
       "      <td>樂業街2房1廳基隆路二段..</td>\n",
       "      <td>2房1廳基隆路二段六张犁站民生國小遼寧夜</td>\n",
       "      <td>2房1廳基隆路二段六张犁站民生國小遼寧夜</td>\n",
       "      <td></td>\n",
       "      <td>4</td>\n",
       "      <td>...</td>\n",
       "      <td>0</td>\n",
       "      <td>樂業街</td>\n",
       "      <td>25674</td>\n",
       "      <td>1</td>\n",
       "      <td>元/月</td>\n",
       "      <td>1501133737</td>\n",
       "      <td>2099368</td>\n",
       "      <td>vipStyle</td>\n",
       "      <td></td>\n",
       "      <td>isvip</td>\n",
       "    </tr>\n",
       "    <tr>\n",
       "      <th>4</th>\n",
       "      <td></td>\n",
       "      <td>0</td>\n",
       "      <td>0</td>\n",
       "      <td>1</td>\n",
       "      <td></td>\n",
       "      <td>四維路52巷大安捷運300公..</td>\n",
       "      <td>大安捷運300公尺全新飯店裝潢2房1廳</td>\n",
       "      <td>大安捷運300公尺全新飯店裝潢2房1廳</td>\n",
       "      <td>52巷</td>\n",
       "      <td>5</td>\n",
       "      <td>...</td>\n",
       "      <td>0</td>\n",
       "      <td>四維路</td>\n",
       "      <td>25619</td>\n",
       "      <td>1</td>\n",
       "      <td>元/月</td>\n",
       "      <td>1500189761</td>\n",
       "      <td>289326</td>\n",
       "      <td>vipStyle</td>\n",
       "      <td></td>\n",
       "      <td>isvip</td>\n",
       "    </tr>\n",
       "  </tbody>\n",
       "</table>\n",
       "<p>5 rows × 88 columns</p>\n",
       "</div>"
      ],
      "text/plain": [
       "  addInfo  addition2  addition3  addition4 addr_number_name           address  \\\n",
       "0                  0          0          1                    忠孝東路三段217巷忠孝復..   \n",
       "1                  0          0          1                        復興南路一段市民大..   \n",
       "2                  0          0          1                       仁愛路三段123巷仁..   \n",
       "3                  0          0          1                     樂業街2房1廳基隆路二段..   \n",
       "4                  0          0          1                   四維路52巷大安捷運300公..   \n",
       "\n",
       "            address_img     address_img_title alley_name  allfloor    ...     \\\n",
       "0    忠孝復興站忠孝東路三房兩廳華廈附傢俱    忠孝復興站忠孝東路三房兩廳華廈附傢俱       217巷         7    ...      \n",
       "1        市民大道微風SOGO忠孝東路        市民大道微風SOGO忠孝東路                    7    ...      \n",
       "2          仁愛復興南路忠孝SOGO          仁愛復興南路忠孝SOGO       123巷         7    ...      \n",
       "3  2房1廳基隆路二段六张犁站民生國小遼寧夜  2房1廳基隆路二段六张犁站民生國小遼寧夜                    4    ...      \n",
       "4   大安捷運300公尺全新飯店裝潢2房1廳   大安捷運300公尺全新飯店裝潢2房1廳        52巷         5    ...      \n",
       "\n",
       "  storeprice  street_name streetid  type  unit  updatetime  user_id  \\\n",
       "0          0       忠孝東路三段    25636     1   元/月  1500890064  2153882   \n",
       "1          0       復興南路一段    25660     1   元/月  1500973928  2099380   \n",
       "2          0        仁愛路三段    25616     1   元/月  1500972331  2099380   \n",
       "3          0          樂業街    25674     1   元/月  1501133737  2099368   \n",
       "4          0          四維路    25619     1   元/月  1500189761   289326   \n",
       "\n",
       "   vipBorder vipimg  vipstyle  \n",
       "0   vipStyle            isvip  \n",
       "1   vipStyle            isvip  \n",
       "2   vipStyle            isvip  \n",
       "3   vipStyle            isvip  \n",
       "4   vipStyle            isvip  \n",
       "\n",
       "[5 rows x 88 columns]"
      ]
     },
     "execution_count": 12,
     "metadata": {},
     "output_type": "execute_result"
    }
   ],
   "source": [
    "import pandas\n",
    "df = pandas.DataFrame(jd['data']['data'])\n",
    "df.head()"
   ]
  },
  {
   "cell_type": "markdown",
   "metadata": {},
   "source": [
    "## 使用pandas 清理資料"
   ]
  },
  {
   "cell_type": "code",
   "execution_count": 13,
   "metadata": {
    "collapsed": false
   },
   "outputs": [
    {
     "data": {
      "text/html": [
       "<div>\n",
       "<table border=\"1\" class=\"dataframe\">\n",
       "  <thead>\n",
       "    <tr style=\"text-align: right;\">\n",
       "      <th></th>\n",
       "      <th>address</th>\n",
       "      <th>floor</th>\n",
       "      <th>allfloor</th>\n",
       "      <th>layout</th>\n",
       "      <th>area</th>\n",
       "      <th>price</th>\n",
       "      <th>browsenum_all</th>\n",
       "    </tr>\n",
       "  </thead>\n",
       "  <tbody>\n",
       "    <tr>\n",
       "      <th>0</th>\n",
       "      <td>忠孝東路三段217巷忠孝復..</td>\n",
       "      <td>3</td>\n",
       "      <td>7</td>\n",
       "      <td>3房2廳2衛</td>\n",
       "      <td>39.0</td>\n",
       "      <td>40,000</td>\n",
       "      <td>780</td>\n",
       "    </tr>\n",
       "    <tr>\n",
       "      <th>1</th>\n",
       "      <td>復興南路一段市民大..</td>\n",
       "      <td>4</td>\n",
       "      <td>7</td>\n",
       "      <td>2房1廳1衛</td>\n",
       "      <td>20.0</td>\n",
       "      <td>32,002</td>\n",
       "      <td>324</td>\n",
       "    </tr>\n",
       "    <tr>\n",
       "      <th>2</th>\n",
       "      <td>仁愛路三段123巷仁..</td>\n",
       "      <td>5</td>\n",
       "      <td>7</td>\n",
       "      <td>2房1廳1衛</td>\n",
       "      <td>21.0</td>\n",
       "      <td>29,036</td>\n",
       "      <td>602</td>\n",
       "    </tr>\n",
       "    <tr>\n",
       "      <th>3</th>\n",
       "      <td>樂業街2房1廳基隆路二段..</td>\n",
       "      <td>2</td>\n",
       "      <td>4</td>\n",
       "      <td>2房1廳1衛</td>\n",
       "      <td>20.0</td>\n",
       "      <td>26,006</td>\n",
       "      <td>53</td>\n",
       "    </tr>\n",
       "    <tr>\n",
       "      <th>4</th>\n",
       "      <td>四維路52巷大安捷運300公..</td>\n",
       "      <td>4</td>\n",
       "      <td>5</td>\n",
       "      <td>2房1廳1衛</td>\n",
       "      <td>22.0</td>\n",
       "      <td>34,000</td>\n",
       "      <td>5932</td>\n",
       "    </tr>\n",
       "  </tbody>\n",
       "</table>\n",
       "</div>"
      ],
      "text/plain": [
       "            address  floor  allfloor  layout  area   price  browsenum_all\n",
       "0   忠孝東路三段217巷忠孝復..      3         7  3房2廳2衛  39.0  40,000            780\n",
       "1       復興南路一段市民大..      4         7  2房1廳1衛  20.0  32,002            324\n",
       "2      仁愛路三段123巷仁..      5         7  2房1廳1衛  21.0  29,036            602\n",
       "3    樂業街2房1廳基隆路二段..      2         4  2房1廳1衛  20.0  26,006             53\n",
       "4  四維路52巷大安捷運300公..      4         5  2房1廳1衛  22.0  34,000           5932"
      ]
     },
     "execution_count": 13,
     "metadata": {},
     "output_type": "execute_result"
    }
   ],
   "source": [
    "df = df[['address', 'floor', 'allfloor', 'layout', 'area', 'price','browsenum_all']]\n",
    "df.head()"
   ]
  },
  {
   "cell_type": "code",
   "execution_count": 14,
   "metadata": {
    "collapsed": false
   },
   "outputs": [
    {
     "name": "stdout",
     "output_type": "stream",
     "text": [
      "<class 'pandas.core.frame.DataFrame'>\n",
      "RangeIndex: 30 entries, 0 to 29\n",
      "Data columns (total 7 columns):\n",
      "address          30 non-null object\n",
      "floor            30 non-null int64\n",
      "allfloor         30 non-null int64\n",
      "layout           30 non-null object\n",
      "area             30 non-null float64\n",
      "price            30 non-null object\n",
      "browsenum_all    30 non-null int64\n",
      "dtypes: float64(1), int64(3), object(3)\n",
      "memory usage: 1.7+ KB\n"
     ]
    }
   ],
   "source": [
    "df.info()"
   ]
  },
  {
   "cell_type": "code",
   "execution_count": 15,
   "metadata": {
    "collapsed": false
   },
   "outputs": [
    {
     "name": "stderr",
     "output_type": "stream",
     "text": [
      "C:\\ProgramData\\Anaconda3\\lib\\site-packages\\ipykernel\\__main__.py:1: FutureWarning: currently extract(expand=None) means expand=False (return Index/Series/DataFrame) but in a future version of pandas this will be changed to expand=True (return DataFrame)\n",
      "  if __name__ == '__main__':\n"
     ]
    }
   ],
   "source": [
    "df[['layout_bedroom', 'layout_livingroom', 'layout_bathroom']] = df['layout'].str.extract('(\\d+)房(\\d+)廳(\\d+)衛')"
   ]
  },
  {
   "cell_type": "code",
   "execution_count": 16,
   "metadata": {
    "collapsed": false
   },
   "outputs": [],
   "source": [
    "df['price'] = df['price'].map(lambda e : int(''.join(e.split(','))) )"
   ]
  },
  {
   "cell_type": "code",
   "execution_count": 17,
   "metadata": {
    "collapsed": false
   },
   "outputs": [
    {
     "data": {
      "text/html": [
       "<div>\n",
       "<table border=\"1\" class=\"dataframe\">\n",
       "  <thead>\n",
       "    <tr style=\"text-align: right;\">\n",
       "      <th></th>\n",
       "      <th>address</th>\n",
       "      <th>floor</th>\n",
       "      <th>allfloor</th>\n",
       "      <th>layout</th>\n",
       "      <th>area</th>\n",
       "      <th>price</th>\n",
       "      <th>browsenum_all</th>\n",
       "      <th>layout_bedroom</th>\n",
       "      <th>layout_livingroom</th>\n",
       "      <th>layout_bathroom</th>\n",
       "    </tr>\n",
       "  </thead>\n",
       "  <tbody>\n",
       "    <tr>\n",
       "      <th>0</th>\n",
       "      <td>忠孝東路三段217巷忠孝復..</td>\n",
       "      <td>3</td>\n",
       "      <td>7</td>\n",
       "      <td>3房2廳2衛</td>\n",
       "      <td>39.0</td>\n",
       "      <td>40000</td>\n",
       "      <td>780</td>\n",
       "      <td>3</td>\n",
       "      <td>2</td>\n",
       "      <td>2</td>\n",
       "    </tr>\n",
       "    <tr>\n",
       "      <th>1</th>\n",
       "      <td>復興南路一段市民大..</td>\n",
       "      <td>4</td>\n",
       "      <td>7</td>\n",
       "      <td>2房1廳1衛</td>\n",
       "      <td>20.0</td>\n",
       "      <td>32002</td>\n",
       "      <td>324</td>\n",
       "      <td>2</td>\n",
       "      <td>1</td>\n",
       "      <td>1</td>\n",
       "    </tr>\n",
       "    <tr>\n",
       "      <th>2</th>\n",
       "      <td>仁愛路三段123巷仁..</td>\n",
       "      <td>5</td>\n",
       "      <td>7</td>\n",
       "      <td>2房1廳1衛</td>\n",
       "      <td>21.0</td>\n",
       "      <td>29036</td>\n",
       "      <td>602</td>\n",
       "      <td>2</td>\n",
       "      <td>1</td>\n",
       "      <td>1</td>\n",
       "    </tr>\n",
       "    <tr>\n",
       "      <th>3</th>\n",
       "      <td>樂業街2房1廳基隆路二段..</td>\n",
       "      <td>2</td>\n",
       "      <td>4</td>\n",
       "      <td>2房1廳1衛</td>\n",
       "      <td>20.0</td>\n",
       "      <td>26006</td>\n",
       "      <td>53</td>\n",
       "      <td>2</td>\n",
       "      <td>1</td>\n",
       "      <td>1</td>\n",
       "    </tr>\n",
       "    <tr>\n",
       "      <th>4</th>\n",
       "      <td>四維路52巷大安捷運300公..</td>\n",
       "      <td>4</td>\n",
       "      <td>5</td>\n",
       "      <td>2房1廳1衛</td>\n",
       "      <td>22.0</td>\n",
       "      <td>34000</td>\n",
       "      <td>5932</td>\n",
       "      <td>2</td>\n",
       "      <td>1</td>\n",
       "      <td>1</td>\n",
       "    </tr>\n",
       "  </tbody>\n",
       "</table>\n",
       "</div>"
      ],
      "text/plain": [
       "            address  floor  allfloor  layout  area  price  browsenum_all  \\\n",
       "0   忠孝東路三段217巷忠孝復..      3         7  3房2廳2衛  39.0  40000            780   \n",
       "1       復興南路一段市民大..      4         7  2房1廳1衛  20.0  32002            324   \n",
       "2      仁愛路三段123巷仁..      5         7  2房1廳1衛  21.0  29036            602   \n",
       "3    樂業街2房1廳基隆路二段..      2         4  2房1廳1衛  20.0  26006             53   \n",
       "4  四維路52巷大安捷運300公..      4         5  2房1廳1衛  22.0  34000           5932   \n",
       "\n",
       "  layout_bedroom layout_livingroom layout_bathroom  \n",
       "0              3                 2               2  \n",
       "1              2                 1               1  \n",
       "2              2                 1               1  \n",
       "3              2                 1               1  \n",
       "4              2                 1               1  "
      ]
     },
     "execution_count": 17,
     "metadata": {},
     "output_type": "execute_result"
    }
   ],
   "source": [
    "df.head()"
   ]
  },
  {
   "cell_type": "markdown",
   "metadata": {},
   "source": [
    "## 將資料儲存至Excel"
   ]
  },
  {
   "cell_type": "code",
   "execution_count": 18,
   "metadata": {
    "collapsed": true
   },
   "outputs": [],
   "source": [
    "df.to_excel('rent591.xlsx')"
   ]
  },
  {
   "cell_type": "markdown",
   "metadata": {},
   "source": [
    "## 將資料儲存至SQLite"
   ]
  },
  {
   "cell_type": "code",
   "execution_count": 19,
   "metadata": {
    "collapsed": false
   },
   "outputs": [],
   "source": [
    "import sqlite3\n",
    "with sqlite3.connect('renthouse.sqlite') as db:\n",
    "    df.to_sql('renthouse591', con=db, if_exists='replace')"
   ]
  },
  {
   "cell_type": "markdown",
   "metadata": {},
   "source": [
    "## 從SQLIte 讀取資料"
   ]
  },
  {
   "cell_type": "code",
   "execution_count": 20,
   "metadata": {
    "collapsed": false
   },
   "outputs": [
    {
     "data": {
      "text/html": [
       "<div>\n",
       "<table border=\"1\" class=\"dataframe\">\n",
       "  <thead>\n",
       "    <tr style=\"text-align: right;\">\n",
       "      <th></th>\n",
       "      <th>address</th>\n",
       "      <th>browsenum_all</th>\n",
       "    </tr>\n",
       "  </thead>\n",
       "  <tbody>\n",
       "    <tr>\n",
       "      <th>0</th>\n",
       "      <td>忠孝東路三段217巷忠孝復..</td>\n",
       "      <td>780</td>\n",
       "    </tr>\n",
       "    <tr>\n",
       "      <th>1</th>\n",
       "      <td>復興南路一段市民大..</td>\n",
       "      <td>324</td>\n",
       "    </tr>\n",
       "    <tr>\n",
       "      <th>2</th>\n",
       "      <td>仁愛路三段123巷仁..</td>\n",
       "      <td>602</td>\n",
       "    </tr>\n",
       "  </tbody>\n",
       "</table>\n",
       "</div>"
      ],
      "text/plain": [
       "           address  browsenum_all\n",
       "0  忠孝東路三段217巷忠孝復..            780\n",
       "1      復興南路一段市民大..            324\n",
       "2     仁愛路三段123巷仁..            602"
      ]
     },
     "execution_count": 20,
     "metadata": {},
     "output_type": "execute_result"
    }
   ],
   "source": [
    "import sqlite3\n",
    "with sqlite3.connect('renthouse.sqlite') as db:\n",
    "    df2 = pandas.read_sql_query('select address, browsenum_all from renthouse591 limit 3', con = db)\n",
    "df2.head()"
   ]
  },
  {
   "cell_type": "markdown",
   "metadata": {},
   "source": [
    "## 取得敘述性統計"
   ]
  },
  {
   "cell_type": "code",
   "execution_count": 24,
   "metadata": {
    "collapsed": false
   },
   "outputs": [
    {
     "data": {
      "text/html": [
       "<div>\n",
       "<table border=\"1\" class=\"dataframe\">\n",
       "  <thead>\n",
       "    <tr style=\"text-align: right;\">\n",
       "      <th></th>\n",
       "      <th>floor</th>\n",
       "      <th>allfloor</th>\n",
       "      <th>area</th>\n",
       "      <th>price</th>\n",
       "      <th>browsenum_all</th>\n",
       "    </tr>\n",
       "  </thead>\n",
       "  <tbody>\n",
       "    <tr>\n",
       "      <th>count</th>\n",
       "      <td>30.000000</td>\n",
       "      <td>30.000000</td>\n",
       "      <td>30.000000</td>\n",
       "      <td>30.000000</td>\n",
       "      <td>30.000000</td>\n",
       "    </tr>\n",
       "    <tr>\n",
       "      <th>mean</th>\n",
       "      <td>8.966667</td>\n",
       "      <td>8.733333</td>\n",
       "      <td>35.166667</td>\n",
       "      <td>49724.766667</td>\n",
       "      <td>1349.133333</td>\n",
       "    </tr>\n",
       "    <tr>\n",
       "      <th>std</th>\n",
       "      <td>17.773447</td>\n",
       "      <td>4.338547</td>\n",
       "      <td>22.027856</td>\n",
       "      <td>36486.869209</td>\n",
       "      <td>2061.735555</td>\n",
       "    </tr>\n",
       "    <tr>\n",
       "      <th>min</th>\n",
       "      <td>2.000000</td>\n",
       "      <td>4.000000</td>\n",
       "      <td>9.700000</td>\n",
       "      <td>16000.000000</td>\n",
       "      <td>53.000000</td>\n",
       "    </tr>\n",
       "    <tr>\n",
       "      <th>25%</th>\n",
       "      <td>3.000000</td>\n",
       "      <td>6.250000</td>\n",
       "      <td>21.100000</td>\n",
       "      <td>29500.000000</td>\n",
       "      <td>314.750000</td>\n",
       "    </tr>\n",
       "    <tr>\n",
       "      <th>50%</th>\n",
       "      <td>4.000000</td>\n",
       "      <td>7.000000</td>\n",
       "      <td>29.000000</td>\n",
       "      <td>40000.000000</td>\n",
       "      <td>640.000000</td>\n",
       "    </tr>\n",
       "    <tr>\n",
       "      <th>75%</th>\n",
       "      <td>7.750000</td>\n",
       "      <td>12.000000</td>\n",
       "      <td>43.075000</td>\n",
       "      <td>49000.000000</td>\n",
       "      <td>1217.000000</td>\n",
       "    </tr>\n",
       "    <tr>\n",
       "      <th>max</th>\n",
       "      <td>100.000000</td>\n",
       "      <td>19.000000</td>\n",
       "      <td>105.200000</td>\n",
       "      <td>200000.000000</td>\n",
       "      <td>9649.000000</td>\n",
       "    </tr>\n",
       "  </tbody>\n",
       "</table>\n",
       "</div>"
      ],
      "text/plain": [
       "            floor   allfloor        area          price  browsenum_all\n",
       "count   30.000000  30.000000   30.000000      30.000000      30.000000\n",
       "mean     8.966667   8.733333   35.166667   49724.766667    1349.133333\n",
       "std     17.773447   4.338547   22.027856   36486.869209    2061.735555\n",
       "min      2.000000   4.000000    9.700000   16000.000000      53.000000\n",
       "25%      3.000000   6.250000   21.100000   29500.000000     314.750000\n",
       "50%      4.000000   7.000000   29.000000   40000.000000     640.000000\n",
       "75%      7.750000  12.000000   43.075000   49000.000000    1217.000000\n",
       "max    100.000000  19.000000  105.200000  200000.000000    9649.000000"
      ]
     },
     "execution_count": 24,
     "metadata": {},
     "output_type": "execute_result"
    }
   ],
   "source": [
    "df.describe()"
   ]
  },
  {
   "cell_type": "code",
   "execution_count": 27,
   "metadata": {
    "collapsed": false
   },
   "outputs": [
    {
     "data": {
      "text/html": [
       "<div>\n",
       "<table border=\"1\" class=\"dataframe\">\n",
       "  <thead>\n",
       "    <tr style=\"text-align: right;\">\n",
       "      <th></th>\n",
       "      <th>address</th>\n",
       "      <th>floor</th>\n",
       "      <th>allfloor</th>\n",
       "      <th>layout</th>\n",
       "      <th>area</th>\n",
       "      <th>price</th>\n",
       "      <th>browsenum_all</th>\n",
       "      <th>layout_bedroom</th>\n",
       "      <th>layout_livingroom</th>\n",
       "      <th>layout_bathroom</th>\n",
       "    </tr>\n",
       "  </thead>\n",
       "  <tbody>\n",
       "    <tr>\n",
       "      <th>11</th>\n",
       "      <td>羅斯福路三段可短租◎頂樓..</td>\n",
       "      <td>19</td>\n",
       "      <td>19</td>\n",
       "      <td>3房2廳2衛</td>\n",
       "      <td>103.0</td>\n",
       "      <td>200000</td>\n",
       "      <td>636</td>\n",
       "      <td>3</td>\n",
       "      <td>2</td>\n",
       "      <td>2</td>\n",
       "    </tr>\n",
       "    <tr>\n",
       "      <th>24</th>\n",
       "      <td>羅斯福路三段屋主自租~客..</td>\n",
       "      <td>18</td>\n",
       "      <td>19</td>\n",
       "      <td>3房2廳3衛</td>\n",
       "      <td>105.2</td>\n",
       "      <td>115000</td>\n",
       "      <td>1652</td>\n",
       "      <td>3</td>\n",
       "      <td>2</td>\n",
       "      <td>3</td>\n",
       "    </tr>\n",
       "    <tr>\n",
       "      <th>22</th>\n",
       "      <td>瑞安街208巷大安森林公園..</td>\n",
       "      <td>3</td>\n",
       "      <td>7</td>\n",
       "      <td>3房2廳2衛</td>\n",
       "      <td>50.0</td>\n",
       "      <td>110000</td>\n",
       "      <td>771</td>\n",
       "      <td>3</td>\n",
       "      <td>2</td>\n",
       "      <td>2</td>\n",
       "    </tr>\n",
       "  </tbody>\n",
       "</table>\n",
       "</div>"
      ],
      "text/plain": [
       "            address  floor  allfloor  layout   area   price  browsenum_all  \\\n",
       "11   羅斯福路三段可短租◎頂樓..     19        19  3房2廳2衛  103.0  200000            636   \n",
       "24   羅斯福路三段屋主自租~客..     18        19  3房2廳3衛  105.2  115000           1652   \n",
       "22  瑞安街208巷大安森林公園..      3         7  3房2廳2衛   50.0  110000            771   \n",
       "\n",
       "   layout_bedroom layout_livingroom layout_bathroom  \n",
       "11              3                 2               2  \n",
       "24              3                 2               3  \n",
       "22              3                 2               2  "
      ]
     },
     "execution_count": 27,
     "metadata": {},
     "output_type": "execute_result"
    }
   ],
   "source": [
    "df.sort_values('price', ascending=False).head(3)"
   ]
  },
  {
   "cell_type": "markdown",
   "metadata": {},
   "source": [
    "## 搜集591 整層住家資訊"
   ]
  },
  {
   "cell_type": "code",
   "execution_count": 28,
   "metadata": {
    "collapsed": true
   },
   "outputs": [],
   "source": [
    "import requests\n",
    "url = 'https://rent.591.com.tw/home/search/rsList?is_new_list=1&type=1&kind=1&searchtype=1&region=1&section=5&firstRow={}&totalRows=571'\n",
    "headers = {\n",
    "   'User-Agent':'Mozilla/5.0 (Windows NT 6.1; Win64; x64) AppleWebKit/537.36 (KHTML, like Gecko) Chrome/59.0.3071.115 Safari/537.36' \n",
    "}\n",
    "house_ary = []\n",
    "for i in range(0,21):\n",
    "    res = requests.get(url.format(i*20) , headers = headers)\n",
    "    jd = res.json()\n",
    "    df = pandas.DataFrame(jd['data']['data'])\n",
    "    df = df[['address', 'floor', 'allfloor', 'layout','area', 'price','browsenum_all']]\n",
    "    df[['layout_bedroom', 'layout_livingroom', 'layout_bathroom']] = df['layout'].str.extract('(\\d+)房(\\d+)廳(\\d+)衛', expand=False)\n",
    "    df['price'] = df['price'].map(lambda e: int(''.join(e.split(','))))\n",
    "    house_ary.append(df)"
   ]
  },
  {
   "cell_type": "code",
   "execution_count": 29,
   "metadata": {
    "collapsed": true
   },
   "outputs": [],
   "source": [
    "df = pandas.concat(house_ary)\n",
    "df.to_excel('house591.xlsx')"
   ]
  },
  {
   "cell_type": "code",
   "execution_count": 30,
   "metadata": {
    "collapsed": false
   },
   "outputs": [
    {
     "data": {
      "text/plain": [
       "address              630\n",
       "floor                630\n",
       "allfloor             630\n",
       "layout               630\n",
       "area                 630\n",
       "price                630\n",
       "browsenum_all        630\n",
       "layout_bedroom       622\n",
       "layout_livingroom    622\n",
       "layout_bathroom      622\n",
       "dtype: int64"
      ]
     },
     "execution_count": 30,
     "metadata": {},
     "output_type": "execute_result"
    }
   ],
   "source": [
    "df.count()"
   ]
  },
  {
   "cell_type": "code",
   "execution_count": 31,
   "metadata": {
    "collapsed": true
   },
   "outputs": [],
   "source": [
    "df = pandas.read_excel('house591.xlsx')"
   ]
  },
  {
   "cell_type": "code",
   "execution_count": 32,
   "metadata": {
    "collapsed": false
   },
   "outputs": [
    {
     "data": {
      "text/html": [
       "<div>\n",
       "<table border=\"1\" class=\"dataframe\">\n",
       "  <thead>\n",
       "    <tr style=\"text-align: right;\">\n",
       "      <th></th>\n",
       "      <th>address</th>\n",
       "      <th>floor</th>\n",
       "      <th>allfloor</th>\n",
       "      <th>layout</th>\n",
       "      <th>area</th>\n",
       "      <th>price</th>\n",
       "      <th>browsenum_all</th>\n",
       "      <th>layout_bedroom</th>\n",
       "      <th>layout_livingroom</th>\n",
       "      <th>layout_bathroom</th>\n",
       "    </tr>\n",
       "  </thead>\n",
       "  <tbody>\n",
       "    <tr>\n",
       "      <th>0</th>\n",
       "      <td>忠孝東路三段217巷忠孝復..</td>\n",
       "      <td>3</td>\n",
       "      <td>7</td>\n",
       "      <td>3房2廳2衛</td>\n",
       "      <td>39.0</td>\n",
       "      <td>40000</td>\n",
       "      <td>781</td>\n",
       "      <td>3.0</td>\n",
       "      <td>2.0</td>\n",
       "      <td>2.0</td>\n",
       "    </tr>\n",
       "    <tr>\n",
       "      <th>1</th>\n",
       "      <td>復興南路一段市民大..</td>\n",
       "      <td>4</td>\n",
       "      <td>7</td>\n",
       "      <td>2房1廳1衛</td>\n",
       "      <td>20.0</td>\n",
       "      <td>32002</td>\n",
       "      <td>327</td>\n",
       "      <td>2.0</td>\n",
       "      <td>1.0</td>\n",
       "      <td>1.0</td>\n",
       "    </tr>\n",
       "    <tr>\n",
       "      <th>2</th>\n",
       "      <td>仁愛路三段123巷仁..</td>\n",
       "      <td>5</td>\n",
       "      <td>7</td>\n",
       "      <td>2房1廳1衛</td>\n",
       "      <td>21.0</td>\n",
       "      <td>29036</td>\n",
       "      <td>602</td>\n",
       "      <td>2.0</td>\n",
       "      <td>1.0</td>\n",
       "      <td>1.0</td>\n",
       "    </tr>\n",
       "    <tr>\n",
       "      <th>3</th>\n",
       "      <td>樂業街2房1廳基隆路二段..</td>\n",
       "      <td>2</td>\n",
       "      <td>4</td>\n",
       "      <td>2房1廳1衛</td>\n",
       "      <td>20.0</td>\n",
       "      <td>26006</td>\n",
       "      <td>55</td>\n",
       "      <td>2.0</td>\n",
       "      <td>1.0</td>\n",
       "      <td>1.0</td>\n",
       "    </tr>\n",
       "    <tr>\n",
       "      <th>4</th>\n",
       "      <td>四維路52巷大安捷運300公..</td>\n",
       "      <td>4</td>\n",
       "      <td>5</td>\n",
       "      <td>2房1廳1衛</td>\n",
       "      <td>22.0</td>\n",
       "      <td>34000</td>\n",
       "      <td>5934</td>\n",
       "      <td>2.0</td>\n",
       "      <td>1.0</td>\n",
       "      <td>1.0</td>\n",
       "    </tr>\n",
       "  </tbody>\n",
       "</table>\n",
       "</div>"
      ],
      "text/plain": [
       "            address  floor  allfloor  layout  area  price  browsenum_all  \\\n",
       "0   忠孝東路三段217巷忠孝復..      3         7  3房2廳2衛  39.0  40000            781   \n",
       "1       復興南路一段市民大..      4         7  2房1廳1衛  20.0  32002            327   \n",
       "2      仁愛路三段123巷仁..      5         7  2房1廳1衛  21.0  29036            602   \n",
       "3    樂業街2房1廳基隆路二段..      2         4  2房1廳1衛  20.0  26006             55   \n",
       "4  四維路52巷大安捷運300公..      4         5  2房1廳1衛  22.0  34000           5934   \n",
       "\n",
       "   layout_bedroom  layout_livingroom  layout_bathroom  \n",
       "0             3.0                2.0              2.0  \n",
       "1             2.0                1.0              1.0  \n",
       "2             2.0                1.0              1.0  \n",
       "3             2.0                1.0              1.0  \n",
       "4             2.0                1.0              1.0  "
      ]
     },
     "execution_count": 32,
     "metadata": {},
     "output_type": "execute_result"
    }
   ],
   "source": [
    "df.head()"
   ]
  },
  {
   "cell_type": "markdown",
   "metadata": {},
   "source": [
    "## 畫出資料散佈圖 "
   ]
  },
  {
   "cell_type": "code",
   "execution_count": 33,
   "metadata": {
    "collapsed": false
   },
   "outputs": [
    {
     "name": "stdout",
     "output_type": "stream",
     "text": [
      "Populating the interactive namespace from numpy and matplotlib\n"
     ]
    },
    {
     "data": {
      "text/plain": [
       "<matplotlib.axes._subplots.AxesSubplot at 0xa5f7940>"
      ]
     },
     "execution_count": 33,
     "metadata": {},
     "output_type": "execute_result"
    },
    {
     "data": {
      "image/png": "[encoded data removed]",
      "text/plain": [
       "<matplotlib.figure.Figure at 0xa2e4278>"
      ]
     },
     "metadata": {},
     "output_type": "display_data"
    }
   ],
   "source": [
    "% pylab inline\n",
    "df[['price', 'area']].plot(kind='scatter', x = 'area', y = 'price', figsize=[10,5])"
   ]
  },
  {
   "cell_type": "markdown",
   "metadata": {},
   "source": [
    "## 建立迴歸模型"
   ]
  },
  {
   "cell_type": "code",
   "execution_count": 34,
   "metadata": {
    "collapsed": false
   },
   "outputs": [
    {
     "name": "stdout",
     "output_type": "stream",
     "text": [
      "Coefficient:[ 1777.03281824]\n",
      "Intercept:-9918.332416423029\n"
     ]
    }
   ],
   "source": [
    "from sklearn.linear_model import LinearRegression\n",
    "y= df['price']\n",
    "X = df[['area']]\n",
    "regr = LinearRegression()\n",
    "regr.fit(X,y)\n",
    "\n",
    "print('Coefficient:{}'.format(regr.coef_) )\n",
    "print('Intercept:{}'.format(regr.intercept_) )"
   ]
  },
  {
   "cell_type": "code",
   "execution_count": 35,
   "metadata": {
    "collapsed": false
   },
   "outputs": [
    {
     "data": {
      "text/plain": [
       "<matplotlib.text.Text at 0xc6d1f60>"
      ]
     },
     "execution_count": 35,
     "metadata": {},
     "output_type": "execute_result"
    },
    {
     "data": {
      "image/png": "[encoded data removed]",
      "text/plain": [
       "<matplotlib.figure.Figure at 0xb830940>"
      ]
     },
     "metadata": {},
     "output_type": "display_data"
    }
   ],
   "source": [
    "plt.scatter(X,y, color=\"blue\")\n",
    "plt.plot(X, regr.predict(X), linewidth = 3, color = \"red\")\n",
    "plt.xlabel('area')\n",
    "plt.ylabel('price')"
   ]
  },
  {
   "cell_type": "code",
   "execution_count": null,
   "metadata": {
    "collapsed": true
   },
   "outputs": [],
   "source": []
  }
 ],
 "metadata": {
  "kernelspec": {
   "display_name": "Python 3",
   "language": "python",
   "name": "python3"
  },
  "language_info": {
   "codemirror_mode": {
    "name": "ipython",
    "version": 3
   },
   "file_extension": ".py",
   "mimetype": "text/x-python",
   "name": "python",
   "nbconvert_exporter": "python",
   "pygments_lexer": "ipython3",
   "version": "3.6.0"
  }
 },
 "nbformat": 4,
 "nbformat_minor": 2
}
