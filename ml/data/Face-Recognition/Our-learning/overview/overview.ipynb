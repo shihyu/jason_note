{
 "cells": [
  {
   "cell_type": "code",
   "execution_count": null,
   "metadata": {},
   "outputs": [],
   "source": [
    "# Ultralytics YOLOv8, the latest version of the acclaimed real-time object detection and image segmentation model. \n",
    "# YOLOv8 is built on cutting-edge advancements in deep learning and computer vision, \n",
    "# offering unparalleled performance in terms of speed and accuracy. Its streamlined design makes it suitable for various applications\n",
    "# and easily adaptable to different hardware platforms, from edge devices to cloud APIs."
   ]
  },
  {
   "cell_type": "markdown",
   "metadata": {},
   "source": [
    "# Install the ultralytics package\n",
    "\n",
    "!pip install ultralytics"
   ]
  },
  {
   "cell_type": "code",
   "execution_count": null,
   "metadata": {},
   "outputs": [],
   "source": [
    "# A simple example of how it actually works\n",
    "\n",
    "from ultralytics import YOLO\n",
    "\n",
    "# Create a new YOLO model from scratch\n",
    "model = YOLO('yolov8n.yaml')\n",
    "\n",
    "# Load a pretrained YOLO model (recommended for training)\n",
    "model = YOLO('yolov8n.pt')\n",
    "\n",
    "# Train the model using the 'coco128.yaml' dataset for 3 epochs\n",
    "results = model.train(data='coco128.yaml', epochs=3)\n",
    "\n",
    "# Evaluate the model's performance on the validation set\n",
    "results = model.val()\n",
    "\n",
    "# Perform object detection on an image using the model\n",
    "results = model('https://ultralytics.com/images/bus.jpg')"
   ]
  },
  {
   "cell_type": "code",
   "execution_count": null,
   "metadata": {},
   "outputs": [],
   "source": [
    "# yolo TASK MODE ARGS\n",
    "\n",
    "# Where   TASK (optional) is one of [detect, segment, classify]\n",
    "#        MODE (required) is one of [train, val, predict, export, track]\n",
    "#        ARGS (optional) are any number of custom 'arg=value' pairs like 'imgsz=320' that override defaults."
   ]
  }
 ],
 "metadata": {
  "language_info": {
   "name": "python"
  },
  "orig_nbformat": 4
 },
 "nbformat": 4,
 "nbformat_minor": 2
}
