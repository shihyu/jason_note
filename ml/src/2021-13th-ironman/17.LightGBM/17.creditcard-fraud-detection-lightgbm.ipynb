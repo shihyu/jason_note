{
 "cells": [
  {
   "cell_type": "markdown",
   "metadata": {},
   "source": [
    "## 1)載入資料集\n",
    "載入信用卡盜刷資料集"
   ]
  },
  {
   "cell_type": "code",
   "execution_count": 1,
   "metadata": {
    "_cell_guid": "b1076dfc-b9ad-4769-8c92-a6c4dae69d19",
    "_uuid": "8f2839f25d086af736a60e9eeb907d3b93b6e0e5",
    "execution": {
     "iopub.execute_input": "2021-08-06T13:32:55.748138Z",
     "iopub.status.busy": "2021-08-06T13:32:55.747717Z",
     "iopub.status.idle": "2021-08-06T13:33:00.342376Z",
     "shell.execute_reply": "2021-08-06T13:33:00.341409Z",
     "shell.execute_reply.started": "2021-08-06T13:32:55.748048Z"
    }
   },
   "outputs": [
    {
     "name": "stdout",
     "output_type": "stream",
     "text": [
      "X: (284807, 30)\n",
      "Y: (284807,)\n"
     ]
    }
   ],
   "source": [
    "import pandas as pd\n",
    "raw_df = pd.read_csv('https://storage.googleapis.com/download.tensorflow.org/data/creditcard.csv')\n",
    "X=raw_df.drop(columns = ['Class'])\n",
    "y=raw_df['Class']\n",
    "print('X:', X.shape)\n",
    "print('Y:', y.shape)"
   ]
  },
  {
   "cell_type": "markdown",
   "metadata": {},
   "source": [
    "## 2) 切割訓練集與測試集"
   ]
  },
  {
   "cell_type": "code",
   "execution_count": 2,
   "metadata": {
    "execution": {
     "iopub.execute_input": "2021-08-06T13:33:00.343933Z",
     "iopub.status.busy": "2021-08-06T13:33:00.343665Z",
     "iopub.status.idle": "2021-08-06T13:33:01.547599Z",
     "shell.execute_reply": "2021-08-06T13:33:01.546580Z",
     "shell.execute_reply.started": "2021-08-06T13:33:00.343907Z"
    }
   },
   "outputs": [
    {
     "name": "stdout",
     "output_type": "stream",
     "text": [
      "X_train: (199364, 30)\n",
      "X_test: (85443, 30)\n"
     ]
    }
   ],
   "source": [
    "from sklearn.model_selection import train_test_split\n",
    "X_train, X_test, y_train, y_test = train_test_split(X, y, test_size=0.3, random_state=42, stratify=y)\n",
    "print('X_train:', X_train.shape)\n",
    "print('X_test:', X_test.shape)"
   ]
  },
  {
   "cell_type": "code",
   "execution_count": 3,
   "metadata": {
    "execution": {
     "iopub.execute_input": "2021-08-06T13:33:01.551726Z",
     "iopub.status.busy": "2021-08-06T13:33:01.551437Z",
     "iopub.status.idle": "2021-08-06T13:33:01.577980Z",
     "shell.execute_reply": "2021-08-06T13:33:01.577018Z",
     "shell.execute_reply.started": "2021-08-06T13:33:01.551699Z"
    }
   },
   "outputs": [
    {
     "data": {
      "text/plain": [
       "0    0.998275\n",
       "1    0.001725\n",
       "Name: Class, dtype: float64"
      ]
     },
     "execution_count": 3,
     "metadata": {},
     "output_type": "execute_result"
    }
   ],
   "source": [
    "# 查看訓練集的分佈\n",
    "pd.Series(y_train).value_counts(normalize=True) "
   ]
  },
  {
   "cell_type": "code",
   "execution_count": 4,
   "metadata": {
    "execution": {
     "iopub.execute_input": "2021-08-06T13:33:01.579878Z",
     "iopub.status.busy": "2021-08-06T13:33:01.579558Z",
     "iopub.status.idle": "2021-08-06T13:33:01.588823Z",
     "shell.execute_reply": "2021-08-06T13:33:01.588048Z",
     "shell.execute_reply.started": "2021-08-06T13:33:01.579848Z"
    }
   },
   "outputs": [
    {
     "data": {
      "text/plain": [
       "0    0.998268\n",
       "1    0.001732\n",
       "Name: Class, dtype: float64"
      ]
     },
     "execution_count": 4,
     "metadata": {},
     "output_type": "execute_result"
    }
   ],
   "source": [
    "# 查看測試集的分佈\n",
    "pd.Series(y_test).value_counts(normalize=True)"
   ]
  },
  {
   "cell_type": "markdown",
   "metadata": {},
   "source": [
    "## LightGBM\n",
    "Parameters:\n",
    "- num_iterations: 總共迭代的次數，即決策樹的個數。預設值為100。\n",
    "- learning_rate: 學習速率，預設0.1。\n",
    "- boosting: 選擇 boosting 種類。共四種 gbdt、rf、dart、goss，預設為 gbdt。\n",
    "- max_depth: 樹的最大深度，預設值為-1即表示無限制。\n",
    "- min_data_in_leaf: 一個子葉中最少數據，可用於處理過擬合。預設20筆。\n",
    "- max_bin: 將特徵值放入桶中的最大bins數。預設為255。\n",
    "\n",
    "Attributes:\n",
    "- feature_importances_: 查詢模型特徵的重要程度。\n",
    "\n",
    "Methods:\n",
    "- fit: 放入X、y進行模型擬合。\n",
    "- predict: 預測並回傳預測類別。\n",
    "- score: 預測成功的比例。\n",
    "- predict_proba: 預測每個類別的機率值。"
   ]
  },
  {
   "cell_type": "code",
   "execution_count": 5,
   "metadata": {
    "execution": {
     "iopub.execute_input": "2021-08-06T13:33:01.590093Z",
     "iopub.status.busy": "2021-08-06T13:33:01.589829Z",
     "iopub.status.idle": "2021-08-06T13:33:04.776543Z",
     "shell.execute_reply": "2021-08-06T13:33:04.775674Z",
     "shell.execute_reply.started": "2021-08-06T13:33:01.590067Z"
    }
   },
   "outputs": [
    {
     "data": {
      "text/html": [
       "<style type='text/css'>\n",
       ".datatable table.frame { margin-bottom: 0; }\n",
       ".datatable table.frame thead { border-bottom: none; }\n",
       ".datatable table.frame tr.coltypes td {  color: #FFFFFF;  line-height: 6px;  padding: 0 0.5em;}\n",
       ".datatable .bool    { background: #DDDD99; }\n",
       ".datatable .object  { background: #565656; }\n",
       ".datatable .int     { background: #5D9E5D; }\n",
       ".datatable .float   { background: #4040CC; }\n",
       ".datatable .str     { background: #CC4040; }\n",
       ".datatable .time    { background: #40CC40; }\n",
       ".datatable .row_index {  background: var(--jp-border-color3);  border-right: 1px solid var(--jp-border-color0);  color: var(--jp-ui-font-color3);  font-size: 9px;}\n",
       ".datatable .frame tbody td { text-align: left; }\n",
       ".datatable .frame tr.coltypes .row_index {  background: var(--jp-border-color0);}\n",
       ".datatable th:nth-child(2) { padding-left: 12px; }\n",
       ".datatable .hellipsis {  color: var(--jp-cell-editor-border-color);}\n",
       ".datatable .vellipsis {  background: var(--jp-layout-color0);  color: var(--jp-cell-editor-border-color);}\n",
       ".datatable .na {  color: var(--jp-cell-editor-border-color);  font-size: 80%;}\n",
       ".datatable .sp {  opacity: 0.25;}\n",
       ".datatable .footer { font-size: 9px; }\n",
       ".datatable .frame_dimensions {  background: var(--jp-border-color3);  border-top: 1px solid var(--jp-border-color0);  color: var(--jp-ui-font-color3);  display: inline-block;  opacity: 0.6;  padding: 1px 10px 1px 5px;}\n",
       "</style>\n"
      ],
      "text/plain": [
       "<IPython.core.display.HTML object>"
      ]
     },
     "metadata": {},
     "output_type": "display_data"
    },
    {
     "data": {
      "text/plain": [
       "LGBMClassifier(is_unbalance=False)"
      ]
     },
     "execution_count": 5,
     "metadata": {},
     "output_type": "execute_result"
    }
   ],
   "source": [
    "import lightgbm as lgb\n",
    "model = lgb.LGBMClassifier(is_unbalance=False)\n",
    "model.fit(X_train,y_train)"
   ]
  },
  {
   "cell_type": "markdown",
   "metadata": {},
   "source": [
    "### 評估模型準確率"
   ]
  },
  {
   "cell_type": "code",
   "execution_count": 7,
   "metadata": {
    "execution": {
     "iopub.execute_input": "2021-08-06T09:41:07.632151Z",
     "iopub.status.busy": "2021-08-06T09:41:07.631789Z",
     "iopub.status.idle": "2021-08-06T09:41:07.815014Z",
     "shell.execute_reply": "2021-08-06T09:41:07.813264Z",
     "shell.execute_reply.started": "2021-08-06T09:41:07.632120Z"
    }
   },
   "outputs": [
    {
     "name": "stdout",
     "output_type": "stream",
     "text": [
      "Accuracy 0.9974368877497279\n"
     ]
    }
   ],
   "source": [
    "from sklearn.metrics import accuracy_score\n",
    "pred=model.predict(X_test)\n",
    "print(\"Accuracy:\", accuracy_score(y_test, pred))\n"
   ]
  },
  {
   "cell_type": "markdown",
   "metadata": {},
   "source": [
    "### 使用混淆矩陣分析模型"
   ]
  },
  {
   "cell_type": "code",
   "execution_count": 8,
   "metadata": {
    "execution": {
     "iopub.execute_input": "2021-08-06T09:41:13.601987Z",
     "iopub.status.busy": "2021-08-06T09:41:13.600928Z",
     "iopub.status.idle": "2021-08-06T09:41:13.613206Z",
     "shell.execute_reply": "2021-08-06T09:41:13.611909Z",
     "shell.execute_reply.started": "2021-08-06T09:41:13.601933Z"
    }
   },
   "outputs": [
    {
     "data": {
      "text/plain": [
       "{0: 85295, 1: 148}"
      ]
     },
     "execution_count": 8,
     "metadata": {},
     "output_type": "execute_result"
    }
   ],
   "source": [
    "import numpy as np\n",
    "unique, counts = np.unique(y_test, return_counts=True)\n",
    "dict(zip(unique, counts))"
   ]
  },
  {
   "cell_type": "code",
   "execution_count": 9,
   "metadata": {
    "execution": {
     "iopub.execute_input": "2021-08-06T09:41:19.143658Z",
     "iopub.status.busy": "2021-08-06T09:41:19.143113Z",
     "iopub.status.idle": "2021-08-06T09:41:19.417637Z",
     "shell.execute_reply": "2021-08-06T09:41:19.416507Z",
     "shell.execute_reply.started": "2021-08-06T09:41:19.143625Z"
    }
   },
   "outputs": [],
   "source": [
    "import seaborn as sns\n",
    "import matplotlib.pyplot as plt\n",
    "def plot_confusion_matrix(actual_val, pred_val, title=None):\n",
    "    \"\"\"\n",
    "    pd.crosstab() - crosstab function builds a cross-tabulation table that can show the \n",
    "                    requency with which certain groups of data appear.\n",
    "    \n",
    "    \"\"\"\n",
    "    confusion_matrix = pd.crosstab(actual_val, pred_val,\n",
    "                                   rownames=['Actual'],\n",
    "                                   colnames=['Predicted'])\n",
    "    \n",
    "    plot = sns.heatmap(confusion_matrix, annot=True, fmt=',.0f')\n",
    "    \n",
    "    if title is None:\n",
    "        pass\n",
    "    else:\n",
    "        plot.set_title(title)\n",
    "        \n",
    "    plt.show()"
   ]
  },
  {
   "cell_type": "code",
   "execution_count": 10,
   "metadata": {
    "execution": {
     "iopub.execute_input": "2021-08-06T09:41:26.523650Z",
     "iopub.status.busy": "2021-08-06T09:41:26.523272Z",
     "iopub.status.idle": "2021-08-06T09:41:26.851151Z",
     "shell.execute_reply": "2021-08-06T09:41:26.849990Z",
     "shell.execute_reply.started": "2021-08-06T09:41:26.523620Z"
    }
   },
   "outputs": [
    {
     "data": {
      "image/png": "[encoded data removed]",
      "text/plain": [
       "<Figure size 432x288 with 2 Axes>"
      ]
     },
     "metadata": {
      "needs_background": "light"
     },
     "output_type": "display_data"
    }
   ],
   "source": [
    "plot_confusion_matrix(y_test, pred)"
   ]
  },
  {
   "cell_type": "code",
   "execution_count": null,
   "metadata": {},
   "outputs": [],
   "source": []
  }
 ],
 "metadata": {
  "kernelspec": {
   "display_name": "Python 3",
   "language": "python",
   "name": "python3"
  },
  "language_info": {
   "codemirror_mode": {
    "name": "ipython",
    "version": 3
   },
   "file_extension": ".py",
   "mimetype": "text/x-python",
   "name": "python",
   "nbconvert_exporter": "python",
   "pygments_lexer": "ipython3",
   "version": "3.7.6"
  }
 },
 "nbformat": 4,
 "nbformat_minor": 4
}
