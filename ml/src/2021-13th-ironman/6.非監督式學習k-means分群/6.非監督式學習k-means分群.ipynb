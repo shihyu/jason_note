{
 "cells": [
  {
   "cell_type": "code",
   "execution_count": 1,
   "metadata": {
    "colab": {
     "base_uri": "https://localhost:8080/",
     "height": 51
    },
    "colab_type": "code",
    "executionInfo": {
     "elapsed": 1318,
     "status": "ok",
     "timestamp": 1600066154829,
     "user": {
      "displayName": "10程式中",
      "photoUrl": "https://lh3.googleusercontent.com/a-/AOh14Gjcm9yF5nSbP1WaeQuXtTScTGduCrixXG-vKBG1=s64",
      "userId": "05620490010612616832"
     },
     "user_tz": -480
    },
    "id": "bd0XzcwOV4EI",
    "outputId": "bcaaf1ef-c512-4f64-cc33-d744356d682f"
   },
   "outputs": [
    {
     "name": "stderr",
     "output_type": "stream",
     "text": [
      "\n",
      "Bad key \"text.kerning_factor\" on line 4 in\n",
      "/opt/anaconda3/lib/python3.7/site-packages/matplotlib/mpl-data/stylelib/_classic_test_patch.mplstyle.\n",
      "You probably need to get an updated matplotlibrc file from\n",
      "https://github.com/matplotlib/matplotlib/blob/v3.1.3/matplotlibrc.template\n",
      "or from the matplotlib source distribution\n"
     ]
    }
   ],
   "source": [
    "import pandas as pd\n",
    "import numpy as np\n",
    "import matplotlib.pyplot as plt\n",
    "import seaborn as sns\n",
    "from sklearn.datasets import load_iris"
   ]
  },
  {
   "cell_type": "markdown",
   "metadata": {
    "colab_type": "text",
    "id": "xlSbunTvV4EO"
   },
   "source": [
    "## 1) 載入資料集"
   ]
  },
  {
   "cell_type": "code",
   "execution_count": 2,
   "metadata": {
    "colab": {
     "base_uri": "https://localhost:8080/",
     "height": 419
    },
    "colab_type": "code",
    "executionInfo": {
     "elapsed": 1768,
     "status": "ok",
     "timestamp": 1600066155286,
     "user": {
      "displayName": "10程式中",
      "photoUrl": "https://lh3.googleusercontent.com/a-/AOh14Gjcm9yF5nSbP1WaeQuXtTScTGduCrixXG-vKBG1=s64",
      "userId": "05620490010612616832"
     },
     "user_tz": -480
    },
    "id": "GmcQKM8YV4EP",
    "outputId": "d654c964-a1c0-43ca-c10d-8939d7f97c43"
   },
   "outputs": [
    {
     "data": {
      "text/html": [
       "<div>\n",
       "<style scoped>\n",
       "    .dataframe tbody tr th:only-of-type {\n",
       "        vertical-align: middle;\n",
       "    }\n",
       "\n",
       "    .dataframe tbody tr th {\n",
       "        vertical-align: top;\n",
       "    }\n",
       "\n",
       "    .dataframe thead th {\n",
       "        text-align: right;\n",
       "    }\n",
       "</style>\n",
       "<table border=\"1\" class=\"dataframe\">\n",
       "  <thead>\n",
       "    <tr style=\"text-align: right;\">\n",
       "      <th></th>\n",
       "      <th>SepalLengthCm</th>\n",
       "      <th>SepalWidthCm</th>\n",
       "      <th>PetalLengthCm</th>\n",
       "      <th>PetalWidthCm</th>\n",
       "      <th>Species</th>\n",
       "    </tr>\n",
       "  </thead>\n",
       "  <tbody>\n",
       "    <tr>\n",
       "      <th>0</th>\n",
       "      <td>5.1</td>\n",
       "      <td>3.5</td>\n",
       "      <td>1.4</td>\n",
       "      <td>0.2</td>\n",
       "      <td>0.0</td>\n",
       "    </tr>\n",
       "    <tr>\n",
       "      <th>1</th>\n",
       "      <td>4.9</td>\n",
       "      <td>3.0</td>\n",
       "      <td>1.4</td>\n",
       "      <td>0.2</td>\n",
       "      <td>0.0</td>\n",
       "    </tr>\n",
       "    <tr>\n",
       "      <th>2</th>\n",
       "      <td>4.7</td>\n",
       "      <td>3.2</td>\n",
       "      <td>1.3</td>\n",
       "      <td>0.2</td>\n",
       "      <td>0.0</td>\n",
       "    </tr>\n",
       "    <tr>\n",
       "      <th>3</th>\n",
       "      <td>4.6</td>\n",
       "      <td>3.1</td>\n",
       "      <td>1.5</td>\n",
       "      <td>0.2</td>\n",
       "      <td>0.0</td>\n",
       "    </tr>\n",
       "    <tr>\n",
       "      <th>4</th>\n",
       "      <td>5.0</td>\n",
       "      <td>3.6</td>\n",
       "      <td>1.4</td>\n",
       "      <td>0.2</td>\n",
       "      <td>0.0</td>\n",
       "    </tr>\n",
       "    <tr>\n",
       "      <th>...</th>\n",
       "      <td>...</td>\n",
       "      <td>...</td>\n",
       "      <td>...</td>\n",
       "      <td>...</td>\n",
       "      <td>...</td>\n",
       "    </tr>\n",
       "    <tr>\n",
       "      <th>145</th>\n",
       "      <td>6.7</td>\n",
       "      <td>3.0</td>\n",
       "      <td>5.2</td>\n",
       "      <td>2.3</td>\n",
       "      <td>2.0</td>\n",
       "    </tr>\n",
       "    <tr>\n",
       "      <th>146</th>\n",
       "      <td>6.3</td>\n",
       "      <td>2.5</td>\n",
       "      <td>5.0</td>\n",
       "      <td>1.9</td>\n",
       "      <td>2.0</td>\n",
       "    </tr>\n",
       "    <tr>\n",
       "      <th>147</th>\n",
       "      <td>6.5</td>\n",
       "      <td>3.0</td>\n",
       "      <td>5.2</td>\n",
       "      <td>2.0</td>\n",
       "      <td>2.0</td>\n",
       "    </tr>\n",
       "    <tr>\n",
       "      <th>148</th>\n",
       "      <td>6.2</td>\n",
       "      <td>3.4</td>\n",
       "      <td>5.4</td>\n",
       "      <td>2.3</td>\n",
       "      <td>2.0</td>\n",
       "    </tr>\n",
       "    <tr>\n",
       "      <th>149</th>\n",
       "      <td>5.9</td>\n",
       "      <td>3.0</td>\n",
       "      <td>5.1</td>\n",
       "      <td>1.8</td>\n",
       "      <td>2.0</td>\n",
       "    </tr>\n",
       "  </tbody>\n",
       "</table>\n",
       "<p>150 rows × 5 columns</p>\n",
       "</div>"
      ],
      "text/plain": [
       "     SepalLengthCm  SepalWidthCm  PetalLengthCm  PetalWidthCm  Species\n",
       "0              5.1           3.5            1.4           0.2      0.0\n",
       "1              4.9           3.0            1.4           0.2      0.0\n",
       "2              4.7           3.2            1.3           0.2      0.0\n",
       "3              4.6           3.1            1.5           0.2      0.0\n",
       "4              5.0           3.6            1.4           0.2      0.0\n",
       "..             ...           ...            ...           ...      ...\n",
       "145            6.7           3.0            5.2           2.3      2.0\n",
       "146            6.3           2.5            5.0           1.9      2.0\n",
       "147            6.5           3.0            5.2           2.0      2.0\n",
       "148            6.2           3.4            5.4           2.3      2.0\n",
       "149            5.9           3.0            5.1           1.8      2.0\n",
       "\n",
       "[150 rows x 5 columns]"
      ]
     },
     "execution_count": 2,
     "metadata": {},
     "output_type": "execute_result"
    }
   ],
   "source": [
    "iris = load_iris()\n",
    "df_data = pd.DataFrame(data= np.c_[iris['data'], iris['target']],\n",
    "                     columns= ['SepalLengthCm','SepalWidthCm','PetalLengthCm','PetalWidthCm','Species'])\n",
    "df_data"
   ]
  },
  {
   "cell_type": "code",
   "execution_count": 3,
   "metadata": {},
   "outputs": [],
   "source": [
    "X = df_data.drop(labels=['Species'],axis=1).values # 移除Species並取得剩下欄位資料\n",
    "y = df_data['Species']"
   ]
  },
  {
   "cell_type": "markdown",
   "metadata": {
    "colab_type": "text",
    "id": "AYYzgQB6V4Ej"
   },
   "source": [
    "## K-Means\n",
    "Parameters:\n",
    "- n_cluster: K的大小，也就是分群的類別數量。\n",
    "- random_state: 亂數種子，設定常數能夠保證每次分群結果都一樣。\n",
    "- n_init: 預設為10次隨機初始化，選擇效果最好的一種來作為模型。\n",
    "- max_iter: 迭代次數，預設為300代。\n",
    "    \n",
    "Attributes:\n",
    "- inertia_: inertia_：float，每個點到其他叢集的質心的距離之和。\n",
    "- cluster_centers_： 特徵的中心點 `[n_clusters, n_features]`。\n",
    "    \n",
    "Methods:\n",
    "- fit: K個集群分類模型訓練。\n",
    "- predict: 預測並回傳類別。\n",
    "- fit_predict: 先呼叫fit()做集群分類，之後在呼叫predict()預測最終類別並回傳輸出。\n",
    "- transform: 回傳的陣列每一行是每一個樣本到kmeans中各個中心點的L2(歐幾里得)距離。\n",
    "- fit_transform: 先呼叫fit()再執行transform()。"
   ]
  },
  {
   "cell_type": "markdown",
   "metadata": {
    "colab_type": "text",
    "id": "O84dLEaaV4Ek"
   },
   "source": [
    "### K-Means 的演算過程:\n",
    "1. 初始化：指定K個分群，並隨機挑選K個資料點的值當作群組中心值\n",
    "2. 分配資料點：將每個資料點設為距離最近的中心\n",
    "3. 計算平均值：重新計算每個分群的中心點\n",
    "\n",
    "> 重複步驟2、3，直到資料點不再變換群組為止"
   ]
  },
  {
   "cell_type": "code",
   "execution_count": 4,
   "metadata": {
    "colab": {},
    "colab_type": "code",
    "executionInfo": {
     "elapsed": 660,
     "status": "ok",
     "timestamp": 1600066257463,
     "user": {
      "displayName": "10程式中",
      "photoUrl": "https://lh3.googleusercontent.com/a-/AOh14Gjcm9yF5nSbP1WaeQuXtTScTGduCrixXG-vKBG1=s64",
      "userId": "05620490010612616832"
     },
     "user_tz": -480
    },
    "id": "Nv0LkHYxV4Ek"
   },
   "outputs": [],
   "source": [
    "from sklearn.cluster import KMeans\n",
    "\n",
    "kmeansModel = KMeans(n_clusters=3, random_state=46)\n",
    "clusters_pred = kmeansModel.fit_predict(X)"
   ]
  },
  {
   "cell_type": "markdown",
   "metadata": {
    "colab_type": "text",
    "id": "FdD8ILoFV4El"
   },
   "source": [
    "## 評估分群結果\n",
    "inertia: within cluster sum of squres, 各sample到各該群的centroid的距離之平方和，用來評估cluster的成效，越大代表越差"
   ]
  },
  {
   "cell_type": "code",
   "execution_count": 5,
   "metadata": {
    "colab": {
     "base_uri": "https://localhost:8080/",
     "height": 34
    },
    "colab_type": "code",
    "executionInfo": {
     "elapsed": 485,
     "status": "ok",
     "timestamp": 1600066258209,
     "user": {
      "displayName": "10程式中",
      "photoUrl": "https://lh3.googleusercontent.com/a-/AOh14Gjcm9yF5nSbP1WaeQuXtTScTGduCrixXG-vKBG1=s64",
      "userId": "05620490010612616832"
     },
     "user_tz": -480
    },
    "id": "9elCwJr_V4Em",
    "outputId": "92cf4e47-f078-4360-a7e9-d2bed23d34bd"
   },
   "outputs": [
    {
     "data": {
      "text/plain": [
       "78.851441426146"
      ]
     },
     "execution_count": 5,
     "metadata": {},
     "output_type": "execute_result"
    }
   ],
   "source": [
    "kmeansModel.inertia_"
   ]
  },
  {
   "cell_type": "markdown",
   "metadata": {
    "colab_type": "text",
    "id": "ZjESaVfCV4En"
   },
   "source": [
    "查看各cluster的中心，並在圖上畫出"
   ]
  },
  {
   "cell_type": "code",
   "execution_count": 6,
   "metadata": {
    "colab": {
     "base_uri": "https://localhost:8080/",
     "height": 68
    },
    "colab_type": "code",
    "executionInfo": {
     "elapsed": 502,
     "status": "ok",
     "timestamp": 1600066259028,
     "user": {
      "displayName": "10程式中",
      "photoUrl": "https://lh3.googleusercontent.com/a-/AOh14Gjcm9yF5nSbP1WaeQuXtTScTGduCrixXG-vKBG1=s64",
      "userId": "05620490010612616832"
     },
     "user_tz": -480
    },
    "id": "LOvaUYK6V4En",
    "outputId": "507b4e0e-5206-4ff5-c1b5-08e85ed65732"
   },
   "outputs": [
    {
     "data": {
      "text/plain": [
       "array([[5.9016129 , 2.7483871 , 4.39354839, 1.43387097],\n",
       "       [5.006     , 3.428     , 1.462     , 0.246     ],\n",
       "       [6.85      , 3.07368421, 5.74210526, 2.07105263]])"
      ]
     },
     "execution_count": 6,
     "metadata": {},
     "output_type": "execute_result"
    }
   ],
   "source": [
    "kmeansModel.cluster_centers_"
   ]
  },
  {
   "cell_type": "markdown",
   "metadata": {
    "colab_type": "text",
    "id": "ggmEaxQGV4Eo"
   },
   "source": [
    "## 真實分類"
   ]
  },
  {
   "cell_type": "code",
   "execution_count": 10,
   "metadata": {
    "colab": {
     "base_uri": "https://localhost:8080/",
     "height": 386
    },
    "colab_type": "code",
    "executionInfo": {
     "elapsed": 1403,
     "status": "ok",
     "timestamp": 1600066260622,
     "user": {
      "displayName": "10程式中",
      "photoUrl": "https://lh3.googleusercontent.com/a-/AOh14Gjcm9yF5nSbP1WaeQuXtTScTGduCrixXG-vKBG1=s64",
      "userId": "05620490010612616832"
     },
     "user_tz": -480
    },
    "id": "UzbiX_JxV4Ep",
    "outputId": "3aab7e6a-21b9-412d-bd61-7c8ec5851a67"
   },
   "outputs": [
    {
     "name": "stderr",
     "output_type": "stream",
     "text": [
      "/opt/anaconda3/lib/python3.7/site-packages/seaborn/_decorators.py:43: FutureWarning: Pass the following variables as keyword args: x, y. From version 0.12, the only valid positional argument will be `data`, and passing other arguments without an explicit keyword will result in an error or misinterpretation.\n",
      "  FutureWarning\n"
     ]
    },
    {
     "data": {
      "image/png": "[encoded data removed]",
      "text/plain": [
       "<Figure size 360x360 with 1 Axes>"
      ]
     },
     "metadata": {
      "needs_background": "light"
     },
     "output_type": "display_data"
    }
   ],
   "source": [
    "sns.lmplot(\"PetalLengthCm\", \"PetalWidthCm\", hue='Species', data=df_data, fit_reg=False, legend=False)\n",
    "plt.legend(title='target', loc='upper left', labels=['Iris-Setosa', 'Iris-Versicolour', 'Iris-Virginica'])\n",
    "plt.show()"
   ]
  },
  {
   "cell_type": "markdown",
   "metadata": {
    "colab_type": "text",
    "id": "9Eswu-FMV4Eq"
   },
   "source": [
    "## K-mean 後預測結果"
   ]
  },
  {
   "cell_type": "code",
   "execution_count": 12,
   "metadata": {
    "colab": {
     "base_uri": "https://localhost:8080/",
     "height": 369
    },
    "colab_type": "code",
    "executionInfo": {
     "elapsed": 1330,
     "status": "ok",
     "timestamp": 1600066286740,
     "user": {
      "displayName": "10程式中",
      "photoUrl": "https://lh3.googleusercontent.com/a-/AOh14Gjcm9yF5nSbP1WaeQuXtTScTGduCrixXG-vKBG1=s64",
      "userId": "05620490010612616832"
     },
     "user_tz": -480
    },
    "id": "2OFqyo0zV4Eq",
    "outputId": "196edd8a-f209-4a96-db8b-3bda2ee79ee8"
   },
   "outputs": [
    {
     "name": "stderr",
     "output_type": "stream",
     "text": [
      "/opt/anaconda3/lib/python3.7/site-packages/seaborn/_decorators.py:43: FutureWarning: Pass the following variables as keyword args: x, y. From version 0.12, the only valid positional argument will be `data`, and passing other arguments without an explicit keyword will result in an error or misinterpretation.\n",
      "  FutureWarning\n"
     ]
    },
    {
     "data": {
      "image/png": "[encoded data removed]",
      "text/plain": [
       "<Figure size 360x360 with 1 Axes>"
      ]
     },
     "metadata": {
      "needs_background": "light"
     },
     "output_type": "display_data"
    }
   ],
   "source": [
    "df_data['Predict']=clusters_pred\n",
    "sns.lmplot(\"PetalLengthCm\", \"PetalWidthCm\", data=df_data, hue=\"Predict\", fit_reg=False, legend=False)\n",
    "plt.scatter(kmeansModel.cluster_centers_[:, 2], kmeansModel.cluster_centers_[:, 3], s=200,c=\"r\",marker='*')\n",
    "plt.legend(title='target', loc='upper left', labels=['Iris-Setosa', 'Iris-Versicolour', 'Iris-Virginica'])\n",
    "plt.show()"
   ]
  },
  {
   "cell_type": "markdown",
   "metadata": {
    "colab_type": "text",
    "id": "_4mkQbt6V4Er"
   },
   "source": [
    "## 使用inertia做評估"
   ]
  },
  {
   "cell_type": "code",
   "execution_count": 13,
   "metadata": {
    "colab": {},
    "colab_type": "code",
    "executionInfo": {
     "elapsed": 3217,
     "status": "ok",
     "timestamp": 1600066156785,
     "user": {
      "displayName": "10程式中",
      "photoUrl": "https://lh3.googleusercontent.com/a-/AOh14Gjcm9yF5nSbP1WaeQuXtTScTGduCrixXG-vKBG1=s64",
      "userId": "05620490010612616832"
     },
     "user_tz": -480
    },
    "id": "u8x_c9FhV4Er"
   },
   "outputs": [],
   "source": [
    "# k = 1~9 做9次kmeans, 並將每次結果的inertia收集在一個list裡\n",
    "kmeans_list = [KMeans(n_clusters=k, random_state=46).fit(X)\n",
    "                for k in range(1, 10)]\n",
    "inertias = [model.inertia_ for model in kmeans_list]"
   ]
  },
  {
   "cell_type": "markdown",
   "metadata": {
    "colab_type": "text",
    "id": "hIOhWoxUV4Es"
   },
   "source": [
    "如圖，當K值越來越大，inertia會隨之越來越小，(但k=n時理論上inertia會減為0, 因此實際上不能選inertia最小的那個k) 一般是取elbow point, 即inertia迅速下降轉為平緩的那個點"
   ]
  },
  {
   "cell_type": "code",
   "execution_count": 14,
   "metadata": {
    "colab": {
     "base_uri": "https://localhost:8080/",
     "height": 257
    },
    "colab_type": "code",
    "executionInfo": {
     "elapsed": 3625,
     "status": "ok",
     "timestamp": 1600066157196,
     "user": {
      "displayName": "10程式中",
      "photoUrl": "https://lh3.googleusercontent.com/a-/AOh14Gjcm9yF5nSbP1WaeQuXtTScTGduCrixXG-vKBG1=s64",
      "userId": "05620490010612616832"
     },
     "user_tz": -480
    },
    "id": "iBYGTxYMV4Et",
    "outputId": "6ff858b3-d61c-4ea7-e05f-0616341f4526"
   },
   "outputs": [
    {
     "data": {
      "image/png": "[encoded data removed]",
      "text/plain": [
       "<Figure size 576x252 with 1 Axes>"
      ]
     },
     "metadata": {
      "needs_background": "light"
     },
     "output_type": "display_data"
    }
   ],
   "source": [
    "plt.figure(figsize=(8, 3.5))\n",
    "plt.plot(range(1, 10), inertias, \"bo-\")\n",
    "plt.xlabel(\"$k$\", fontsize=14)\n",
    "plt.ylabel(\"Inertia\", fontsize=14)\n",
    "plt.annotate('Elbow',\n",
    "             xy=(3, inertias[3]),\n",
    "             xytext=(0.55, 0.55),\n",
    "             textcoords='figure fraction',\n",
    "             fontsize=16,\n",
    "             arrowprops=dict(facecolor='black', shrink=0.1)\n",
    "            )\n",
    "plt.axis([1, 8.5, 0, 1300])\n",
    "\n",
    "plt.show()"
   ]
  },
  {
   "cell_type": "markdown",
   "metadata": {
    "colab_type": "text",
    "id": "GVsIj0l7V4Eu"
   },
   "source": [
    "另外一個方法是用silhouette scores 去評估. \n",
    "The Silhouette Coefficient is calculated using the mean intra-cluster distance (a) and the mean nearest-cluster distance (b) for each sample. The Silhouette Coefficient for a sample is (b - a) / max(a, b). (https://scikit-learn.org/stable/modules/generated/sklearn.metrics.silhouette_score.html#sklearn.metrics.silhouette_score)\n",
    "Silhouette Coefficient 越大代表分群效果越好"
   ]
  },
  {
   "cell_type": "code",
   "execution_count": 15,
   "metadata": {
    "colab": {},
    "colab_type": "code",
    "executionInfo": {
     "elapsed": 3620,
     "status": "ok",
     "timestamp": 1600066157197,
     "user": {
      "displayName": "10程式中",
      "photoUrl": "https://lh3.googleusercontent.com/a-/AOh14Gjcm9yF5nSbP1WaeQuXtTScTGduCrixXG-vKBG1=s64",
      "userId": "05620490010612616832"
     },
     "user_tz": -480
    },
    "id": "grtpVA7fV4Eu"
   },
   "outputs": [],
   "source": [
    "from sklearn.metrics import silhouette_score\n",
    "silhouette_scores = [silhouette_score(X, model.labels_)\n",
    "                     for model in kmeans_list[1:]]"
   ]
  },
  {
   "cell_type": "code",
   "execution_count": 16,
   "metadata": {
    "colab": {
     "base_uri": "https://localhost:8080/",
     "height": 230
    },
    "colab_type": "code",
    "executionInfo": {
     "elapsed": 3958,
     "status": "ok",
     "timestamp": 1600066157537,
     "user": {
      "displayName": "10程式中",
      "photoUrl": "https://lh3.googleusercontent.com/a-/AOh14Gjcm9yF5nSbP1WaeQuXtTScTGduCrixXG-vKBG1=s64",
      "userId": "05620490010612616832"
     },
     "user_tz": -480
    },
    "id": "nWNGuVUzV4Ev",
    "outputId": "93c3ed95-fa87-48b9-e439-167c988515f2"
   },
   "outputs": [
    {
     "data": {
      "image/png": "[encoded data removed]",
      "text/plain": [
       "<Figure size 576x216 with 1 Axes>"
      ]
     },
     "metadata": {
      "needs_background": "light"
     },
     "output_type": "display_data"
    }
   ],
   "source": [
    "plt.figure(figsize=(8, 3))\n",
    "plt.plot(range(2, 10), silhouette_scores, \"bo-\")\n",
    "plt.xlabel(\"$k$\", fontsize=14)\n",
    "plt.ylabel(\"Silhouette score\", fontsize=14)\n",
    "\n",
    "plt.show()"
   ]
  },
  {
   "cell_type": "code",
   "execution_count": 14,
   "metadata": {
    "colab": {},
    "colab_type": "code",
    "executionInfo": {
     "elapsed": 3952,
     "status": "ok",
     "timestamp": 1600066157537,
     "user": {
      "displayName": "10程式中",
      "photoUrl": "https://lh3.googleusercontent.com/a-/AOh14Gjcm9yF5nSbP1WaeQuXtTScTGduCrixXG-vKBG1=s64",
      "userId": "05620490010612616832"
     },
     "user_tz": -480
    },
    "id": "HxwkcgzMWYt8"
   },
   "outputs": [],
   "source": []
  }
 ],
 "metadata": {
  "colab": {
   "collapsed_sections": [],
   "name": "6.非監督式學習 k-means分群.ipynb",
   "provenance": []
  },
  "kernelspec": {
   "display_name": "Python 3",
   "language": "python",
   "name": "python3"
  },
  "language_info": {
   "codemirror_mode": {
    "name": "ipython",
    "version": 3
   },
   "file_extension": ".py",
   "mimetype": "text/x-python",
   "name": "python",
   "nbconvert_exporter": "python",
   "pygments_lexer": "ipython3",
   "version": "3.7.6"
  }
 },
 "nbformat": 4,
 "nbformat_minor": 4
}
