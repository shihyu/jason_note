{
 "cells": [
  {
   "cell_type": "markdown",
   "metadata": {},
   "source": [
    "## Example 1 (簡單線性回歸)\n",
    "先從簡單的線性回歸舉例，![](https://chart.googleapis.com/chart?cht=tx&chl=y%20%3D%20ax%20%2B%20b) ，![](https://chart.googleapis.com/chart?cht=tx&chl=a) 稱為斜率，![](https://chart.googleapis.com/chart?cht=tx&chl=b) 稱為截距。"
   ]
  },
  {
   "cell_type": "code",
   "execution_count": 1,
   "metadata": {},
   "outputs": [
    {
     "name": "stderr",
     "output_type": "stream",
     "text": [
      "\n",
      "Bad key \"text.kerning_factor\" on line 4 in\n",
      "/opt/anaconda3/lib/python3.7/site-packages/matplotlib/mpl-data/stylelib/_classic_test_patch.mplstyle.\n",
      "You probably need to get an updated matplotlibrc file from\n",
      "https://github.com/matplotlib/matplotlib/blob/v3.1.3/matplotlibrc.template\n",
      "or from the matplotlib source distribution\n"
     ]
    },
    {
     "data": {
      "image/png": "[encoded data removed]",
      "text/plain": [
       "<Figure size 432x288 with 1 Axes>"
      ]
     },
     "metadata": {
      "needs_background": "light"
     },
     "output_type": "display_data"
    }
   ],
   "source": [
    "# imports\n",
    "import numpy as np\n",
    "import matplotlib.pyplot as plt\n",
    "\n",
    "# 亂數產生資料\n",
    "np.random.seed(0)\n",
    "noise = np.random.rand(100, 1)\n",
    "x = np.random.rand(100, 1)\n",
    "y = 3 * x + 15 + noise\n",
    "# y=ax+b Target function  a=3, b=15\n",
    "\n",
    "\n",
    "# plot\n",
    "plt.scatter(x,y,s=10)\n",
    "plt.xlabel('x')\n",
    "plt.ylabel('y')\n",
    "plt.show()"
   ]
  },
  {
   "cell_type": "markdown",
   "metadata": {},
   "source": [
    "## 支持向量迴歸（Support Vector Regression, SVR） 模型\n",
    "支持向量機（SVM）是專門處理分類的問題，還有另一個名詞稱為支持向量迴歸（Support Vector Regression, SVR）專門處理迴歸問題。\n",
    "SVR是SVM的延伸，而支持向量迴歸只要f(x)與y偏離程度不要太大，既可以認為預測正確。\n",
    "\n",
    "三種不同SVR迴歸器:\n",
    "1. kernel='linear'  (線性)\n",
    "2. kernel='poly'  (非線性)\n",
    "3. kernel='rbf'  (非線性)\n",
    "\n",
    "Methods:\n",
    "- fit: 放入X、y進行模型擬合。\n",
    "- predict: 預測並回傳預測類別。\n",
    "- score: 預測成功的比例。"
   ]
  },
  {
   "cell_type": "code",
   "execution_count": 2,
   "metadata": {},
   "outputs": [
    {
     "name": "stderr",
     "output_type": "stream",
     "text": [
      "/opt/anaconda3/lib/python3.7/site-packages/sklearn/utils/validation.py:63: DataConversionWarning: A column-vector y was passed when a 1d array was expected. Please change the shape of y to (n_samples, ), for example using ravel().\n",
      "  return f(*args, **kwargs)\n"
     ]
    }
   ],
   "source": [
    "from sklearn import svm\n",
    "\n",
    "# 建立SVR模型\n",
    "linearModel=svm.SVR(C=1, kernel='linear')\n",
    "# 使用訓練資料訓練模型\n",
    "linearModel.fit(x, y)\n",
    "# 使用訓練資料預測\n",
    "predicted=linearModel.predict(x)\n"
   ]
  },
  {
   "cell_type": "markdown",
   "metadata": {},
   "source": [
    "### 模型評估\n",
    "scikit-learn KNN迴歸模型的score函式是R2 score，可作為模型評估依據，其數值越接近於1代表模型越佳。\n",
    "除了R2 score還有其他許多回歸模型的評估方法，例如： MSE、MAE、RMSE。"
   ]
  },
  {
   "cell_type": "code",
   "execution_count": 3,
   "metadata": {},
   "outputs": [
    {
     "name": "stdout",
     "output_type": "stream",
     "text": [
      "R2 score:  0.8868219068851385\n",
      "MSE score:  0.08381812503531369\n"
     ]
    }
   ],
   "source": [
    "from sklearn import metrics\n",
    "print('R2 score: ', linearModel.score(x, y))\n",
    "mse = metrics.mean_squared_error(y, predicted)\n",
    "print('MSE score: ', mse)"
   ]
  },
  {
   "cell_type": "code",
   "execution_count": 4,
   "metadata": {},
   "outputs": [
    {
     "data": {
      "image/png": "[encoded data removed]",
      "text/plain": [
       "<Figure size 432x288 with 1 Axes>"
      ]
     },
     "metadata": {
      "needs_background": "light"
     },
     "output_type": "display_data"
    }
   ],
   "source": [
    "# plot\n",
    "plt.scatter(x, y, s=10, label='True')\n",
    "plt.scatter(x, predicted, color=\"r\",s=10, label='Predicted')\n",
    "plt.xlabel('x')\n",
    "plt.ylabel('y')\n",
    "plt.legend()\n",
    "plt.show()\n"
   ]
  },
  {
   "cell_type": "markdown",
   "metadata": {},
   "source": [
    "## Example 2 非線性回歸\n",
    "上面的例子資料都很均勻分布在一條直線上，但現實的資料可能並只會發生在一條線上。下面示範一個多項次的回歸模型例子。"
   ]
  },
  {
   "cell_type": "code",
   "execution_count": 8,
   "metadata": {},
   "outputs": [],
   "source": [
    "x = np.array([[1.40280301e-01],[9.03857692e-01],[5.35815131e-01],[3.58391981e-01],[2.43418162e-02],[2.43342904e-02],[3.37370600e-03],[7.50261116e-01],[3.61339257e-01],[5.01366775e-01],[4.23721405e-04],[9.40725121e-01],[6.92960750e-01],[4.50878979e-02],[3.30603187e-02],[3.36372142e-02],[9.25633424e-02],[2.75369313e-01],[1.86576499e-01],[8.48144121e-02],[3.74363965e-01],[1.94585372e-02],[8.53484957e-02],[1.34221000e-01],[2.07999831e-01],[6.16501290e-01],[3.98696193e-02],[2.64437058e-01],[3.50955021e-01],[2.15764084e-03],[3.69110747e-01],[2.90784768e-02],[4.23170975e-03],[9.00383763e-01],[9.32445223e-01],[6.53506272e-01],[9.27895484e-02],[9.53984185e-03],[4.68174835e-01],[1.93734218e-01]])\n",
    "y = np.array([ 5.82469676e+00,  7.94613194e+00,  9.24976070e+00,  6.59761731e+00,\n",
    "        2.16651685e+00, -2.50365745e-03, -1.00182588e+00,  9.02075194e+00,\n",
    "        8.57086436e+00,  8.50848958e+00, -7.34549241e-02,  8.73802779e+00,\n",
    "        7.26038154e+00,  2.38778217e+00,  2.02397265e+00,  3.57417666e+00,\n",
    "        5.15052189e+00,  5.57291682e+00,  6.83461431e+00,  4.20408429e+00,\n",
    "        7.21499207e+00,  2.24057093e+00,  5.63575746e+00,  6.66180813e+00,\n",
    "        5.91402744e+00,  8.29511673e+00,  3.18174801e+00,  8.23158707e+00,\n",
    "        7.30330971e+00,  2.55480191e-02,  6.76197223e+00,  1.05656839e+00,\n",
    "        1.21851645e+00,  1.03566236e+01,  8.95941549e+00,  9.67640393e+00,\n",
    "        5.17463285e+00,  2.25781800e-01,  8.60137397e+00,  8.13359834e+00])"
   ]
  },
  {
   "cell_type": "markdown",
   "metadata": {},
   "source": [
    "### kernel='linear'\n",
    "Parameters:\n",
    "- C: 限制模型的複雜度，防止過度擬合。\n",
    "- kernel: 此範例採用線性。"
   ]
  },
  {
   "cell_type": "code",
   "execution_count": 17,
   "metadata": {},
   "outputs": [
    {
     "name": "stdout",
     "output_type": "stream",
     "text": [
      "訓練集 MSE:  5.903802524650818\n"
     ]
    },
    {
     "data": {
      "image/png": "[encoded data removed]",
      "text/plain": [
       "<Figure size 432x288 with 1 Axes>"
      ]
     },
     "metadata": {
      "needs_background": "light"
     },
     "output_type": "display_data"
    }
   ],
   "source": [
    "from sklearn import svm\n",
    "\n",
    "# 建立 kernel='linear' 模型\n",
    "linearModel=svm.SVR(C=1, kernel='linear')\n",
    "# 使用訓練資料訓練模型\n",
    "linearModel.fit(x, y)\n",
    "# 使用訓練資料預測分類\n",
    "predicted=linearModel.predict(x)\n",
    "# 計算訓練集 MSE 誤差\n",
    "mse = metrics.mean_squared_error(y, predicted)\n",
    "print('訓練集 MSE: ', mse)\n",
    "x_test = np.linspace(-0.1,1.1,500)[:,None]\n",
    "predicted=linearModel.predict(x_test)\n",
    "plt.scatter(x.ravel(),y)\n",
    "plt.plot(x_test,predicted,label='kernel=linear', color='r')\n",
    "plt.legend(loc='best')\n",
    "plt.xlabel('x')\n",
    "plt.ylabel('y')\n",
    "plt.show()"
   ]
  },
  {
   "cell_type": "markdown",
   "metadata": {},
   "source": [
    "### kernel='poly'\n",
    "Parameters:\n",
    "- C: 限制模型的複雜度，防止過度擬合。\n",
    "- kernel: 此範例採用 Polynomial 高次方轉換。\n",
    "- degree: 增加模型複雜度，3 代表轉換到三次空間進行分類。\n",
    "- gamma: 數值越大越能做複雜的預測。"
   ]
  },
  {
   "cell_type": "code",
   "execution_count": 18,
   "metadata": {},
   "outputs": [
    {
     "name": "stdout",
     "output_type": "stream",
     "text": [
      "訓練集 MSE:  8.296270605383441\n"
     ]
    },
    {
     "data": {
      "image/png": "[encoded data removed]",
      "text/plain": [
       "<Figure size 432x288 with 1 Axes>"
      ]
     },
     "metadata": {
      "needs_background": "light"
     },
     "output_type": "display_data"
    }
   ],
   "source": [
    "from sklearn import svm\n",
    "\n",
    "# 建立 kernel='poly' 模型\n",
    "polyModel=svm.SVR(C=6, kernel='poly', degree=3, gamma='auto')\n",
    "# 使用訓練資料訓練模型\n",
    "polyModel.fit(x, y)\n",
    "# 使用訓練資料預測分類\n",
    "predicted=polyModel.predict(x)\n",
    "# 計算訓練集 MSE 誤差\n",
    "mse = metrics.mean_squared_error(y, predicted)\n",
    "print('訓練集 MSE: ', mse)\n",
    "x_test = np.linspace(-0.1,1.1,500)[:,None]\n",
    "predicted=polyModel.predict(x_test)\n",
    "plt.scatter(x.ravel(),y)\n",
    "plt.plot(x_test,predicted,label='kernel=linear', color='r')\n",
    "plt.legend(loc='best')\n",
    "plt.xlabel('x')\n",
    "plt.ylabel('y')\n",
    "plt.show()"
   ]
  },
  {
   "cell_type": "markdown",
   "metadata": {},
   "source": [
    "### kernel='rbf'\n",
    "Parameters:\n",
    "- C: 限制模型的複雜度，防止過度擬合。\n",
    "- kernel: 此範例採用 Radial Basis Function 高斯轉換。\n",
    "- gamma: 數值越大越能做複雜的分類邊界。"
   ]
  },
  {
   "cell_type": "code",
   "execution_count": 19,
   "metadata": {},
   "outputs": [
    {
     "name": "stdout",
     "output_type": "stream",
     "text": [
      "訓練集 MSE:  2.2551572190243157\n"
     ]
    },
    {
     "data": {
      "image/png": "[encoded data removed]",
      "text/plain": [
       "<Figure size 432x288 with 1 Axes>"
      ]
     },
     "metadata": {
      "needs_background": "light"
     },
     "output_type": "display_data"
    }
   ],
   "source": [
    "from sklearn import svm\n",
    "\n",
    "# 建立 kernel='rbf' 模型\n",
    "rbfModel=svm.SVR(C=6, kernel='rbf', gamma='auto')\n",
    "# 使用訓練資料訓練模型\n",
    "rbfModel.fit(x, y)\n",
    "# 使用訓練資料預測分類\n",
    "predicted=rbfModel.predict(x)\n",
    "# 計算訓練集 MSE 誤差\n",
    "mse = metrics.mean_squared_error(y, predicted)\n",
    "print('訓練集 MSE: ', mse)\n",
    "x_test = np.linspace(-0.1,1.1,500)[:,None]\n",
    "predicted=rbfModel.predict(x_test)\n",
    "plt.scatter(x.ravel(),y)\n",
    "plt.plot(x_test,predicted,label='kernel=linear', color='r')\n",
    "plt.legend(loc='best')\n",
    "plt.xlabel('x')\n",
    "plt.ylabel('y')\n",
    "plt.show()"
   ]
  },
  {
   "cell_type": "markdown",
   "metadata": {},
   "source": [
    "### 三種不同 Kernel 比較結果\n",
    "![](https://i.imgur.com/DC1MkgL.png)"
   ]
  },
  {
   "cell_type": "code",
   "execution_count": null,
   "metadata": {},
   "outputs": [],
   "source": []
  }
 ],
 "metadata": {
  "kernelspec": {
   "display_name": "Python 3",
   "language": "python",
   "name": "python3"
  },
  "language_info": {
   "codemirror_mode": {
    "name": "ipython",
    "version": 3
   },
   "file_extension": ".py",
   "mimetype": "text/x-python",
   "name": "python",
   "nbconvert_exporter": "python",
   "pygments_lexer": "ipython3",
   "version": "3.7.6"
  }
 },
 "nbformat": 4,
 "nbformat_minor": 4
}
