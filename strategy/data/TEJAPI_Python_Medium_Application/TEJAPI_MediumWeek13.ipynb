{
 "cells": [
  {
   "cell_type": "markdown",
   "metadata": {},
   "source": [
    "## Week 13 Medium - Line Notify的應用"
   ]
  },
  {
   "cell_type": "code",
   "execution_count": 1,
   "metadata": {},
   "outputs": [],
   "source": [
    "import tejapi \n",
    "import pandas as pd\n",
    "import numpy as np\n",
    "import datetime\n",
    "import matplotlib.pyplot as plt\n",
    "\n",
    "tejapi.ApiConfig.api_key = \"yourkey\"\n",
    "tejapi.ApiConfig.ignoretz = True"
   ]
  },
  {
   "cell_type": "markdown",
   "metadata": {},
   "source": [
    "### 資料撈取(TEJAPI)及整理"
   ]
  },
  {
   "cell_type": "code",
   "execution_count": 2,
   "metadata": {},
   "outputs": [],
   "source": [
    "ticks = ['2330', '2303', '1101']\n",
    "\n",
    "DailyPrice= tejapi.get('TWN/EWPRCD',coid=ticks,\n",
    "                        opts={'columns':['coid', 'mdate', 'open_d', 'high_d','low_d', 'close_d']},\n",
    "                        mdate={'gte':'2020-05-01','lte':'2021-05-25'}, paginate=True, )\n",
    "DailyPrice= DailyPrice.set_index('mdate')"
   ]
  },
  {
   "cell_type": "code",
   "execution_count": 3,
   "metadata": {},
   "outputs": [],
   "source": [
    "## 周線；月線；日變化\n",
    "\n",
    "MovingAvg_5D = {}\n",
    "MovingAvg_20D = {}\n",
    "DailyRt = {}\n",
    "\n",
    "for ticker in ticks:\n",
    "    MovingAvg_5D[ticker] = DailyPrice[DailyPrice['coid']==ticker]['close_d'].rolling(5).mean()\n",
    "    MovingAvg_20D[ticker] = DailyPrice[DailyPrice['coid']==ticker]['close_d'].rolling(20).mean()\n",
    "    DailyRt[ticker] = DailyPrice[DailyPrice['coid']==ticker]['close_d'].pct_change()*100"
   ]
  },
  {
   "cell_type": "code",
   "execution_count": 4,
   "metadata": {},
   "outputs": [
    {
     "data": {
      "text/plain": [
       "mdate\n",
       "2020-05-04       NaN\n",
       "2020-05-05       NaN\n",
       "2020-05-06       NaN\n",
       "2020-05-07       NaN\n",
       "2020-05-08       NaN\n",
       "               ...  \n",
       "2021-05-19    583.45\n",
       "2021-05-20    582.20\n",
       "2021-05-21    581.30\n",
       "2021-05-24    579.60\n",
       "2021-05-25    578.25\n",
       "Name: close_d, Length: 260, dtype: float64"
      ]
     },
     "execution_count": 4,
     "metadata": {},
     "output_type": "execute_result"
    }
   ],
   "source": [
    "MovingAvg_20D['2330']"
   ]
  },
  {
   "cell_type": "markdown",
   "metadata": {},
   "source": [
    "### 連接Line Notify"
   ]
  },
  {
   "cell_type": "code",
   "execution_count": null,
   "metadata": {},
   "outputs": [],
   "source": [
    "token = \"your token\"\n",
    "\n",
    "def LineNotify(params, token):\n",
    "    \n",
    "    headers = {\n",
    "        \"Authorization\": \"Bearer \" + token,\n",
    "        \"Content-Type\": \"application/x-www-form-urlencoded\"\n",
    "        }\n",
    "    r = requests.post(\"https://notify-api.line.me/api/notify\", headers=headers, params=params)\n",
    "    print(r.status_code)"
   ]
  },
  {
   "cell_type": "code",
   "execution_count": null,
   "metadata": {},
   "outputs": [],
   "source": [
    "import requests\n",
    "params = []\n",
    "for ticker in ticks:\n",
    "    \n",
    "    if MovingAvg_20D[ticker][-1] > MovingAvg_20D[ticker][-2] and MovingAvg_5D[ticker][-1] > MovingAvg_5D[ticker][-2]:\n",
    "\n",
    "        params.append('\\n' + ticker + ':\\n' \n",
    "                      + \"五日均線往上為: \" + str(round(MovingAvg_5D[ticker][-1],2)) + '\\n' \n",
    "                      + \"月均線往上為: \" + str(round(MovingAvg_20D[ticker][-1],2)) + '\\n' \n",
    "                      + \"日報酬率為: \" + str(round(DailyRt[ticker][-1],2)) + '%' + '\\n' \n",
    "                      + \"當前價格: \" + str(round(DailyPrice[DailyPrice['coid']==ticker]['close_d'][-1])) + '\\n')\n",
    "    \n",
    "    elif MovingAvg_20D[ticker][-1] > MovingAvg_20D[ticker][-2]:\n",
    "\n",
    "        params.append('\\n' + ticker + ':\\n' \n",
    "                      + \"月均線往上為: \" + str(round(MovingAvg_20D[ticker][-1],2)) + '\\n' \n",
    "                      + \"日報酬率為: \" + str(round(DailyRt[ticker][-1],2)) + '%' + '\\n' \n",
    "                      + \"當前價格: \" + str(round(DailyPrice[DailyPrice['coid']==ticker]['close_d'][-1])) + '\\n')\n",
    "    \n",
    "    elif MovingAvg_5D[ticker][-1] > MovingAvg_5D[ticker][-2]:\n",
    "\n",
    "        params.append('\\n' + ticker + ':\\n' \n",
    "                      + \"五日均線往上為: \" + str(round(MovingAvg_5D[ticker][-1],2)) + '\\n'  \n",
    "                      + \"日報酬率為: \" + str(round(DailyRt[ticker][-1],2)) + '%' + '\\n' \n",
    "                      + \"當前價格: \" + str(round(DailyPrice[DailyPrice['coid']==ticker]['close_d'][-1])) + '\\n')  \n",
    "    \n",
    "params = {'message': params}\n",
    "LineNotify(params, token)"
   ]
  }
 ],
 "metadata": {
  "kernelspec": {
   "display_name": "Python 3",
   "language": "python",
   "name": "python3"
  },
  "language_info": {
   "codemirror_mode": {
    "name": "ipython",
    "version": 3
   },
   "file_extension": ".py",
   "mimetype": "text/x-python",
   "name": "python",
   "nbconvert_exporter": "python",
   "pygments_lexer": "ipython3",
   "version": "3.7.3"
  }
 },
 "nbformat": 4,
 "nbformat_minor": 4
}
